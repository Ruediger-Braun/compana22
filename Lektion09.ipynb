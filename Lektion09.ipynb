{
 "cells": [
  {
   "cell_type": "code",
   "execution_count": null,
   "id": "68aec10d",
   "metadata": {},
   "outputs": [],
   "source": [
    "from sympy import *\n",
    "init_printing()"
   ]
  },
  {
   "cell_type": "markdown",
   "id": "0faa56b3",
   "metadata": {},
   "source": [
    "# Spezielle Matrizen"
   ]
  },
  {
   "cell_type": "code",
   "execution_count": null,
   "id": "778767ac",
   "metadata": {},
   "outputs": [],
   "source": [
    "M = eye(5)\n",
    "M"
   ]
  },
  {
   "cell_type": "code",
   "execution_count": null,
   "id": "3c2080a0",
   "metadata": {},
   "outputs": [],
   "source": [
    "ones(3,4)"
   ]
  },
  {
   "cell_type": "code",
   "execution_count": null,
   "id": "07d6e94d",
   "metadata": {},
   "outputs": [],
   "source": [
    "zeros(2,1)"
   ]
  },
  {
   "cell_type": "code",
   "execution_count": null,
   "id": "ab0972bb",
   "metadata": {},
   "outputs": [],
   "source": [
    "diag(1,2,3)"
   ]
  },
  {
   "cell_type": "code",
   "execution_count": null,
   "id": "b7d0aeae",
   "metadata": {},
   "outputs": [],
   "source": [
    "l = [1,2,3]"
   ]
  },
  {
   "cell_type": "code",
   "execution_count": null,
   "id": "f3778429",
   "metadata": {},
   "outputs": [],
   "source": [
    "diag(l)"
   ]
  },
  {
   "cell_type": "code",
   "execution_count": null,
   "id": "c018cbc1",
   "metadata": {},
   "outputs": [],
   "source": [
    "diag(*l)"
   ]
  },
  {
   "cell_type": "code",
   "execution_count": null,
   "id": "75529fd4",
   "metadata": {},
   "outputs": [],
   "source": [
    "print(l)\n",
    "print(*l)   # *l packt die ELemente von l aus"
   ]
  },
  {
   "cell_type": "markdown",
   "id": "bc3b3cfd",
   "metadata": {},
   "source": [
    "# Operationen"
   ]
  },
  {
   "cell_type": "code",
   "execution_count": null,
   "id": "24a68c26",
   "metadata": {},
   "outputs": [],
   "source": [
    "A = Matrix(3, 3, list(range(1,10)))\n",
    "A"
   ]
  },
  {
   "cell_type": "code",
   "execution_count": null,
   "id": "6735c872",
   "metadata": {},
   "outputs": [],
   "source": [
    "A.det()"
   ]
  },
  {
   "cell_type": "code",
   "execution_count": null,
   "id": "1dbb9399",
   "metadata": {},
   "outputs": [],
   "source": [
    "C = A + eye(3)\n",
    "C"
   ]
  },
  {
   "cell_type": "code",
   "execution_count": null,
   "id": "58237ad7",
   "metadata": {},
   "outputs": [],
   "source": [
    "C.det()"
   ]
  },
  {
   "cell_type": "code",
   "execution_count": null,
   "id": "6a040e13",
   "metadata": {},
   "outputs": [],
   "source": [
    "C1 = C**(-1)\n",
    "C1"
   ]
  },
  {
   "cell_type": "code",
   "execution_count": null,
   "id": "463fbe09",
   "metadata": {},
   "outputs": [],
   "source": [
    "C1 == C.inv()"
   ]
  },
  {
   "cell_type": "code",
   "execution_count": null,
   "id": "154b64b7",
   "metadata": {},
   "outputs": [],
   "source": [
    "C * C1"
   ]
  },
  {
   "cell_type": "markdown",
   "id": "248a1622",
   "metadata": {},
   "source": [
    "# Inspektion"
   ]
  },
  {
   "cell_type": "code",
   "execution_count": null,
   "id": "ed210e27",
   "metadata": {},
   "outputs": [],
   "source": [
    "A.shape"
   ]
  },
  {
   "cell_type": "code",
   "execution_count": null,
   "id": "b3445e00",
   "metadata": {},
   "outputs": [],
   "source": [
    "v = Matrix([1,2,3])\n",
    "v"
   ]
  },
  {
   "cell_type": "code",
   "execution_count": null,
   "id": "70191b3f",
   "metadata": {},
   "outputs": [],
   "source": [
    "v.shape"
   ]
  },
  {
   "cell_type": "markdown",
   "id": "77c437a1",
   "metadata": {},
   "source": [
    "Es gibt keine Vektoren, nur $n \\times 1$-Matrizen"
   ]
  },
  {
   "cell_type": "code",
   "execution_count": null,
   "id": "45d85bb5",
   "metadata": {},
   "outputs": [],
   "source": [
    "type(v)"
   ]
  },
  {
   "cell_type": "markdown",
   "id": "e530a289",
   "metadata": {},
   "source": [
    "# Slicing"
   ]
  },
  {
   "cell_type": "code",
   "execution_count": null,
   "id": "ae257b7c",
   "metadata": {},
   "outputs": [],
   "source": [
    "B = Matrix(5,6, range(30))\n",
    "B"
   ]
  },
  {
   "cell_type": "code",
   "execution_count": null,
   "id": "6e153b3a",
   "metadata": {},
   "outputs": [],
   "source": [
    "B[2:4, 3:4]"
   ]
  },
  {
   "cell_type": "code",
   "execution_count": null,
   "id": "ff22acbc",
   "metadata": {},
   "outputs": [],
   "source": [
    "B[:4, 3:]"
   ]
  },
  {
   "cell_type": "code",
   "execution_count": null,
   "id": "152cc7e8",
   "metadata": {},
   "outputs": [],
   "source": [
    "B[:, :2]"
   ]
  },
  {
   "cell_type": "markdown",
   "id": "99f5bf77",
   "metadata": {},
   "source": [
    "# Kopien"
   ]
  },
  {
   "cell_type": "code",
   "execution_count": null,
   "id": "e6b94723",
   "metadata": {},
   "outputs": [],
   "source": [
    "C = B"
   ]
  },
  {
   "cell_type": "code",
   "execution_count": null,
   "id": "9f4676cf",
   "metadata": {},
   "outputs": [],
   "source": [
    "C[0,0] = 121\n",
    "C"
   ]
  },
  {
   "cell_type": "code",
   "execution_count": null,
   "id": "74e8c126",
   "metadata": {},
   "outputs": [],
   "source": [
    "B"
   ]
  },
  {
   "cell_type": "code",
   "execution_count": null,
   "id": "1e235c35",
   "metadata": {},
   "outputs": [],
   "source": [
    "C = B.copy()\n",
    "C[0,1] = -1000\n",
    "C"
   ]
  },
  {
   "cell_type": "code",
   "execution_count": null,
   "id": "21b18985",
   "metadata": {},
   "outputs": [],
   "source": [
    "B"
   ]
  },
  {
   "cell_type": "code",
   "execution_count": null,
   "id": "afa7044f",
   "metadata": {},
   "outputs": [],
   "source": [
    "d1 = {'b':B}  # dictionary\n",
    "d2 = d1.copy()"
   ]
  },
  {
   "cell_type": "code",
   "execution_count": null,
   "id": "c20a3eb7",
   "metadata": {},
   "outputs": [],
   "source": [
    "d1['b'][0,0] = 42"
   ]
  },
  {
   "cell_type": "code",
   "execution_count": null,
   "id": "f1e6acd1",
   "metadata": {},
   "outputs": [],
   "source": [
    "d1['b'], d2['b']"
   ]
  },
  {
   "cell_type": "code",
   "execution_count": null,
   "id": "fab6d14d",
   "metadata": {},
   "outputs": [],
   "source": [
    "import copy\n",
    "d3= copy.deepcopy(d1)\n",
    "d1['b'][0,0] = 12\n",
    "d1['b'], d3['b']"
   ]
  },
  {
   "cell_type": "markdown",
   "id": "510bc140",
   "metadata": {},
   "source": [
    "# Manipulation von Matrizen"
   ]
  },
  {
   "cell_type": "code",
   "execution_count": null,
   "id": "f87840c4",
   "metadata": {},
   "outputs": [],
   "source": [
    "A"
   ]
  },
  {
   "cell_type": "code",
   "execution_count": null,
   "id": "0ce66a2e",
   "metadata": {},
   "outputs": [],
   "source": [
    "A.T"
   ]
  },
  {
   "cell_type": "code",
   "execution_count": null,
   "id": "38a5ae31",
   "metadata": {},
   "outputs": [],
   "source": [
    "Matrix.hstack(eye(3), eye(3))   \n",
    "#  eine  class method"
   ]
  },
  {
   "cell_type": "code",
   "execution_count": null,
   "id": "15c2e573",
   "metadata": {},
   "outputs": [],
   "source": [
    "Matrix.vstack(eye(3), eye(3))"
   ]
  },
  {
   "cell_type": "code",
   "execution_count": null,
   "id": "be4ab073",
   "metadata": {},
   "outputs": [],
   "source": [
    "B = Matrix(5, 5, list(range(25)))\n",
    "B"
   ]
  },
  {
   "cell_type": "code",
   "execution_count": null,
   "id": "08cc109f",
   "metadata": {},
   "outputs": [],
   "source": [
    "B[:2,:2]"
   ]
  },
  {
   "cell_type": "code",
   "execution_count": null,
   "id": "4fc3f610",
   "metadata": {},
   "outputs": [],
   "source": [
    "B[3:,3:]"
   ]
  },
  {
   "cell_type": "code",
   "execution_count": null,
   "id": "9883e81c",
   "metadata": {},
   "outputs": [],
   "source": [
    "B[1:3,2:4]"
   ]
  },
  {
   "cell_type": "code",
   "execution_count": null,
   "id": "4beaae65",
   "metadata": {},
   "outputs": [],
   "source": [
    "B.reshape(1, 25)"
   ]
  },
  {
   "cell_type": "code",
   "execution_count": null,
   "id": "0d011637",
   "metadata": {},
   "outputs": [],
   "source": [
    "flatten(B)"
   ]
  },
  {
   "cell_type": "code",
   "execution_count": null,
   "id": "11c1e42f",
   "metadata": {},
   "outputs": [],
   "source": [
    "type(B.reshape(1,25))"
   ]
  },
  {
   "cell_type": "code",
   "execution_count": null,
   "id": "f3b2b54a",
   "metadata": {},
   "outputs": [],
   "source": [
    "type(flatten(B))"
   ]
  },
  {
   "cell_type": "markdown",
   "id": "fc7f423b",
   "metadata": {},
   "source": [
    "# Hilbert-Matrizen\n",
    "\n",
    "als Beispiel für schlecht konditionierte Matrizen"
   ]
  },
  {
   "cell_type": "code",
   "execution_count": null,
   "id": "34d61b17",
   "metadata": {},
   "outputs": [],
   "source": [
    "def hilbert(i,j):\n",
    "    return 1/(1+i+j)"
   ]
  },
  {
   "cell_type": "code",
   "execution_count": null,
   "id": "ad252532",
   "metadata": {},
   "outputs": [],
   "source": [
    "H = Matrix(5, 5, hilbert)\n",
    "H"
   ]
  },
  {
   "cell_type": "code",
   "execution_count": null,
   "id": "12b305e4",
   "metadata": {},
   "outputs": [],
   "source": [
    "H.det()"
   ]
  },
  {
   "cell_type": "code",
   "execution_count": null,
   "id": "4605cc8e",
   "metadata": {},
   "outputs": [],
   "source": [
    "H.inv()"
   ]
  },
  {
   "cell_type": "code",
   "execution_count": null,
   "id": "3e16cab4",
   "metadata": {},
   "outputs": [],
   "source": [
    "N = 12"
   ]
  },
  {
   "cell_type": "code",
   "execution_count": null,
   "id": "bc0bd7ae",
   "metadata": {},
   "outputs": [],
   "source": [
    "H = Matrix(N, N, hilbert)\n",
    "H.det()"
   ]
  },
  {
   "cell_type": "code",
   "execution_count": null,
   "id": "4a6bcf4f",
   "metadata": {},
   "outputs": [],
   "source": [
    "H1 = H**(-1)\n",
    "H1[N-5:, N-5:]"
   ]
  },
  {
   "cell_type": "markdown",
   "id": "a9cd0cec",
   "metadata": {},
   "source": [
    "# Vergleich mit Numerik"
   ]
  },
  {
   "cell_type": "code",
   "execution_count": null,
   "id": "f322069e",
   "metadata": {},
   "outputs": [],
   "source": [
    "import numpy as np"
   ]
  },
  {
   "cell_type": "code",
   "execution_count": null,
   "id": "db9fa502",
   "metadata": {},
   "outputs": [],
   "source": [
    "Hn = np.empty((N,N))\n",
    "for i in range(N):\n",
    "    for j in range(N):\n",
    "        Hn[i,j] = 1/(1+i+j)\n",
    "np.linalg.det(Hn)"
   ]
  },
  {
   "cell_type": "code",
   "execution_count": null,
   "id": "90de381e",
   "metadata": {},
   "outputs": [],
   "source": [
    "H.det().n()"
   ]
  },
  {
   "cell_type": "code",
   "execution_count": null,
   "id": "4887a4c5",
   "metadata": {},
   "outputs": [],
   "source": [
    "Hn1 = Hn**(1)\n",
    "Hn1[N-5:, N-5:]"
   ]
  },
  {
   "cell_type": "markdown",
   "id": "99b585eb",
   "metadata": {},
   "source": [
    "`Hn**(-1)` hat die Kehrwerte aller Matrixeinträge bestimmt"
   ]
  },
  {
   "cell_type": "code",
   "execution_count": null,
   "id": "a898ec65",
   "metadata": {},
   "outputs": [],
   "source": [
    "Hn1 = np.linalg.inv(Hn)\n",
    "Hn1[N-3:, N-3:]"
   ]
  },
  {
   "cell_type": "code",
   "execution_count": null,
   "id": "e498f88a",
   "metadata": {},
   "outputs": [],
   "source": [
    "%%timeit\n",
    "H**(-1)"
   ]
  },
  {
   "cell_type": "code",
   "execution_count": null,
   "id": "e5df96d9",
   "metadata": {},
   "outputs": [],
   "source": [
    "%%timeit\n",
    "Hn1 = np.linalg.inv(Hn)"
   ]
  },
  {
   "cell_type": "markdown",
   "id": "e0b266c5",
   "metadata": {},
   "source": [
    "Eine Python-Bibliothek, die numerische Operationen in beliebige wählbarer Genauigkeit durchführen kann, ist `mpmath`"
   ]
  },
  {
   "cell_type": "markdown",
   "id": "04087b65",
   "metadata": {},
   "source": [
    "# Rang einer Matrix"
   ]
  },
  {
   "cell_type": "code",
   "execution_count": null,
   "id": "f6fd26d4",
   "metadata": {},
   "outputs": [],
   "source": [
    "A"
   ]
  },
  {
   "cell_type": "code",
   "execution_count": null,
   "id": "4a6709c9",
   "metadata": {},
   "outputs": [],
   "source": [
    "A.rank()"
   ]
  },
  {
   "cell_type": "code",
   "execution_count": null,
   "id": "62a5d95f",
   "metadata": {},
   "outputs": [],
   "source": [
    "x = S('x')\n",
    "y = S('y')"
   ]
  },
  {
   "cell_type": "code",
   "execution_count": null,
   "id": "fb68a0ab",
   "metadata": {},
   "outputs": [],
   "source": [
    "M = Matrix(3, 2, [2*x+2, 2*y-2, 2*x+2, -2*y+2, y-1, x+1])\n",
    "M"
   ]
  },
  {
   "cell_type": "code",
   "execution_count": null,
   "id": "8bb1e0cd",
   "metadata": {},
   "outputs": [],
   "source": [
    "M.rank()"
   ]
  },
  {
   "cell_type": "markdown",
   "id": "f6d123c2",
   "metadata": {},
   "source": [
    "Glauben wir das für alle Wahlen von $x$ und $y$?"
   ]
  },
  {
   "cell_type": "code",
   "execution_count": null,
   "id": "808b6d2b",
   "metadata": {},
   "outputs": [],
   "source": [
    "M.rref(pivots=False)  # Zeilenstufenform (engl. reduced row echelon form)"
   ]
  },
  {
   "cell_type": "code",
   "execution_count": null,
   "id": "f33e58c5",
   "metadata": {},
   "outputs": [],
   "source": [
    "M"
   ]
  },
  {
   "cell_type": "code",
   "execution_count": null,
   "id": "04de6e3f",
   "metadata": {},
   "outputs": [],
   "source": [
    "M1 = M.elementary_row_op('n->kn', row=2, k=2*x+2)\n",
    "M1"
   ]
  },
  {
   "cell_type": "markdown",
   "id": "e15ed085",
   "metadata": {},
   "source": [
    "Das darf ich aber nur, wenn $2x+2\\ne0$."
   ]
  },
  {
   "cell_type": "code",
   "execution_count": null,
   "id": "4606218b",
   "metadata": {},
   "outputs": [],
   "source": [
    "M2 = M1.elementary_row_op('n->n+km', row1=2, row2=0, k=1-y).expand()\n",
    "M2"
   ]
  },
  {
   "cell_type": "markdown",
   "id": "b4f535cd",
   "metadata": {},
   "source": [
    "Das darf ich immer."
   ]
  },
  {
   "cell_type": "code",
   "execution_count": null,
   "id": "6a7d933f",
   "metadata": {},
   "outputs": [],
   "source": [
    "M2"
   ]
  },
  {
   "cell_type": "code",
   "execution_count": null,
   "id": "3d0f6db4",
   "metadata": {},
   "outputs": [],
   "source": [
    "M3 = M2.elementary_row_op('n->n+km', row1=1, row2=0, k=-1)\n",
    "M3"
   ]
  },
  {
   "cell_type": "code",
   "execution_count": null,
   "id": "7ab4b05b",
   "metadata": {},
   "outputs": [],
   "source": [
    "M4 = M3.elementary_row_op('n->n+km', row1=2, row2=1, k=-M3[2,1]/M3[1,1])\n",
    "M4"
   ]
  },
  {
   "cell_type": "markdown",
   "id": "e4e0185b",
   "metadata": {},
   "source": [
    "Das darf ich nur für $4-4y\\ne0$, weil ich durch diesen Wert geteilt habe"
   ]
  },
  {
   "cell_type": "markdown",
   "id": "7c7530f7",
   "metadata": {},
   "source": [
    "Bis jetzt gesehen:\n",
    "\n",
    "Für $x\\ne-1$ und $y\\ne1$ ist der Rang gleich $2$."
   ]
  },
  {
   "cell_type": "code",
   "execution_count": null,
   "id": "cf1752da",
   "metadata": {},
   "outputs": [],
   "source": [
    "M.subs(x, -1)"
   ]
  },
  {
   "cell_type": "code",
   "execution_count": null,
   "id": "577059d6",
   "metadata": {},
   "outputs": [],
   "source": [
    "M.subs({x:-1, y:1})"
   ]
  },
  {
   "cell_type": "markdown",
   "id": "f4c576fc",
   "metadata": {},
   "source": [
    "$$\n",
    "    \\text{Rang}(M) =\n",
    "    \\begin{cases}\n",
    "        0, & x = -1 \\wedge y = 1, \\\\\n",
    "        2, & \\text{in allen anderen Fällen.}\n",
    "    \\end{cases}\n",
    "$$"
   ]
  },
  {
   "cell_type": "markdown",
   "id": "bb5542a8",
   "metadata": {},
   "source": [
    "`sympy` rechnet im Körper $\\mathbb R(x,y)$ der rationalen Polynome"
   ]
  }
 ],
 "metadata": {
  "kernelspec": {
   "display_name": "Python 3 (ipykernel)",
   "language": "python",
   "name": "python3"
  },
  "language_info": {
   "codemirror_mode": {
    "name": "ipython",
    "version": 3
   },
   "file_extension": ".py",
   "mimetype": "text/x-python",
   "name": "python",
   "nbconvert_exporter": "python",
   "pygments_lexer": "ipython3",
   "version": "3.10.6"
  }
 },
 "nbformat": 4,
 "nbformat_minor": 5
}
