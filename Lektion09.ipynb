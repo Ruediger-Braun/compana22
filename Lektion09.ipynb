{
 "cells": [
  {
   "cell_type": "code",
   "execution_count": 1,
   "id": "68aec10d",
   "metadata": {},
   "outputs": [],
   "source": [
    "from sympy import *\n",
    "init_printing()"
   ]
  },
  {
   "cell_type": "markdown",
   "id": "0faa56b3",
   "metadata": {},
   "source": [
    "# Spezielle Matrizen"
   ]
  },
  {
   "cell_type": "code",
   "execution_count": 2,
   "id": "778767ac",
   "metadata": {},
   "outputs": [
    {
     "data": {
      "image/png": "[encoded data removed]",
      "text/latex": [
       "$\\displaystyle \\left[\\begin{matrix}1 & 0 & 0 & 0 & 0\\\\0 & 1 & 0 & 0 & 0\\\\0 & 0 & 1 & 0 & 0\\\\0 & 0 & 0 & 1 & 0\\\\0 & 0 & 0 & 0 & 1\\end{matrix}\\right]$"
      ],
      "text/plain": [
       "⎡1  0  0  0  0⎤\n",
       "⎢             ⎥\n",
       "⎢0  1  0  0  0⎥\n",
       "⎢             ⎥\n",
       "⎢0  0  1  0  0⎥\n",
       "⎢             ⎥\n",
       "⎢0  0  0  1  0⎥\n",
       "⎢             ⎥\n",
       "⎣0  0  0  0  1⎦"
      ]
     },
     "execution_count": 2,
     "metadata": {},
     "output_type": "execute_result"
    }
   ],
   "source": [
    "M = eye(5)\n",
    "M"
   ]
  },
  {
   "cell_type": "code",
   "execution_count": 3,
   "id": "3c2080a0",
   "metadata": {},
   "outputs": [
    {
     "data": {
      "image/png": "[encoded data removed]",
      "text/latex": [
       "$\\displaystyle \\left[\\begin{matrix}1 & 1 & 1 & 1\\\\1 & 1 & 1 & 1\\\\1 & 1 & 1 & 1\\end{matrix}\\right]$"
      ],
      "text/plain": [
       "⎡1  1  1  1⎤\n",
       "⎢          ⎥\n",
       "⎢1  1  1  1⎥\n",
       "⎢          ⎥\n",
       "⎣1  1  1  1⎦"
      ]
     },
     "execution_count": 3,
     "metadata": {},
     "output_type": "execute_result"
    }
   ],
   "source": [
    "ones(3,4)"
   ]
  },
  {
   "cell_type": "code",
   "execution_count": 4,
   "id": "07d6e94d",
   "metadata": {},
   "outputs": [
    {
     "data": {
      "image/png": "[encoded data removed]",
      "text/latex": [
       "$\\displaystyle \\left[\\begin{matrix}0\\\\0\\end{matrix}\\right]$"
      ],
      "text/plain": [
       "⎡0⎤\n",
       "⎢ ⎥\n",
       "⎣0⎦"
      ]
     },
     "execution_count": 4,
     "metadata": {},
     "output_type": "execute_result"
    }
   ],
   "source": [
    "zeros(2,1)"
   ]
  },
  {
   "cell_type": "code",
   "execution_count": 5,
   "id": "ab0972bb",
   "metadata": {},
   "outputs": [
    {
     "data": {
      "image/png": "[encoded data removed]",
      "text/latex": [
       "$\\displaystyle \\left[\\begin{matrix}1 & 0 & 0\\\\0 & 2 & 0\\\\0 & 0 & 3\\end{matrix}\\right]$"
      ],
      "text/plain": [
       "⎡1  0  0⎤\n",
       "⎢       ⎥\n",
       "⎢0  2  0⎥\n",
       "⎢       ⎥\n",
       "⎣0  0  3⎦"
      ]
     },
     "execution_count": 5,
     "metadata": {},
     "output_type": "execute_result"
    }
   ],
   "source": [
    "diag(1,2,3)"
   ]
  },
  {
   "cell_type": "code",
   "execution_count": 6,
   "id": "b7d0aeae",
   "metadata": {},
   "outputs": [],
   "source": [
    "l = [1,2,3]"
   ]
  },
  {
   "cell_type": "code",
   "execution_count": 7,
   "id": "f3778429",
   "metadata": {},
   "outputs": [
    {
     "data": {
      "image/png": "[encoded data removed]",
      "text/latex": [
       "$\\displaystyle \\left[\\begin{matrix}1\\\\2\\\\3\\end{matrix}\\right]$"
      ],
      "text/plain": [
       "⎡1⎤\n",
       "⎢ ⎥\n",
       "⎢2⎥\n",
       "⎢ ⎥\n",
       "⎣3⎦"
      ]
     },
     "execution_count": 7,
     "metadata": {},
     "output_type": "execute_result"
    }
   ],
   "source": [
    "diag(l)"
   ]
  },
  {
   "cell_type": "code",
   "execution_count": 8,
   "id": "c018cbc1",
   "metadata": {},
   "outputs": [
    {
     "data": {
      "image/png": "[encoded data removed]",
      "text/latex": [
       "$\\displaystyle \\left[\\begin{matrix}1 & 0 & 0\\\\0 & 2 & 0\\\\0 & 0 & 3\\end{matrix}\\right]$"
      ],
      "text/plain": [
       "⎡1  0  0⎤\n",
       "⎢       ⎥\n",
       "⎢0  2  0⎥\n",
       "⎢       ⎥\n",
       "⎣0  0  3⎦"
      ]
     },
     "execution_count": 8,
     "metadata": {},
     "output_type": "execute_result"
    }
   ],
   "source": [
    "diag(*l)"
   ]
  },
  {
   "cell_type": "code",
   "execution_count": 9,
   "id": "75529fd4",
   "metadata": {},
   "outputs": [
    {
     "name": "stdout",
     "output_type": "stream",
     "text": [
      "[1, 2, 3]\n",
      "1 2 3\n"
     ]
    }
   ],
   "source": [
    "print(l)\n",
    "print(*l)   # *l packt die ELemente von l aus"
   ]
  },
  {
   "cell_type": "markdown",
   "id": "bc3b3cfd",
   "metadata": {},
   "source": [
    "# Operationen"
   ]
  },
  {
   "cell_type": "code",
   "execution_count": 10,
   "id": "24a68c26",
   "metadata": {},
   "outputs": [
    {
     "data": {
      "image/png": "[encoded data removed]",
      "text/latex": [
       "$\\displaystyle \\left[\\begin{matrix}1 & 2 & 3\\\\4 & 5 & 6\\\\7 & 8 & 9\\end{matrix}\\right]$"
      ],
      "text/plain": [
       "⎡1  2  3⎤\n",
       "⎢       ⎥\n",
       "⎢4  5  6⎥\n",
       "⎢       ⎥\n",
       "⎣7  8  9⎦"
      ]
     },
     "execution_count": 10,
     "metadata": {},
     "output_type": "execute_result"
    }
   ],
   "source": [
    "A = Matrix(3, 3, list(range(1,10)))\n",
    "A"
   ]
  },
  {
   "cell_type": "code",
   "execution_count": 11,
   "id": "6735c872",
   "metadata": {},
   "outputs": [
    {
     "data": {
      "image/png": "[encoded data removed]",
      "text/latex": [
       "$\\displaystyle 0$"
      ],
      "text/plain": [
       "0"
      ]
     },
     "execution_count": 11,
     "metadata": {},
     "output_type": "execute_result"
    }
   ],
   "source": [
    "A.det()"
   ]
  },
  {
   "cell_type": "code",
   "execution_count": 12,
   "id": "1dbb9399",
   "metadata": {},
   "outputs": [
    {
     "data": {
      "image/png": "[encoded data removed]",
      "text/latex": [
       "$\\displaystyle \\left[\\begin{matrix}2 & 2 & 3\\\\4 & 6 & 6\\\\7 & 8 & 10\\end{matrix}\\right]$"
      ],
      "text/plain": [
       "⎡2  2  3 ⎤\n",
       "⎢        ⎥\n",
       "⎢4  6  6 ⎥\n",
       "⎢        ⎥\n",
       "⎣7  8  10⎦"
      ]
     },
     "execution_count": 12,
     "metadata": {},
     "output_type": "execute_result"
    }
   ],
   "source": [
    "C = A + eye(3)\n",
    "C"
   ]
  },
  {
   "cell_type": "code",
   "execution_count": 13,
   "id": "58237ad7",
   "metadata": {},
   "outputs": [
    {
     "data": {
      "image/png": "[encoded data removed]",
      "text/latex": [
       "$\\displaystyle -2$"
      ],
      "text/plain": [
       "-2"
      ]
     },
     "execution_count": 13,
     "metadata": {},
     "output_type": "execute_result"
    }
   ],
   "source": [
    "C.det()"
   ]
  },
  {
   "cell_type": "code",
   "execution_count": 14,
   "id": "6a040e13",
   "metadata": {},
   "outputs": [
    {
     "data": {
      "image/png": "[encoded data removed]",
      "text/latex": [
       "$\\displaystyle \\left[\\begin{matrix}-6 & -2 & 3\\\\-1 & \\frac{1}{2} & 0\\\\5 & 1 & -2\\end{matrix}\\right]$"
      ],
      "text/plain": [
       "⎡-6  -2   3 ⎤\n",
       "⎢           ⎥\n",
       "⎢-1  1/2  0 ⎥\n",
       "⎢           ⎥\n",
       "⎣5    1   -2⎦"
      ]
     },
     "execution_count": 14,
     "metadata": {},
     "output_type": "execute_result"
    }
   ],
   "source": [
    "C1 = C**(-1)\n",
    "C1"
   ]
  },
  {
   "cell_type": "code",
   "execution_count": 15,
   "id": "463fbe09",
   "metadata": {},
   "outputs": [
    {
     "data": {
      "text/plain": [
       "True"
      ]
     },
     "execution_count": 15,
     "metadata": {},
     "output_type": "execute_result"
    }
   ],
   "source": [
    "C1 == C.inv()"
   ]
  },
  {
   "cell_type": "code",
   "execution_count": 16,
   "id": "154b64b7",
   "metadata": {},
   "outputs": [
    {
     "data": {
      "image/png": "[encoded data removed]",
      "text/latex": [
       "$\\displaystyle \\left[\\begin{matrix}1 & 0 & 0\\\\0 & 1 & 0\\\\0 & 0 & 1\\end{matrix}\\right]$"
      ],
      "text/plain": [
       "⎡1  0  0⎤\n",
       "⎢       ⎥\n",
       "⎢0  1  0⎥\n",
       "⎢       ⎥\n",
       "⎣0  0  1⎦"
      ]
     },
     "execution_count": 16,
     "metadata": {},
     "output_type": "execute_result"
    }
   ],
   "source": [
    "C * C1"
   ]
  },
  {
   "cell_type": "markdown",
   "id": "248a1622",
   "metadata": {},
   "source": [
    "# Inspektion"
   ]
  },
  {
   "cell_type": "code",
   "execution_count": 17,
   "id": "ed210e27",
   "metadata": {},
   "outputs": [
    {
     "data": {
      "image/png": "[encoded data removed]",
      "text/latex": [
       "$\\displaystyle \\left( 3, \\  3\\right)$"
      ],
      "text/plain": [
       "(3, 3)"
      ]
     },
     "execution_count": 17,
     "metadata": {},
     "output_type": "execute_result"
    }
   ],
   "source": [
    "A.shape"
   ]
  },
  {
   "cell_type": "code",
   "execution_count": 18,
   "id": "b3445e00",
   "metadata": {},
   "outputs": [
    {
     "data": {
      "image/png": "[encoded data removed]",
      "text/latex": [
       "$\\displaystyle \\left[\\begin{matrix}1\\\\2\\\\3\\end{matrix}\\right]$"
      ],
      "text/plain": [
       "⎡1⎤\n",
       "⎢ ⎥\n",
       "⎢2⎥\n",
       "⎢ ⎥\n",
       "⎣3⎦"
      ]
     },
     "execution_count": 18,
     "metadata": {},
     "output_type": "execute_result"
    }
   ],
   "source": [
    "v = Matrix([1,2,3])\n",
    "v"
   ]
  },
  {
   "cell_type": "code",
   "execution_count": 19,
   "id": "70191b3f",
   "metadata": {},
   "outputs": [
    {
     "data": {
      "image/png": "[encoded data removed]",
      "text/latex": [
       "$\\displaystyle \\left( 3, \\  1\\right)$"
      ],
      "text/plain": [
       "(3, 1)"
      ]
     },
     "execution_count": 19,
     "metadata": {},
     "output_type": "execute_result"
    }
   ],
   "source": [
    "v.shape"
   ]
  },
  {
   "cell_type": "markdown",
   "id": "77c437a1",
   "metadata": {},
   "source": [
    "Es gibt keine Vektoren, nur $n \\times 1$-Matrizen"
   ]
  },
  {
   "cell_type": "code",
   "execution_count": 20,
   "id": "45d85bb5",
   "metadata": {},
   "outputs": [
    {
     "data": {
      "text/plain": [
       "sympy.matrices.dense.MutableDenseMatrix"
      ]
     },
     "execution_count": 20,
     "metadata": {},
     "output_type": "execute_result"
    }
   ],
   "source": [
    "type(v)"
   ]
  },
  {
   "cell_type": "markdown",
   "id": "510bc140",
   "metadata": {},
   "source": [
    "# Manipulation von Matrizen"
   ]
  },
  {
   "cell_type": "code",
   "execution_count": 21,
   "id": "f87840c4",
   "metadata": {},
   "outputs": [
    {
     "data": {
      "image/png": "[encoded data removed]",
      "text/latex": [
       "$\\displaystyle \\left[\\begin{matrix}1 & 2 & 3\\\\4 & 5 & 6\\\\7 & 8 & 9\\end{matrix}\\right]$"
      ],
      "text/plain": [
       "⎡1  2  3⎤\n",
       "⎢       ⎥\n",
       "⎢4  5  6⎥\n",
       "⎢       ⎥\n",
       "⎣7  8  9⎦"
      ]
     },
     "execution_count": 21,
     "metadata": {},
     "output_type": "execute_result"
    }
   ],
   "source": [
    "A"
   ]
  },
  {
   "cell_type": "code",
   "execution_count": 22,
   "id": "0ce66a2e",
   "metadata": {},
   "outputs": [
    {
     "data": {
      "image/png": "[encoded data removed]",
      "text/latex": [
       "$\\displaystyle \\left[\\begin{matrix}1 & 4 & 7\\\\2 & 5 & 8\\\\3 & 6 & 9\\end{matrix}\\right]$"
      ],
      "text/plain": [
       "⎡1  4  7⎤\n",
       "⎢       ⎥\n",
       "⎢2  5  8⎥\n",
       "⎢       ⎥\n",
       "⎣3  6  9⎦"
      ]
     },
     "execution_count": 22,
     "metadata": {},
     "output_type": "execute_result"
    }
   ],
   "source": [
    "A.T"
   ]
  },
  {
   "cell_type": "code",
   "execution_count": 23,
   "id": "38a5ae31",
   "metadata": {},
   "outputs": [
    {
     "data": {
      "image/png": "[encoded data removed]",
      "text/latex": [
       "$\\displaystyle \\left[\\begin{matrix}1 & 0 & 0 & 1 & 0 & 0\\\\0 & 1 & 0 & 0 & 1 & 0\\\\0 & 0 & 1 & 0 & 0 & 1\\end{matrix}\\right]$"
      ],
      "text/plain": [
       "⎡1  0  0  1  0  0⎤\n",
       "⎢                ⎥\n",
       "⎢0  1  0  0  1  0⎥\n",
       "⎢                ⎥\n",
       "⎣0  0  1  0  0  1⎦"
      ]
     },
     "execution_count": 23,
     "metadata": {},
     "output_type": "execute_result"
    }
   ],
   "source": [
    "Matrix.hstack(eye(3), eye(3))   \n",
    "#  eine  class method"
   ]
  },
  {
   "cell_type": "code",
   "execution_count": 24,
   "id": "15c2e573",
   "metadata": {},
   "outputs": [
    {
     "data": {
      "image/png": "[encoded data removed]",
      "text/latex": [
       "$\\displaystyle \\left[\\begin{matrix}1 & 0 & 0\\\\0 & 1 & 0\\\\0 & 0 & 1\\\\1 & 0 & 0\\\\0 & 1 & 0\\\\0 & 0 & 1\\end{matrix}\\right]$"
      ],
      "text/plain": [
       "⎡1  0  0⎤\n",
       "⎢       ⎥\n",
       "⎢0  1  0⎥\n",
       "⎢       ⎥\n",
       "⎢0  0  1⎥\n",
       "⎢       ⎥\n",
       "⎢1  0  0⎥\n",
       "⎢       ⎥\n",
       "⎢0  1  0⎥\n",
       "⎢       ⎥\n",
       "⎣0  0  1⎦"
      ]
     },
     "execution_count": 24,
     "metadata": {},
     "output_type": "execute_result"
    }
   ],
   "source": [
    "Matrix.vstack(eye(3), eye(3))"
   ]
  },
  {
   "cell_type": "code",
   "execution_count": 25,
   "id": "be4ab073",
   "metadata": {},
   "outputs": [
    {
     "data": {
      "image/png": "[encoded data removed]",
      "text/latex": [
       "$\\displaystyle \\left[\\begin{matrix}0 & 1 & 2 & 3 & 4\\\\5 & 6 & 7 & 8 & 9\\\\10 & 11 & 12 & 13 & 14\\\\15 & 16 & 17 & 18 & 19\\\\20 & 21 & 22 & 23 & 24\\end{matrix}\\right]$"
      ],
      "text/plain": [
       "⎡0   1   2   3   4 ⎤\n",
       "⎢                  ⎥\n",
       "⎢5   6   7   8   9 ⎥\n",
       "⎢                  ⎥\n",
       "⎢10  11  12  13  14⎥\n",
       "⎢                  ⎥\n",
       "⎢15  16  17  18  19⎥\n",
       "⎢                  ⎥\n",
       "⎣20  21  22  23  24⎦"
      ]
     },
     "execution_count": 25,
     "metadata": {},
     "output_type": "execute_result"
    }
   ],
   "source": [
    "B = Matrix(5, 5, list(range(25)))\n",
    "B"
   ]
  },
  {
   "cell_type": "code",
   "execution_count": 26,
   "id": "08cc109f",
   "metadata": {},
   "outputs": [
    {
     "data": {
      "image/png": "[encoded data removed]",
      "text/latex": [
       "$\\displaystyle \\left[\\begin{matrix}0 & 1\\\\5 & 6\\end{matrix}\\right]$"
      ],
      "text/plain": [
       "⎡0  1⎤\n",
       "⎢    ⎥\n",
       "⎣5  6⎦"
      ]
     },
     "execution_count": 26,
     "metadata": {},
     "output_type": "execute_result"
    }
   ],
   "source": [
    "B[:2,:2]"
   ]
  },
  {
   "cell_type": "code",
   "execution_count": 27,
   "id": "4fc3f610",
   "metadata": {},
   "outputs": [
    {
     "data": {
      "image/png": "[encoded data removed]",
      "text/latex": [
       "$\\displaystyle \\left[\\begin{matrix}18 & 19\\\\23 & 24\\end{matrix}\\right]$"
      ],
      "text/plain": [
       "⎡18  19⎤\n",
       "⎢      ⎥\n",
       "⎣23  24⎦"
      ]
     },
     "execution_count": 27,
     "metadata": {},
     "output_type": "execute_result"
    }
   ],
   "source": [
    "B[3:,3:]"
   ]
  },
  {
   "cell_type": "code",
   "execution_count": 28,
   "id": "9883e81c",
   "metadata": {},
   "outputs": [
    {
     "data": {
      "image/png": "[encoded data removed]",
      "text/latex": [
       "$\\displaystyle \\left[\\begin{matrix}7 & 8\\\\12 & 13\\end{matrix}\\right]$"
      ],
      "text/plain": [
       "⎡7   8 ⎤\n",
       "⎢      ⎥\n",
       "⎣12  13⎦"
      ]
     },
     "execution_count": 28,
     "metadata": {},
     "output_type": "execute_result"
    }
   ],
   "source": [
    "B[1:3,2:4]"
   ]
  },
  {
   "cell_type": "code",
   "execution_count": 29,
   "id": "4beaae65",
   "metadata": {},
   "outputs": [
    {
     "data": {
      "image/png": "[encoded data removed]",
      "text/latex": [
       "$\\displaystyle \\left[\\begin{array}{ccccccccccccccccccccccccc}0 & 1 & 2 & 3 & 4 & 5 & 6 & 7 & 8 & 9 & 10 & 11 & 12 & 13 & 14 & 15 & 16 & 17 & 18 & 19 & 20 & 21 & 22 & 23 & 24\\end{array}\\right]$"
      ],
      "text/plain": [
       "[0  1  2  3  4  5  6  7  8  9  10  11  12  13  14  15  16  17  18  19  20  21  22 \n",
       " 23  24]"
      ]
     },
     "execution_count": 29,
     "metadata": {},
     "output_type": "execute_result"
    }
   ],
   "source": [
    "B.reshape(1, 25)"
   ]
  },
  {
   "cell_type": "code",
   "execution_count": 30,
   "id": "0d011637",
   "metadata": {},
   "outputs": [
    {
     "data": {
      "image/png": "[encoded data removed]",
      "text/latex": [
       "$\\displaystyle \\left[ 0, \\  1, \\  2, \\  3, \\  4, \\  5, \\  6, \\  7, \\  8, \\  9, \\  10, \\  11, \\  12, \\  13, \\  14, \\  15, \\  16, \\  17, \\  18, \\  19, \\  20, \\  21, \\  22, \\  23, \\  24\\right]$"
      ],
      "text/plain": [
       "[0, 1, 2, 3, 4, 5, 6, 7, 8, 9, 10, 11, 12, 13, 14, 15, 16, 17, 18, 19, 20, 21, 22,\n",
       " 23, 24]"
      ]
     },
     "execution_count": 30,
     "metadata": {},
     "output_type": "execute_result"
    }
   ],
   "source": [
    "flatten(B)"
   ]
  },
  {
   "cell_type": "code",
   "execution_count": 31,
   "id": "11c1e42f",
   "metadata": {},
   "outputs": [
    {
     "data": {
      "text/plain": [
       "sympy.matrices.dense.MutableDenseMatrix"
      ]
     },
     "execution_count": 31,
     "metadata": {},
     "output_type": "execute_result"
    }
   ],
   "source": [
    "type(B.reshape(1,25))"
   ]
  },
  {
   "cell_type": "code",
   "execution_count": 32,
   "id": "f3b2b54a",
   "metadata": {},
   "outputs": [
    {
     "data": {
      "text/plain": [
       "list"
      ]
     },
     "execution_count": 32,
     "metadata": {},
     "output_type": "execute_result"
    }
   ],
   "source": [
    "type(flatten(B))"
   ]
  },
  {
   "cell_type": "markdown",
   "id": "fc7f423b",
   "metadata": {},
   "source": [
    "# Hilbert-Matrizen\n",
    "\n",
    "als Beispiel für schlecht konditionierte Matrizen"
   ]
  },
  {
   "cell_type": "code",
   "execution_count": 33,
   "id": "34d61b17",
   "metadata": {},
   "outputs": [],
   "source": [
    "def hilbert(i,j):\n",
    "    return 1/(1+i+j)"
   ]
  },
  {
   "cell_type": "code",
   "execution_count": 34,
   "id": "ad252532",
   "metadata": {},
   "outputs": [
    {
     "data": {
      "image/png": "[encoded data removed]",
      "text/latex": [
       "$\\displaystyle \\left[\\begin{matrix}1 & \\frac{1}{2} & \\frac{1}{3} & \\frac{1}{4} & \\frac{1}{5}\\\\\\frac{1}{2} & \\frac{1}{3} & \\frac{1}{4} & \\frac{1}{5} & \\frac{1}{6}\\\\\\frac{1}{3} & \\frac{1}{4} & \\frac{1}{5} & \\frac{1}{6} & \\frac{1}{7}\\\\\\frac{1}{4} & \\frac{1}{5} & \\frac{1}{6} & \\frac{1}{7} & \\frac{1}{8}\\\\\\frac{1}{5} & \\frac{1}{6} & \\frac{1}{7} & \\frac{1}{8} & \\frac{1}{9}\\end{matrix}\\right]$"
      ],
      "text/plain": [
       "⎡ 1   1/2  1/3  1/4  1/5⎤\n",
       "⎢                       ⎥\n",
       "⎢1/2  1/3  1/4  1/5  1/6⎥\n",
       "⎢                       ⎥\n",
       "⎢1/3  1/4  1/5  1/6  1/7⎥\n",
       "⎢                       ⎥\n",
       "⎢1/4  1/5  1/6  1/7  1/8⎥\n",
       "⎢                       ⎥\n",
       "⎣1/5  1/6  1/7  1/8  1/9⎦"
      ]
     },
     "execution_count": 34,
     "metadata": {},
     "output_type": "execute_result"
    }
   ],
   "source": [
    "H = Matrix(5, 5, hilbert)\n",
    "H"
   ]
  },
  {
   "cell_type": "code",
   "execution_count": 35,
   "id": "12b305e4",
   "metadata": {},
   "outputs": [
    {
     "data": {
      "image/png": "[encoded data removed]",
      "text/latex": [
       "$\\displaystyle \\frac{1}{266716800000}$"
      ],
      "text/plain": [
       "1/266716800000"
      ]
     },
     "execution_count": 35,
     "metadata": {},
     "output_type": "execute_result"
    }
   ],
   "source": [
    "H.det()"
   ]
  },
  {
   "cell_type": "code",
   "execution_count": 36,
   "id": "4605cc8e",
   "metadata": {},
   "outputs": [
    {
     "data": {
      "image/png": "[encoded data removed]",
      "text/latex": [
       "$\\displaystyle \\left[\\begin{matrix}25 & -300 & 1050 & -1400 & 630\\\\-300 & 4800 & -18900 & 26880 & -12600\\\\1050 & -18900 & 79380 & -117600 & 56700\\\\-1400 & 26880 & -117600 & 179200 & -88200\\\\630 & -12600 & 56700 & -88200 & 44100\\end{matrix}\\right]$"
      ],
      "text/plain": [
       "⎡ 25     -300    1050     -1400    630  ⎤\n",
       "⎢                                       ⎥\n",
       "⎢-300    4800   -18900    26880   -12600⎥\n",
       "⎢                                       ⎥\n",
       "⎢1050   -18900   79380   -117600  56700 ⎥\n",
       "⎢                                       ⎥\n",
       "⎢-1400  26880   -117600  179200   -88200⎥\n",
       "⎢                                       ⎥\n",
       "⎣ 630   -12600   56700   -88200   44100 ⎦"
      ]
     },
     "execution_count": 36,
     "metadata": {},
     "output_type": "execute_result"
    }
   ],
   "source": [
    "H.inv()"
   ]
  },
  {
   "cell_type": "code",
   "execution_count": 64,
   "id": "3e16cab4",
   "metadata": {},
   "outputs": [],
   "source": [
    "N = 12"
   ]
  },
  {
   "cell_type": "code",
   "execution_count": 65,
   "id": "bc0bd7ae",
   "metadata": {},
   "outputs": [
    {
     "data": {
      "image/png": "[encoded data removed]",
      "text/latex": [
       "$\\displaystyle \\frac{1}{9446949653634668571373109351236989087975627994978804269595338137635022705891424600259116300098090513203200000000000000000000}$"
      ],
      "text/plain": [
       "1/94469496536346685713731093512369890879756279949788042695953381376350227058914246\n",
       "00259116300098090513203200000000000000000000"
      ]
     },
     "execution_count": 65,
     "metadata": {},
     "output_type": "execute_result"
    }
   ],
   "source": [
    "H = Matrix(N, N, hilbert)\n",
    "H.det()"
   ]
  },
  {
   "cell_type": "code",
   "execution_count": 66,
   "id": "4a6bcf4f",
   "metadata": {},
   "outputs": [
    {
     "data": {
      "image/png": "[encoded data removed]",
      "text/latex": [
       "$\\displaystyle \\left[\\begin{matrix}114708987924290760000 & -94111355982964320000 & 50636001316921020000 & -16079676946793460000 & 2283970439789438400\\\\-94111355982964320000 & 77372181993899520000 & -41708441856086460000 & 13267726829486438400 & -1887578875859040000\\\\50636001316921020000 & -41708441856086460000 & 22522558602286688400 & -7176054174602040000 & 1022438557756980000\\\\-16079676946793460000 & 13267726829486438400 & -7176054174602040000 & 2289795064260480000 & -326696343898680000\\\\2283970439789438400 & -1887578875859040000 & 1022438557756980000 & -326696343898680000 & 46670906271240000\\end{matrix}\\right]$"
      ],
      "text/plain": [
       "⎡114708987924290760000  -94111355982964320000  50636001316921020000   -16079676946\n",
       "⎢                                                                                 \n",
       "⎢-94111355982964320000  77372181993899520000   -41708441856086460000  132677268294\n",
       "⎢                                                                                 \n",
       "⎢50636001316921020000   -41708441856086460000  22522558602286688400   -71760541746\n",
       "⎢                                                                                 \n",
       "⎢-16079676946793460000  13267726829486438400   -7176054174602040000    22897950642\n",
       "⎢                                                                                 \n",
       "⎣ 2283970439789438400   -1887578875859040000    1022438557756980000    -3266963438\n",
       "\n",
       "793460000  2283970439789438400 ⎤\n",
       "                               ⎥\n",
       "86438400   -1887578875859040000⎥\n",
       "                               ⎥\n",
       "02040000   1022438557756980000 ⎥\n",
       "                               ⎥\n",
       "60480000   -326696343898680000 ⎥\n",
       "                               ⎥\n",
       "98680000    46670906271240000  ⎦"
      ]
     },
     "execution_count": 66,
     "metadata": {},
     "output_type": "execute_result"
    }
   ],
   "source": [
    "H1 = H**(-1)\n",
    "H1[N-5:, N-5:]"
   ]
  },
  {
   "cell_type": "markdown",
   "id": "a9cd0cec",
   "metadata": {},
   "source": [
    "# Vergleich mit Numerik"
   ]
  },
  {
   "cell_type": "code",
   "execution_count": 67,
   "id": "f322069e",
   "metadata": {},
   "outputs": [],
   "source": [
    "import numpy as np"
   ]
  },
  {
   "cell_type": "code",
   "execution_count": 68,
   "id": "db9fa502",
   "metadata": {},
   "outputs": [
    {
     "data": {
      "image/png": "[encoded data removed]",
      "text/latex": [
       "$\\displaystyle -1.23210763382467 \\cdot 10^{-120}$"
      ],
      "text/plain": [
       "-1.2321076338246708e-120"
      ]
     },
     "execution_count": 68,
     "metadata": {},
     "output_type": "execute_result"
    }
   ],
   "source": [
    "Hn = np.empty((N,N))\n",
    "for i in range(N):\n",
    "    for j in range(N):\n",
    "        Hn[i,j] = 1/(1+i+j)\n",
    "np.linalg.det(Hn)"
   ]
  },
  {
   "cell_type": "code",
   "execution_count": 69,
   "id": "90de381e",
   "metadata": {},
   "outputs": [
    {
     "data": {
      "image/png": "[encoded data removed]",
      "text/latex": [
       "$\\displaystyle 1.05854274306972 \\cdot 10^{-124}$"
      ],
      "text/plain": [
       "1.05854274306972e-124"
      ]
     },
     "execution_count": 69,
     "metadata": {},
     "output_type": "execute_result"
    }
   ],
   "source": [
    "H.det().n()"
   ]
  },
  {
   "cell_type": "code",
   "execution_count": 70,
   "id": "4887a4c5",
   "metadata": {},
   "outputs": [
    {
     "data": {
      "text/plain": [
       "array([[0.04761905, 0.04545455, 0.04347826, 0.04166667, 0.04      ],\n",
       "       [0.04545455, 0.04347826, 0.04166667, 0.04      , 0.03846154],\n",
       "       [0.04347826, 0.04166667, 0.04      , 0.03846154, 0.03703704],\n",
       "       [0.04166667, 0.04      , 0.03846154, 0.03703704, 0.03571429],\n",
       "       [0.04      , 0.03846154, 0.03703704, 0.03571429, 0.03448276]])"
      ]
     },
     "execution_count": 70,
     "metadata": {},
     "output_type": "execute_result"
    }
   ],
   "source": [
    "Hn1 = Hn**(1)\n",
    "Hn1[N-5:, N-5:]"
   ]
  },
  {
   "cell_type": "markdown",
   "id": "99b585eb",
   "metadata": {},
   "source": [
    "`Hn**(-1)` hat die Kehrwerte aller Matrixeinträge bestimmt"
   ]
  },
  {
   "cell_type": "code",
   "execution_count": 71,
   "id": "a898ec65",
   "metadata": {},
   "outputs": [
    {
     "data": {
      "text/plain": [
       "array([[-1.75711426e+15, -2.10577987e+15,  6.72860968e+14],\n",
       "       [-2.66938968e+15,  2.28873906e+15, -5.30224296e+14],\n",
       "       [ 8.35785123e+14, -5.56648351e+14,  1.20997097e+14]])"
      ]
     },
     "execution_count": 71,
     "metadata": {},
     "output_type": "execute_result"
    }
   ],
   "source": [
    "Hn1 = np.linalg.inv(Hn)\n",
    "Hn1[N-3:, N-3:]"
   ]
  },
  {
   "cell_type": "code",
   "execution_count": 72,
   "id": "e498f88a",
   "metadata": {},
   "outputs": [
    {
     "name": "stdout",
     "output_type": "stream",
     "text": [
      "5.08 s ± 8.66 ms per loop (mean ± std. dev. of 7 runs, 1 loop each)\n"
     ]
    }
   ],
   "source": [
    "%%timeit\n",
    "H**(-1)"
   ]
  },
  {
   "cell_type": "code",
   "execution_count": 73,
   "id": "e5df96d9",
   "metadata": {},
   "outputs": [
    {
     "name": "stdout",
     "output_type": "stream",
     "text": [
      "5.73 µs ± 19.4 ns per loop (mean ± std. dev. of 7 runs, 100000 loops each)\n"
     ]
    }
   ],
   "source": [
    "%%timeit\n",
    "Hn1 = np.linalg.inv(Hn)"
   ]
  },
  {
   "cell_type": "markdown",
   "id": "e0b266c5",
   "metadata": {},
   "source": [
    "Eine Python-Bibliothek, die numerische Operationen in beliebige wählbarer Genauigkeit durchführen kann, ist `mpmath`"
   ]
  },
  {
   "cell_type": "markdown",
   "id": "04087b65",
   "metadata": {},
   "source": [
    "# Rang einer Matrix"
   ]
  },
  {
   "cell_type": "code",
   "execution_count": 47,
   "id": "f6fd26d4",
   "metadata": {},
   "outputs": [
    {
     "data": {
      "image/png": "[encoded data removed]",
      "text/latex": [
       "$\\displaystyle \\left[\\begin{matrix}1 & 2 & 3\\\\4 & 5 & 6\\\\7 & 8 & 9\\end{matrix}\\right]$"
      ],
      "text/plain": [
       "⎡1  2  3⎤\n",
       "⎢       ⎥\n",
       "⎢4  5  6⎥\n",
       "⎢       ⎥\n",
       "⎣7  8  9⎦"
      ]
     },
     "execution_count": 47,
     "metadata": {},
     "output_type": "execute_result"
    }
   ],
   "source": [
    "A"
   ]
  },
  {
   "cell_type": "code",
   "execution_count": 48,
   "id": "4a6709c9",
   "metadata": {},
   "outputs": [
    {
     "data": {
      "image/png": "[encoded data removed]",
      "text/latex": [
       "$\\displaystyle 2$"
      ],
      "text/plain": [
       "2"
      ]
     },
     "execution_count": 48,
     "metadata": {},
     "output_type": "execute_result"
    }
   ],
   "source": [
    "A.rank()"
   ]
  },
  {
   "cell_type": "code",
   "execution_count": 49,
   "id": "62a5d95f",
   "metadata": {},
   "outputs": [],
   "source": [
    "x = S('x')\n",
    "y = S('y')"
   ]
  },
  {
   "cell_type": "code",
   "execution_count": 50,
   "id": "fb68a0ab",
   "metadata": {},
   "outputs": [
    {
     "data": {
      "image/png": "[encoded data removed]",
      "text/latex": [
       "$\\displaystyle \\left[\\begin{matrix}2 x + 2 & 2 y - 2\\\\2 x + 2 & 2 - 2 y\\\\y - 1 & x + 1\\end{matrix}\\right]$"
      ],
      "text/plain": [
       "⎡2⋅x + 2  2⋅y - 2⎤\n",
       "⎢                ⎥\n",
       "⎢2⋅x + 2  2 - 2⋅y⎥\n",
       "⎢                ⎥\n",
       "⎣ y - 1    x + 1 ⎦"
      ]
     },
     "execution_count": 50,
     "metadata": {},
     "output_type": "execute_result"
    }
   ],
   "source": [
    "M = Matrix(3, 2, [2*x+2, 2*y-2, 2*x+2, -2*y+2, y-1, x+1])\n",
    "M"
   ]
  },
  {
   "cell_type": "code",
   "execution_count": 51,
   "id": "8bb1e0cd",
   "metadata": {},
   "outputs": [
    {
     "data": {
      "image/png": "[encoded data removed]",
      "text/latex": [
       "$\\displaystyle 2$"
      ],
      "text/plain": [
       "2"
      ]
     },
     "execution_count": 51,
     "metadata": {},
     "output_type": "execute_result"
    }
   ],
   "source": [
    "M.rank()"
   ]
  },
  {
   "cell_type": "markdown",
   "id": "f6d123c2",
   "metadata": {},
   "source": [
    "Glauben wir das für alle Wahlen von $x$ und $y$?"
   ]
  },
  {
   "cell_type": "code",
   "execution_count": 52,
   "id": "808b6d2b",
   "metadata": {},
   "outputs": [
    {
     "data": {
      "image/png": "[encoded data removed]",
      "text/latex": [
       "$\\displaystyle \\left[\\begin{matrix}1 & 0\\\\0 & 1\\\\0 & 0\\end{matrix}\\right]$"
      ],
      "text/plain": [
       "⎡1  0⎤\n",
       "⎢    ⎥\n",
       "⎢0  1⎥\n",
       "⎢    ⎥\n",
       "⎣0  0⎦"
      ]
     },
     "execution_count": 52,
     "metadata": {},
     "output_type": "execute_result"
    }
   ],
   "source": [
    "M.rref(pivots=False)  # Zeilenstufenform (engl. reduced row echelon form)"
   ]
  },
  {
   "cell_type": "code",
   "execution_count": 53,
   "id": "f33e58c5",
   "metadata": {},
   "outputs": [
    {
     "data": {
      "image/png": "[encoded data removed]",
      "text/latex": [
       "$\\displaystyle \\left[\\begin{matrix}2 x + 2 & 2 y - 2\\\\2 x + 2 & 2 - 2 y\\\\y - 1 & x + 1\\end{matrix}\\right]$"
      ],
      "text/plain": [
       "⎡2⋅x + 2  2⋅y - 2⎤\n",
       "⎢                ⎥\n",
       "⎢2⋅x + 2  2 - 2⋅y⎥\n",
       "⎢                ⎥\n",
       "⎣ y - 1    x + 1 ⎦"
      ]
     },
     "execution_count": 53,
     "metadata": {},
     "output_type": "execute_result"
    }
   ],
   "source": [
    "M"
   ]
  },
  {
   "cell_type": "code",
   "execution_count": 54,
   "id": "04de6e3f",
   "metadata": {},
   "outputs": [
    {
     "data": {
      "image/png": "[encoded data removed]",
      "text/latex": [
       "$\\displaystyle \\left[\\begin{matrix}2 x + 2 & 2 y - 2\\\\2 x + 2 & 2 - 2 y\\\\\\left(2 x + 2\\right) \\left(y - 1\\right) & \\left(x + 1\\right) \\left(2 x + 2\\right)\\end{matrix}\\right]$"
      ],
      "text/plain": [
       "⎡     2⋅x + 2            2⋅y - 2     ⎤\n",
       "⎢                                    ⎥\n",
       "⎢     2⋅x + 2            2 - 2⋅y     ⎥\n",
       "⎢                                    ⎥\n",
       "⎣(2⋅x + 2)⋅(y - 1)  (x + 1)⋅(2⋅x + 2)⎦"
      ]
     },
     "execution_count": 54,
     "metadata": {},
     "output_type": "execute_result"
    }
   ],
   "source": [
    "M1 = M.elementary_row_op('n->kn', row=2, k=2*x+2)\n",
    "M1"
   ]
  },
  {
   "cell_type": "markdown",
   "id": "e15ed085",
   "metadata": {},
   "source": [
    "Das darf ich aber nur, wenn $2x+2\\ne0$."
   ]
  },
  {
   "cell_type": "code",
   "execution_count": 55,
   "id": "4606218b",
   "metadata": {},
   "outputs": [
    {
     "data": {
      "image/png": "[encoded data removed]",
      "text/latex": [
       "$\\displaystyle \\left[\\begin{matrix}2 x + 2 & 2 y - 2\\\\2 x + 2 & 2 - 2 y\\\\0 & 2 x^{2} + 4 x - 2 y^{2} + 4 y\\end{matrix}\\right]$"
      ],
      "text/plain": [
       "⎡2⋅x + 2          2⋅y - 2        ⎤\n",
       "⎢                                ⎥\n",
       "⎢2⋅x + 2          2 - 2⋅y        ⎥\n",
       "⎢                                ⎥\n",
       "⎢            2            2      ⎥\n",
       "⎣   0     2⋅x  + 4⋅x - 2⋅y  + 4⋅y⎦"
      ]
     },
     "execution_count": 55,
     "metadata": {},
     "output_type": "execute_result"
    }
   ],
   "source": [
    "M2 = M1.elementary_row_op('n->n+km', row1=2, row2=0, k=1-y).expand()\n",
    "M2"
   ]
  },
  {
   "cell_type": "markdown",
   "id": "b4f535cd",
   "metadata": {},
   "source": [
    "Das darf ich immer."
   ]
  },
  {
   "cell_type": "code",
   "execution_count": 56,
   "id": "6a7d933f",
   "metadata": {},
   "outputs": [
    {
     "data": {
      "image/png": "[encoded data removed]",
      "text/latex": [
       "$\\displaystyle \\left[\\begin{matrix}2 x + 2 & 2 y - 2\\\\2 x + 2 & 2 - 2 y\\\\0 & 2 x^{2} + 4 x - 2 y^{2} + 4 y\\end{matrix}\\right]$"
      ],
      "text/plain": [
       "⎡2⋅x + 2          2⋅y - 2        ⎤\n",
       "⎢                                ⎥\n",
       "⎢2⋅x + 2          2 - 2⋅y        ⎥\n",
       "⎢                                ⎥\n",
       "⎢            2            2      ⎥\n",
       "⎣   0     2⋅x  + 4⋅x - 2⋅y  + 4⋅y⎦"
      ]
     },
     "execution_count": 56,
     "metadata": {},
     "output_type": "execute_result"
    }
   ],
   "source": [
    "M2"
   ]
  },
  {
   "cell_type": "code",
   "execution_count": 57,
   "id": "3d0f6db4",
   "metadata": {},
   "outputs": [
    {
     "data": {
      "image/png": "[encoded data removed]",
      "text/latex": [
       "$\\displaystyle \\left[\\begin{matrix}2 x + 2 & 2 y - 2\\\\0 & 4 - 4 y\\\\0 & 2 x^{2} + 4 x - 2 y^{2} + 4 y\\end{matrix}\\right]$"
      ],
      "text/plain": [
       "⎡2⋅x + 2          2⋅y - 2        ⎤\n",
       "⎢                                ⎥\n",
       "⎢   0             4 - 4⋅y        ⎥\n",
       "⎢                                ⎥\n",
       "⎢            2            2      ⎥\n",
       "⎣   0     2⋅x  + 4⋅x - 2⋅y  + 4⋅y⎦"
      ]
     },
     "execution_count": 57,
     "metadata": {},
     "output_type": "execute_result"
    }
   ],
   "source": [
    "M3 = M2.elementary_row_op('n->n+km', row1=1, row2=0, k=-1)\n",
    "M3"
   ]
  },
  {
   "cell_type": "code",
   "execution_count": 58,
   "id": "7ab4b05b",
   "metadata": {},
   "outputs": [
    {
     "data": {
      "image/png": "[encoded data removed]",
      "text/latex": [
       "$\\displaystyle \\left[\\begin{matrix}2 x + 2 & 2 y - 2\\\\0 & 4 - 4 y\\\\0 & 0\\end{matrix}\\right]$"
      ],
      "text/plain": [
       "⎡2⋅x + 2  2⋅y - 2⎤\n",
       "⎢                ⎥\n",
       "⎢   0     4 - 4⋅y⎥\n",
       "⎢                ⎥\n",
       "⎣   0        0   ⎦"
      ]
     },
     "execution_count": 58,
     "metadata": {},
     "output_type": "execute_result"
    }
   ],
   "source": [
    "M4 = M3.elementary_row_op('n->n+km', row1=2, row2=1, k=-M3[2,1]/M3[1,1])\n",
    "M4"
   ]
  },
  {
   "cell_type": "markdown",
   "id": "e4e0185b",
   "metadata": {},
   "source": [
    "Das darf ich nur für $4-4y\\ne0$, weil ich durch diesen Wert geteilt habe"
   ]
  },
  {
   "cell_type": "markdown",
   "id": "7c7530f7",
   "metadata": {},
   "source": [
    "Bis jetzt gesehen:\n",
    "\n",
    "Für $x\\ne-1$ und $y\\ne1$ ist der Rang gleich $2$."
   ]
  },
  {
   "cell_type": "code",
   "execution_count": 59,
   "id": "cf1752da",
   "metadata": {},
   "outputs": [
    {
     "data": {
      "image/png": "[encoded data removed]",
      "text/latex": [
       "$\\displaystyle \\left[\\begin{matrix}0 & 2 y - 2\\\\0 & 2 - 2 y\\\\y - 1 & 0\\end{matrix}\\right]$"
      ],
      "text/plain": [
       "⎡  0    2⋅y - 2⎤\n",
       "⎢              ⎥\n",
       "⎢  0    2 - 2⋅y⎥\n",
       "⎢              ⎥\n",
       "⎣y - 1     0   ⎦"
      ]
     },
     "execution_count": 59,
     "metadata": {},
     "output_type": "execute_result"
    }
   ],
   "source": [
    "M.subs(x, -1)"
   ]
  },
  {
   "cell_type": "code",
   "execution_count": 60,
   "id": "577059d6",
   "metadata": {},
   "outputs": [
    {
     "data": {
      "image/png": "[encoded data removed]",
      "text/latex": [
       "$\\displaystyle \\left[\\begin{matrix}0 & 0\\\\0 & 0\\\\0 & 0\\end{matrix}\\right]$"
      ],
      "text/plain": [
       "⎡0  0⎤\n",
       "⎢    ⎥\n",
       "⎢0  0⎥\n",
       "⎢    ⎥\n",
       "⎣0  0⎦"
      ]
     },
     "execution_count": 60,
     "metadata": {},
     "output_type": "execute_result"
    }
   ],
   "source": [
    "M.subs({x:-1, y:1})"
   ]
  },
  {
   "cell_type": "markdown",
   "id": "f4c576fc",
   "metadata": {},
   "source": [
    "$$\n",
    "    \\text{Rang}(M) =\n",
    "    \\begin{cases}\n",
    "        0, & x = -1 \\wedge y = 1, \\\\\n",
    "        2, & \\text{in allen anderen Fällen.}\n",
    "    \\end{cases}\n",
    "$$"
   ]
  },
  {
   "cell_type": "markdown",
   "id": "bb5542a8",
   "metadata": {},
   "source": [
    "`sympy` rechnet im Körper $\\mathbb R(x,y)$ der rationalen Polynome"
   ]
  },
  {
   "cell_type": "code",
   "execution_count": null,
   "id": "e37b54df",
   "metadata": {},
   "outputs": [],
   "source": []
  }
 ],
 "metadata": {
  "kernelspec": {
   "display_name": "Python 3 (ipykernel)",
   "language": "python",
   "name": "python3"
  },
  "language_info": {
   "codemirror_mode": {
    "name": "ipython",
    "version": 3
   },
   "file_extension": ".py",
   "mimetype": "text/x-python",
   "name": "python",
   "nbconvert_exporter": "python",
   "pygments_lexer": "ipython3",
   "version": "3.10.6"
  }
 },
 "nbformat": 4,
 "nbformat_minor": 5
}
