{
 "cells": [
  {
   "cell_type": "markdown",
   "id": "d8435415",
   "metadata": {},
   "source": [
    "# Computergestützte Mathematik zur Analysis\n",
    "\n",
    "Vorlesung vom 01.12.2022\n",
    "\n",
    "&copy; 2022 Prof. Dr. Rüdiger W. Braun "
   ]
  },
  {
   "cell_type": "code",
   "execution_count": null,
   "id": "67307eb0",
   "metadata": {},
   "outputs": [],
   "source": [
    "from sympy import *\n",
    "init_printing()"
   ]
  },
  {
   "cell_type": "markdown",
   "id": "63496acd",
   "metadata": {},
   "source": [
    "# Don't Repeat Yourself! (DRY)"
   ]
  },
  {
   "cell_type": "markdown",
   "id": "c2b4f814",
   "metadata": {},
   "source": [
    "Wenn identische Daten an mehreren Stellen gehalten werden, dann\n",
    "\n",
    "* hat man unnötige Schreibarbeit geleistet\n",
    "* besteht Unsicherheit, dass die Daten initial identisch waren\n",
    "* besteht die Gefahr, dass Updates nicht alle Speicherorte erreichen"
   ]
  },
  {
   "cell_type": "markdown",
   "id": "0aed9243",
   "metadata": {},
   "source": [
    "# Copy-and-Paste\n",
    "\n",
    "ist eine Form von DRY.  Die besondere Gefahr ist, dass Änderungen am Input zu Änderungen am Output führen, die eine neuerliche Kopieroperation erorderlich machen, welche aber vergessen wird\n",
    "\n",
    "Bei der **Klausur** ist copy-and-paste unzulässig.  Wir löschen alle Ausgaben und lassen das Skript laufen.  Eingaben, die sich nur durch kopieren einer Ausgabe erklären lassen, werden nicht berücksichtigt."
   ]
  },
  {
   "cell_type": "markdown",
   "id": "430bcb91",
   "metadata": {},
   "source": [
    "# weitere Integrale"
   ]
  },
  {
   "cell_type": "code",
   "execution_count": null,
   "id": "08ff732c",
   "metadata": {},
   "outputs": [],
   "source": [
    "x = Symbol('x')"
   ]
  },
  {
   "cell_type": "code",
   "execution_count": null,
   "id": "1b4e3f33",
   "metadata": {},
   "outputs": [],
   "source": [
    "f = 1/(1-x**2)**Rational(3,2)\n",
    "I1 = Integral(f, x)\n",
    "I1"
   ]
  },
  {
   "cell_type": "code",
   "execution_count": null,
   "id": "9db0e277",
   "metadata": {},
   "outputs": [],
   "source": [
    "F = I1.doit()\n",
    "F"
   ]
  },
  {
   "cell_type": "code",
   "execution_count": null,
   "id": "c48c87c7",
   "metadata": {},
   "outputs": [],
   "source": [
    "F.diff(x).simplify()"
   ]
  },
  {
   "cell_type": "markdown",
   "id": "7ee3d6f4",
   "metadata": {},
   "source": [
    "Nur der zweite Fall interessiert uns"
   ]
  },
  {
   "cell_type": "code",
   "execution_count": null,
   "id": "c6caeb37",
   "metadata": {},
   "outputs": [],
   "source": [
    "print(F)"
   ]
  },
  {
   "cell_type": "code",
   "execution_count": null,
   "id": "52020a8f",
   "metadata": {},
   "outputs": [],
   "source": [
    "F.subs(Abs(x**2)>1, False)"
   ]
  },
  {
   "cell_type": "code",
   "execution_count": null,
   "id": "33ac1388",
   "metadata": {},
   "outputs": [],
   "source": [
    "g = (x-2.4)**2*sqrt(x)*0.1875\n",
    "g"
   ]
  },
  {
   "cell_type": "code",
   "execution_count": null,
   "id": "bb3257f2",
   "metadata": {},
   "outputs": [],
   "source": [
    "intervall  = (x, 0, 4)\n",
    "plot(g, intervall);"
   ]
  },
  {
   "cell_type": "code",
   "execution_count": null,
   "id": "86c7b8fd",
   "metadata": {},
   "outputs": [],
   "source": [
    "Integral(g, intervall).doit()"
   ]
  },
  {
   "cell_type": "code",
   "execution_count": null,
   "id": "fcd03afb",
   "metadata": {},
   "outputs": [],
   "source": [
    "Integral(g, intervall).n()"
   ]
  },
  {
   "cell_type": "markdown",
   "id": "daab4e0a",
   "metadata": {},
   "source": [
    "**Moral**:  Wenn ich symbolisch integrieren will, darf ich keine Fließkommazahlen verwenden"
   ]
  },
  {
   "cell_type": "code",
   "execution_count": null,
   "id": "08d69d1a",
   "metadata": {},
   "outputs": [],
   "source": [
    "Rational(0.1875)"
   ]
  },
  {
   "cell_type": "code",
   "execution_count": null,
   "id": "34fad1ea",
   "metadata": {},
   "outputs": [],
   "source": [
    "g = 3*(x-Rational(12,5))**2*sqrt(x)/16"
   ]
  },
  {
   "cell_type": "code",
   "execution_count": null,
   "id": "6ff02790",
   "metadata": {},
   "outputs": [],
   "source": [
    "Integral(g, intervall).doit()"
   ]
  },
  {
   "cell_type": "code",
   "execution_count": null,
   "id": "1a0c46fe",
   "metadata": {},
   "outputs": [],
   "source": [
    "Integral(g, intervall).doit().n()"
   ]
  },
  {
   "cell_type": "markdown",
   "id": "39d9c63b",
   "metadata": {},
   "source": [
    "Ist natürlich trotzdem ein Bug"
   ]
  },
  {
   "cell_type": "markdown",
   "id": "5cdf68bd",
   "metadata": {},
   "source": [
    "# Summen "
   ]
  },
  {
   "cell_type": "code",
   "execution_count": null,
   "id": "f3f93193",
   "metadata": {},
   "outputs": [],
   "source": [
    "n, m = symbols('n m')"
   ]
  },
  {
   "cell_type": "code",
   "execution_count": null,
   "id": "e39a5c0a",
   "metadata": {},
   "outputs": [],
   "source": [
    "S1 = Sum(n, (n,1,m))\n",
    "S1"
   ]
  },
  {
   "cell_type": "code",
   "execution_count": null,
   "id": "c40ee39e",
   "metadata": {},
   "outputs": [],
   "source": [
    "S1.doit()"
   ]
  },
  {
   "cell_type": "code",
   "execution_count": null,
   "id": "6732bfe7",
   "metadata": {},
   "outputs": [],
   "source": [
    "a = (-1)**n * x**(2*n+1) / factorial(2*n+1)\n",
    "S2 = Sum(a, (n,0,oo))\n",
    "S2"
   ]
  },
  {
   "cell_type": "code",
   "execution_count": null,
   "id": "e4bd6c19",
   "metadata": {},
   "outputs": [],
   "source": [
    "S2.doit()"
   ]
  },
  {
   "cell_type": "code",
   "execution_count": null,
   "id": "21753999",
   "metadata": {},
   "outputs": [],
   "source": [
    "q = S('q')\n",
    "S3 = Sum(q**n, (n,0,oo))\n",
    "S3"
   ]
  },
  {
   "cell_type": "code",
   "execution_count": null,
   "id": "bc847e28",
   "metadata": {},
   "outputs": [],
   "source": [
    "S3.doit()"
   ]
  },
  {
   "cell_type": "code",
   "execution_count": null,
   "id": "9f6def86",
   "metadata": {},
   "outputs": [],
   "source": [
    "S3.doit().subs(Abs(q)<1, True)"
   ]
  },
  {
   "cell_type": "code",
   "execution_count": null,
   "id": "cb56e68a",
   "metadata": {},
   "outputs": [],
   "source": [
    "S4 = Sum(1/n**2, (n, 1, m))\n",
    "S4"
   ]
  },
  {
   "cell_type": "code",
   "execution_count": null,
   "id": "92aa1b17",
   "metadata": {},
   "outputs": [],
   "source": [
    "S4.doit()"
   ]
  },
  {
   "cell_type": "code",
   "execution_count": null,
   "id": "21d277e8",
   "metadata": {},
   "outputs": [],
   "source": [
    "S4.subs(m, oo).doit()"
   ]
  },
  {
   "cell_type": "code",
   "execution_count": null,
   "id": "b1800545",
   "metadata": {},
   "outputs": [],
   "source": [
    "Sum(1/n**54, (n, 1, oo)).doit()"
   ]
  },
  {
   "cell_type": "code",
   "execution_count": null,
   "id": "208f9fad",
   "metadata": {},
   "outputs": [],
   "source": [
    "Sum(1/n**3, (n, 1, oo)).doit()"
   ]
  },
  {
   "cell_type": "code",
   "execution_count": null,
   "id": "fed38f75",
   "metadata": {},
   "outputs": [],
   "source": [
    "f = zeta(Rational(1,2) + I*x)\n",
    "f"
   ]
  },
  {
   "cell_type": "code",
   "execution_count": null,
   "id": "51b96240",
   "metadata": {},
   "outputs": [],
   "source": [
    "plot(abs(f), (x, -1, 26));"
   ]
  },
  {
   "cell_type": "code",
   "execution_count": null,
   "id": "b5787617",
   "metadata": {},
   "outputs": [],
   "source": [
    "s = Rational(1,2) + 15*I\n",
    "S5 = Sum(1/n**s, (n, 1, oo))\n",
    "S5"
   ]
  },
  {
   "cell_type": "code",
   "execution_count": null,
   "id": "fe0a37d7",
   "metadata": {},
   "outputs": [],
   "source": [
    "# S5.doit()  # TypeError, die komplexe Reihe divergiert "
   ]
  },
  {
   "cell_type": "markdown",
   "id": "42bb62e3",
   "metadata": {},
   "source": [
    "# Zeichenketten\n",
    "\n",
    "Strings"
   ]
  },
  {
   "cell_type": "code",
   "execution_count": null,
   "id": "cbb99a2c",
   "metadata": {},
   "outputs": [],
   "source": [
    "\"Text\" == 'Text'"
   ]
  },
  {
   "cell_type": "code",
   "execution_count": null,
   "id": "5ea9fefb",
   "metadata": {},
   "outputs": [],
   "source": [
    "netto = 2.72\n",
    "f\"Bruttopreis = {netto}€ plus {netto*0.16}€ Mehrwertsteuer\""
   ]
  },
  {
   "cell_type": "code",
   "execution_count": null,
   "id": "6ee78798",
   "metadata": {},
   "outputs": [],
   "source": [
    "f\"Bruttopreis = {netto}€ plus {netto*0.16:.2f}€ Mehrwertsteuer\""
   ]
  },
  {
   "cell_type": "markdown",
   "id": "25159cda",
   "metadata": {},
   "source": [
    "     .2f     (2 Nachkommastellen)\n",
    "    8.2f     (2 Nachkommastellen, insgesamt 8 Zeichen inkl. eventueller Leerzeichen)"
   ]
  },
  {
   "cell_type": "markdown",
   "id": "58f091ec",
   "metadata": {},
   "source": [
    "# Polarkoordinaten"
   ]
  },
  {
   "cell_type": "code",
   "execution_count": null,
   "id": "ccf88b80",
   "metadata": {},
   "outputs": [],
   "source": [
    "r = Symbol('r', positive=True)\n",
    "phi = Symbol('phi', real=True)\n",
    "x = r*cos(phi)\n",
    "y = r*sin(phi)\n",
    "x, y"
   ]
  },
  {
   "cell_type": "code",
   "execution_count": null,
   "id": "9b4734ca",
   "metadata": {},
   "outputs": [],
   "source": [
    "r == simplify(sqrt(x**2+y**2))"
   ]
  },
  {
   "cell_type": "code",
   "execution_count": null,
   "id": "a2f2172d",
   "metadata": {},
   "outputs": [],
   "source": [
    "phi == atan(y/x)"
   ]
  },
  {
   "cell_type": "code",
   "execution_count": null,
   "id": "4cc90f4f",
   "metadata": {},
   "outputs": [],
   "source": [
    "ers1 = {r:1, phi: pi/3}\n",
    "x1 = x.subs(ers1)\n",
    "y1 = y.subs(ers1)\n",
    "x1, y1"
   ]
  },
  {
   "cell_type": "code",
   "execution_count": null,
   "id": "034d2c7e",
   "metadata": {},
   "outputs": [],
   "source": [
    "atan(y1/x1)"
   ]
  },
  {
   "cell_type": "code",
   "execution_count": null,
   "id": "75456c47",
   "metadata": {},
   "outputs": [],
   "source": [
    "ers2 = {r:1, phi: 4*pi/3}\n",
    "x2 = x.subs(ers2)\n",
    "y2 = y.subs(ers2)\n",
    "x2, y2"
   ]
  },
  {
   "cell_type": "code",
   "execution_count": null,
   "id": "06ab23ef",
   "metadata": {},
   "outputs": [],
   "source": [
    "atan(y2/x2)"
   ]
  },
  {
   "cell_type": "code",
   "execution_count": null,
   "id": "41a6d5a4",
   "metadata": {},
   "outputs": [],
   "source": [
    "atan2(y1, x1)"
   ]
  },
  {
   "cell_type": "code",
   "execution_count": null,
   "id": "95dd7920",
   "metadata": {},
   "outputs": [],
   "source": [
    "atan2(y2, x2)"
   ]
  },
  {
   "cell_type": "markdown",
   "id": "8408a851",
   "metadata": {},
   "source": [
    "# Potenzfunktionen"
   ]
  },
  {
   "cell_type": "code",
   "execution_count": null,
   "id": "752652c7",
   "metadata": {},
   "outputs": [],
   "source": [
    "x, y = symbols('x y')\n",
    "I1 = Integral(x**Rational(2,3), (x,-8,8))\n",
    "I1"
   ]
  },
  {
   "cell_type": "code",
   "execution_count": null,
   "id": "f496ad81",
   "metadata": {},
   "outputs": [],
   "source": [
    "I1.doit()"
   ]
  },
  {
   "cell_type": "markdown",
   "id": "4712b00e",
   "metadata": {},
   "source": [
    "Das Problem geschickt zurückgespielt &#x1F609;\n",
    "\n",
    "Was ist $(-8)^\\frac23$ ?"
   ]
  },
  {
   "cell_type": "code",
   "execution_count": null,
   "id": "0e3f919f",
   "metadata": {},
   "outputs": [],
   "source": [
    "(-8)**Rational(2,3)"
   ]
  },
  {
   "cell_type": "code",
   "execution_count": null,
   "id": "8ab41d39",
   "metadata": {},
   "outputs": [],
   "source": [
    "((-8)**Rational(2,3)).expand(complex=True)"
   ]
  },
  {
   "cell_type": "code",
   "execution_count": null,
   "id": "15ce9a45",
   "metadata": {},
   "outputs": [],
   "source": [
    "(((-8)**Rational(1,3))**2).expand(complex=True)"
   ]
  },
  {
   "cell_type": "code",
   "execution_count": null,
   "id": "d6b17e97",
   "metadata": {},
   "outputs": [],
   "source": [
    "((-8)**2)**Rational(1,3)"
   ]
  },
  {
   "cell_type": "code",
   "execution_count": null,
   "id": "a84f5dc7",
   "metadata": {},
   "outputs": [],
   "source": [
    "glg = Eq(x**3, 8**2)\n",
    "simplify(solveset(glg, x))"
   ]
  },
  {
   "cell_type": "code",
   "execution_count": null,
   "id": "84e9e69b",
   "metadata": {},
   "outputs": [],
   "source": [
    "p = exp(log(-8)*Rational(2,3))\n",
    "p"
   ]
  },
  {
   "cell_type": "code",
   "execution_count": null,
   "id": "0c0fb04d",
   "metadata": {},
   "outputs": [],
   "source": [
    "expand(p, complex=True)"
   ]
  },
  {
   "cell_type": "code",
   "execution_count": null,
   "id": "fc6d4a67",
   "metadata": {},
   "outputs": [],
   "source": [
    "s = Symbol('s')"
   ]
  },
  {
   "cell_type": "code",
   "execution_count": null,
   "id": "7345cf31",
   "metadata": {},
   "outputs": [],
   "source": [
    "q = exp(log(-8+I*s)*Rational(2,3))\n",
    "q"
   ]
  },
  {
   "cell_type": "code",
   "execution_count": null,
   "id": "331f3703",
   "metadata": {},
   "outputs": [],
   "source": [
    "q.limit(s, 0, dir='+')"
   ]
  },
  {
   "cell_type": "code",
   "execution_count": null,
   "id": "e731aad1",
   "metadata": {},
   "outputs": [],
   "source": [
    "q.limit(s, 0, dir='+').expand(complex=True)"
   ]
  },
  {
   "cell_type": "code",
   "execution_count": null,
   "id": "95391639",
   "metadata": {},
   "outputs": [],
   "source": [
    "q.limit(s, 0, dir='-')"
   ]
  },
  {
   "cell_type": "code",
   "execution_count": null,
   "id": "9d19975d",
   "metadata": {},
   "outputs": [],
   "source": [
    "q.limit(s, 0, dir='-').expand(complex=True)"
   ]
  },
  {
   "cell_type": "markdown",
   "id": "dead4e49",
   "metadata": {},
   "source": [
    "Die Funktion $e^{\\frac23i\\pi\\phi}$ ist halt nicht $2\\pi$-periodisch"
   ]
  },
  {
   "cell_type": "code",
   "execution_count": null,
   "id": "359607f5",
   "metadata": {},
   "outputs": [],
   "source": [
    "phi = S('phi')\n",
    "h = exp(2*I*pi*phi/3)\n",
    "plot(re(h), im(h), (phi, -pi, pi));"
   ]
  },
  {
   "cell_type": "code",
   "execution_count": null,
   "id": "2ace4582",
   "metadata": {},
   "outputs": [],
   "source": []
  }
 ],
 "metadata": {
  "kernelspec": {
   "display_name": "Python 3 (ipykernel)",
   "language": "python",
   "name": "python3"
  },
  "language_info": {
   "codemirror_mode": {
    "name": "ipython",
    "version": 3
   },
   "file_extension": ".py",
   "mimetype": "text/x-python",
   "name": "python",
   "nbconvert_exporter": "python",
   "pygments_lexer": "ipython3",
   "version": "3.10.6"
  }
 },
 "nbformat": 4,
 "nbformat_minor": 5
}
