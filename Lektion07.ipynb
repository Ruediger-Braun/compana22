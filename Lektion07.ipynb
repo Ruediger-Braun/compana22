{
 "cells": [
  {
   "cell_type": "markdown",
   "id": "d8435415",
   "metadata": {
    "slideshow": {
     "slide_type": "slide"
    }
   },
   "source": [
    "# Computergestützte Mathematik zur Analysis\n",
    "\n",
    "Vorlesung vom 01.12.2022\n",
    "\n",
    "&copy; 2022 Prof. Dr. Rüdiger W. Braun "
   ]
  },
  {
   "cell_type": "code",
   "execution_count": 1,
   "id": "67307eb0",
   "metadata": {
    "slideshow": {
     "slide_type": "slide"
    }
   },
   "outputs": [],
   "source": [
    "from sympy import *\n",
    "init_printing()"
   ]
  },
  {
   "cell_type": "markdown",
   "id": "63496acd",
   "metadata": {
    "slideshow": {
     "slide_type": "slide"
    }
   },
   "source": [
    "# Don't Repeat Yourself! (DRY)"
   ]
  },
  {
   "cell_type": "markdown",
   "id": "c2b4f814",
   "metadata": {},
   "source": [
    "Wenn identische Daten an mehreren Stellen gehalten werden, dann\n",
    "\n",
    "* hat man unnötige Schreibarbeit geleistet\n",
    "* besteht Unsicherheit, dass die Daten initial identisch waren\n",
    "* besteht die Gefahr, dass Updates nicht alle Speicherorte erreichen"
   ]
  },
  {
   "cell_type": "markdown",
   "id": "0aed9243",
   "metadata": {
    "slideshow": {
     "slide_type": "slide"
    }
   },
   "source": [
    "# Copy-and-Paste\n",
    "\n",
    "ist eine Form von DRY.  Die besondere Gefahr ist, dass Änderungen am Input zu Änderungen am Output führen, die eine neuerliche Kopieroperation erorderlich machen, welche aber vergessen wird\n",
    "\n",
    "Bei der **Klausur** ist copy-and-paste unzulässig.  Wir löschen alle Ausgaben und lassen das Skript laufen.  Eingaben, die sich nur durch Kopieren einer Ausgabe erklären lassen, werden nicht berücksichtigt."
   ]
  },
  {
   "cell_type": "markdown",
   "id": "430bcb91",
   "metadata": {
    "slideshow": {
     "slide_type": "slide"
    }
   },
   "source": [
    "# weitere Integrale"
   ]
  },
  {
   "cell_type": "code",
   "execution_count": 2,
   "id": "08ff732c",
   "metadata": {
    "slideshow": {
     "slide_type": "slide"
    }
   },
   "outputs": [],
   "source": [
    "x = Symbol('x')"
   ]
  },
  {
   "cell_type": "code",
   "execution_count": 3,
   "id": "1b4e3f33",
   "metadata": {},
   "outputs": [
    {
     "data": {
      "image/png": "[encoded data removed]",
      "text/latex": [
       "$\\displaystyle \\int \\frac{1}{\\left(1 - x^{2}\\right)^{\\frac{3}{2}}}\\, dx$"
      ],
      "text/plain": [
       "⌠               \n",
       "⎮      1        \n",
       "⎮ ─────────── dx\n",
       "⎮         3/2   \n",
       "⎮ ⎛     2⎞      \n",
       "⎮ ⎝1 - x ⎠      \n",
       "⌡               "
      ]
     },
     "execution_count": 3,
     "metadata": {},
     "output_type": "execute_result"
    }
   ],
   "source": [
    "f = 1/(1-x**2)**Rational(3,2)\n",
    "I1 = Integral(f, x)\n",
    "I1"
   ]
  },
  {
   "cell_type": "code",
   "execution_count": 4,
   "id": "9db0e277",
   "metadata": {},
   "outputs": [
    {
     "data": {
      "text/latex": [
       "$\\displaystyle \\begin{cases} - \\frac{i x}{\\sqrt{x^{2} - 1}} & \\text{for}\\: \\left|{x^{2}}\\right| > 1 \\\\\\frac{x}{\\sqrt{1 - x^{2}}} & \\text{otherwise} \\end{cases}$"
      ],
      "text/plain": [
       "⎧   -ⅈ⋅x          │ 2│    \n",
       "⎪───────────  for │x │ > 1\n",
       "⎪   ________              \n",
       "⎪  ╱  2                   \n",
       "⎪╲╱  x  - 1               \n",
       "⎨                         \n",
       "⎪     x                   \n",
       "⎪───────────   otherwise  \n",
       "⎪   ________              \n",
       "⎪  ╱      2               \n",
       "⎩╲╱  1 - x                "
      ]
     },
     "execution_count": 4,
     "metadata": {},
     "output_type": "execute_result"
    }
   ],
   "source": [
    "F = I1.doit()\n",
    "F"
   ]
  },
  {
   "cell_type": "code",
   "execution_count": 5,
   "id": "c48c87c7",
   "metadata": {
    "slideshow": {
     "slide_type": "slide"
    }
   },
   "outputs": [
    {
     "data": {
      "text/latex": [
       "$\\displaystyle \\begin{cases} \\frac{i}{\\left(x^{2} - 1\\right)^{\\frac{3}{2}}} & \\text{for}\\: x > 1 \\vee x < -1 \\\\\\frac{1}{\\left(1 - x^{2}\\right)^{\\frac{3}{2}}} & \\text{otherwise} \\end{cases}$"
      ],
      "text/plain": [
       "⎧     ⅈ                         \n",
       "⎪───────────  for x > 1 ∨ x < -1\n",
       "⎪        3/2                    \n",
       "⎪⎛ 2    ⎞                       \n",
       "⎪⎝x  - 1⎠                       \n",
       "⎨                               \n",
       "⎪     1                         \n",
       "⎪───────────      otherwise     \n",
       "⎪        3/2                    \n",
       "⎪⎛     2⎞                       \n",
       "⎩⎝1 - x ⎠                       "
      ]
     },
     "execution_count": 5,
     "metadata": {},
     "output_type": "execute_result"
    }
   ],
   "source": [
    "F.diff(x).simplify()"
   ]
  },
  {
   "cell_type": "markdown",
   "id": "7ee3d6f4",
   "metadata": {},
   "source": [
    "Nur der zweite Fall interessiert uns"
   ]
  },
  {
   "cell_type": "code",
   "execution_count": 6,
   "id": "c6caeb37",
   "metadata": {},
   "outputs": [
    {
     "name": "stdout",
     "output_type": "stream",
     "text": [
      "Piecewise((-I*x/sqrt(x**2 - 1), Abs(x**2) > 1), (x/sqrt(1 - x**2), True))\n"
     ]
    }
   ],
   "source": [
    "print(F)"
   ]
  },
  {
   "cell_type": "code",
   "execution_count": 7,
   "id": "52020a8f",
   "metadata": {},
   "outputs": [
    {
     "data": {
      "image/png": "[encoded data removed]",
      "text/latex": [
       "$\\displaystyle \\frac{x}{\\sqrt{1 - x^{2}}}$"
      ],
      "text/plain": [
       "     x     \n",
       "───────────\n",
       "   ________\n",
       "  ╱      2 \n",
       "╲╱  1 - x  "
      ]
     },
     "execution_count": 7,
     "metadata": {},
     "output_type": "execute_result"
    }
   ],
   "source": [
    "F.subs(Abs(x**2)>1, False)"
   ]
  },
  {
   "cell_type": "code",
   "execution_count": 8,
   "id": "33ac1388",
   "metadata": {
    "slideshow": {
     "slide_type": "slide"
    }
   },
   "outputs": [
    {
     "data": {
      "image/png": "[encoded data removed]",
      "text/latex": [
       "$\\displaystyle 1.08 \\sqrt{x} \\left(0.416666666666667 x - 1\\right)^{2}$"
      ],
      "text/plain": [
       "                                 2\n",
       "1.08⋅√x⋅(0.416666666666667⋅x - 1) "
      ]
     },
     "execution_count": 8,
     "metadata": {},
     "output_type": "execute_result"
    }
   ],
   "source": [
    "g = (x-2.4)**2*sqrt(x)*0.1875\n",
    "g"
   ]
  },
  {
   "cell_type": "code",
   "execution_count": 10,
   "id": "bb3257f2",
   "metadata": {},
   "outputs": [
    {
     "data": {
      "image/png": "[encoded data removed]",
      "text/plain": [
       "<Figure size 432x288 with 1 Axes>"
      ]
     },
     "metadata": {
      "needs_background": "light"
     },
     "output_type": "display_data"
    }
   ],
   "source": [
    "intervall  = (x, 0, 4)\n",
    "plot(g, intervall);"
   ]
  },
  {
   "cell_type": "code",
   "execution_count": 11,
   "id": "86c7b8fd",
   "metadata": {
    "slideshow": {
     "slide_type": "slide"
    }
   },
   "outputs": [
    {
     "data": {
      "image/png": "[encoded data removed]",
      "text/latex": [
       "$\\displaystyle 0.485255751108899$"
      ],
      "text/plain": [
       "0.485255751108899"
      ]
     },
     "execution_count": 11,
     "metadata": {},
     "output_type": "execute_result"
    }
   ],
   "source": [
    "Integral(g, intervall).doit()"
   ]
  },
  {
   "cell_type": "code",
   "execution_count": 12,
   "id": "fcd03afb",
   "metadata": {},
   "outputs": [
    {
     "data": {
      "image/png": "[encoded data removed]",
      "text/latex": [
       "$\\displaystyle 1.09714285714286$"
      ],
      "text/plain": [
       "1.09714285714286"
      ]
     },
     "execution_count": 12,
     "metadata": {},
     "output_type": "execute_result"
    }
   ],
   "source": [
    "Integral(g, intervall).n()"
   ]
  },
  {
   "cell_type": "markdown",
   "id": "daab4e0a",
   "metadata": {},
   "source": [
    "**Moral**:  Wenn ich symbolisch integrieren will, darf ich keine Fließkommazahlen verwenden"
   ]
  },
  {
   "cell_type": "code",
   "execution_count": 15,
   "id": "b160107f",
   "metadata": {},
   "outputs": [
    {
     "data": {
      "image/png": "[encoded data removed]",
      "text/latex": [
       "$\\displaystyle \\frac{884279719003555}{281474976710656}$"
      ],
      "text/plain": [
       "884279719003555\n",
       "───────────────\n",
       "281474976710656"
      ]
     },
     "execution_count": 15,
     "metadata": {},
     "output_type": "execute_result"
    }
   ],
   "source": [
    "Rational(pi.n())"
   ]
  },
  {
   "cell_type": "code",
   "execution_count": 16,
   "id": "08d69d1a",
   "metadata": {
    "slideshow": {
     "slide_type": "slide"
    }
   },
   "outputs": [
    {
     "data": {
      "image/png": "[encoded data removed]",
      "text/latex": [
       "$\\displaystyle \\frac{3}{16}$"
      ],
      "text/plain": [
       "3/16"
      ]
     },
     "execution_count": 16,
     "metadata": {},
     "output_type": "execute_result"
    }
   ],
   "source": [
    "Rational(0.1875)"
   ]
  },
  {
   "cell_type": "code",
   "execution_count": 17,
   "id": "34fad1ea",
   "metadata": {},
   "outputs": [],
   "source": [
    "g = 3*(x-Rational(12,5))**2*sqrt(x)/16"
   ]
  },
  {
   "cell_type": "code",
   "execution_count": 18,
   "id": "6ff02790",
   "metadata": {},
   "outputs": [
    {
     "data": {
      "image/png": "[encoded data removed]",
      "text/latex": [
       "$\\displaystyle \\frac{192}{175}$"
      ],
      "text/plain": [
       "192\n",
       "───\n",
       "175"
      ]
     },
     "execution_count": 18,
     "metadata": {},
     "output_type": "execute_result"
    }
   ],
   "source": [
    "Integral(g, intervall).doit()"
   ]
  },
  {
   "cell_type": "code",
   "execution_count": 19,
   "id": "1a0c46fe",
   "metadata": {},
   "outputs": [
    {
     "data": {
      "image/png": "[encoded data removed]",
      "text/latex": [
       "$\\displaystyle 1.09714285714286$"
      ],
      "text/plain": [
       "1.09714285714286"
      ]
     },
     "execution_count": 19,
     "metadata": {},
     "output_type": "execute_result"
    }
   ],
   "source": [
    "Integral(g, intervall).doit().n()"
   ]
  },
  {
   "cell_type": "markdown",
   "id": "39d9c63b",
   "metadata": {},
   "source": [
    "Ist natürlich trotzdem ein Bug"
   ]
  },
  {
   "cell_type": "markdown",
   "id": "5cdf68bd",
   "metadata": {
    "slideshow": {
     "slide_type": "slide"
    }
   },
   "source": [
    "# Summen "
   ]
  },
  {
   "cell_type": "code",
   "execution_count": 23,
   "id": "f3f93193",
   "metadata": {
    "slideshow": {
     "slide_type": "slide"
    }
   },
   "outputs": [],
   "source": [
    "n, m = symbols('n m')"
   ]
  },
  {
   "cell_type": "code",
   "execution_count": 24,
   "id": "e39a5c0a",
   "metadata": {},
   "outputs": [
    {
     "data": {
      "image/png": "[encoded data removed]",
      "text/latex": [
       "$\\displaystyle \\sum_{n=1}^{m} n$"
      ],
      "text/plain": [
       "  m    \n",
       " ___   \n",
       " ╲     \n",
       "  ╲    \n",
       "  ╱   n\n",
       " ╱     \n",
       " ‾‾‾   \n",
       "n = 1  "
      ]
     },
     "execution_count": 24,
     "metadata": {},
     "output_type": "execute_result"
    }
   ],
   "source": [
    "S1 = Sum(n, (n,1,m))\n",
    "S1"
   ]
  },
  {
   "cell_type": "markdown",
   "id": "d84c60b9",
   "metadata": {},
   "source": [
    "``sum``mit kleinem s ist nicht symbolisch"
   ]
  },
  {
   "cell_type": "code",
   "execution_count": 25,
   "id": "c40ee39e",
   "metadata": {},
   "outputs": [
    {
     "data": {
      "image/png": "[encoded data removed]",
      "text/latex": [
       "$\\displaystyle \\frac{m^{2}}{2} + \\frac{m}{2}$"
      ],
      "text/plain": [
       " 2    \n",
       "m    m\n",
       "── + ─\n",
       "2    2"
      ]
     },
     "execution_count": 25,
     "metadata": {},
     "output_type": "execute_result"
    }
   ],
   "source": [
    "S1.doit()"
   ]
  },
  {
   "cell_type": "code",
   "execution_count": 26,
   "id": "6732bfe7",
   "metadata": {
    "slideshow": {
     "slide_type": "slide"
    }
   },
   "outputs": [
    {
     "data": {
      "image/png": "[encoded data removed]",
      "text/latex": [
       "$\\displaystyle \\sum_{n=0}^{\\infty} \\frac{\\left(-1\\right)^{n} x^{2 n + 1}}{\\left(2 n + 1\\right)!}$"
      ],
      "text/plain": [
       "  ∞                 \n",
       " ____               \n",
       " ╲                  \n",
       "  ╲       n  2⋅n + 1\n",
       "   ╲  (-1) ⋅x       \n",
       "   ╱  ──────────────\n",
       "  ╱     (2⋅n + 1)!  \n",
       " ╱                  \n",
       " ‾‾‾‾               \n",
       "n = 0               "
      ]
     },
     "execution_count": 26,
     "metadata": {},
     "output_type": "execute_result"
    }
   ],
   "source": [
    "a = (-1)**n * x**(2*n+1) / factorial(2*n+1)\n",
    "S2 = Sum(a, (n,0,oo))\n",
    "S2"
   ]
  },
  {
   "cell_type": "code",
   "execution_count": 27,
   "id": "e4bd6c19",
   "metadata": {},
   "outputs": [
    {
     "data": {
      "image/png": "[encoded data removed]",
      "text/latex": [
       "$\\displaystyle \\sin{\\left(x \\right)}$"
      ],
      "text/plain": [
       "sin(x)"
      ]
     },
     "execution_count": 27,
     "metadata": {},
     "output_type": "execute_result"
    }
   ],
   "source": [
    "S2.doit()"
   ]
  },
  {
   "cell_type": "code",
   "execution_count": 28,
   "id": "21753999",
   "metadata": {
    "slideshow": {
     "slide_type": "slide"
    }
   },
   "outputs": [
    {
     "data": {
      "image/png": "[encoded data removed]",
      "text/latex": [
       "$\\displaystyle \\sum_{n=0}^{\\infty} q^{n}$"
      ],
      "text/plain": [
       "  ∞     \n",
       " ___    \n",
       " ╲      \n",
       "  ╲    n\n",
       "  ╱   q \n",
       " ╱      \n",
       " ‾‾‾    \n",
       "n = 0   "
      ]
     },
     "execution_count": 28,
     "metadata": {},
     "output_type": "execute_result"
    }
   ],
   "source": [
    "q = S('q')\n",
    "S3 = Sum(q**n, (n,0,oo))\n",
    "S3"
   ]
  },
  {
   "cell_type": "code",
   "execution_count": 29,
   "id": "bc847e28",
   "metadata": {},
   "outputs": [
    {
     "data": {
      "text/latex": [
       "$\\displaystyle \\begin{cases} \\frac{1}{1 - q} & \\text{for}\\: \\left|{q}\\right| < 1 \\\\\\sum_{n=0}^{\\infty} q^{n} & \\text{otherwise} \\end{cases}$"
      ],
      "text/plain": [
       "⎧   1                 \n",
       "⎪ ─────    for │q│ < 1\n",
       "⎪ 1 - q               \n",
       "⎪                     \n",
       "⎪  ∞                  \n",
       "⎪ ___                 \n",
       "⎨ ╲                   \n",
       "⎪  ╲    n             \n",
       "⎪  ╱   q    otherwise \n",
       "⎪ ╱                   \n",
       "⎪ ‾‾‾                 \n",
       "⎪n = 0                \n",
       "⎩                     "
      ]
     },
     "execution_count": 29,
     "metadata": {},
     "output_type": "execute_result"
    }
   ],
   "source": [
    "S3.doit()"
   ]
  },
  {
   "cell_type": "code",
   "execution_count": 30,
   "id": "9f6def86",
   "metadata": {},
   "outputs": [
    {
     "data": {
      "image/png": "[encoded data removed]",
      "text/latex": [
       "$\\displaystyle \\frac{1}{1 - q}$"
      ],
      "text/plain": [
       "  1  \n",
       "─────\n",
       "1 - q"
      ]
     },
     "execution_count": 30,
     "metadata": {},
     "output_type": "execute_result"
    }
   ],
   "source": [
    "S3.doit().subs(Abs(q)<1, True)"
   ]
  },
  {
   "cell_type": "code",
   "execution_count": 31,
   "id": "cb56e68a",
   "metadata": {
    "slideshow": {
     "slide_type": "slide"
    }
   },
   "outputs": [
    {
     "data": {
      "image/png": "[encoded data removed]",
      "text/latex": [
       "$\\displaystyle \\sum_{n=1}^{m} \\frac{1}{n^{2}}$"
      ],
      "text/plain": [
       "  m     \n",
       " ____   \n",
       " ╲      \n",
       "  ╲   1 \n",
       "   ╲  ──\n",
       "   ╱   2\n",
       "  ╱   n \n",
       " ╱      \n",
       " ‾‾‾‾   \n",
       "n = 1   "
      ]
     },
     "execution_count": 31,
     "metadata": {},
     "output_type": "execute_result"
    }
   ],
   "source": [
    "S4 = Sum(1/n**2, (n, 1, m))\n",
    "S4"
   ]
  },
  {
   "cell_type": "code",
   "execution_count": 32,
   "id": "92aa1b17",
   "metadata": {},
   "outputs": [
    {
     "data": {
      "image/png": "[encoded data removed]",
      "text/latex": [
       "$\\displaystyle \\operatorname{harmonic}{\\left(m,2 \\right)}$"
      ],
      "text/plain": [
       "harmonic(m, 2)"
      ]
     },
     "execution_count": 32,
     "metadata": {},
     "output_type": "execute_result"
    }
   ],
   "source": [
    "S4.doit()"
   ]
  },
  {
   "cell_type": "code",
   "execution_count": 33,
   "id": "21d277e8",
   "metadata": {},
   "outputs": [
    {
     "data": {
      "image/png": "[encoded data removed]",
      "text/latex": [
       "$\\displaystyle \\frac{\\pi^{2}}{6}$"
      ],
      "text/plain": [
       " 2\n",
       "π \n",
       "──\n",
       "6 "
      ]
     },
     "execution_count": 33,
     "metadata": {},
     "output_type": "execute_result"
    }
   ],
   "source": [
    "S4.subs(m, oo).doit()"
   ]
  },
  {
   "cell_type": "code",
   "execution_count": 34,
   "id": "b1800545",
   "metadata": {
    "slideshow": {
     "slide_type": "slide"
    }
   },
   "outputs": [
    {
     "data": {
      "image/png": "[encoded data removed]",
      "text/latex": [
       "$\\displaystyle \\frac{116599854539539449685672495250764 \\pi^{54}}{81807125729900063867074959072425603825198823017351806640625}$"
      ],
      "text/plain": [
       "                                              54           \n",
       "           116599854539539449685672495250764⋅π             \n",
       "───────────────────────────────────────────────────────────\n",
       "81807125729900063867074959072425603825198823017351806640625"
      ]
     },
     "execution_count": 34,
     "metadata": {},
     "output_type": "execute_result"
    }
   ],
   "source": [
    "Sum(1/n**54, (n, 1, oo)).doit()"
   ]
  },
  {
   "cell_type": "code",
   "execution_count": 35,
   "id": "208f9fad",
   "metadata": {},
   "outputs": [
    {
     "data": {
      "image/png": "[encoded data removed]",
      "text/latex": [
       "$\\displaystyle \\zeta\\left(3\\right)$"
      ],
      "text/plain": [
       "ζ(3)"
      ]
     },
     "execution_count": 35,
     "metadata": {},
     "output_type": "execute_result"
    }
   ],
   "source": [
    "Sum(1/n**3, (n, 1, oo)).doit()"
   ]
  },
  {
   "cell_type": "code",
   "execution_count": 36,
   "id": "fed38f75",
   "metadata": {},
   "outputs": [
    {
     "data": {
      "image/png": "[encoded data removed]",
      "text/latex": [
       "$\\displaystyle \\zeta\\left(i x + \\frac{1}{2}\\right)$"
      ],
      "text/plain": [
       "ζ(ⅈ⋅x + 1/2)"
      ]
     },
     "execution_count": 36,
     "metadata": {},
     "output_type": "execute_result"
    }
   ],
   "source": [
    "f = zeta(Rational(1,2) + I*x)\n",
    "f"
   ]
  },
  {
   "cell_type": "code",
   "execution_count": 37,
   "id": "51b96240",
   "metadata": {
    "scrolled": true
   },
   "outputs": [
    {
     "data": {
      "image/png": "[encoded data removed]",
      "text/plain": [
       "<Figure size 432x288 with 1 Axes>"
      ]
     },
     "metadata": {
      "needs_background": "light"
     },
     "output_type": "display_data"
    }
   ],
   "source": [
    "plot(abs(f), (x, -1, 26));"
   ]
  },
  {
   "cell_type": "code",
   "execution_count": 38,
   "id": "b5787617",
   "metadata": {
    "slideshow": {
     "slide_type": "slide"
    }
   },
   "outputs": [
    {
     "data": {
      "image/png": "[encoded data removed]",
      "text/latex": [
       "$\\displaystyle \\sum_{n=1}^{\\infty} n^{- \\frac{1}{2} - 15 i}$"
      ],
      "text/plain": [
       "  ∞               \n",
       " ___              \n",
       " ╲                \n",
       "  ╲    -1/2 - 15⋅ⅈ\n",
       "  ╱   n           \n",
       " ╱                \n",
       " ‾‾‾              \n",
       "n = 1             "
      ]
     },
     "execution_count": 38,
     "metadata": {},
     "output_type": "execute_result"
    }
   ],
   "source": [
    "s = Rational(1,2) + 15*I\n",
    "S5 = Sum(1/n**s, (n, 1, oo))\n",
    "S5"
   ]
  },
  {
   "cell_type": "code",
   "execution_count": 39,
   "id": "fe0a37d7",
   "metadata": {
    "scrolled": true,
    "slideshow": {
     "slide_type": "fragment"
    }
   },
   "outputs": [
    {
     "ename": "TypeError",
     "evalue": "Invalid comparison of non-real 1/2 + 15*I",
     "output_type": "error",
     "traceback": [
      "\u001b[1;31m---------------------------------------------------------------------------\u001b[0m",
      "\u001b[1;31mTypeError\u001b[0m                                 Traceback (most recent call last)",
      "Input \u001b[1;32mIn [39]\u001b[0m, in \u001b[0;36m<cell line: 1>\u001b[1;34m()\u001b[0m\n\u001b[1;32m----> 1\u001b[0m \u001b[43mS5\u001b[49m\u001b[38;5;241;43m.\u001b[39;49m\u001b[43mdoit\u001b[49m\u001b[43m(\u001b[49m\u001b[43m)\u001b[49m\n",
      "File \u001b[1;32m~\\anaconda3\\lib\\site-packages\\sympy\\concrete\\summations.py:234\u001b[0m, in \u001b[0;36mSum.doit\u001b[1;34m(self, **hints)\u001b[0m\n\u001b[0;32m    232\u001b[0m \u001b[38;5;28;01mif\u001b[39;00m reps:\n\u001b[0;32m    233\u001b[0m     undo \u001b[38;5;241m=\u001b[39m {v: k \u001b[38;5;28;01mfor\u001b[39;00m k, v \u001b[38;5;129;01min\u001b[39;00m reps\u001b[38;5;241m.\u001b[39mitems()}\n\u001b[1;32m--> 234\u001b[0m     did \u001b[38;5;241m=\u001b[39m \u001b[38;5;28mself\u001b[39m\u001b[38;5;241m.\u001b[39mxreplace(reps)\u001b[38;5;241m.\u001b[39mdoit(\u001b[38;5;241m*\u001b[39m\u001b[38;5;241m*\u001b[39mhints)\n\u001b[0;32m    235\u001b[0m     \u001b[38;5;28;01mif\u001b[39;00m \u001b[38;5;28misinstance\u001b[39m(did, \u001b[38;5;28mtuple\u001b[39m):  \u001b[38;5;66;03m# when separate=True\u001b[39;00m\n\u001b[0;32m    236\u001b[0m         did \u001b[38;5;241m=\u001b[39m \u001b[38;5;28mtuple\u001b[39m([i\u001b[38;5;241m.\u001b[39mxreplace(undo) \u001b[38;5;28;01mfor\u001b[39;00m i \u001b[38;5;129;01min\u001b[39;00m did])\n",
      "File \u001b[1;32m~\\anaconda3\\lib\\site-packages\\sympy\\concrete\\summations.py:263\u001b[0m, in \u001b[0;36mSum.doit\u001b[1;34m(self, **hints)\u001b[0m\n\u001b[0;32m    261\u001b[0m \u001b[38;5;28;01mif\u001b[39;00m newf \u001b[38;5;129;01mis\u001b[39;00m \u001b[38;5;28;01mNone\u001b[39;00m:\n\u001b[0;32m    262\u001b[0m     \u001b[38;5;28;01mif\u001b[39;00m f \u001b[38;5;241m==\u001b[39m \u001b[38;5;28mself\u001b[39m\u001b[38;5;241m.\u001b[39mfunction:\n\u001b[1;32m--> 263\u001b[0m         zeta_function \u001b[38;5;241m=\u001b[39m \u001b[38;5;28;43mself\u001b[39;49m\u001b[38;5;241;43m.\u001b[39;49m\u001b[43meval_zeta_function\u001b[49m\u001b[43m(\u001b[49m\u001b[43mf\u001b[49m\u001b[43m,\u001b[49m\u001b[43m \u001b[49m\u001b[43m(\u001b[49m\u001b[43mi\u001b[49m\u001b[43m,\u001b[49m\u001b[43m \u001b[49m\u001b[43ma\u001b[49m\u001b[43m,\u001b[49m\u001b[43m \u001b[49m\u001b[43mb\u001b[49m\u001b[43m)\u001b[49m\u001b[43m)\u001b[49m\n\u001b[0;32m    264\u001b[0m         \u001b[38;5;28;01mif\u001b[39;00m zeta_function \u001b[38;5;129;01mis\u001b[39;00m \u001b[38;5;129;01mnot\u001b[39;00m \u001b[38;5;28;01mNone\u001b[39;00m:\n\u001b[0;32m    265\u001b[0m             \u001b[38;5;28;01mreturn\u001b[39;00m zeta_function\n",
      "File \u001b[1;32m~\\anaconda3\\lib\\site-packages\\sympy\\concrete\\summations.py:293\u001b[0m, in \u001b[0;36mSum.eval_zeta_function\u001b[1;34m(self, f, limits)\u001b[0m\n\u001b[0;32m    291\u001b[0m s \u001b[38;5;241m=\u001b[39m result[z]\n\u001b[0;32m    292\u001b[0m q \u001b[38;5;241m=\u001b[39m result[y] \u001b[38;5;241m/\u001b[39m result[w] \u001b[38;5;241m+\u001b[39m a\n\u001b[1;32m--> 293\u001b[0m \u001b[38;5;28;01mreturn\u001b[39;00m Piecewise((coeff \u001b[38;5;241m*\u001b[39m zeta(s, q), And(q \u001b[38;5;241m>\u001b[39m \u001b[38;5;241m0\u001b[39m, \u001b[43ms\u001b[49m\u001b[43m \u001b[49m\u001b[38;5;241;43m>\u001b[39;49m\u001b[43m \u001b[49m\u001b[38;5;241;43m1\u001b[39;49m)), (\u001b[38;5;28mself\u001b[39m, \u001b[38;5;28;01mTrue\u001b[39;00m))\n",
      "File \u001b[1;32m~\\anaconda3\\lib\\site-packages\\sympy\\core\\decorators.py:236\u001b[0m, in \u001b[0;36m_SympifyWrapper.make_wrapped.<locals>._func\u001b[1;34m(self, other)\u001b[0m\n\u001b[0;32m    234\u001b[0m \u001b[38;5;28;01mif\u001b[39;00m \u001b[38;5;129;01mnot\u001b[39;00m \u001b[38;5;28misinstance\u001b[39m(other, expectedcls):\n\u001b[0;32m    235\u001b[0m     \u001b[38;5;28;01mreturn\u001b[39;00m retval\n\u001b[1;32m--> 236\u001b[0m \u001b[38;5;28;01mreturn\u001b[39;00m \u001b[43mfunc\u001b[49m\u001b[43m(\u001b[49m\u001b[38;5;28;43mself\u001b[39;49m\u001b[43m,\u001b[49m\u001b[43m \u001b[49m\u001b[43mother\u001b[49m\u001b[43m)\u001b[49m\n",
      "File \u001b[1;32m~\\anaconda3\\lib\\site-packages\\sympy\\core\\expr.py:365\u001b[0m, in \u001b[0;36mExpr.__gt__\u001b[1;34m(self, other)\u001b[0m\n\u001b[0;32m    362\u001b[0m \u001b[38;5;129m@sympify_return\u001b[39m([(\u001b[38;5;124m'\u001b[39m\u001b[38;5;124mother\u001b[39m\u001b[38;5;124m'\u001b[39m, \u001b[38;5;124m'\u001b[39m\u001b[38;5;124mExpr\u001b[39m\u001b[38;5;124m'\u001b[39m)], \u001b[38;5;28mNotImplemented\u001b[39m)\n\u001b[0;32m    363\u001b[0m \u001b[38;5;28;01mdef\u001b[39;00m \u001b[38;5;21m__gt__\u001b[39m(\u001b[38;5;28mself\u001b[39m, other):\n\u001b[0;32m    364\u001b[0m     \u001b[38;5;28;01mfrom\u001b[39;00m \u001b[38;5;21;01m.\u001b[39;00m\u001b[38;5;21;01mrelational\u001b[39;00m \u001b[38;5;28;01mimport\u001b[39;00m StrictGreaterThan\n\u001b[1;32m--> 365\u001b[0m     \u001b[38;5;28;01mreturn\u001b[39;00m \u001b[43mStrictGreaterThan\u001b[49m\u001b[43m(\u001b[49m\u001b[38;5;28;43mself\u001b[39;49m\u001b[43m,\u001b[49m\u001b[43m \u001b[49m\u001b[43mother\u001b[49m\u001b[43m)\u001b[49m\n",
      "File \u001b[1;32m~\\anaconda3\\lib\\site-packages\\sympy\\core\\relational.py:834\u001b[0m, in \u001b[0;36m_Inequality.__new__\u001b[1;34m(cls, lhs, rhs, **options)\u001b[0m\n\u001b[0;32m    832\u001b[0m \u001b[38;5;28;01mfor\u001b[39;00m me \u001b[38;5;129;01min\u001b[39;00m (lhs, rhs):\n\u001b[0;32m    833\u001b[0m     \u001b[38;5;28;01mif\u001b[39;00m me\u001b[38;5;241m.\u001b[39mis_extended_real \u001b[38;5;129;01mis\u001b[39;00m \u001b[38;5;28;01mFalse\u001b[39;00m:\n\u001b[1;32m--> 834\u001b[0m         \u001b[38;5;28;01mraise\u001b[39;00m \u001b[38;5;167;01mTypeError\u001b[39;00m(\u001b[38;5;124m\"\u001b[39m\u001b[38;5;124mInvalid comparison of non-real \u001b[39m\u001b[38;5;132;01m%s\u001b[39;00m\u001b[38;5;124m\"\u001b[39m \u001b[38;5;241m%\u001b[39m me)\n\u001b[0;32m    835\u001b[0m     \u001b[38;5;28;01mif\u001b[39;00m me \u001b[38;5;129;01mis\u001b[39;00m S\u001b[38;5;241m.\u001b[39mNaN:\n\u001b[0;32m    836\u001b[0m         \u001b[38;5;28;01mraise\u001b[39;00m \u001b[38;5;167;01mTypeError\u001b[39;00m(\u001b[38;5;124m\"\u001b[39m\u001b[38;5;124mInvalid NaN comparison\u001b[39m\u001b[38;5;124m\"\u001b[39m)\n",
      "\u001b[1;31mTypeError\u001b[0m: Invalid comparison of non-real 1/2 + 15*I"
     ]
    }
   ],
   "source": [
    "S5.doit()  # TypeError, die komplexe Reihe divergiert "
   ]
  },
  {
   "cell_type": "markdown",
   "id": "42bb62e3",
   "metadata": {
    "slideshow": {
     "slide_type": "slide"
    }
   },
   "source": [
    "# Zeichenketten\n",
    "\n",
    "Strings"
   ]
  },
  {
   "cell_type": "code",
   "execution_count": 40,
   "id": "cbb99a2c",
   "metadata": {},
   "outputs": [
    {
     "data": {
      "text/plain": [
       "True"
      ]
     },
     "execution_count": 40,
     "metadata": {},
     "output_type": "execute_result"
    }
   ],
   "source": [
    "\"Text\" == 'Text'"
   ]
  },
  {
   "cell_type": "code",
   "execution_count": 41,
   "id": "5ea9fefb",
   "metadata": {},
   "outputs": [
    {
     "data": {
      "text/plain": [
       "'Bruttopreis = 2.72€ plus 0.43520000000000003€ Mehrwertsteuer'"
      ]
     },
     "execution_count": 41,
     "metadata": {},
     "output_type": "execute_result"
    }
   ],
   "source": [
    "netto = 2.72\n",
    "f\"Bruttopreis = {netto}€ plus {netto*0.16}€ Mehrwertsteuer\""
   ]
  },
  {
   "cell_type": "code",
   "execution_count": 44,
   "id": "6ee78798",
   "metadata": {},
   "outputs": [
    {
     "data": {
      "text/plain": [
       "'Bruttopreis = 2.72€ plus 0.44€ Mehrwertsteuer'"
      ]
     },
     "execution_count": 44,
     "metadata": {},
     "output_type": "execute_result"
    }
   ],
   "source": [
    "f\"Bruttopreis = {netto}€ plus {netto*0.16:.2f}€ Mehrwertsteuer\""
   ]
  },
  {
   "cell_type": "markdown",
   "id": "25159cda",
   "metadata": {},
   "source": [
    "     .2f     (2 Nachkommastellen)\n",
    "    8.2f     (2 Nachkommastellen, insgesamt 8 Zeichen inkl. eventueller Leerzeichen)"
   ]
  },
  {
   "cell_type": "markdown",
   "id": "58f091ec",
   "metadata": {
    "slideshow": {
     "slide_type": "slide"
    }
   },
   "source": [
    "# Polarkoordinaten"
   ]
  },
  {
   "cell_type": "code",
   "execution_count": 45,
   "id": "ccf88b80",
   "metadata": {},
   "outputs": [
    {
     "data": {
      "image/png": "[encoded data removed]",
      "text/latex": [
       "$\\displaystyle \\left( r \\cos{\\left(\\phi \\right)}, \\  r \\sin{\\left(\\phi \\right)}\\right)$"
      ],
      "text/plain": [
       "(r⋅cos(φ), r⋅sin(φ))"
      ]
     },
     "execution_count": 45,
     "metadata": {},
     "output_type": "execute_result"
    }
   ],
   "source": [
    "r = Symbol('r', positive=True)\n",
    "phi = Symbol('phi', real=True)\n",
    "x = r*cos(phi)\n",
    "y = r*sin(phi)\n",
    "x, y"
   ]
  },
  {
   "cell_type": "code",
   "execution_count": 46,
   "id": "9b4734ca",
   "metadata": {},
   "outputs": [
    {
     "data": {
      "text/plain": [
       "True"
      ]
     },
     "execution_count": 46,
     "metadata": {},
     "output_type": "execute_result"
    }
   ],
   "source": [
    "r == simplify(sqrt(x**2+y**2))"
   ]
  },
  {
   "cell_type": "code",
   "execution_count": 47,
   "id": "a2f2172d",
   "metadata": {},
   "outputs": [
    {
     "data": {
      "text/plain": [
       "False"
      ]
     },
     "execution_count": 47,
     "metadata": {},
     "output_type": "execute_result"
    }
   ],
   "source": [
    "phi == atan(y/x)"
   ]
  },
  {
   "cell_type": "code",
   "execution_count": 48,
   "id": "4cc90f4f",
   "metadata": {
    "slideshow": {
     "slide_type": "slide"
    }
   },
   "outputs": [
    {
     "data": {
      "image/png": "[encoded data removed]",
      "text/latex": [
       "$\\displaystyle \\left( \\frac{1}{2}, \\  \\frac{\\sqrt{3}}{2}\\right)$"
      ],
      "text/plain": [
       "⎛     √3⎞\n",
       "⎜1/2, ──⎟\n",
       "⎝     2 ⎠"
      ]
     },
     "execution_count": 48,
     "metadata": {},
     "output_type": "execute_result"
    }
   ],
   "source": [
    "ers1 = {r:1, phi: pi/3}\n",
    "x1 = x.subs(ers1)\n",
    "y1 = y.subs(ers1)\n",
    "x1, y1"
   ]
  },
  {
   "cell_type": "code",
   "execution_count": 49,
   "id": "034d2c7e",
   "metadata": {},
   "outputs": [
    {
     "data": {
      "image/png": "[encoded data removed]",
      "text/latex": [
       "$\\displaystyle \\frac{\\pi}{3}$"
      ],
      "text/plain": [
       "π\n",
       "─\n",
       "3"
      ]
     },
     "execution_count": 49,
     "metadata": {},
     "output_type": "execute_result"
    }
   ],
   "source": [
    "atan(y1/x1)"
   ]
  },
  {
   "cell_type": "code",
   "execution_count": 50,
   "id": "75456c47",
   "metadata": {},
   "outputs": [
    {
     "data": {
      "image/png": "[encoded data removed]",
      "text/latex": [
       "$\\displaystyle \\left( - \\frac{1}{2}, \\  - \\frac{\\sqrt{3}}{2}\\right)$"
      ],
      "text/plain": [
       "⎛      -√3 ⎞\n",
       "⎜-1/2, ────⎟\n",
       "⎝       2  ⎠"
      ]
     },
     "execution_count": 50,
     "metadata": {},
     "output_type": "execute_result"
    }
   ],
   "source": [
    "ers2 = {r:1, phi: 4*pi/3}\n",
    "x2 = x.subs(ers2)\n",
    "y2 = y.subs(ers2)\n",
    "x2, y2"
   ]
  },
  {
   "cell_type": "code",
   "execution_count": 51,
   "id": "06ab23ef",
   "metadata": {},
   "outputs": [
    {
     "data": {
      "image/png": "[encoded data removed]",
      "text/latex": [
       "$\\displaystyle \\frac{\\pi}{3}$"
      ],
      "text/plain": [
       "π\n",
       "─\n",
       "3"
      ]
     },
     "execution_count": 51,
     "metadata": {},
     "output_type": "execute_result"
    }
   ],
   "source": [
    "atan(y2/x2)"
   ]
  },
  {
   "cell_type": "code",
   "execution_count": 52,
   "id": "41a6d5a4",
   "metadata": {
    "slideshow": {
     "slide_type": "slide"
    }
   },
   "outputs": [
    {
     "data": {
      "image/png": "[encoded data removed]",
      "text/latex": [
       "$\\displaystyle \\frac{\\pi}{3}$"
      ],
      "text/plain": [
       "π\n",
       "─\n",
       "3"
      ]
     },
     "execution_count": 52,
     "metadata": {},
     "output_type": "execute_result"
    }
   ],
   "source": [
    "atan2(y1, x1)"
   ]
  },
  {
   "cell_type": "code",
   "execution_count": 53,
   "id": "95dd7920",
   "metadata": {},
   "outputs": [
    {
     "data": {
      "image/png": "[encoded data removed]",
      "text/latex": [
       "$\\displaystyle - \\frac{2 \\pi}{3}$"
      ],
      "text/plain": [
       "-2⋅π \n",
       "─────\n",
       "  3  "
      ]
     },
     "execution_count": 53,
     "metadata": {},
     "output_type": "execute_result"
    }
   ],
   "source": [
    "atan2(y2, x2)"
   ]
  },
  {
   "cell_type": "markdown",
   "id": "8408a851",
   "metadata": {
    "slideshow": {
     "slide_type": "slide"
    }
   },
   "source": [
    "# Potenzfunktionen"
   ]
  },
  {
   "cell_type": "code",
   "execution_count": 54,
   "id": "752652c7",
   "metadata": {
    "slideshow": {
     "slide_type": "slide"
    }
   },
   "outputs": [
    {
     "data": {
      "image/png": "[encoded data removed]",
      "text/latex": [
       "$\\displaystyle \\int\\limits_{-8}^{8} x^{\\frac{2}{3}}\\, dx$"
      ],
      "text/plain": [
       "8         \n",
       "⌠         \n",
       "⎮   2/3   \n",
       "⎮  x    dx\n",
       "⌡         \n",
       "-8        "
      ]
     },
     "execution_count": 54,
     "metadata": {},
     "output_type": "execute_result"
    }
   ],
   "source": [
    "x, y = symbols('x y')\n",
    "I1 = Integral(x**Rational(2,3), (x,-8,8))\n",
    "I1"
   ]
  },
  {
   "cell_type": "code",
   "execution_count": 55,
   "id": "f496ad81",
   "metadata": {},
   "outputs": [
    {
     "data": {
      "image/png": "[encoded data removed]",
      "text/latex": [
       "$\\displaystyle \\frac{96}{5} + \\frac{96 \\left(-1\\right)^{\\frac{2}{3}}}{5}$"
      ],
      "text/plain": [
       "            2/3\n",
       "96   96⋅(-1)   \n",
       "── + ──────────\n",
       "5        5     "
      ]
     },
     "execution_count": 55,
     "metadata": {},
     "output_type": "execute_result"
    }
   ],
   "source": [
    "I1.doit()"
   ]
  },
  {
   "cell_type": "markdown",
   "id": "4712b00e",
   "metadata": {
    "slideshow": {
     "slide_type": "fragment"
    }
   },
   "source": [
    "Das Problem geschickt zurückgespielt &#x1F609;\n",
    "\n",
    "Was ist $(-8)^\\frac23$ ?"
   ]
  },
  {
   "cell_type": "code",
   "execution_count": 56,
   "id": "0e3f919f",
   "metadata": {
    "slideshow": {
     "slide_type": "slide"
    }
   },
   "outputs": [
    {
     "data": {
      "image/png": "[encoded data removed]",
      "text/latex": [
       "$\\displaystyle 4 \\left(-1\\right)^{\\frac{2}{3}}$"
      ],
      "text/plain": [
       "      2/3\n",
       "4⋅(-1)   "
      ]
     },
     "execution_count": 56,
     "metadata": {},
     "output_type": "execute_result"
    }
   ],
   "source": [
    "(-8)**Rational(2,3)"
   ]
  },
  {
   "cell_type": "code",
   "execution_count": 57,
   "id": "8ab41d39",
   "metadata": {},
   "outputs": [
    {
     "data": {
      "image/png": "[encoded data removed]",
      "text/latex": [
       "$\\displaystyle -2 + 2 \\sqrt{3} i$"
      ],
      "text/plain": [
       "-2 + 2⋅√3⋅ⅈ"
      ]
     },
     "execution_count": 57,
     "metadata": {},
     "output_type": "execute_result"
    }
   ],
   "source": [
    "((-8)**Rational(2,3)).expand(complex=True)"
   ]
  },
  {
   "cell_type": "code",
   "execution_count": 58,
   "id": "15ce9a45",
   "metadata": {},
   "outputs": [
    {
     "data": {
      "image/png": "[encoded data removed]",
      "text/latex": [
       "$\\displaystyle -2 + 2 \\sqrt{3} i$"
      ],
      "text/plain": [
       "-2 + 2⋅√3⋅ⅈ"
      ]
     },
     "execution_count": 58,
     "metadata": {},
     "output_type": "execute_result"
    }
   ],
   "source": [
    "(((-8)**Rational(1,3))**2).expand(complex=True)"
   ]
  },
  {
   "cell_type": "code",
   "execution_count": 59,
   "id": "d6b17e97",
   "metadata": {},
   "outputs": [
    {
     "data": {
      "image/png": "[encoded data removed]",
      "text/latex": [
       "$\\displaystyle 4$"
      ],
      "text/plain": [
       "4"
      ]
     },
     "execution_count": 59,
     "metadata": {},
     "output_type": "execute_result"
    }
   ],
   "source": [
    "((-8)**2)**Rational(1,3)"
   ]
  },
  {
   "cell_type": "code",
   "execution_count": 61,
   "id": "a84f5dc7",
   "metadata": {
    "slideshow": {
     "slide_type": "slide"
    }
   },
   "outputs": [
    {
     "data": {
      "image/png": "[encoded data removed]",
      "text/latex": [
       "$\\displaystyle \\left\\{4, -2 - 2 \\sqrt{3} i, -2 + 2 \\sqrt{3} i\\right\\}$"
      ],
      "text/plain": [
       "{4, -2 - 2⋅√3⋅ⅈ, -2 + 2⋅√3⋅ⅈ}"
      ]
     },
     "execution_count": 61,
     "metadata": {},
     "output_type": "execute_result"
    }
   ],
   "source": [
    "glg = Eq(x**3, (-8)**2)\n",
    "solveset(glg, x)"
   ]
  },
  {
   "cell_type": "code",
   "execution_count": 62,
   "id": "84e9e69b",
   "metadata": {},
   "outputs": [
    {
     "data": {
      "image/png": "[encoded data removed]",
      "text/latex": [
       "$\\displaystyle 4 e^{\\frac{2 i \\pi}{3}}$"
      ],
      "text/plain": [
       "   2⋅ⅈ⋅π\n",
       "   ─────\n",
       "     3  \n",
       "4⋅ℯ     "
      ]
     },
     "execution_count": 62,
     "metadata": {},
     "output_type": "execute_result"
    }
   ],
   "source": [
    "p = exp(log(-8)*Rational(2,3))\n",
    "p"
   ]
  },
  {
   "cell_type": "code",
   "execution_count": 63,
   "id": "0c0fb04d",
   "metadata": {},
   "outputs": [
    {
     "data": {
      "image/png": "[encoded data removed]",
      "text/latex": [
       "$\\displaystyle -2 + 2 \\sqrt{3} i$"
      ],
      "text/plain": [
       "-2 + 2⋅√3⋅ⅈ"
      ]
     },
     "execution_count": 63,
     "metadata": {},
     "output_type": "execute_result"
    }
   ],
   "source": [
    "expand(p, complex=True)"
   ]
  },
  {
   "cell_type": "code",
   "execution_count": 64,
   "id": "fc6d4a67",
   "metadata": {
    "slideshow": {
     "slide_type": "slide"
    }
   },
   "outputs": [],
   "source": [
    "s = Symbol('s')"
   ]
  },
  {
   "cell_type": "code",
   "execution_count": 65,
   "id": "7345cf31",
   "metadata": {},
   "outputs": [
    {
     "data": {
      "image/png": "[encoded data removed]",
      "text/latex": [
       "$\\displaystyle \\left(i s - 8\\right)^{\\frac{2}{3}}$"
      ],
      "text/plain": [
       "         2/3\n",
       "(ⅈ⋅s - 8)   "
      ]
     },
     "execution_count": 65,
     "metadata": {},
     "output_type": "execute_result"
    }
   ],
   "source": [
    "q = exp(log(-8+I*s)*Rational(2,3))\n",
    "q"
   ]
  },
  {
   "cell_type": "code",
   "execution_count": 66,
   "id": "331f3703",
   "metadata": {
    "slideshow": {
     "slide_type": "slide"
    }
   },
   "outputs": [
    {
     "data": {
      "image/png": "[encoded data removed]",
      "text/latex": [
       "$\\displaystyle 4 \\left(-1\\right)^{\\frac{2}{3}}$"
      ],
      "text/plain": [
       "      2/3\n",
       "4⋅(-1)   "
      ]
     },
     "execution_count": 66,
     "metadata": {},
     "output_type": "execute_result"
    }
   ],
   "source": [
    "q.limit(s, 0, dir='+')"
   ]
  },
  {
   "cell_type": "code",
   "execution_count": 67,
   "id": "e731aad1",
   "metadata": {},
   "outputs": [
    {
     "data": {
      "image/png": "[encoded data removed]",
      "text/latex": [
       "$\\displaystyle -2 + 2 \\sqrt{3} i$"
      ],
      "text/plain": [
       "-2 + 2⋅√3⋅ⅈ"
      ]
     },
     "execution_count": 67,
     "metadata": {},
     "output_type": "execute_result"
    }
   ],
   "source": [
    "q.limit(s, 0, dir='+').expand(complex=True)"
   ]
  },
  {
   "cell_type": "code",
   "execution_count": 68,
   "id": "95391639",
   "metadata": {},
   "outputs": [
    {
     "data": {
      "image/png": "[encoded data removed]",
      "text/latex": [
       "$\\displaystyle - 4 \\sqrt[3]{-1}$"
      ],
      "text/plain": [
       "   3 ____\n",
       "-4⋅╲╱ -1 "
      ]
     },
     "execution_count": 68,
     "metadata": {},
     "output_type": "execute_result"
    }
   ],
   "source": [
    "q.limit(s, 0, dir='-')"
   ]
  },
  {
   "cell_type": "code",
   "execution_count": 69,
   "id": "9d19975d",
   "metadata": {},
   "outputs": [
    {
     "data": {
      "image/png": "[encoded data removed]",
      "text/latex": [
       "$\\displaystyle -2 - 2 \\sqrt{3} i$"
      ],
      "text/plain": [
       "-2 - 2⋅√3⋅ⅈ"
      ]
     },
     "execution_count": 69,
     "metadata": {},
     "output_type": "execute_result"
    }
   ],
   "source": [
    "q.limit(s, 0, dir='-').expand(complex=True)"
   ]
  },
  {
   "cell_type": "markdown",
   "id": "dead4e49",
   "metadata": {
    "slideshow": {
     "slide_type": "slide"
    }
   },
   "source": [
    "Die Funktion $e^{\\frac23i\\phi}$ ist halt nicht $2\\pi$-periodisch"
   ]
  },
  {
   "cell_type": "code",
   "execution_count": 70,
   "id": "359607f5",
   "metadata": {},
   "outputs": [
    {
     "data": {
      "image/png": "[encoded data removed]",
      "text/plain": [
       "<Figure size 432x288 with 1 Axes>"
      ]
     },
     "metadata": {
      "needs_background": "light"
     },
     "output_type": "display_data"
    }
   ],
   "source": [
    "phi = S('phi')\n",
    "h = exp(2*I*phi/3)\n",
    "plot(re(h), im(h), (phi, -pi, pi));"
   ]
  }
 ],
 "metadata": {
  "celltoolbar": "Slideshow",
  "kernelspec": {
   "display_name": "Python 3 (ipykernel)",
   "language": "python",
   "name": "python3"
  },
  "language_info": {
   "codemirror_mode": {
    "name": "ipython",
    "version": 3
   },
   "file_extension": ".py",
   "mimetype": "text/x-python",
   "name": "python",
   "nbconvert_exporter": "python",
   "pygments_lexer": "ipython3",
   "version": "3.9.12"
  }
 },
 "nbformat": 4,
 "nbformat_minor": 5
}
