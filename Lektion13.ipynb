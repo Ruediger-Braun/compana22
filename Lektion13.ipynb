{
 "cells": [
  {
   "cell_type": "code",
   "execution_count": null,
   "id": "ecdae676",
   "metadata": {},
   "outputs": [],
   "source": [
    "from sympy import *\n",
    "import numpy as np\n",
    "from matplotlib import pyplot as plt\n",
    "init_printing()"
   ]
  },
  {
   "cell_type": "code",
   "execution_count": null,
   "id": "4903b5e1",
   "metadata": {},
   "outputs": [],
   "source": [
    "# Differentialgleichungen höherer Ordnung"
   ]
  },
  {
   "cell_type": "code",
   "execution_count": null,
   "id": "b62ead35",
   "metadata": {},
   "outputs": [],
   "source": [
    "x = Symbol('x')\n",
    "y = Function('y')"
   ]
  },
  {
   "cell_type": "code",
   "execution_count": null,
   "id": "ed88dd36",
   "metadata": {},
   "outputs": [],
   "source": [
    "dgl = Eq(y(x).diff(x,2), -y(x).diff(x) - y(x))\n",
    "dgl"
   ]
  },
  {
   "cell_type": "code",
   "execution_count": null,
   "id": "16604679",
   "metadata": {},
   "outputs": [],
   "source": [
    "lsg = dsolve(dgl)\n",
    "lsg"
   ]
  },
  {
   "cell_type": "code",
   "execution_count": null,
   "id": "ebec186d",
   "metadata": {},
   "outputs": [],
   "source": [
    "mu = S('mu')\n",
    "char_poly = dgl.subs(y(x), exp(mu*x)).doit()\n",
    "char_poly"
   ]
  },
  {
   "cell_type": "code",
   "execution_count": null,
   "id": "a393752a",
   "metadata": {},
   "outputs": [],
   "source": [
    "solve(char_poly)"
   ]
  },
  {
   "cell_type": "markdown",
   "id": "b5300ae0",
   "metadata": {},
   "source": [
    "Anfangsbedingungen $y(1)=2$, $y'(1)=3$"
   ]
  },
  {
   "cell_type": "code",
   "execution_count": null,
   "id": "511a164a",
   "metadata": {},
   "outputs": [],
   "source": [
    "lsg = dsolve(dgl, ics={y(1): 2, y(x).diff(x).subs(x, 1): 3})\n",
    "lsg"
   ]
  },
  {
   "cell_type": "code",
   "execution_count": null,
   "id": "8b204b91",
   "metadata": {},
   "outputs": [],
   "source": [
    "phi = lsg.rhs\n",
    "plot(phi);"
   ]
  },
  {
   "cell_type": "markdown",
   "id": "c73be98a",
   "metadata": {},
   "source": [
    "# Besselfunktionen"
   ]
  },
  {
   "cell_type": "code",
   "execution_count": null,
   "id": "a8d9b6bc",
   "metadata": {},
   "outputs": [],
   "source": [
    "nu = S('nu')"
   ]
  },
  {
   "cell_type": "code",
   "execution_count": null,
   "id": "40feb58f",
   "metadata": {},
   "outputs": [],
   "source": [
    "dgl = Eq(y(x).diff(x,2) + y(x).diff(x)/x + (1 - nu**2/x**2)*y(x), 0)\n",
    "dgl"
   ]
  },
  {
   "cell_type": "code",
   "execution_count": null,
   "id": "12179bd9",
   "metadata": {},
   "outputs": [],
   "source": [
    "lsg = dsolve(dgl)\n",
    "lsg"
   ]
  },
  {
   "cell_type": "code",
   "execution_count": null,
   "id": "e2810ed3",
   "metadata": {},
   "outputs": [],
   "source": [
    "phi = lsg.rhs\n",
    "print(phi)"
   ]
  },
  {
   "cell_type": "markdown",
   "id": "2238cced",
   "metadata": {},
   "source": [
    "$J_\\nu$: Besselfunktion erster Art der Ordnung $\\nu$\n",
    "\n",
    "$Y_\\nu$: Besselfunktion zweiter Art der Ordnung $\\nu$, Webersche Funktion"
   ]
  },
  {
   "cell_type": "code",
   "execution_count": null,
   "id": "caef84a5",
   "metadata": {},
   "outputs": [],
   "source": [
    "nu_n = 2\n",
    "plot(besselj(nu_n, x), bessely(nu_n, x), (x, 0, 60), ylim=(-3,1));"
   ]
  },
  {
   "cell_type": "markdown",
   "id": "7f3cb738",
   "metadata": {},
   "source": [
    "Wronskische"
   ]
  },
  {
   "cell_type": "code",
   "execution_count": null,
   "id": "c6b74b43",
   "metadata": {},
   "outputs": [],
   "source": [
    "M = Matrix(2,2,[besselj(nu, x), bessely(nu,x), besselj(nu,x).diff(x), bessely(nu,x).diff(x)])\n",
    "M"
   ]
  },
  {
   "cell_type": "code",
   "execution_count": null,
   "id": "90988d1b",
   "metadata": {},
   "outputs": [],
   "source": [
    "M.det()"
   ]
  },
  {
   "cell_type": "code",
   "execution_count": null,
   "id": "5ebdc443",
   "metadata": {},
   "outputs": [],
   "source": [
    "W = M.det().simplify()\n",
    "W"
   ]
  },
  {
   "cell_type": "code",
   "execution_count": null,
   "id": "15d2eca8",
   "metadata": {},
   "outputs": [],
   "source": [
    "plot(W.subs(nu, 3), (x, .2, 10));"
   ]
  },
  {
   "cell_type": "markdown",
   "id": "c53d3eca",
   "metadata": {},
   "source": [
    "Welche Funktion das ist, sehen wir mit der Reihenentwicklung"
   ]
  },
  {
   "cell_type": "markdown",
   "id": "bb0e0277",
   "metadata": {},
   "source": [
    "Allerdings müssen wir diese Entwicklung selber implementieren, weil es sich nicht um eine Taylorreihe handelt"
   ]
  },
  {
   "cell_type": "markdown",
   "id": "75467cc3",
   "metadata": {},
   "source": [
    "https://dlmf.nist.gov/10.2#E2"
   ]
  },
  {
   "cell_type": "markdown",
   "id": "4360f212",
   "metadata": {},
   "source": [
    "# Pattern matching"
   ]
  },
  {
   "cell_type": "code",
   "execution_count": null,
   "id": "d831aaf1",
   "metadata": {},
   "outputs": [],
   "source": [
    "ordnung = 4"
   ]
  },
  {
   "cell_type": "code",
   "execution_count": null,
   "id": "851a013b",
   "metadata": {},
   "outputs": [],
   "source": [
    "def Bj_ser(nu, x):\n",
    "    k = S('k')\n",
    "    a = (-1)**k * (x/2)**(2*k) / factorial(k) / gamma(nu+1+k)\n",
    "    res = 0\n",
    "    for kk in range(ordnung):\n",
    "        res += a.subs(k, kk)\n",
    "    return res * (x/2)**nu"
   ]
  },
  {
   "cell_type": "code",
   "execution_count": null,
   "id": "467fcb45",
   "metadata": {},
   "outputs": [],
   "source": [
    "Bj_ser(nu, x)"
   ]
  },
  {
   "cell_type": "code",
   "execution_count": null,
   "id": "e9c58a0d",
   "metadata": {},
   "outputs": [],
   "source": [
    "Bj_ser(-5.5, 2)"
   ]
  },
  {
   "cell_type": "code",
   "execution_count": null,
   "id": "1d0056c1",
   "metadata": {},
   "outputs": [],
   "source": [
    "besselj(-5.5, 2).n()"
   ]
  },
  {
   "cell_type": "code",
   "execution_count": null,
   "id": "a961e19e",
   "metadata": {},
   "outputs": [],
   "source": [
    "mu = Wild('mu')\n",
    "z = Wild('z')"
   ]
  },
  {
   "cell_type": "code",
   "execution_count": null,
   "id": "25b03380",
   "metadata": {},
   "outputs": [],
   "source": [
    "connection_formula =  {bessely(mu,z): (besselj(mu,z)*cos(mu*pi)-besselj(-mu,x))/sin(mu*pi)}\n",
    "connection_formula"
   ]
  },
  {
   "cell_type": "code",
   "execution_count": null,
   "id": "a90edb9f",
   "metadata": {},
   "outputs": [],
   "source": [
    "W"
   ]
  },
  {
   "cell_type": "code",
   "execution_count": null,
   "id": "e528c0b7",
   "metadata": {},
   "outputs": [],
   "source": [
    "W1 = W.replace(bessely(mu,z), connection_formula[bessely(mu,z)])\n",
    "W1"
   ]
  },
  {
   "cell_type": "code",
   "execution_count": null,
   "id": "cb73dbe1",
   "metadata": {},
   "outputs": [],
   "source": [
    "W2 = W1.replace(besselj, Bj_ser)\n",
    "W2"
   ]
  },
  {
   "cell_type": "code",
   "execution_count": null,
   "id": "3a74965b",
   "metadata": {},
   "outputs": [],
   "source": [
    "W3 = W2.expand(trig=True) + O(x**ordnung)\n",
    "W3"
   ]
  },
  {
   "cell_type": "code",
   "execution_count": null,
   "id": "3c36cba2",
   "metadata": {},
   "outputs": [],
   "source": [
    "simplify(W3.removeO())"
   ]
  },
  {
   "cell_type": "markdown",
   "id": "e3897556",
   "metadata": {},
   "source": [
    "Im richtigen Leben müsste man z.B. mit ordnung=8 und ordnung=20 wiederholen"
   ]
  },
  {
   "cell_type": "markdown",
   "id": "a388e7e5",
   "metadata": {},
   "source": [
    "# Gekoppelte Pendel"
   ]
  },
  {
   "cell_type": "code",
   "execution_count": null,
   "id": "03b6b411",
   "metadata": {},
   "outputs": [],
   "source": [
    "y = Function('y')\n",
    "w = Function('w')\n",
    "t = Symbol('t', positive=True)"
   ]
  },
  {
   "cell_type": "code",
   "execution_count": null,
   "id": "52c55578",
   "metadata": {},
   "outputs": [],
   "source": [
    "a = Rational(1,7)\n",
    "b = Rational(1,6)"
   ]
  },
  {
   "cell_type": "code",
   "execution_count": null,
   "id": "868e600c",
   "metadata": {},
   "outputs": [],
   "source": [
    "dgl1 = Eq(y(t).diff(t,2), a*w(t) - (1+a)*y(t))\n",
    "dgl2 = Eq(w(t).diff(t,2), b*y(t) - (1+b)*w(t))\n",
    "dgs = {dgl1, dgl2}\n",
    "dgs"
   ]
  },
  {
   "cell_type": "code",
   "execution_count": null,
   "id": "81490372",
   "metadata": {},
   "outputs": [],
   "source": [
    "lsg = dsolve(dgs)\n",
    "lsg"
   ]
  },
  {
   "cell_type": "code",
   "execution_count": null,
   "id": "6c34df61",
   "metadata": {},
   "outputs": [],
   "source": [
    "phi_c = lsg[0].rhs\n",
    "psi_c = lsg[1].rhs"
   ]
  },
  {
   "cell_type": "markdown",
   "id": "2f5b9c16",
   "metadata": {},
   "source": [
    "Bestimme reelles Fundamentalsystem"
   ]
  },
  {
   "cell_type": "code",
   "execution_count": null,
   "id": "799d9867",
   "metadata": {},
   "outputs": [],
   "source": [
    "C = symbols('C1, C2, C3, C4')\n",
    "ersetzungen = []\n",
    "for j in range(4):\n",
    "    ers = {C[j]: 1}\n",
    "    for i in range(4):\n",
    "        if j != i:\n",
    "            ers[C[i]] = 0\n",
    "    ersetzungen.append(ers)"
   ]
  },
  {
   "cell_type": "code",
   "execution_count": null,
   "id": "25241606",
   "metadata": {},
   "outputs": [],
   "source": [
    "ersetzungen"
   ]
  },
  {
   "cell_type": "code",
   "execution_count": null,
   "id": "bf2d27fd",
   "metadata": {},
   "outputs": [],
   "source": [
    "fus = []\n",
    "for s in ersetzungen:\n",
    "    fus.append([phi_c.subs(s), \n",
    "                psi_c.subs(s)])"
   ]
  },
  {
   "cell_type": "code",
   "execution_count": null,
   "id": "9d55f0b7",
   "metadata": {},
   "outputs": [],
   "source": [
    "fus"
   ]
  },
  {
   "cell_type": "code",
   "execution_count": null,
   "id": "758608ef",
   "metadata": {},
   "outputs": [],
   "source": [
    "f = fus[0][0] + fus[2][0]\n",
    "g = fus[0][1] + fus[2][1]\n",
    "f, g"
   ]
  },
  {
   "cell_type": "code",
   "execution_count": null,
   "id": "931c3ef5",
   "metadata": {},
   "outputs": [],
   "source": [
    "plot(f,g+3, (t,-100,100));"
   ]
  },
  {
   "cell_type": "code",
   "execution_count": null,
   "id": "3b723f2e",
   "metadata": {},
   "outputs": [],
   "source": []
  }
 ],
 "metadata": {
  "kernelspec": {
   "display_name": "Python 3 (ipykernel)",
   "language": "python",
   "name": "python3"
  },
  "language_info": {
   "codemirror_mode": {
    "name": "ipython",
    "version": 3
   },
   "file_extension": ".py",
   "mimetype": "text/x-python",
   "name": "python",
   "nbconvert_exporter": "python",
   "pygments_lexer": "ipython3",
   "version": "3.9.13"
  }
 },
 "nbformat": 4,
 "nbformat_minor": 5
}
