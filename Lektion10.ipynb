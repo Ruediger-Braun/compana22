{
 "cells": [
  {
   "cell_type": "code",
   "execution_count": null,
   "id": "90e10dda",
   "metadata": {},
   "outputs": [],
   "source": [
    "from sympy import *\n",
    "init_printing()"
   ]
  },
  {
   "cell_type": "markdown",
   "id": "9c41dbfa",
   "metadata": {},
   "source": [
    "# Lineare Gleichungssysteme"
   ]
  },
  {
   "cell_type": "code",
   "execution_count": null,
   "id": "40f68ac5",
   "metadata": {},
   "outputs": [],
   "source": [
    "A = Matrix(3,3,range(1,10))\n",
    "A"
   ]
  },
  {
   "cell_type": "code",
   "execution_count": null,
   "id": "0093adb1",
   "metadata": {},
   "outputs": [],
   "source": [
    "b = Matrix([6,15,24])\n",
    "b"
   ]
  },
  {
   "cell_type": "code",
   "execution_count": null,
   "id": "77c4862b",
   "metadata": {},
   "outputs": [],
   "source": [
    "x_var = symbols('x1:4')\n",
    "x = Matrix(x_var)\n",
    "x"
   ]
  },
  {
   "cell_type": "code",
   "execution_count": null,
   "id": "0a30484a",
   "metadata": {},
   "outputs": [],
   "source": [
    "glg = Eq(A*x, b)\n",
    "glg"
   ]
  },
  {
   "cell_type": "code",
   "execution_count": null,
   "id": "311e3533",
   "metadata": {},
   "outputs": [],
   "source": [
    "lsg = solve(glg)\n",
    "lsg"
   ]
  },
  {
   "cell_type": "code",
   "execution_count": null,
   "id": "8f337de7",
   "metadata": {},
   "outputs": [],
   "source": [
    "lsg = solve(glg, {x[1],x[2]})\n",
    "lsg"
   ]
  },
  {
   "cell_type": "markdown",
   "id": "88b2cffb",
   "metadata": {},
   "source": [
    "Also\n",
    "$$\n",
    "    \\{ x \\in \\mathbb R^3 \\mid Ax = b \\}\n",
    "    = \\left\\{ \\begin{pmatrix} x_1 \\\\ 3 - 2x_1 \\\\ x_3 \\end{pmatrix} {\\LARGE\\mid} x_1 \\in \\mathbb R \\right\\}\n",
    "$$"
   ]
  },
  {
   "cell_type": "code",
   "execution_count": null,
   "id": "6c2986a5",
   "metadata": {},
   "outputs": [],
   "source": [
    "A.det()"
   ]
  },
  {
   "cell_type": "markdown",
   "id": "6878cbed",
   "metadata": {},
   "source": [
    "Probe:"
   ]
  },
  {
   "cell_type": "code",
   "execution_count": null,
   "id": "2b5c9100",
   "metadata": {},
   "outputs": [],
   "source": [
    "v  = x.subs(lsg)\n",
    "v"
   ]
  },
  {
   "cell_type": "code",
   "execution_count": null,
   "id": "71d89ae8",
   "metadata": {},
   "outputs": [],
   "source": [
    "A * v - b"
   ]
  },
  {
   "cell_type": "markdown",
   "id": "7a3f2d8d",
   "metadata": {},
   "source": [
    "Konkrete Lösung"
   ]
  },
  {
   "cell_type": "code",
   "execution_count": null,
   "id": "29eac93a",
   "metadata": {},
   "outputs": [],
   "source": [
    "v.subs(x[0], 0)"
   ]
  },
  {
   "cell_type": "markdown",
   "id": "afedb2ab",
   "metadata": {},
   "source": [
    "Gleichung ohne Lösung"
   ]
  },
  {
   "cell_type": "code",
   "execution_count": null,
   "id": "755d62b9",
   "metadata": {},
   "outputs": [],
   "source": [
    "b = Matrix([0,2,3])\n",
    "glg = Eq(A*x, b)\n",
    "solve(glg)"
   ]
  },
  {
   "cell_type": "markdown",
   "id": "46dca7d4",
   "metadata": {},
   "source": [
    "Kern von $A$"
   ]
  },
  {
   "cell_type": "code",
   "execution_count": null,
   "id": "0a0814a4",
   "metadata": {},
   "outputs": [],
   "source": [
    "glg = Eq(A*x, 0)\n",
    "glg"
   ]
  },
  {
   "cell_type": "code",
   "execution_count": null,
   "id": "8c614725",
   "metadata": {},
   "outputs": [],
   "source": [
    "glg = Eq(A*x, 0, evaluate=False)\n",
    "glg"
   ]
  },
  {
   "cell_type": "code",
   "execution_count": null,
   "id": "cd6d0c17",
   "metadata": {},
   "outputs": [],
   "source": [
    "#solve(glg)  # TypeError"
   ]
  },
  {
   "cell_type": "code",
   "execution_count": null,
   "id": "80ee3d2a",
   "metadata": {},
   "outputs": [],
   "source": [
    "null = Matrix([0,0,0])\n",
    "glg = Eq(A*x, null)\n",
    "glg"
   ]
  },
  {
   "cell_type": "code",
   "execution_count": null,
   "id": "1df8d1eb",
   "metadata": {},
   "outputs": [],
   "source": [
    "solve(glg)"
   ]
  },
  {
   "cell_type": "code",
   "execution_count": null,
   "id": "7b956089",
   "metadata": {},
   "outputs": [],
   "source": [
    "A.nullspace()"
   ]
  },
  {
   "cell_type": "markdown",
   "id": "d99f7948",
   "metadata": {},
   "source": [
    "Basis des Kerns"
   ]
  },
  {
   "cell_type": "markdown",
   "id": "7cdf150d",
   "metadata": {},
   "source": [
    "# Eigenwerte und Eigenvektoren"
   ]
  },
  {
   "cell_type": "code",
   "execution_count": null,
   "id": "8d60c4c3",
   "metadata": {},
   "outputs": [],
   "source": [
    "A.eigenvals()"
   ]
  },
  {
   "cell_type": "code",
   "execution_count": null,
   "id": "8dd57d94",
   "metadata": {},
   "outputs": [],
   "source": [
    "A.eigenvects(simplify=True)"
   ]
  },
  {
   "cell_type": "code",
   "execution_count": null,
   "id": "5bb1d366",
   "metadata": {},
   "outputs": [],
   "source": [
    "B = Matrix([[1,0,1], [0,1,0], [0,0,1]])\n",
    "B"
   ]
  },
  {
   "cell_type": "code",
   "execution_count": null,
   "id": "64276112",
   "metadata": {},
   "outputs": [],
   "source": [
    "B.eigenvals()"
   ]
  },
  {
   "cell_type": "code",
   "execution_count": null,
   "id": "a692e716",
   "metadata": {},
   "outputs": [],
   "source": [
    "B.eigenvects()"
   ]
  },
  {
   "cell_type": "markdown",
   "id": "cec67b32",
   "metadata": {},
   "source": [
    "arithmetische > geometrische Vielfachheit  $\\Rightarrow$ Matrix nicht diagonalisierbar"
   ]
  },
  {
   "cell_type": "markdown",
   "id": "67afc4e7",
   "metadata": {},
   "source": [
    "# Jordanform"
   ]
  },
  {
   "cell_type": "code",
   "execution_count": null,
   "id": "c1a02cc4",
   "metadata": {},
   "outputs": [],
   "source": [
    "T, J = B.jordan_form()\n",
    "T, J"
   ]
  },
  {
   "cell_type": "code",
   "execution_count": null,
   "id": "585e587c",
   "metadata": {},
   "outputs": [],
   "source": [
    "T * J * T**(-1)"
   ]
  },
  {
   "cell_type": "code",
   "execution_count": null,
   "id": "d5c7c047",
   "metadata": {},
   "outputs": [],
   "source": [
    "C = Matrix(3, 3, [-4, -2, -3, 5, 3, 3, 5, 2, 4])\n",
    "C"
   ]
  },
  {
   "cell_type": "code",
   "execution_count": null,
   "id": "f9e4fa3e",
   "metadata": {},
   "outputs": [],
   "source": [
    "T, J = C.jordan_form()\n",
    "T, J"
   ]
  },
  {
   "cell_type": "code",
   "execution_count": null,
   "id": "d029c332",
   "metadata": {},
   "outputs": [],
   "source": [
    "C.eigenvects()"
   ]
  },
  {
   "cell_type": "code",
   "execution_count": null,
   "id": "6c716aaa",
   "metadata": {},
   "outputs": [],
   "source": [
    "w1 = C.eigenvects()[0][2][0]\n",
    "w1"
   ]
  },
  {
   "cell_type": "code",
   "execution_count": null,
   "id": "84caecd3",
   "metadata": {},
   "outputs": [],
   "source": [
    "w2 = C.eigenvects()[0][2][1]\n",
    "w2"
   ]
  },
  {
   "cell_type": "code",
   "execution_count": null,
   "id": "8d976a3a",
   "metadata": {},
   "outputs": [],
   "source": [
    "5*w1 + 5*w2, T.col(0)"
   ]
  },
  {
   "cell_type": "code",
   "execution_count": null,
   "id": "1a879a44",
   "metadata": {},
   "outputs": [],
   "source": [
    "T * J * T**(-1) == C"
   ]
  },
  {
   "cell_type": "markdown",
   "id": "55899c4b",
   "metadata": {},
   "source": [
    "Die Jordansche Normalform hängt unstetig von den Daten ab"
   ]
  },
  {
   "cell_type": "code",
   "execution_count": null,
   "id": "67ac8db7",
   "metadata": {},
   "outputs": [],
   "source": [
    "delta = Symbol('delta')\n",
    "C[0,0] += delta\n",
    "C"
   ]
  },
  {
   "cell_type": "code",
   "execution_count": null,
   "id": "63f03a38",
   "metadata": {},
   "outputs": [],
   "source": [
    "Te, Je = C.jordan_form()\n",
    "Je"
   ]
  },
  {
   "cell_type": "code",
   "execution_count": null,
   "id": "20c06e28",
   "metadata": {},
   "outputs": [],
   "source": [
    "Je.limit(delta, 0)"
   ]
  },
  {
   "cell_type": "code",
   "execution_count": null,
   "id": "1deae4b4",
   "metadata": {},
   "outputs": [],
   "source": [
    "Je.limit(delta, 0) - J"
   ]
  },
  {
   "cell_type": "markdown",
   "id": "286687e8",
   "metadata": {},
   "source": [
    "# Normen von Vektoren und Matrizen"
   ]
  },
  {
   "cell_type": "code",
   "execution_count": null,
   "id": "04b8177e",
   "metadata": {},
   "outputs": [],
   "source": [
    "v = Matrix([1,2,3])\n",
    "v.norm()"
   ]
  },
  {
   "cell_type": "code",
   "execution_count": null,
   "id": "c9b4b8c4",
   "metadata": {},
   "outputs": [],
   "source": [
    "a, b, c, d = symbols(\"a b c d\")\n",
    "w = Matrix([a, b, c])\n",
    "w.norm()"
   ]
  },
  {
   "cell_type": "code",
   "execution_count": null,
   "id": "fda137ef",
   "metadata": {},
   "outputs": [],
   "source": [
    "v.norm(oo)"
   ]
  },
  {
   "cell_type": "code",
   "execution_count": null,
   "id": "9670b50b",
   "metadata": {},
   "outputs": [],
   "source": [
    "w.norm(oo)"
   ]
  },
  {
   "cell_type": "code",
   "execution_count": null,
   "id": "0164ea41",
   "metadata": {},
   "outputs": [],
   "source": [
    "v.norm(1)"
   ]
  },
  {
   "cell_type": "code",
   "execution_count": null,
   "id": "abe0a038",
   "metadata": {},
   "outputs": [],
   "source": [
    "w.norm(1)"
   ]
  },
  {
   "cell_type": "code",
   "execution_count": null,
   "id": "643643d5",
   "metadata": {},
   "outputs": [],
   "source": [
    "A"
   ]
  },
  {
   "cell_type": "code",
   "execution_count": null,
   "id": "fed1d0de",
   "metadata": {},
   "outputs": [],
   "source": [
    "A.norm()"
   ]
  },
  {
   "cell_type": "code",
   "execution_count": null,
   "id": "b33550f0",
   "metadata": {},
   "outputs": [],
   "source": [
    "M = Matrix(2,2,[a,b,c,d])\n",
    "M"
   ]
  },
  {
   "cell_type": "code",
   "execution_count": null,
   "id": "f3ed999a",
   "metadata": {},
   "outputs": [],
   "source": [
    "M.norm()"
   ]
  },
  {
   "cell_type": "markdown",
   "id": "863e3747",
   "metadata": {},
   "source": [
    "Das ist die Frobeniusnorm.  Sie keine Matrixnorm, aber submultiplikativ, erfüllt also $\\Vert AB \\Vert \\le \\Vert A \\Vert \\, \\Vert B \\Vert$."
   ]
  },
  {
   "cell_type": "code",
   "execution_count": null,
   "id": "1fafeae2",
   "metadata": {},
   "outputs": [],
   "source": [
    "A.norm(2)"
   ]
  },
  {
   "cell_type": "code",
   "execution_count": null,
   "id": "837e747a",
   "metadata": {},
   "outputs": [],
   "source": [
    "B = A.T*A\n",
    "B"
   ]
  },
  {
   "cell_type": "code",
   "execution_count": null,
   "id": "be7996e1",
   "metadata": {},
   "outputs": [],
   "source": [
    "B.eigenvals()"
   ]
  },
  {
   "cell_type": "markdown",
   "id": "db943249",
   "metadata": {},
   "source": [
    "Das ist eine Matrixnorm."
   ]
  },
  {
   "cell_type": "code",
   "execution_count": null,
   "id": "94c3d340",
   "metadata": {},
   "outputs": [],
   "source": [
    "M.norm(1)"
   ]
  },
  {
   "cell_type": "markdown",
   "id": "0f44cde0",
   "metadata": {},
   "source": [
    "Spaltensummennorm"
   ]
  },
  {
   "cell_type": "code",
   "execution_count": null,
   "id": "f542ea86",
   "metadata": {},
   "outputs": [],
   "source": [
    "M.norm(oo)"
   ]
  },
  {
   "cell_type": "markdown",
   "id": "45ce42c4",
   "metadata": {},
   "source": [
    "Zeilensummennorm"
   ]
  },
  {
   "cell_type": "markdown",
   "id": "d0e679e6",
   "metadata": {},
   "source": [
    "Das sind auch Matrixnormen."
   ]
  },
  {
   "cell_type": "markdown",
   "id": "a198f624",
   "metadata": {},
   "source": [
    "# Vektoranalysis"
   ]
  },
  {
   "cell_type": "code",
   "execution_count": null,
   "id": "af8c58dc",
   "metadata": {},
   "outputs": [],
   "source": [
    "x, y, z = symbols('x y z')\n",
    "variablen = [x,y,z]"
   ]
  },
  {
   "cell_type": "code",
   "execution_count": null,
   "id": "9a99dd3c",
   "metadata": {},
   "outputs": [],
   "source": [
    "f = exp(x**2 + 2*y**2 + 3*z**2)\n",
    "f"
   ]
  },
  {
   "cell_type": "code",
   "execution_count": null,
   "id": "39efd413",
   "metadata": {},
   "outputs": [],
   "source": [
    "J = Matrix([f]).jacobian(variablen)\n",
    "J"
   ]
  },
  {
   "cell_type": "markdown",
   "id": "6d0d0fe2",
   "metadata": {},
   "source": [
    "Das ist die Jacobi-Matrix"
   ]
  },
  {
   "cell_type": "code",
   "execution_count": null,
   "id": "18c0e571",
   "metadata": {},
   "outputs": [],
   "source": [
    "nabla_f = J.T\n",
    "nabla_f"
   ]
  },
  {
   "cell_type": "markdown",
   "id": "024997bd",
   "metadata": {},
   "source": [
    "Das ist der Gradient"
   ]
  },
  {
   "cell_type": "code",
   "execution_count": null,
   "id": "59342c11",
   "metadata": {},
   "outputs": [],
   "source": [
    "A = Matrix([f, f**2, f**3])\n",
    "A"
   ]
  },
  {
   "cell_type": "code",
   "execution_count": null,
   "id": "7684f72a",
   "metadata": {},
   "outputs": [],
   "source": [
    "A.jacobian(variablen)"
   ]
  },
  {
   "cell_type": "code",
   "execution_count": null,
   "id": "88318c44",
   "metadata": {},
   "outputs": [],
   "source": [
    "H = hessian(f, variablen)\n",
    "H"
   ]
  },
  {
   "cell_type": "code",
   "execution_count": null,
   "id": "c0570452",
   "metadata": {},
   "outputs": [],
   "source": [
    "H == H.T"
   ]
  },
  {
   "cell_type": "markdown",
   "id": "7ac99159",
   "metadata": {},
   "source": [
    "# Definitheitsverhalten"
   ]
  },
  {
   "cell_type": "code",
   "execution_count": null,
   "id": "937c81ab",
   "metadata": {},
   "outputs": [],
   "source": [
    "H1 = H.subs({x:1, y:0, z:-1})\n",
    "H1"
   ]
  },
  {
   "cell_type": "code",
   "execution_count": null,
   "id": "69900a10",
   "metadata": {},
   "outputs": [],
   "source": [
    "H1.is_positive_definite"
   ]
  },
  {
   "cell_type": "code",
   "execution_count": null,
   "id": "f2734e27",
   "metadata": {},
   "outputs": [],
   "source": [
    "H1.is_indefinite"
   ]
  },
  {
   "cell_type": "code",
   "execution_count": null,
   "id": "9914f8a6",
   "metadata": {},
   "outputs": [],
   "source": [
    "M = Matrix(2,2,[x,0,0,1])\n",
    "M"
   ]
  },
  {
   "cell_type": "code",
   "execution_count": null,
   "id": "86438d84",
   "metadata": {},
   "outputs": [],
   "source": [
    "M.is_positive_definite # kann man ohne Kenntnis von $x$ nicht wissen"
   ]
  },
  {
   "cell_type": "code",
   "execution_count": null,
   "id": "91f0fbf0",
   "metadata": {},
   "outputs": [],
   "source": [
    "print(M.is_positive_definite)"
   ]
  },
  {
   "cell_type": "markdown",
   "id": "900115b4",
   "metadata": {},
   "source": [
    "# Extremwerte in mehreren Veränderlichen"
   ]
  },
  {
   "cell_type": "code",
   "execution_count": null,
   "id": "561d3258",
   "metadata": {},
   "outputs": [],
   "source": [
    "f = -x**4/2 - x**2*y**2 - y**4/2 + x**3 - 3*x*y**2\n",
    "f"
   ]
  },
  {
   "cell_type": "code",
   "execution_count": null,
   "id": "2a1bc393",
   "metadata": {},
   "outputs": [],
   "source": [
    "gr = Matrix([f]).jacobian([x,y])\n",
    "gr"
   ]
  },
  {
   "cell_type": "code",
   "execution_count": null,
   "id": "e8293939",
   "metadata": {},
   "outputs": [],
   "source": [
    "lsg = solve(gr)\n",
    "lsg"
   ]
  },
  {
   "cell_type": "markdown",
   "id": "7cff6a71",
   "metadata": {},
   "source": [
    "kritische Punkte"
   ]
  },
  {
   "cell_type": "code",
   "execution_count": null,
   "id": "2cc82fe6",
   "metadata": {},
   "outputs": [],
   "source": [
    "H = hessian(f, [x,y])\n",
    "H"
   ]
  },
  {
   "cell_type": "code",
   "execution_count": null,
   "id": "a5a47123",
   "metadata": {},
   "outputs": [],
   "source": [
    "H1 = H.subs(lsg[0])\n",
    "H1"
   ]
  },
  {
   "cell_type": "code",
   "execution_count": null,
   "id": "89ade769",
   "metadata": {},
   "outputs": [],
   "source": [
    "H1.is_negative_definite"
   ]
  },
  {
   "cell_type": "code",
   "execution_count": null,
   "id": "c122ce2a",
   "metadata": {},
   "outputs": [],
   "source": [
    "H2 = H.subs(lsg[1])\n",
    "H2"
   ]
  },
  {
   "cell_type": "code",
   "execution_count": null,
   "id": "61249892",
   "metadata": {},
   "outputs": [],
   "source": [
    "H2.is_negative_definite"
   ]
  },
  {
   "cell_type": "code",
   "execution_count": null,
   "id": "907801ad",
   "metadata": {},
   "outputs": [],
   "source": [
    "H3 = H.subs(lsg[2])\n",
    "H3"
   ]
  },
  {
   "cell_type": "code",
   "execution_count": null,
   "id": "af62f741",
   "metadata": {},
   "outputs": [],
   "source": [
    "H3.is_positive_semidefinite"
   ]
  },
  {
   "cell_type": "code",
   "execution_count": null,
   "id": "99275639",
   "metadata": {},
   "outputs": [],
   "source": [
    "H3.is_negative_semidefinite"
   ]
  },
  {
   "cell_type": "markdown",
   "id": "5fe720bc",
   "metadata": {},
   "source": [
    "verschieben wir auf später"
   ]
  },
  {
   "cell_type": "code",
   "execution_count": null,
   "id": "5cdca5c7",
   "metadata": {},
   "outputs": [],
   "source": [
    "H4 = H.subs(lsg[3])\n",
    "H4"
   ]
  },
  {
   "cell_type": "markdown",
   "id": "be030683",
   "metadata": {},
   "source": [
    "Direkt zu sehen:  negativ definit"
   ]
  },
  {
   "cell_type": "markdown",
   "id": "842bf2fe",
   "metadata": {},
   "source": [
    "zurück zu"
   ]
  },
  {
   "cell_type": "code",
   "execution_count": null,
   "id": "32bbbc91",
   "metadata": {},
   "outputs": [],
   "source": [
    "lsg[2]"
   ]
  },
  {
   "cell_type": "code",
   "execution_count": null,
   "id": "fd0712f7",
   "metadata": {},
   "outputs": [],
   "source": [
    "f_x = f.subs(y, lsg[2][y])\n",
    "f_x"
   ]
  },
  {
   "cell_type": "markdown",
   "id": "495b81e8",
   "metadata": {},
   "source": [
    "Diese Funktion hat in $0$ eine Sattelpunkt"
   ]
  }
 ],
 "metadata": {
  "kernelspec": {
   "display_name": "Python 3 (ipykernel)",
   "language": "python",
   "name": "python3"
  },
  "language_info": {
   "codemirror_mode": {
    "name": "ipython",
    "version": 3
   },
   "file_extension": ".py",
   "mimetype": "text/x-python",
   "name": "python",
   "nbconvert_exporter": "python",
   "pygments_lexer": "ipython3",
   "version": "3.9.13"
  }
 },
 "nbformat": 4,
 "nbformat_minor": 5
}
