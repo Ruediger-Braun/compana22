{
 "cells": [
  {
   "cell_type": "markdown",
   "id": "de51556e",
   "metadata": {
    "slideshow": {
     "slide_type": "slide"
    }
   },
   "source": [
    "# Computergestützte Mathematik zur Analysis\n",
    "\n",
    "Vorlesung vom 22.12.2022\n",
    "\n",
    "&copy; 2022 Prof. Dr. Rüdiger W. Braun "
   ]
  },
  {
   "cell_type": "code",
   "execution_count": 1,
   "id": "90e10dda",
   "metadata": {
    "slideshow": {
     "slide_type": "slide"
    }
   },
   "outputs": [],
   "source": [
    "from sympy import *\n",
    "init_printing()"
   ]
  },
  {
   "cell_type": "markdown",
   "id": "9c41dbfa",
   "metadata": {
    "slideshow": {
     "slide_type": "slide"
    }
   },
   "source": [
    "# Lineare Gleichungssysteme"
   ]
  },
  {
   "cell_type": "code",
   "execution_count": 2,
   "id": "40f68ac5",
   "metadata": {
    "slideshow": {
     "slide_type": "slide"
    }
   },
   "outputs": [
    {
     "data": {
      "text/latex": [
       "$\\displaystyle \\left[\\begin{matrix}1 & 2 & 3\\\\4 & 5 & 6\\\\7 & 8 & 9\\end{matrix}\\right]$"
      ],
      "text/plain": [
       "⎡1  2  3⎤\n",
       "⎢       ⎥\n",
       "⎢4  5  6⎥\n",
       "⎢       ⎥\n",
       "⎣7  8  9⎦"
      ]
     },
     "execution_count": 2,
     "metadata": {},
     "output_type": "execute_result"
    }
   ],
   "source": [
    "A = Matrix(3,3,range(1,10))\n",
    "A"
   ]
  },
  {
   "cell_type": "code",
   "execution_count": 3,
   "id": "0093adb1",
   "metadata": {},
   "outputs": [
    {
     "data": {
      "text/latex": [
       "$\\displaystyle \\left[\\begin{matrix}6\\\\15\\\\24\\end{matrix}\\right]$"
      ],
      "text/plain": [
       "⎡6 ⎤\n",
       "⎢  ⎥\n",
       "⎢15⎥\n",
       "⎢  ⎥\n",
       "⎣24⎦"
      ]
     },
     "execution_count": 3,
     "metadata": {},
     "output_type": "execute_result"
    }
   ],
   "source": [
    "b = Matrix([6,15,24])\n",
    "b"
   ]
  },
  {
   "cell_type": "code",
   "execution_count": 4,
   "id": "77c4862b",
   "metadata": {},
   "outputs": [
    {
     "data": {
      "text/latex": [
       "$\\displaystyle \\left[\\begin{matrix}x_{1}\\\\x_{2}\\\\x_{3}\\end{matrix}\\right]$"
      ],
      "text/plain": [
       "⎡x₁⎤\n",
       "⎢  ⎥\n",
       "⎢x₂⎥\n",
       "⎢  ⎥\n",
       "⎣x₃⎦"
      ]
     },
     "execution_count": 4,
     "metadata": {},
     "output_type": "execute_result"
    }
   ],
   "source": [
    "x_var = symbols('x1:4')\n",
    "x = Matrix(x_var)\n",
    "x"
   ]
  },
  {
   "cell_type": "code",
   "execution_count": 5,
   "id": "0a30484a",
   "metadata": {
    "slideshow": {
     "slide_type": "slide"
    }
   },
   "outputs": [
    {
     "data": {
      "text/latex": [
       "$\\displaystyle \\left[\\begin{matrix}x_{1} + 2 x_{2} + 3 x_{3}\\\\4 x_{1} + 5 x_{2} + 6 x_{3}\\\\7 x_{1} + 8 x_{2} + 9 x_{3}\\end{matrix}\\right] = \\left[\\begin{matrix}6\\\\15\\\\24\\end{matrix}\\right]$"
      ],
      "text/plain": [
       "⎡ x₁ + 2⋅x₂ + 3⋅x₃ ⎤   ⎡6 ⎤\n",
       "⎢                  ⎥   ⎢  ⎥\n",
       "⎢4⋅x₁ + 5⋅x₂ + 6⋅x₃⎥ = ⎢15⎥\n",
       "⎢                  ⎥   ⎢  ⎥\n",
       "⎣7⋅x₁ + 8⋅x₂ + 9⋅x₃⎦   ⎣24⎦"
      ]
     },
     "execution_count": 5,
     "metadata": {},
     "output_type": "execute_result"
    }
   ],
   "source": [
    "glg = Eq(A*x, b)\n",
    "glg"
   ]
  },
  {
   "cell_type": "code",
   "execution_count": 6,
   "id": "311e3533",
   "metadata": {},
   "outputs": [
    {
     "data": {
      "image/png": "[encoded data removed]",
      "text/latex": [
       "$\\displaystyle \\left\\{ x_{1} : x_{3}, \\  x_{2} : 3 - 2 x_{3}\\right\\}$"
      ],
      "text/plain": [
       "{x₁: x₃, x₂: 3 - 2⋅x₃}"
      ]
     },
     "execution_count": 6,
     "metadata": {},
     "output_type": "execute_result"
    }
   ],
   "source": [
    "lsg = solve(glg)\n",
    "lsg"
   ]
  },
  {
   "cell_type": "code",
   "execution_count": 7,
   "id": "8f337de7",
   "metadata": {},
   "outputs": [
    {
     "data": {
      "image/png": "[encoded data removed]",
      "text/latex": [
       "$\\displaystyle \\left\\{ x_{2} : 3 - 2 x_{1}, \\  x_{3} : x_{1}\\right\\}$"
      ],
      "text/plain": [
       "{x₂: 3 - 2⋅x₁, x₃: x₁}"
      ]
     },
     "execution_count": 7,
     "metadata": {},
     "output_type": "execute_result"
    }
   ],
   "source": [
    "lsg = solve(glg, {x[1],x[2]})\n",
    "lsg"
   ]
  },
  {
   "cell_type": "markdown",
   "id": "88b2cffb",
   "metadata": {},
   "source": [
    "Also\n",
    "$$\n",
    "    \\{ x \\in \\mathbb R^3 \\mid Ax = b \\}\n",
    "    = \\left\\{ \\left. \\begin{pmatrix} x_1 \\\\ 3 - 2x_1 \\\\ x_1 \\end{pmatrix} \\right| x_1 \\in \\mathbb R \\right\\}\n",
    "$$"
   ]
  },
  {
   "cell_type": "code",
   "execution_count": 8,
   "id": "6c2986a5",
   "metadata": {
    "slideshow": {
     "slide_type": "slide"
    }
   },
   "outputs": [
    {
     "data": {
      "image/png": "[encoded data removed]",
      "text/latex": [
       "$\\displaystyle 0$"
      ],
      "text/plain": [
       "0"
      ]
     },
     "execution_count": 8,
     "metadata": {},
     "output_type": "execute_result"
    }
   ],
   "source": [
    "A.det()"
   ]
  },
  {
   "cell_type": "markdown",
   "id": "6878cbed",
   "metadata": {
    "slideshow": {
     "slide_type": "fragment"
    }
   },
   "source": [
    "Probe:"
   ]
  },
  {
   "cell_type": "code",
   "execution_count": 10,
   "id": "2b5c9100",
   "metadata": {},
   "outputs": [
    {
     "data": {
      "text/latex": [
       "$\\displaystyle \\left[\\begin{matrix}x_{1}\\\\3 - 2 x_{1}\\\\x_{1}\\end{matrix}\\right]$"
      ],
      "text/plain": [
       "⎡   x₁   ⎤\n",
       "⎢        ⎥\n",
       "⎢3 - 2⋅x₁⎥\n",
       "⎢        ⎥\n",
       "⎣   x₁   ⎦"
      ]
     },
     "execution_count": 10,
     "metadata": {},
     "output_type": "execute_result"
    }
   ],
   "source": [
    "v  = x.subs(lsg)\n",
    "v"
   ]
  },
  {
   "cell_type": "code",
   "execution_count": 11,
   "id": "71d89ae8",
   "metadata": {},
   "outputs": [
    {
     "data": {
      "text/latex": [
       "$\\displaystyle \\left[\\begin{matrix}0\\\\0\\\\0\\end{matrix}\\right]$"
      ],
      "text/plain": [
       "⎡0⎤\n",
       "⎢ ⎥\n",
       "⎢0⎥\n",
       "⎢ ⎥\n",
       "⎣0⎦"
      ]
     },
     "execution_count": 11,
     "metadata": {},
     "output_type": "execute_result"
    }
   ],
   "source": [
    "A * v - b"
   ]
  },
  {
   "cell_type": "markdown",
   "id": "7a3f2d8d",
   "metadata": {
    "slideshow": {
     "slide_type": "slide"
    }
   },
   "source": [
    "Konkrete Lösung"
   ]
  },
  {
   "cell_type": "code",
   "execution_count": 12,
   "id": "29eac93a",
   "metadata": {},
   "outputs": [
    {
     "data": {
      "text/latex": [
       "$\\displaystyle \\left[\\begin{matrix}0\\\\3\\\\0\\end{matrix}\\right]$"
      ],
      "text/plain": [
       "⎡0⎤\n",
       "⎢ ⎥\n",
       "⎢3⎥\n",
       "⎢ ⎥\n",
       "⎣0⎦"
      ]
     },
     "execution_count": 12,
     "metadata": {},
     "output_type": "execute_result"
    }
   ],
   "source": [
    "v.subs(x[0], 0)"
   ]
  },
  {
   "cell_type": "markdown",
   "id": "afedb2ab",
   "metadata": {
    "slideshow": {
     "slide_type": "slide"
    }
   },
   "source": [
    "Gleichung ohne Lösung"
   ]
  },
  {
   "cell_type": "code",
   "execution_count": 13,
   "id": "755d62b9",
   "metadata": {},
   "outputs": [
    {
     "data": {
      "image/png": "[encoded data removed]",
      "text/latex": [
       "$\\displaystyle \\left[ \\right]$"
      ],
      "text/plain": [
       "[]"
      ]
     },
     "execution_count": 13,
     "metadata": {},
     "output_type": "execute_result"
    }
   ],
   "source": [
    "b = Matrix([0,2,3])\n",
    "glg = Eq(A*x, b)\n",
    "solve(glg)"
   ]
  },
  {
   "cell_type": "markdown",
   "id": "46dca7d4",
   "metadata": {
    "slideshow": {
     "slide_type": "slide"
    }
   },
   "source": [
    "Kern von $A$"
   ]
  },
  {
   "cell_type": "code",
   "execution_count": 14,
   "id": "0a0814a4",
   "metadata": {},
   "outputs": [
    {
     "data": {
      "text/latex": [
       "$\\displaystyle \\text{False}$"
      ],
      "text/plain": [
       "False"
      ]
     },
     "execution_count": 14,
     "metadata": {},
     "output_type": "execute_result"
    }
   ],
   "source": [
    "glg = Eq(A*x, 0)\n",
    "glg"
   ]
  },
  {
   "cell_type": "code",
   "execution_count": 15,
   "id": "8c614725",
   "metadata": {},
   "outputs": [
    {
     "data": {
      "text/latex": [
       "$\\displaystyle \\left[\\begin{matrix}x_{1} + 2 x_{2} + 3 x_{3}\\\\4 x_{1} + 5 x_{2} + 6 x_{3}\\\\7 x_{1} + 8 x_{2} + 9 x_{3}\\end{matrix}\\right] = 0$"
      ],
      "text/plain": [
       "⎡ x₁ + 2⋅x₂ + 3⋅x₃ ⎤    \n",
       "⎢                  ⎥    \n",
       "⎢4⋅x₁ + 5⋅x₂ + 6⋅x₃⎥ = 0\n",
       "⎢                  ⎥    \n",
       "⎣7⋅x₁ + 8⋅x₂ + 9⋅x₃⎦    "
      ]
     },
     "execution_count": 15,
     "metadata": {},
     "output_type": "execute_result"
    }
   ],
   "source": [
    "glg = Eq(A*x, 0, evaluate=False)\n",
    "glg"
   ]
  },
  {
   "cell_type": "code",
   "execution_count": 17,
   "id": "cd6d0c17",
   "metadata": {
    "scrolled": true
   },
   "outputs": [],
   "source": [
    "#solve(glg)  # TypeError"
   ]
  },
  {
   "cell_type": "code",
   "execution_count": 18,
   "id": "80ee3d2a",
   "metadata": {
    "slideshow": {
     "slide_type": "slide"
    }
   },
   "outputs": [
    {
     "data": {
      "text/latex": [
       "$\\displaystyle \\left[\\begin{matrix}x_{1} + 2 x_{2} + 3 x_{3}\\\\4 x_{1} + 5 x_{2} + 6 x_{3}\\\\7 x_{1} + 8 x_{2} + 9 x_{3}\\end{matrix}\\right] = \\left[\\begin{matrix}0\\\\0\\\\0\\end{matrix}\\right]$"
      ],
      "text/plain": [
       "⎡ x₁ + 2⋅x₂ + 3⋅x₃ ⎤   ⎡0⎤\n",
       "⎢                  ⎥   ⎢ ⎥\n",
       "⎢4⋅x₁ + 5⋅x₂ + 6⋅x₃⎥ = ⎢0⎥\n",
       "⎢                  ⎥   ⎢ ⎥\n",
       "⎣7⋅x₁ + 8⋅x₂ + 9⋅x₃⎦   ⎣0⎦"
      ]
     },
     "execution_count": 18,
     "metadata": {},
     "output_type": "execute_result"
    }
   ],
   "source": [
    "null = Matrix([0,0,0])\n",
    "glg = Eq(A*x, null)\n",
    "glg"
   ]
  },
  {
   "cell_type": "code",
   "execution_count": 19,
   "id": "1df8d1eb",
   "metadata": {},
   "outputs": [
    {
     "data": {
      "image/png": "[encoded data removed]",
      "text/latex": [
       "$\\displaystyle \\left\\{ x_{1} : x_{3}, \\  x_{2} : - 2 x_{3}\\right\\}$"
      ],
      "text/plain": [
       "{x₁: x₃, x₂: -2⋅x₃}"
      ]
     },
     "execution_count": 19,
     "metadata": {},
     "output_type": "execute_result"
    }
   ],
   "source": [
    "solve(glg)"
   ]
  },
  {
   "cell_type": "code",
   "execution_count": 20,
   "id": "7b956089",
   "metadata": {},
   "outputs": [
    {
     "data": {
      "text/latex": [
       "$\\displaystyle \\left[ \\left[\\begin{matrix}1\\\\-2\\\\1\\end{matrix}\\right]\\right]$"
      ],
      "text/plain": [
       "⎡⎡1 ⎤⎤\n",
       "⎢⎢  ⎥⎥\n",
       "⎢⎢-2⎥⎥\n",
       "⎢⎢  ⎥⎥\n",
       "⎣⎣1 ⎦⎦"
      ]
     },
     "execution_count": 20,
     "metadata": {},
     "output_type": "execute_result"
    }
   ],
   "source": [
    "A.nullspace()"
   ]
  },
  {
   "cell_type": "markdown",
   "id": "d99f7948",
   "metadata": {},
   "source": [
    "Basis des Kerns"
   ]
  },
  {
   "cell_type": "markdown",
   "id": "7cdf150d",
   "metadata": {
    "slideshow": {
     "slide_type": "slide"
    }
   },
   "source": [
    "# Eigenwerte und Eigenvektoren"
   ]
  },
  {
   "cell_type": "code",
   "execution_count": 21,
   "id": "0a19d33c",
   "metadata": {},
   "outputs": [
    {
     "data": {
      "text/latex": [
       "$\\displaystyle \\left[\\begin{matrix}1 & 2 & 3\\\\4 & 5 & 6\\\\7 & 8 & 9\\end{matrix}\\right]$"
      ],
      "text/plain": [
       "⎡1  2  3⎤\n",
       "⎢       ⎥\n",
       "⎢4  5  6⎥\n",
       "⎢       ⎥\n",
       "⎣7  8  9⎦"
      ]
     },
     "execution_count": 21,
     "metadata": {},
     "output_type": "execute_result"
    }
   ],
   "source": [
    "A"
   ]
  },
  {
   "cell_type": "code",
   "execution_count": 22,
   "id": "8d60c4c3",
   "metadata": {
    "slideshow": {
     "slide_type": "slide"
    }
   },
   "outputs": [
    {
     "data": {
      "image/png": "[encoded data removed]",
      "text/latex": [
       "$\\displaystyle \\left\\{ 0 : 1, \\  \\frac{15}{2} - \\frac{3 \\sqrt{33}}{2} : 1, \\  \\frac{15}{2} + \\frac{3 \\sqrt{33}}{2} : 1\\right\\}$"
      ],
      "text/plain": [
       "⎧      15   3⋅√33     15   3⋅√33   ⎫\n",
       "⎨0: 1, ── - ─────: 1, ── + ─────: 1⎬\n",
       "⎩      2      2       2      2     ⎭"
      ]
     },
     "execution_count": 22,
     "metadata": {},
     "output_type": "execute_result"
    }
   ],
   "source": [
    "A.eigenvals()"
   ]
  },
  {
   "cell_type": "code",
   "execution_count": 23,
   "id": "8dd57d94",
   "metadata": {},
   "outputs": [
    {
     "data": {
      "text/latex": [
       "$\\displaystyle \\left[ \\left( 0, \\  1, \\  \\left[ \\left[\\begin{matrix}1\\\\-2\\\\1\\end{matrix}\\right]\\right]\\right), \\  \\left( \\frac{15}{2} - \\frac{3 \\sqrt{33}}{2}, \\  1, \\  \\left[ \\left[\\begin{matrix}- \\frac{3 \\sqrt{33}}{22} - \\frac{1}{2}\\\\\\frac{1}{4} - \\frac{3 \\sqrt{33}}{44}\\\\1\\end{matrix}\\right]\\right]\\right), \\  \\left( \\frac{15}{2} + \\frac{3 \\sqrt{33}}{2}, \\  1, \\  \\left[ \\left[\\begin{matrix}- \\frac{1}{2} + \\frac{3 \\sqrt{33}}{22}\\\\\\frac{1}{4} + \\frac{3 \\sqrt{33}}{44}\\\\1\\end{matrix}\\right]\\right]\\right)\\right]$"
      ],
      "text/plain": [
       "⎡                ⎛               ⎡⎡  3⋅√33   1⎤⎤⎞  ⎛               ⎡⎡  1   3⋅√\n",
       "⎢                ⎜               ⎢⎢- ───── - ─⎥⎥⎟  ⎜               ⎢⎢- ─ + ───\n",
       "⎢⎛      ⎡⎡1 ⎤⎤⎞  ⎜               ⎢⎢    22    2⎥⎥⎟  ⎜               ⎢⎢  2     2\n",
       "⎢⎜      ⎢⎢  ⎥⎥⎟  ⎜15   3⋅√33     ⎢⎢           ⎥⎥⎟  ⎜15   3⋅√33     ⎢⎢         \n",
       "⎢⎜0, 1, ⎢⎢-2⎥⎥⎟, ⎜── - ─────, 1, ⎢⎢ 1   3⋅√33 ⎥⎥⎟, ⎜── + ─────, 1, ⎢⎢ 1   3⋅√3\n",
       "⎢⎜      ⎢⎢  ⎥⎥⎟  ⎜2      2       ⎢⎢ ─ - ───── ⎥⎥⎟  ⎜2      2       ⎢⎢ ─ + ────\n",
       "⎢⎝      ⎣⎣1 ⎦⎦⎠  ⎜               ⎢⎢ 4     44  ⎥⎥⎟  ⎜               ⎢⎢ 4     44\n",
       "⎢                ⎜               ⎢⎢           ⎥⎥⎟  ⎜               ⎢⎢         \n",
       "⎣                ⎝               ⎣⎣     1     ⎦⎦⎠  ⎝               ⎣⎣     1   \n",
       "\n",
       "33⎤⎤⎞⎤\n",
       "──⎥⎥⎟⎥\n",
       "2 ⎥⎥⎟⎥\n",
       "  ⎥⎥⎟⎥\n",
       "3 ⎥⎥⎟⎥\n",
       "─ ⎥⎥⎟⎥\n",
       "  ⎥⎥⎟⎥\n",
       "  ⎥⎥⎟⎥\n",
       "  ⎦⎦⎠⎦"
      ]
     },
     "execution_count": 23,
     "metadata": {},
     "output_type": "execute_result"
    }
   ],
   "source": [
    "A.eigenvects(simplify=True)"
   ]
  },
  {
   "cell_type": "markdown",
   "id": "b059b0cd",
   "metadata": {},
   "source": [
    "Die Tripel enthalten: Eigenwert, arithmetische Vielfachheit, Basis des Eigenraums"
   ]
  },
  {
   "cell_type": "code",
   "execution_count": 24,
   "id": "5bb1d366",
   "metadata": {
    "slideshow": {
     "slide_type": "slide"
    }
   },
   "outputs": [
    {
     "data": {
      "text/latex": [
       "$\\displaystyle \\left[\\begin{matrix}1 & 0 & 1\\\\0 & 1 & 0\\\\0 & 0 & 1\\end{matrix}\\right]$"
      ],
      "text/plain": [
       "⎡1  0  1⎤\n",
       "⎢       ⎥\n",
       "⎢0  1  0⎥\n",
       "⎢       ⎥\n",
       "⎣0  0  1⎦"
      ]
     },
     "execution_count": 24,
     "metadata": {},
     "output_type": "execute_result"
    }
   ],
   "source": [
    "B = Matrix([[1,0,1], [0,1,0], [0,0,1]])\n",
    "B"
   ]
  },
  {
   "cell_type": "code",
   "execution_count": 25,
   "id": "64276112",
   "metadata": {},
   "outputs": [
    {
     "data": {
      "image/png": "[encoded data removed]",
      "text/latex": [
       "$\\displaystyle \\left\\{ 1 : 3\\right\\}$"
      ],
      "text/plain": [
       "{1: 3}"
      ]
     },
     "execution_count": 25,
     "metadata": {},
     "output_type": "execute_result"
    }
   ],
   "source": [
    "B.eigenvals()"
   ]
  },
  {
   "cell_type": "code",
   "execution_count": 26,
   "id": "a692e716",
   "metadata": {},
   "outputs": [
    {
     "data": {
      "text/latex": [
       "$\\displaystyle \\left[ \\left( 1, \\  3, \\  \\left[ \\left[\\begin{matrix}1\\\\0\\\\0\\end{matrix}\\right], \\  \\left[\\begin{matrix}0\\\\1\\\\0\\end{matrix}\\right]\\right]\\right)\\right]$"
      ],
      "text/plain": [
       "⎡⎛      ⎡⎡1⎤  ⎡0⎤⎤⎞⎤\n",
       "⎢⎜      ⎢⎢ ⎥  ⎢ ⎥⎥⎟⎥\n",
       "⎢⎜1, 3, ⎢⎢0⎥, ⎢1⎥⎥⎟⎥\n",
       "⎢⎜      ⎢⎢ ⎥  ⎢ ⎥⎥⎟⎥\n",
       "⎣⎝      ⎣⎣0⎦  ⎣0⎦⎦⎠⎦"
      ]
     },
     "execution_count": 26,
     "metadata": {},
     "output_type": "execute_result"
    }
   ],
   "source": [
    "B.eigenvects()"
   ]
  },
  {
   "cell_type": "markdown",
   "id": "cec67b32",
   "metadata": {},
   "source": [
    "arithmetische > geometrische Vielfachheit  $\\Rightarrow$ Matrix nicht diagonalisierbar"
   ]
  },
  {
   "cell_type": "markdown",
   "id": "67afc4e7",
   "metadata": {
    "slideshow": {
     "slide_type": "slide"
    }
   },
   "source": [
    "# Jordanform"
   ]
  },
  {
   "cell_type": "code",
   "execution_count": 27,
   "id": "2c342220",
   "metadata": {},
   "outputs": [
    {
     "data": {
      "text/latex": [
       "$\\displaystyle \\left[\\begin{matrix}1 & 0 & 1\\\\0 & 1 & 0\\\\0 & 0 & 1\\end{matrix}\\right]$"
      ],
      "text/plain": [
       "⎡1  0  1⎤\n",
       "⎢       ⎥\n",
       "⎢0  1  0⎥\n",
       "⎢       ⎥\n",
       "⎣0  0  1⎦"
      ]
     },
     "execution_count": 27,
     "metadata": {},
     "output_type": "execute_result"
    }
   ],
   "source": [
    "B"
   ]
  },
  {
   "cell_type": "code",
   "execution_count": 28,
   "id": "c1a02cc4",
   "metadata": {
    "slideshow": {
     "slide_type": "slide"
    }
   },
   "outputs": [
    {
     "data": {
      "text/latex": [
       "$\\displaystyle \\left( \\left[\\begin{matrix}1 & 0 & 0\\\\0 & 0 & 1\\\\0 & 1 & 0\\end{matrix}\\right], \\  \\left[\\begin{matrix}1 & 1 & 0\\\\0 & 1 & 0\\\\0 & 0 & 1\\end{matrix}\\right]\\right)$"
      ],
      "text/plain": [
       "⎛⎡1  0  0⎤  ⎡1  1  0⎤⎞\n",
       "⎜⎢       ⎥  ⎢       ⎥⎟\n",
       "⎜⎢0  0  1⎥, ⎢0  1  0⎥⎟\n",
       "⎜⎢       ⎥  ⎢       ⎥⎟\n",
       "⎝⎣0  1  0⎦  ⎣0  0  1⎦⎠"
      ]
     },
     "execution_count": 28,
     "metadata": {},
     "output_type": "execute_result"
    }
   ],
   "source": [
    "T, J = B.jordan_form()\n",
    "T, J"
   ]
  },
  {
   "cell_type": "code",
   "execution_count": 29,
   "id": "585e587c",
   "metadata": {},
   "outputs": [
    {
     "data": {
      "text/latex": [
       "$\\displaystyle \\left[\\begin{matrix}1 & 0 & 1\\\\0 & 1 & 0\\\\0 & 0 & 1\\end{matrix}\\right]$"
      ],
      "text/plain": [
       "⎡1  0  1⎤\n",
       "⎢       ⎥\n",
       "⎢0  1  0⎥\n",
       "⎢       ⎥\n",
       "⎣0  0  1⎦"
      ]
     },
     "execution_count": 29,
     "metadata": {},
     "output_type": "execute_result"
    }
   ],
   "source": [
    "T * J * T**(-1)"
   ]
  },
  {
   "cell_type": "code",
   "execution_count": 30,
   "id": "d5c7c047",
   "metadata": {
    "slideshow": {
     "slide_type": "slide"
    }
   },
   "outputs": [
    {
     "data": {
      "text/latex": [
       "$\\displaystyle \\left[\\begin{matrix}-4 & -2 & -3\\\\5 & 3 & 3\\\\5 & 2 & 4\\end{matrix}\\right]$"
      ],
      "text/plain": [
       "⎡-4  -2  -3⎤\n",
       "⎢          ⎥\n",
       "⎢5   3   3 ⎥\n",
       "⎢          ⎥\n",
       "⎣5   2   4 ⎦"
      ]
     },
     "execution_count": 30,
     "metadata": {},
     "output_type": "execute_result"
    }
   ],
   "source": [
    "C = Matrix(3, 3, [-4, -2, -3, 5, 3, 3, 5, 2, 4])\n",
    "C"
   ]
  },
  {
   "cell_type": "code",
   "execution_count": 31,
   "id": "f9e4fa3e",
   "metadata": {},
   "outputs": [
    {
     "data": {
      "text/latex": [
       "$\\displaystyle \\left( \\left[\\begin{matrix}-5 & 1 & - \\frac{2}{5}\\\\5 & 0 & 1\\\\5 & 0 & 0\\end{matrix}\\right], \\  \\left[\\begin{matrix}1 & 1 & 0\\\\0 & 1 & 0\\\\0 & 0 & 1\\end{matrix}\\right]\\right)$"
      ],
      "text/plain": [
       "⎛⎡-5  1  -2/5⎤  ⎡1  1  0⎤⎞\n",
       "⎜⎢           ⎥  ⎢       ⎥⎟\n",
       "⎜⎢5   0   1  ⎥, ⎢0  1  0⎥⎟\n",
       "⎜⎢           ⎥  ⎢       ⎥⎟\n",
       "⎝⎣5   0   0  ⎦  ⎣0  0  1⎦⎠"
      ]
     },
     "execution_count": 31,
     "metadata": {},
     "output_type": "execute_result"
    }
   ],
   "source": [
    "T, J = C.jordan_form()\n",
    "T, J"
   ]
  },
  {
   "cell_type": "code",
   "execution_count": 32,
   "id": "d029c332",
   "metadata": {
    "slideshow": {
     "slide_type": "-"
    }
   },
   "outputs": [
    {
     "data": {
      "text/latex": [
       "$\\displaystyle \\left[ \\left( 1, \\  3, \\  \\left[ \\left[\\begin{matrix}- \\frac{2}{5}\\\\1\\\\0\\end{matrix}\\right], \\  \\left[\\begin{matrix}- \\frac{3}{5}\\\\0\\\\1\\end{matrix}\\right]\\right]\\right)\\right]$"
      ],
      "text/plain": [
       "⎡⎛      ⎡⎡-2/5⎤  ⎡-3/5⎤⎤⎞⎤\n",
       "⎢⎜      ⎢⎢    ⎥  ⎢    ⎥⎥⎟⎥\n",
       "⎢⎜1, 3, ⎢⎢ 1  ⎥, ⎢ 0  ⎥⎥⎟⎥\n",
       "⎢⎜      ⎢⎢    ⎥  ⎢    ⎥⎥⎟⎥\n",
       "⎣⎝      ⎣⎣ 0  ⎦  ⎣ 1  ⎦⎦⎠⎦"
      ]
     },
     "execution_count": 32,
     "metadata": {},
     "output_type": "execute_result"
    }
   ],
   "source": [
    "C.eigenvects()"
   ]
  },
  {
   "cell_type": "code",
   "execution_count": 33,
   "id": "6c716aaa",
   "metadata": {
    "scrolled": true,
    "slideshow": {
     "slide_type": "slide"
    }
   },
   "outputs": [
    {
     "data": {
      "text/latex": [
       "$\\displaystyle \\left[\\begin{matrix}- \\frac{2}{5}\\\\1\\\\0\\end{matrix}\\right]$"
      ],
      "text/plain": [
       "⎡-2/5⎤\n",
       "⎢    ⎥\n",
       "⎢ 1  ⎥\n",
       "⎢    ⎥\n",
       "⎣ 0  ⎦"
      ]
     },
     "execution_count": 33,
     "metadata": {},
     "output_type": "execute_result"
    }
   ],
   "source": [
    "w1 = C.eigenvects()[0][2][0]\n",
    "w1"
   ]
  },
  {
   "cell_type": "code",
   "execution_count": 34,
   "id": "84caecd3",
   "metadata": {},
   "outputs": [
    {
     "data": {
      "text/latex": [
       "$\\displaystyle \\left[\\begin{matrix}- \\frac{3}{5}\\\\0\\\\1\\end{matrix}\\right]$"
      ],
      "text/plain": [
       "⎡-3/5⎤\n",
       "⎢    ⎥\n",
       "⎢ 0  ⎥\n",
       "⎢    ⎥\n",
       "⎣ 1  ⎦"
      ]
     },
     "execution_count": 34,
     "metadata": {},
     "output_type": "execute_result"
    }
   ],
   "source": [
    "w2 = C.eigenvects()[0][2][1]\n",
    "w2"
   ]
  },
  {
   "cell_type": "code",
   "execution_count": 35,
   "id": "8d976a3a",
   "metadata": {},
   "outputs": [
    {
     "data": {
      "text/latex": [
       "$\\displaystyle \\left( \\left[\\begin{matrix}-5\\\\5\\\\5\\end{matrix}\\right], \\  \\left[\\begin{matrix}-5\\\\5\\\\5\\end{matrix}\\right]\\right)$"
      ],
      "text/plain": [
       "⎛⎡-5⎤  ⎡-5⎤⎞\n",
       "⎜⎢  ⎥  ⎢  ⎥⎟\n",
       "⎜⎢5 ⎥, ⎢5 ⎥⎟\n",
       "⎜⎢  ⎥  ⎢  ⎥⎟\n",
       "⎝⎣5 ⎦  ⎣5 ⎦⎠"
      ]
     },
     "execution_count": 35,
     "metadata": {},
     "output_type": "execute_result"
    }
   ],
   "source": [
    "5*w1 + 5*w2, T.col(0)"
   ]
  },
  {
   "cell_type": "code",
   "execution_count": 36,
   "id": "1a879a44",
   "metadata": {},
   "outputs": [
    {
     "data": {
      "text/plain": [
       "True"
      ]
     },
     "execution_count": 36,
     "metadata": {},
     "output_type": "execute_result"
    }
   ],
   "source": [
    "T * J * T**(-1) == C"
   ]
  },
  {
   "cell_type": "markdown",
   "id": "55899c4b",
   "metadata": {
    "slideshow": {
     "slide_type": "slide"
    }
   },
   "source": [
    "Die Jordansche Normalform hängt unstetig von den Daten ab"
   ]
  },
  {
   "cell_type": "code",
   "execution_count": 37,
   "id": "67ac8db7",
   "metadata": {},
   "outputs": [
    {
     "data": {
      "text/latex": [
       "$\\displaystyle \\left[\\begin{matrix}\\delta - 4 & -2 & -3\\\\5 & 3 & 3\\\\5 & 2 & 4\\end{matrix}\\right]$"
      ],
      "text/plain": [
       "⎡δ - 4  -2  -3⎤\n",
       "⎢             ⎥\n",
       "⎢  5    3   3 ⎥\n",
       "⎢             ⎥\n",
       "⎣  5    2   4 ⎦"
      ]
     },
     "execution_count": 37,
     "metadata": {},
     "output_type": "execute_result"
    }
   ],
   "source": [
    "delta = Symbol('delta')\n",
    "C[0,0] += delta\n",
    "C"
   ]
  },
  {
   "cell_type": "code",
   "execution_count": 38,
   "id": "63f03a38",
   "metadata": {},
   "outputs": [
    {
     "data": {
      "text/latex": [
       "$\\displaystyle \\left[\\begin{matrix}1 & 0 & 0\\\\0 & \\frac{\\delta}{2} - \\frac{\\sqrt{\\delta^{2} - 20 \\delta}}{2} + 1 & 0\\\\0 & 0 & \\frac{\\delta}{2} + \\frac{\\sqrt{\\delta^{2} - 20 \\delta}}{2} + 1\\end{matrix}\\right]$"
      ],
      "text/plain": [
       "⎡1            0                       0           ⎤\n",
       "⎢                                                 ⎥\n",
       "⎢          ___________                            ⎥\n",
       "⎢         ╱  2                                    ⎥\n",
       "⎢   δ   ╲╱  δ  - 20⋅δ                             ⎥\n",
       "⎢0  ─ - ────────────── + 1            0           ⎥\n",
       "⎢   2         2                                   ⎥\n",
       "⎢                                                 ⎥\n",
       "⎢                                  ___________    ⎥\n",
       "⎢                                 ╱  2            ⎥\n",
       "⎢                           δ   ╲╱  δ  - 20⋅δ     ⎥\n",
       "⎢0            0             ─ + ────────────── + 1⎥\n",
       "⎣                           2         2           ⎦"
      ]
     },
     "execution_count": 38,
     "metadata": {},
     "output_type": "execute_result"
    }
   ],
   "source": [
    "Te, Je = C.jordan_form()\n",
    "Je"
   ]
  },
  {
   "cell_type": "code",
   "execution_count": 39,
   "id": "20c06e28",
   "metadata": {},
   "outputs": [
    {
     "data": {
      "text/latex": [
       "$\\displaystyle \\left( \\left[\\begin{matrix}1 & 0 & 0\\\\0 & 1 & 0\\\\0 & 0 & 1\\end{matrix}\\right], \\  \\left[\\begin{matrix}1 & 1 & 0\\\\0 & 1 & 0\\\\0 & 0 & 1\\end{matrix}\\right]\\right)$"
      ],
      "text/plain": [
       "⎛⎡1  0  0⎤  ⎡1  1  0⎤⎞\n",
       "⎜⎢       ⎥  ⎢       ⎥⎟\n",
       "⎜⎢0  1  0⎥, ⎢0  1  0⎥⎟\n",
       "⎜⎢       ⎥  ⎢       ⎥⎟\n",
       "⎝⎣0  0  1⎦  ⎣0  0  1⎦⎠"
      ]
     },
     "execution_count": 39,
     "metadata": {},
     "output_type": "execute_result"
    }
   ],
   "source": [
    "Je.limit(delta, 0), J"
   ]
  },
  {
   "cell_type": "markdown",
   "id": "286687e8",
   "metadata": {
    "slideshow": {
     "slide_type": "slide"
    }
   },
   "source": [
    "# Normen von Vektoren und Matrizen"
   ]
  },
  {
   "cell_type": "code",
   "execution_count": 40,
   "id": "04b8177e",
   "metadata": {
    "slideshow": {
     "slide_type": "slide"
    }
   },
   "outputs": [
    {
     "data": {
      "image/png": "[encoded data removed]",
      "text/latex": [
       "$\\displaystyle \\sqrt{14}$"
      ],
      "text/plain": [
       "√14"
      ]
     },
     "execution_count": 40,
     "metadata": {},
     "output_type": "execute_result"
    }
   ],
   "source": [
    "v = Matrix([1,2,3])\n",
    "v.norm()"
   ]
  },
  {
   "cell_type": "code",
   "execution_count": 42,
   "id": "c9b4b8c4",
   "metadata": {},
   "outputs": [
    {
     "data": {
      "image/png": "[encoded data removed]",
      "text/latex": [
       "$\\displaystyle \\sqrt{a^{2} + b^{2} + c^{2}}$"
      ],
      "text/plain": [
       "   ______________\n",
       "  ╱  2    2    2 \n",
       "╲╱  a  + b  + c  "
      ]
     },
     "execution_count": 42,
     "metadata": {},
     "output_type": "execute_result"
    }
   ],
   "source": [
    "a, b, c, d = symbols(\"a b c d\", real=True)\n",
    "w = Matrix([a, b, c])\n",
    "w.norm()"
   ]
  },
  {
   "cell_type": "code",
   "execution_count": 43,
   "id": "fda137ef",
   "metadata": {
    "slideshow": {
     "slide_type": "slide"
    }
   },
   "outputs": [
    {
     "data": {
      "image/png": "[encoded data removed]",
      "text/latex": [
       "$\\displaystyle 3$"
      ],
      "text/plain": [
       "3"
      ]
     },
     "execution_count": 43,
     "metadata": {},
     "output_type": "execute_result"
    }
   ],
   "source": [
    "v.norm(oo)"
   ]
  },
  {
   "cell_type": "code",
   "execution_count": 44,
   "id": "9670b50b",
   "metadata": {},
   "outputs": [
    {
     "data": {
      "image/png": "[encoded data removed]",
      "text/latex": [
       "$\\displaystyle \\max\\left(\\left|{a}\\right|, \\left|{b}\\right|, \\left|{c}\\right|\\right)$"
      ],
      "text/plain": [
       "Max(Abs(a), Abs(b), Abs(c))"
      ]
     },
     "execution_count": 44,
     "metadata": {},
     "output_type": "execute_result"
    }
   ],
   "source": [
    "w.norm(oo)"
   ]
  },
  {
   "cell_type": "code",
   "execution_count": 47,
   "id": "0164ea41",
   "metadata": {
    "slideshow": {
     "slide_type": "fragment"
    }
   },
   "outputs": [
    {
     "data": {
      "image/png": "[encoded data removed]",
      "text/latex": [
       "$\\displaystyle \\left(1 + 2 \\cdot \\sqrt[7]{2} + 3 \\cdot \\sqrt[7]{3}\\right)^{\\frac{7}{8}}$"
      ],
      "text/plain": [
       "                       7/8\n",
       "⎛      7 ___     7 ___⎞   \n",
       "⎝1 + 2⋅╲╱ 2  + 3⋅╲╱ 3 ⎠   "
      ]
     },
     "execution_count": 47,
     "metadata": {},
     "output_type": "execute_result"
    }
   ],
   "source": [
    "v.norm(Rational(8,7))"
   ]
  },
  {
   "cell_type": "code",
   "execution_count": 49,
   "id": "abe0a038",
   "metadata": {},
   "outputs": [
    {
     "data": {
      "image/png": "[encoded data removed]",
      "text/latex": [
       "$\\displaystyle \\left(\\left|{a}\\right|^{\\frac{8}{7}} + \\left|{b}\\right|^{\\frac{8}{7}} + \\left|{c}\\right|^{\\frac{8}{7}}\\right)^{\\frac{7}{8}}$"
      ],
      "text/plain": [
       "                          7/8\n",
       "⎛   8/7      8/7      8/7⎞   \n",
       "⎝│a│    + │b│    + │c│   ⎠   "
      ]
     },
     "execution_count": 49,
     "metadata": {},
     "output_type": "execute_result"
    }
   ],
   "source": [
    "w.norm(Rational(8,7))"
   ]
  },
  {
   "cell_type": "code",
   "execution_count": 50,
   "id": "643643d5",
   "metadata": {
    "slideshow": {
     "slide_type": "slide"
    }
   },
   "outputs": [
    {
     "data": {
      "text/latex": [
       "$\\displaystyle \\left[\\begin{matrix}1 & 2 & 3\\\\4 & 5 & 6\\\\7 & 8 & 9\\end{matrix}\\right]$"
      ],
      "text/plain": [
       "⎡1  2  3⎤\n",
       "⎢       ⎥\n",
       "⎢4  5  6⎥\n",
       "⎢       ⎥\n",
       "⎣7  8  9⎦"
      ]
     },
     "execution_count": 50,
     "metadata": {},
     "output_type": "execute_result"
    }
   ],
   "source": [
    "A"
   ]
  },
  {
   "cell_type": "code",
   "execution_count": 51,
   "id": "fed1d0de",
   "metadata": {},
   "outputs": [
    {
     "data": {
      "image/png": "[encoded data removed]",
      "text/latex": [
       "$\\displaystyle \\sqrt{285}$"
      ],
      "text/plain": [
       "√285"
      ]
     },
     "execution_count": 51,
     "metadata": {},
     "output_type": "execute_result"
    }
   ],
   "source": [
    "A.norm()"
   ]
  },
  {
   "cell_type": "code",
   "execution_count": 52,
   "id": "b33550f0",
   "metadata": {
    "slideshow": {
     "slide_type": "fragment"
    }
   },
   "outputs": [
    {
     "data": {
      "text/latex": [
       "$\\displaystyle \\left[\\begin{matrix}a & b\\\\c & d\\end{matrix}\\right]$"
      ],
      "text/plain": [
       "⎡a  b⎤\n",
       "⎢    ⎥\n",
       "⎣c  d⎦"
      ]
     },
     "execution_count": 52,
     "metadata": {},
     "output_type": "execute_result"
    }
   ],
   "source": [
    "M = Matrix(2,2,[a,b,c,d])\n",
    "M"
   ]
  },
  {
   "cell_type": "code",
   "execution_count": 53,
   "id": "f3ed999a",
   "metadata": {},
   "outputs": [
    {
     "data": {
      "image/png": "[encoded data removed]",
      "text/latex": [
       "$\\displaystyle \\sqrt{a^{2} + b^{2} + c^{2} + d^{2}}$"
      ],
      "text/plain": [
       "   ___________________\n",
       "  ╱  2    2    2    2 \n",
       "╲╱  a  + b  + c  + d  "
      ]
     },
     "execution_count": 53,
     "metadata": {},
     "output_type": "execute_result"
    }
   ],
   "source": [
    "M.norm()"
   ]
  },
  {
   "cell_type": "markdown",
   "id": "863e3747",
   "metadata": {},
   "source": [
    "Das ist die Frobeniusnorm.  Sie keine Matrixnorm, aber submultiplikativ, erfüllt also $\\Vert AB \\Vert \\le \\Vert A \\Vert \\, \\Vert B \\Vert$."
   ]
  },
  {
   "cell_type": "code",
   "execution_count": 54,
   "id": "1fafeae2",
   "metadata": {
    "slideshow": {
     "slide_type": "slide"
    }
   },
   "outputs": [
    {
     "data": {
      "image/png": "[encoded data removed]",
      "text/latex": [
       "$\\displaystyle \\sqrt{\\frac{3 \\sqrt{8881}}{2} + \\frac{285}{2}}$"
      ],
      "text/plain": [
       "    _______________\n",
       "   ╱ 3⋅√8881   285 \n",
       "  ╱  ─────── + ─── \n",
       "╲╱      2       2  "
      ]
     },
     "execution_count": 54,
     "metadata": {},
     "output_type": "execute_result"
    }
   ],
   "source": [
    "A.norm(2)"
   ]
  },
  {
   "cell_type": "code",
   "execution_count": 55,
   "id": "837e747a",
   "metadata": {},
   "outputs": [
    {
     "data": {
      "text/latex": [
       "$\\displaystyle \\left[\\begin{matrix}66 & 78 & 90\\\\78 & 93 & 108\\\\90 & 108 & 126\\end{matrix}\\right]$"
      ],
      "text/plain": [
       "⎡66  78   90 ⎤\n",
       "⎢            ⎥\n",
       "⎢78  93   108⎥\n",
       "⎢            ⎥\n",
       "⎣90  108  126⎦"
      ]
     },
     "execution_count": 55,
     "metadata": {},
     "output_type": "execute_result"
    }
   ],
   "source": [
    "B = A.T*A\n",
    "B"
   ]
  },
  {
   "cell_type": "code",
   "execution_count": 56,
   "id": "be7996e1",
   "metadata": {},
   "outputs": [
    {
     "data": {
      "image/png": "[encoded data removed]",
      "text/latex": [
       "$\\displaystyle \\left\\{ 0 : 1, \\  \\frac{285}{2} - \\frac{3 \\sqrt{8881}}{2} : 1, \\  \\frac{3 \\sqrt{8881}}{2} + \\frac{285}{2} : 1\\right\\}$"
      ],
      "text/plain": [
       "⎧      285   3⋅√8881     3⋅√8881   285   ⎫\n",
       "⎨0: 1, ─── - ───────: 1, ─────── + ───: 1⎬\n",
       "⎩       2       2           2       2    ⎭"
      ]
     },
     "execution_count": 56,
     "metadata": {},
     "output_type": "execute_result"
    }
   ],
   "source": [
    "B.eigenvals()"
   ]
  },
  {
   "cell_type": "markdown",
   "id": "db943249",
   "metadata": {},
   "source": [
    "Das ist eine Matrixnorm."
   ]
  },
  {
   "cell_type": "code",
   "execution_count": 57,
   "id": "94c3d340",
   "metadata": {
    "slideshow": {
     "slide_type": "slide"
    }
   },
   "outputs": [
    {
     "data": {
      "image/png": "[encoded data removed]",
      "text/latex": [
       "$\\displaystyle \\max\\left(\\left|{a}\\right| + \\left|{c}\\right|, \\left|{b}\\right| + \\left|{d}\\right|\\right)$"
      ],
      "text/plain": [
       "Max(Abs(a) + Abs(c), Abs(b) + Abs(d))"
      ]
     },
     "execution_count": 57,
     "metadata": {},
     "output_type": "execute_result"
    }
   ],
   "source": [
    "M.norm(1)"
   ]
  },
  {
   "cell_type": "markdown",
   "id": "0f44cde0",
   "metadata": {},
   "source": [
    "Spaltensummennorm"
   ]
  },
  {
   "cell_type": "code",
   "execution_count": 58,
   "id": "f542ea86",
   "metadata": {
    "slideshow": {
     "slide_type": "fragment"
    }
   },
   "outputs": [
    {
     "data": {
      "image/png": "[encoded data removed]",
      "text/latex": [
       "$\\displaystyle \\max\\left(\\left|{a}\\right| + \\left|{b}\\right|, \\left|{c}\\right| + \\left|{d}\\right|\\right)$"
      ],
      "text/plain": [
       "Max(Abs(a) + Abs(b), Abs(c) + Abs(d))"
      ]
     },
     "execution_count": 58,
     "metadata": {},
     "output_type": "execute_result"
    }
   ],
   "source": [
    "M.norm(oo)"
   ]
  },
  {
   "cell_type": "markdown",
   "id": "45ce42c4",
   "metadata": {},
   "source": [
    "Zeilensummennorm"
   ]
  },
  {
   "cell_type": "markdown",
   "id": "d0e679e6",
   "metadata": {},
   "source": [
    "Das sind auch Matrixnormen."
   ]
  },
  {
   "cell_type": "markdown",
   "id": "a198f624",
   "metadata": {
    "slideshow": {
     "slide_type": "slide"
    }
   },
   "source": [
    "# Vektoranalysis"
   ]
  },
  {
   "cell_type": "code",
   "execution_count": 59,
   "id": "af8c58dc",
   "metadata": {
    "slideshow": {
     "slide_type": "slide"
    }
   },
   "outputs": [],
   "source": [
    "x, y, z = symbols('x y z')\n",
    "variablen = [x,y,z]"
   ]
  },
  {
   "cell_type": "code",
   "execution_count": 60,
   "id": "9a99dd3c",
   "metadata": {},
   "outputs": [
    {
     "data": {
      "image/png": "[encoded data removed]",
      "text/latex": [
       "$\\displaystyle e^{x^{2} + 2 y^{2} + 3 z^{2}}$"
      ],
      "text/plain": [
       "  2      2      2\n",
       " x  + 2⋅y  + 3⋅z \n",
       "ℯ                "
      ]
     },
     "execution_count": 60,
     "metadata": {},
     "output_type": "execute_result"
    }
   ],
   "source": [
    "f = exp(x**2 + 2*y**2 + 3*z**2)\n",
    "f"
   ]
  },
  {
   "cell_type": "code",
   "execution_count": 61,
   "id": "39efd413",
   "metadata": {},
   "outputs": [
    {
     "data": {
      "text/latex": [
       "$\\displaystyle \\left[\\begin{matrix}2 x e^{x^{2} + 2 y^{2} + 3 z^{2}} & 4 y e^{x^{2} + 2 y^{2} + 3 z^{2}} & 6 z e^{x^{2} + 2 y^{2} + 3 z^{2}}\\end{matrix}\\right]$"
      ],
      "text/plain": [
       "⎡      2      2      2        2      2      2        2      2      2⎤\n",
       "⎢     x  + 2⋅y  + 3⋅z        x  + 2⋅y  + 3⋅z        x  + 2⋅y  + 3⋅z ⎥\n",
       "⎣2⋅x⋅ℯ                  4⋅y⋅ℯ                  6⋅z⋅ℯ                ⎦"
      ]
     },
     "execution_count": 61,
     "metadata": {},
     "output_type": "execute_result"
    }
   ],
   "source": [
    "J = Matrix([f]).jacobian(variablen)\n",
    "J"
   ]
  },
  {
   "cell_type": "markdown",
   "id": "6d0d0fe2",
   "metadata": {},
   "source": [
    "Das ist die Jacobi-Matrix"
   ]
  },
  {
   "cell_type": "code",
   "execution_count": 62,
   "id": "18c0e571",
   "metadata": {
    "slideshow": {
     "slide_type": "fragment"
    }
   },
   "outputs": [
    {
     "data": {
      "text/latex": [
       "$\\displaystyle \\left[\\begin{matrix}2 x e^{x^{2} + 2 y^{2} + 3 z^{2}}\\\\4 y e^{x^{2} + 2 y^{2} + 3 z^{2}}\\\\6 z e^{x^{2} + 2 y^{2} + 3 z^{2}}\\end{matrix}\\right]$"
      ],
      "text/plain": [
       "⎡      2      2      2⎤\n",
       "⎢     x  + 2⋅y  + 3⋅z ⎥\n",
       "⎢2⋅x⋅ℯ                ⎥\n",
       "⎢                     ⎥\n",
       "⎢      2      2      2⎥\n",
       "⎢     x  + 2⋅y  + 3⋅z ⎥\n",
       "⎢4⋅y⋅ℯ                ⎥\n",
       "⎢                     ⎥\n",
       "⎢      2      2      2⎥\n",
       "⎢     x  + 2⋅y  + 3⋅z ⎥\n",
       "⎣6⋅z⋅ℯ                ⎦"
      ]
     },
     "execution_count": 62,
     "metadata": {},
     "output_type": "execute_result"
    }
   ],
   "source": [
    "nabla_f = J.T\n",
    "nabla_f"
   ]
  },
  {
   "cell_type": "markdown",
   "id": "024997bd",
   "metadata": {},
   "source": [
    "Das ist der Gradient"
   ]
  },
  {
   "cell_type": "code",
   "execution_count": 63,
   "id": "59342c11",
   "metadata": {
    "slideshow": {
     "slide_type": "slide"
    }
   },
   "outputs": [
    {
     "data": {
      "text/latex": [
       "$\\displaystyle \\left[\\begin{matrix}e^{x^{2} + 2 y^{2} + 3 z^{2}}\\\\e^{2 x^{2} + 4 y^{2} + 6 z^{2}}\\\\e^{3 x^{2} + 6 y^{2} + 9 z^{2}}\\end{matrix}\\right]$"
      ],
      "text/plain": [
       "⎡   2      2      2 ⎤\n",
       "⎢  x  + 2⋅y  + 3⋅z  ⎥\n",
       "⎢ ℯ                 ⎥\n",
       "⎢                   ⎥\n",
       "⎢    2      2      2⎥\n",
       "⎢ 2⋅x  + 4⋅y  + 6⋅z ⎥\n",
       "⎢ℯ                  ⎥\n",
       "⎢                   ⎥\n",
       "⎢    2      2      2⎥\n",
       "⎢ 3⋅x  + 6⋅y  + 9⋅z ⎥\n",
       "⎣ℯ                  ⎦"
      ]
     },
     "execution_count": 63,
     "metadata": {},
     "output_type": "execute_result"
    }
   ],
   "source": [
    "A = Matrix([f, f**2, f**3])\n",
    "A"
   ]
  },
  {
   "cell_type": "code",
   "execution_count": 64,
   "id": "7684f72a",
   "metadata": {},
   "outputs": [
    {
     "data": {
      "text/latex": [
       "$\\displaystyle \\left[\\begin{matrix}2 x e^{x^{2} + 2 y^{2} + 3 z^{2}} & 4 y e^{x^{2} + 2 y^{2} + 3 z^{2}} & 6 z e^{x^{2} + 2 y^{2} + 3 z^{2}}\\\\4 x e^{2 x^{2} + 4 y^{2} + 6 z^{2}} & 8 y e^{2 x^{2} + 4 y^{2} + 6 z^{2}} & 12 z e^{2 x^{2} + 4 y^{2} + 6 z^{2}}\\\\6 x e^{3 x^{2} + 6 y^{2} + 9 z^{2}} & 12 y e^{3 x^{2} + 6 y^{2} + 9 z^{2}} & 18 z e^{3 x^{2} + 6 y^{2} + 9 z^{2}}\\end{matrix}\\right]$"
      ],
      "text/plain": [
       "⎡       2      2      2          2      2      2           2      2      2  ⎤\n",
       "⎢      x  + 2⋅y  + 3⋅z          x  + 2⋅y  + 3⋅z           x  + 2⋅y  + 3⋅z   ⎥\n",
       "⎢ 2⋅x⋅ℯ                    4⋅y⋅ℯ                     6⋅z⋅ℯ                  ⎥\n",
       "⎢                                                                           ⎥\n",
       "⎢        2      2      2          2      2      2            2      2      2⎥\n",
       "⎢     2⋅x  + 4⋅y  + 6⋅z        2⋅x  + 4⋅y  + 6⋅z          2⋅x  + 4⋅y  + 6⋅z ⎥\n",
       "⎢4⋅x⋅ℯ                    8⋅y⋅ℯ                     12⋅z⋅ℯ                  ⎥\n",
       "⎢                                                                           ⎥\n",
       "⎢        2      2      2           2      2      2           2      2      2⎥\n",
       "⎢     3⋅x  + 6⋅y  + 9⋅z         3⋅x  + 6⋅y  + 9⋅z         3⋅x  + 6⋅y  + 9⋅z ⎥\n",
       "⎣6⋅x⋅ℯ                    12⋅y⋅ℯ                    18⋅z⋅ℯ                  ⎦"
      ]
     },
     "execution_count": 64,
     "metadata": {},
     "output_type": "execute_result"
    }
   ],
   "source": [
    "A.jacobian(variablen)"
   ]
  },
  {
   "cell_type": "code",
   "execution_count": 65,
   "id": "88318c44",
   "metadata": {
    "slideshow": {
     "slide_type": "slide"
    }
   },
   "outputs": [
    {
     "data": {
      "text/latex": [
       "$\\displaystyle \\left[\\begin{matrix}4 x^{2} e^{x^{2} + 2 y^{2} + 3 z^{2}} + 2 e^{x^{2} + 2 y^{2} + 3 z^{2}} & 8 x y e^{x^{2} + 2 y^{2} + 3 z^{2}} & 12 x z e^{x^{2} + 2 y^{2} + 3 z^{2}}\\\\8 x y e^{x^{2} + 2 y^{2} + 3 z^{2}} & 16 y^{2} e^{x^{2} + 2 y^{2} + 3 z^{2}} + 4 e^{x^{2} + 2 y^{2} + 3 z^{2}} & 24 y z e^{x^{2} + 2 y^{2} + 3 z^{2}}\\\\12 x z e^{x^{2} + 2 y^{2} + 3 z^{2}} & 24 y z e^{x^{2} + 2 y^{2} + 3 z^{2}} & 36 z^{2} e^{x^{2} + 2 y^{2} + 3 z^{2}} + 6 e^{x^{2} + 2 y^{2} + 3 z^{2}}\\end{matrix}\\right]$"
      ],
      "text/plain": [
       "⎡       2      2      2       2      2      2                     2      2    \n",
       "⎢   2  x  + 2⋅y  + 3⋅z       x  + 2⋅y  + 3⋅z                     x  + 2⋅y  + 3\n",
       "⎢4⋅x ⋅ℯ                 + 2⋅ℯ                             8⋅x⋅y⋅ℯ             \n",
       "⎢                                                                             \n",
       "⎢                  2      2      2                     2      2      2       2\n",
       "⎢                 x  + 2⋅y  + 3⋅z                  2  x  + 2⋅y  + 3⋅z       x \n",
       "⎢          8⋅x⋅y⋅ℯ                             16⋅y ⋅ℯ                 + 4⋅ℯ  \n",
       "⎢                                                                             \n",
       "⎢                   2      2      2                               2      2    \n",
       "⎢                  x  + 2⋅y  + 3⋅z                               x  + 2⋅y  + 3\n",
       "⎣          12⋅x⋅z⋅ℯ                                      24⋅y⋅z⋅ℯ             \n",
       "\n",
       "  2                                2      2      2           ⎤\n",
       "⋅z                                x  + 2⋅y  + 3⋅z            ⎥\n",
       "                          12⋅x⋅z⋅ℯ                           ⎥\n",
       "                                                             ⎥\n",
       "      2      2                     2      2      2           ⎥\n",
       " + 2⋅y  + 3⋅z                     x  + 2⋅y  + 3⋅z            ⎥\n",
       "                          24⋅y⋅z⋅ℯ                           ⎥\n",
       "                                                             ⎥\n",
       "  2                     2      2      2       2      2      2⎥\n",
       "⋅z                  2  x  + 2⋅y  + 3⋅z       x  + 2⋅y  + 3⋅z ⎥\n",
       "                36⋅z ⋅ℯ                 + 6⋅ℯ                ⎦"
      ]
     },
     "execution_count": 65,
     "metadata": {},
     "output_type": "execute_result"
    }
   ],
   "source": [
    "H = hessian(f, variablen)\n",
    "H"
   ]
  },
  {
   "cell_type": "code",
   "execution_count": 66,
   "id": "c0570452",
   "metadata": {},
   "outputs": [
    {
     "data": {
      "text/plain": [
       "True"
      ]
     },
     "execution_count": 66,
     "metadata": {},
     "output_type": "execute_result"
    }
   ],
   "source": [
    "H == H.T"
   ]
  },
  {
   "cell_type": "markdown",
   "id": "7ac99159",
   "metadata": {
    "slideshow": {
     "slide_type": "slide"
    }
   },
   "source": [
    "# Definitheitsverhalten"
   ]
  },
  {
   "cell_type": "code",
   "execution_count": null,
   "id": "c7c4f34b",
   "metadata": {},
   "outputs": [],
   "source": [
    "x = Symbol(\"x\")"
   ]
  },
  {
   "cell_type": "code",
   "execution_count": null,
   "id": "759714c7",
   "metadata": {},
   "outputs": [],
   "source": []
  },
  {
   "cell_type": "code",
   "execution_count": null,
   "id": "d2803aef",
   "metadata": {},
   "outputs": [],
   "source": []
  },
  {
   "cell_type": "code",
   "execution_count": null,
   "id": "7f6230a4",
   "metadata": {},
   "outputs": [],
   "source": []
  },
  {
   "cell_type": "code",
   "execution_count": 67,
   "id": "937c81ab",
   "metadata": {
    "slideshow": {
     "slide_type": "slide"
    }
   },
   "outputs": [
    {
     "data": {
      "text/latex": [
       "$\\displaystyle \\left[\\begin{matrix}6 e^{4} & 0 & - 12 e^{4}\\\\0 & 4 e^{4} & 0\\\\- 12 e^{4} & 0 & 42 e^{4}\\end{matrix}\\right]$"
      ],
      "text/plain": [
       "⎡    4              4⎤\n",
       "⎢ 6⋅ℯ     0    -12⋅ℯ ⎥\n",
       "⎢                    ⎥\n",
       "⎢           4        ⎥\n",
       "⎢  0     4⋅ℯ     0   ⎥\n",
       "⎢                    ⎥\n",
       "⎢     4            4 ⎥\n",
       "⎣-12⋅ℯ    0    42⋅ℯ  ⎦"
      ]
     },
     "execution_count": 67,
     "metadata": {},
     "output_type": "execute_result"
    }
   ],
   "source": [
    "H1 = H.subs({x:1, y:0, z:-1})\n",
    "H1"
   ]
  },
  {
   "cell_type": "code",
   "execution_count": 71,
   "id": "da9e748b",
   "metadata": {},
   "outputs": [
    {
     "data": {
      "text/plain": [
       "True"
      ]
     },
     "execution_count": 71,
     "metadata": {},
     "output_type": "execute_result"
    }
   ],
   "source": [
    "H1.is_positive_definite"
   ]
  },
  {
   "cell_type": "code",
   "execution_count": 72,
   "id": "f2734e27",
   "metadata": {},
   "outputs": [
    {
     "data": {
      "text/plain": [
       "False"
      ]
     },
     "execution_count": 72,
     "metadata": {},
     "output_type": "execute_result"
    }
   ],
   "source": [
    "H1.is_indefinite\n"
   ]
  },
  {
   "cell_type": "code",
   "execution_count": 73,
   "id": "9914f8a6",
   "metadata": {
    "slideshow": {
     "slide_type": "slide"
    }
   },
   "outputs": [
    {
     "data": {
      "text/latex": [
       "$\\displaystyle \\left[\\begin{matrix}x & 0\\\\0 & 1\\end{matrix}\\right]$"
      ],
      "text/plain": [
       "⎡x  0⎤\n",
       "⎢    ⎥\n",
       "⎣0  1⎦"
      ]
     },
     "execution_count": 73,
     "metadata": {},
     "output_type": "execute_result"
    }
   ],
   "source": [
    "M = Matrix(2,2,[x,0,0,1])\n",
    "M"
   ]
  },
  {
   "cell_type": "code",
   "execution_count": 74,
   "id": "86438d84",
   "metadata": {},
   "outputs": [],
   "source": [
    "M.is_positive_definite # kann man ohne Kenntnis von $x$ nicht wissen"
   ]
  },
  {
   "cell_type": "code",
   "execution_count": 75,
   "id": "91f0fbf0",
   "metadata": {},
   "outputs": [
    {
     "name": "stdout",
     "output_type": "stream",
     "text": [
      "None\n"
     ]
    }
   ],
   "source": [
    "print(M.is_positive_definite)"
   ]
  },
  {
   "cell_type": "code",
   "execution_count": 83,
   "id": "402809e4",
   "metadata": {},
   "outputs": [
    {
     "data": {
      "text/latex": [
       "$\\displaystyle \\left[\\begin{matrix}0 & x\\\\x & 0\\end{matrix}\\right]$"
      ],
      "text/plain": [
       "⎡0  x⎤\n",
       "⎢    ⎥\n",
       "⎣x  0⎦"
      ]
     },
     "execution_count": 83,
     "metadata": {},
     "output_type": "execute_result"
    }
   ],
   "source": [
    "x = Symbol(\"x\", positive=True)\n",
    "M = Matrix([[0,x], [x,0]])\n",
    "M"
   ]
  },
  {
   "cell_type": "code",
   "execution_count": 88,
   "id": "ef41457f",
   "metadata": {},
   "outputs": [
    {
     "data": {
      "text/plain": [
       "True"
      ]
     },
     "execution_count": 88,
     "metadata": {},
     "output_type": "execute_result"
    }
   ],
   "source": [
    "M.is_indefinite"
   ]
  },
  {
   "cell_type": "code",
   "execution_count": null,
   "id": "42576d01",
   "metadata": {},
   "outputs": [],
   "source": [
    "\n",
    "\n",
    "Dreiwertige Logik"
   ]
  },
  {
   "cell_type": "code",
   "execution_count": null,
   "id": "f61de6b0",
   "metadata": {},
   "outputs": [],
   "source": []
  },
  {
   "cell_type": "markdown",
   "id": "900115b4",
   "metadata": {
    "slideshow": {
     "slide_type": "slide"
    }
   },
   "source": [
    "# Extremwerte in mehreren Veränderlichen"
   ]
  },
  {
   "cell_type": "code",
   "execution_count": 92,
   "id": "9beaa1f0",
   "metadata": {},
   "outputs": [],
   "source": [
    "x = Symbol(\"x\")"
   ]
  },
  {
   "cell_type": "code",
   "execution_count": 93,
   "id": "561d3258",
   "metadata": {
    "slideshow": {
     "slide_type": "slide"
    }
   },
   "outputs": [
    {
     "data": {
      "image/png": "[encoded data removed]",
      "text/latex": [
       "$\\displaystyle - \\frac{x^{4}}{2} + x^{3} - x^{2} y^{2} - 3 x y^{2} - \\frac{y^{4}}{2}$"
      ],
      "text/plain": [
       "   4                          4\n",
       "  x     3    2  2        2   y \n",
       "- ── + x  - x ⋅y  - 3⋅x⋅y  - ──\n",
       "  2                          2 "
      ]
     },
     "execution_count": 93,
     "metadata": {},
     "output_type": "execute_result"
    }
   ],
   "source": [
    "f = -x**4/2 - x**2*y**2 - y**4/2 + x**3 - 3*x*y**2\n",
    "f"
   ]
  },
  {
   "cell_type": "code",
   "execution_count": 94,
   "id": "2a1bc393",
   "metadata": {},
   "outputs": [
    {
     "data": {
      "text/latex": [
       "$\\displaystyle \\left[\\begin{matrix}- 2 x^{3} + 3 x^{2} - 2 x y^{2} - 3 y^{2} & - 2 x^{2} y - 6 x y - 2 y^{3}\\end{matrix}\\right]$"
      ],
      "text/plain": [
       "⎡     3      2        2      2       2                3⎤\n",
       "⎣- 2⋅x  + 3⋅x  - 2⋅x⋅y  - 3⋅y   - 2⋅x ⋅y - 6⋅x⋅y - 2⋅y ⎦"
      ]
     },
     "execution_count": 94,
     "metadata": {},
     "output_type": "execute_result"
    }
   ],
   "source": [
    "gr = Matrix([f]).jacobian([x,y])\n",
    "gr"
   ]
  },
  {
   "cell_type": "code",
   "execution_count": 95,
   "id": "e8293939",
   "metadata": {},
   "outputs": [
    {
     "data": {
      "image/png": "[encoded data removed]",
      "text/latex": [
       "$\\displaystyle \\left[ \\left\\{ x : - \\frac{3}{4}, \\  y : - \\frac{3 \\sqrt{3}}{4}\\right\\}, \\  \\left\\{ x : - \\frac{3}{4}, \\  y : \\frac{3 \\sqrt{3}}{4}\\right\\}, \\  \\left\\{ x : 0, \\  y : 0\\right\\}, \\  \\left\\{ x : \\frac{3}{2}, \\  y : 0\\right\\}\\right]$"
      ],
      "text/plain": [
       "⎡⎧            -3⋅√3 ⎫  ⎧            3⋅√3⎫                              ⎤\n",
       "⎢⎨x: -3/4, y: ──────⎬, ⎨x: -3/4, y: ────⎬, {x: 0, y: 0}, {x: 3/2, y: 0}⎥\n",
       "⎣⎩              4   ⎭  ⎩             4  ⎭                              ⎦"
      ]
     },
     "execution_count": 95,
     "metadata": {},
     "output_type": "execute_result"
    }
   ],
   "source": [
    "lsg = solve(gr)\n",
    "lsg"
   ]
  },
  {
   "cell_type": "markdown",
   "id": "7cff6a71",
   "metadata": {},
   "source": [
    "kritische Punkte"
   ]
  },
  {
   "cell_type": "code",
   "execution_count": 96,
   "id": "2cc82fe6",
   "metadata": {
    "slideshow": {
     "slide_type": "slide"
    }
   },
   "outputs": [
    {
     "data": {
      "text/latex": [
       "$\\displaystyle \\left[\\begin{matrix}- 6 x^{2} + 6 x - 2 y^{2} & - 4 x y - 6 y\\\\- 4 x y - 6 y & - 2 x^{2} - 6 x - 6 y^{2}\\end{matrix}\\right]$"
      ],
      "text/plain": [
       "⎡     2            2                     ⎤\n",
       "⎢- 6⋅x  + 6⋅x - 2⋅y      -4⋅x⋅y - 6⋅y    ⎥\n",
       "⎢                                        ⎥\n",
       "⎢                          2            2⎥\n",
       "⎣   -4⋅x⋅y - 6⋅y      - 2⋅x  - 6⋅x - 6⋅y ⎦"
      ]
     },
     "execution_count": 96,
     "metadata": {},
     "output_type": "execute_result"
    }
   ],
   "source": [
    "H = hessian(f, [x,y])\n",
    "H"
   ]
  },
  {
   "cell_type": "code",
   "execution_count": 97,
   "id": "a5a47123",
   "metadata": {},
   "outputs": [
    {
     "data": {
      "text/latex": [
       "$\\displaystyle \\left[\\begin{matrix}- \\frac{45}{4} & \\frac{9 \\sqrt{3}}{4}\\\\\\frac{9 \\sqrt{3}}{4} & - \\frac{27}{4}\\end{matrix}\\right]$"
      ],
      "text/plain": [
       "⎡       9⋅√3 ⎤\n",
       "⎢-45/4  ──── ⎥\n",
       "⎢        4   ⎥\n",
       "⎢            ⎥\n",
       "⎢9⋅√3        ⎥\n",
       "⎢────   -27/4⎥\n",
       "⎣ 4          ⎦"
      ]
     },
     "execution_count": 97,
     "metadata": {},
     "output_type": "execute_result"
    }
   ],
   "source": [
    "H1 = H.subs(lsg[0])\n",
    "H1"
   ]
  },
  {
   "cell_type": "code",
   "execution_count": 98,
   "id": "89ade769",
   "metadata": {},
   "outputs": [
    {
     "data": {
      "text/plain": [
       "True"
      ]
     },
     "execution_count": 98,
     "metadata": {},
     "output_type": "execute_result"
    }
   ],
   "source": [
    "H1.is_negative_definite"
   ]
  },
  {
   "cell_type": "code",
   "execution_count": 99,
   "id": "c122ce2a",
   "metadata": {
    "slideshow": {
     "slide_type": "slide"
    }
   },
   "outputs": [
    {
     "data": {
      "text/latex": [
       "$\\displaystyle \\left[\\begin{matrix}- \\frac{45}{4} & - \\frac{9 \\sqrt{3}}{4}\\\\- \\frac{9 \\sqrt{3}}{4} & - \\frac{27}{4}\\end{matrix}\\right]$"
      ],
      "text/plain": [
       "⎡        -9⋅√3 ⎤\n",
       "⎢-45/4   ──────⎥\n",
       "⎢          4   ⎥\n",
       "⎢              ⎥\n",
       "⎢-9⋅√3         ⎥\n",
       "⎢──────  -27/4 ⎥\n",
       "⎣  4           ⎦"
      ]
     },
     "execution_count": 99,
     "metadata": {},
     "output_type": "execute_result"
    }
   ],
   "source": [
    "H2 = H.subs(lsg[1])\n",
    "H2"
   ]
  },
  {
   "cell_type": "code",
   "execution_count": 100,
   "id": "61249892",
   "metadata": {},
   "outputs": [
    {
     "data": {
      "text/plain": [
       "True"
      ]
     },
     "execution_count": 100,
     "metadata": {},
     "output_type": "execute_result"
    }
   ],
   "source": [
    "H2.is_negative_definite"
   ]
  },
  {
   "cell_type": "code",
   "execution_count": 101,
   "id": "907801ad",
   "metadata": {
    "slideshow": {
     "slide_type": "slide"
    }
   },
   "outputs": [
    {
     "data": {
      "text/latex": [
       "$\\displaystyle \\left[\\begin{matrix}0 & 0\\\\0 & 0\\end{matrix}\\right]$"
      ],
      "text/plain": [
       "⎡0  0⎤\n",
       "⎢    ⎥\n",
       "⎣0  0⎦"
      ]
     },
     "execution_count": 101,
     "metadata": {},
     "output_type": "execute_result"
    }
   ],
   "source": [
    "H3 = H.subs(lsg[2])\n",
    "H3"
   ]
  },
  {
   "cell_type": "code",
   "execution_count": 102,
   "id": "af62f741",
   "metadata": {},
   "outputs": [
    {
     "data": {
      "text/plain": [
       "True"
      ]
     },
     "execution_count": 102,
     "metadata": {},
     "output_type": "execute_result"
    }
   ],
   "source": [
    "H3.is_positive_semidefinite"
   ]
  },
  {
   "cell_type": "code",
   "execution_count": 103,
   "id": "99275639",
   "metadata": {},
   "outputs": [
    {
     "data": {
      "text/plain": [
       "True"
      ]
     },
     "execution_count": 103,
     "metadata": {},
     "output_type": "execute_result"
    }
   ],
   "source": [
    "H3.is_negative_semidefinite"
   ]
  },
  {
   "cell_type": "markdown",
   "id": "5fe720bc",
   "metadata": {},
   "source": [
    "verschieben wir auf später"
   ]
  },
  {
   "cell_type": "code",
   "execution_count": 106,
   "id": "5cdca5c7",
   "metadata": {
    "slideshow": {
     "slide_type": "slide"
    }
   },
   "outputs": [
    {
     "data": {
      "text/latex": [
       "$\\displaystyle \\left[\\begin{matrix}- \\frac{9}{2} & 0\\\\0 & - \\frac{27}{2}\\end{matrix}\\right]$"
      ],
      "text/plain": [
       "⎡-9/2    0  ⎤\n",
       "⎢           ⎥\n",
       "⎣ 0    -27/2⎦"
      ]
     },
     "execution_count": 106,
     "metadata": {},
     "output_type": "execute_result"
    }
   ],
   "source": [
    "H4 = H.subs(lsg[3])\n",
    "H4"
   ]
  },
  {
   "cell_type": "markdown",
   "id": "be030683",
   "metadata": {},
   "source": [
    "Direkt zu sehen:  negativ definit"
   ]
  },
  {
   "cell_type": "markdown",
   "id": "842bf2fe",
   "metadata": {
    "slideshow": {
     "slide_type": "slide"
    }
   },
   "source": [
    "zurück zu"
   ]
  },
  {
   "cell_type": "code",
   "execution_count": 107,
   "id": "32bbbc91",
   "metadata": {},
   "outputs": [
    {
     "data": {
      "image/png": "[encoded data removed]",
      "text/latex": [
       "$\\displaystyle \\left\\{ x : 0, \\  y : 0\\right\\}$"
      ],
      "text/plain": [
       "{x: 0, y: 0}"
      ]
     },
     "execution_count": 107,
     "metadata": {},
     "output_type": "execute_result"
    }
   ],
   "source": [
    "lsg[2]"
   ]
  },
  {
   "cell_type": "code",
   "execution_count": 105,
   "id": "fd0712f7",
   "metadata": {},
   "outputs": [
    {
     "data": {
      "image/png": "[encoded data removed]",
      "text/latex": [
       "$\\displaystyle - \\frac{x^{4}}{2} + x^{3}$"
      ],
      "text/plain": [
       "   4     \n",
       "  x     3\n",
       "- ── + x \n",
       "  2      "
      ]
     },
     "execution_count": 105,
     "metadata": {},
     "output_type": "execute_result"
    }
   ],
   "source": [
    "f_x = f.subs(y, lsg[2][y])\n",
    "f_x"
   ]
  },
  {
   "cell_type": "markdown",
   "id": "495b81e8",
   "metadata": {},
   "source": [
    "Diese Funktion hat in $0$ einen Sattelpunkt"
   ]
  }
 ],
 "metadata": {
  "celltoolbar": "Slideshow",
  "kernelspec": {
   "display_name": "Python 3 (ipykernel)",
   "language": "python",
   "name": "python3"
  },
  "language_info": {
   "codemirror_mode": {
    "name": "ipython",
    "version": 3
   },
   "file_extension": ".py",
   "mimetype": "text/x-python",
   "name": "python",
   "nbconvert_exporter": "python",
   "pygments_lexer": "ipython3",
   "version": "3.9.12"
  }
 },
 "nbformat": 4,
 "nbformat_minor": 5
}
