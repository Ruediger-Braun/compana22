{
 "cells": [
  {
   "cell_type": "code",
   "execution_count": null,
   "id": "9b2e157f",
   "metadata": {},
   "outputs": [],
   "source": [
    "from sympy import *\n",
    "init_printing()\n",
    "import numpy as np\n",
    "from matplotlib import pyplot as plt"
   ]
  },
  {
   "cell_type": "code",
   "execution_count": null,
   "id": "a4dc7ceb",
   "metadata": {},
   "outputs": [],
   "source": [
    "x = Symbol('x', positive=True)\n",
    "y = Function('y')"
   ]
  },
  {
   "cell_type": "code",
   "execution_count": null,
   "id": "4ca2057b",
   "metadata": {},
   "outputs": [],
   "source": [
    "dgl = Eq(y(x).diff(x), sqrt(x*y(x)))\n",
    "dgl"
   ]
  },
  {
   "cell_type": "code",
   "execution_count": null,
   "id": "b6eb31d5",
   "metadata": {},
   "outputs": [],
   "source": [
    "lsg = dsolve(dgl)\n",
    "lsg"
   ]
  },
  {
   "cell_type": "code",
   "execution_count": null,
   "id": "b40d3427",
   "metadata": {},
   "outputs": [],
   "source": [
    "phi = lsg.rhs"
   ]
  },
  {
   "cell_type": "code",
   "execution_count": null,
   "id": "a995f269",
   "metadata": {},
   "outputs": [],
   "source": [
    "w_liste = [Rational(1,50), Rational(1,9)]\n",
    "f_list = []\n",
    "for w in w_liste:\n",
    "    ab_glg = Eq(phi.subs(x,1), w)\n",
    "    ab_lsg = solve({ab_glg})\n",
    "    for l in ab_lsg:\n",
    "        f_ab = phi.subs(l).simplify()\n",
    "        display(f_ab)\n",
    "        f_list.append(f_ab)"
   ]
  },
  {
   "cell_type": "code",
   "execution_count": null,
   "id": "ca1297b0",
   "metadata": {},
   "outputs": [],
   "source": [
    "fn_list = []\n",
    "for f_ab in f_list:\n",
    "    fn = lambdify(x, f_ab)\n",
    "    fn_list.append(fn)"
   ]
  },
  {
   "cell_type": "code",
   "execution_count": null,
   "id": "61019aad",
   "metadata": {},
   "outputs": [],
   "source": [
    "xn = np.linspace(0, 1.2)\n",
    "fig = plt.figure()\n",
    "ax = fig.add_subplot(111)\n",
    "for ff in fn_list:\n",
    "    ax.plot(xn, ff(xn))"
   ]
  },
  {
   "cell_type": "markdown",
   "id": "4606dd9e",
   "metadata": {},
   "source": [
    "5 Verstöße gegen Picard-Lindelöf"
   ]
  },
  {
   "cell_type": "code",
   "execution_count": null,
   "id": "6f8a70ea",
   "metadata": {},
   "outputs": [],
   "source": [
    "nx = 15\n",
    "ny = 19 \n",
    "xq = np.linspace(0, 1.2, nx)\n",
    "yq = np.linspace(0, .5, ny)\n",
    "X, Y = np.meshgrid(xq, yq)\n",
    "vf = np.zeros_like(X)\n",
    "for j in range(nx):\n",
    "    for k in range(ny):\n",
    "        vf[k,j] = dgl.rhs.subs({x: xq[j], y(x): yq[k]})\n",
    "U = np.ones_like(X)\n",
    "V = vf\n",
    "ax.quiver(X, Y, U, V, angles='xy');"
   ]
  },
  {
   "cell_type": "code",
   "execution_count": null,
   "id": "c6849a60",
   "metadata": {},
   "outputs": [],
   "source": [
    "fig"
   ]
  },
  {
   "cell_type": "markdown",
   "id": "757524d2",
   "metadata": {},
   "source": [
    "Alle fallenden Äste sind Unsinn!"
   ]
  },
  {
   "cell_type": "markdown",
   "id": "e5e5a36c",
   "metadata": {},
   "source": [
    "# Bernoullische Differentialgleichungen"
   ]
  },
  {
   "cell_type": "markdown",
   "id": "9ada1904",
   "metadata": {},
   "source": [
    "Eine Differentialgleichung der Form\n",
    "  \\begin{equation*}\n",
    "    y' + g(x) y + h(x) y^\\alpha = 0. \\qquad (1)\n",
    "  \\end{equation*}\n",
    "heißt *Bernoullische Differentialgleichung*."
   ]
  },
  {
   "cell_type": "markdown",
   "id": "4dcf58f3",
   "metadata": {},
   "source": [
    "Durch die Substitution $y=w^{1/(1-\\alpha)}$ wird sie in eine lineare Differentialgleichung transformiert.  Das geht aber nur dort, wo $w>0$."
   ]
  },
  {
   "cell_type": "code",
   "execution_count": null,
   "id": "72449a4a",
   "metadata": {},
   "outputs": [],
   "source": [
    "alpha = Rational(1,2)\n",
    "1/(1-alpha)"
   ]
  },
  {
   "cell_type": "code",
   "execution_count": null,
   "id": "30850a86",
   "metadata": {},
   "outputs": [],
   "source": [
    "w = Function('w', positive=True)"
   ]
  },
  {
   "cell_type": "code",
   "execution_count": null,
   "id": "65cc9b9a",
   "metadata": {},
   "outputs": [],
   "source": [
    "ldgl = dgl.subs(y(x), w(x)**2)\n",
    "ldgl"
   ]
  },
  {
   "cell_type": "code",
   "execution_count": null,
   "id": "f1ee2c4f",
   "metadata": {},
   "outputs": [],
   "source": [
    "tmp = ldgl.doit()\n",
    "tmp"
   ]
  },
  {
   "cell_type": "code",
   "execution_count": null,
   "id": "1ff24282",
   "metadata": {},
   "outputs": [],
   "source": [
    "tmp_lsg = solve(tmp, w(x).diff(x))\n",
    "tmp_lsg"
   ]
  },
  {
   "cell_type": "code",
   "execution_count": null,
   "id": "10930a6b",
   "metadata": {},
   "outputs": [],
   "source": [
    "dgl2 = Eq(w(x).diff(x), tmp_lsg[0])\n",
    "dgl2"
   ]
  },
  {
   "cell_type": "markdown",
   "id": "bf79c8f7",
   "metadata": {},
   "source": [
    "Die Anfangsbedingung $y(1)=\\frac19$ übersetzt sich zu $w(1)=\\frac13$."
   ]
  },
  {
   "cell_type": "code",
   "execution_count": null,
   "id": "b2e6ff91",
   "metadata": {},
   "outputs": [],
   "source": [
    "ics = {w(1): Rational(1,3)}\n",
    "lsg = dsolve(dgl2, ics=ics)\n",
    "lsg"
   ]
  },
  {
   "cell_type": "code",
   "execution_count": null,
   "id": "875ce315",
   "metadata": {},
   "outputs": [],
   "source": [
    "phi = lsg.rhs**(1/(1-alpha))\n",
    "phi"
   ]
  },
  {
   "cell_type": "code",
   "execution_count": null,
   "id": "db96afe0",
   "metadata": {},
   "outputs": [],
   "source": [
    "dgl.subs(y(x), phi).doit()"
   ]
  },
  {
   "cell_type": "markdown",
   "id": "d12dd7a4",
   "metadata": {},
   "source": [
    "Wo kommt die falsche Lösung her?"
   ]
  },
  {
   "cell_type": "markdown",
   "id": "2e20ab7f",
   "metadata": {},
   "source": [
    "Es gilt $y = w^{\\frac1{1-\\alpha}}$.  In diesem Beispiel ist $\\frac1{1-\\alpha} = 2$.\n",
    "\n",
    "Setzt man also $w(1) = -\\frac13$, dann hat man ebenfalls $y(1)=\\frac19$.  Das geht aber nichtb gut:"
   ]
  },
  {
   "cell_type": "code",
   "execution_count": null,
   "id": "a4f9db38",
   "metadata": {},
   "outputs": [],
   "source": [
    "ics = {w(1): -Rational(1,3)}\n",
    "lsg2 = dsolve(dgl2, ics=ics)\n",
    "lsg2"
   ]
  },
  {
   "cell_type": "code",
   "execution_count": null,
   "id": "75041de0",
   "metadata": {},
   "outputs": [],
   "source": [
    "phi2 = lsg2.rhs**(1/(1-alpha))\n",
    "phi2"
   ]
  },
  {
   "cell_type": "code",
   "execution_count": null,
   "id": "07c909c1",
   "metadata": {},
   "outputs": [],
   "source": [
    "glg = dgl.subs(y(x), phi2).doit()\n",
    "glg"
   ]
  },
  {
   "cell_type": "code",
   "execution_count": null,
   "id": "48ddfd06",
   "metadata": {},
   "outputs": [],
   "source": [
    "glg.subs(x,1)"
   ]
  },
  {
   "cell_type": "markdown",
   "id": "054584fa",
   "metadata": {},
   "source": [
    "# Mayavi"
   ]
  },
  {
   "cell_type": "markdown",
   "id": "5d12d26b",
   "metadata": {},
   "source": [
    "`conda install -c conda-forge mayavi ipywidgets ipyevents`"
   ]
  },
  {
   "cell_type": "code",
   "execution_count": null,
   "id": "534e5824",
   "metadata": {},
   "outputs": [],
   "source": [
    "from mayavi import mlab\n",
    "mlab.init_notebook()"
   ]
  },
  {
   "cell_type": "code",
   "execution_count": null,
   "id": "6832bf14",
   "metadata": {},
   "outputs": [],
   "source": [
    "rn = np.linspace(0, 5*np.pi)\n",
    "theta_n = np.linspace(0, 2*np.pi)\n",
    "R, Theta = np.meshgrid(rn, theta_n)\n",
    "X = R*np.cos(Theta)\n",
    "Y = R*np.sin(Theta)\n",
    "W = np.cos(R)"
   ]
  },
  {
   "cell_type": "code",
   "execution_count": null,
   "id": "d2c74bab",
   "metadata": {},
   "outputs": [],
   "source": [
    "mlab.mesh(X, Y, W)"
   ]
  },
  {
   "cell_type": "code",
   "execution_count": null,
   "id": "a94c45b5",
   "metadata": {},
   "outputs": [],
   "source": [
    "mlab.close()\n",
    "mlab.mesh(X, Y, W, scalars=1/(R+10), colormap='winter')"
   ]
  },
  {
   "cell_type": "markdown",
   "id": "009fdf39",
   "metadata": {},
   "source": [
    "# Das Möbiusband"
   ]
  },
  {
   "cell_type": "code",
   "execution_count": null,
   "id": "69da1481",
   "metadata": {},
   "outputs": [],
   "source": [
    "def moebiusband():\n",
    "    t = Symbol('t')  \n",
    "    s = Symbol('s')  # Seele bei s=0\n",
    "    M = Matrix([ 3*cos(t) + s*sin(t/2),\n",
    "                       3*sin(t),\n",
    "                       s*cos(t/2)])\n",
    "    sn = np.linspace(-1, 1)\n",
    "    tn = np.linspace(0, 2*np.pi)\n",
    "    S1, T1 = np.meshgrid(sn, tn)\n",
    "    fn = [lambdify((s,t), M[j]) for j in range(3)]\n",
    "    Xn = [fn[j](S1, T1) for j in range(3)]\n",
    "    return M, Xn, S1   "
   ]
  },
  {
   "cell_type": "code",
   "execution_count": null,
   "id": "1b782fc2",
   "metadata": {},
   "outputs": [],
   "source": [
    "M, Xn, S1 = moebiusband()"
   ]
  },
  {
   "cell_type": "code",
   "execution_count": null,
   "id": "513aaab6",
   "metadata": {},
   "outputs": [],
   "source": [
    "try:\n",
    "    mlab.close()\n",
    "except AttributeError:\n",
    "    pass\n",
    "mlab.mesh(Xn[0], Xn[1], Xn[2], scalars=S1)"
   ]
  },
  {
   "cell_type": "code",
   "execution_count": null,
   "id": "8cd70929",
   "metadata": {},
   "outputs": [],
   "source": [
    "def normale(M):\n",
    "    s = Symbol('s')\n",
    "    t = Symbol('t')\n",
    "    seele = M.subs(s, 0)\n",
    "    Mt = seele.diff(t)\n",
    "    Ms = M.diff(s)\n",
    "    display(Mt, Ms)\n",
    "    N = Mt.cross(Ms)   # Kreuzprodukt\n",
    "    display(N)\n",
    "    N_ein = seele + s*N/N.norm()\n",
    "    sn = np.linspace(0.05, 1)\n",
    "    tn = np.linspace(0, 2*np.pi)\n",
    "    S1, T1 = np.meshgrid(sn, tn)\n",
    "    Nn = [lambdify((s,t), N_ein[j]) for j in range(3)]\n",
    "    Xn = [Nn[j](S1, T1) for j in range(3)]\n",
    "    return Xn"
   ]
  },
  {
   "cell_type": "code",
   "execution_count": null,
   "id": "789c23cd",
   "metadata": {},
   "outputs": [],
   "source": [
    "Nn = normale(M)"
   ]
  },
  {
   "cell_type": "code",
   "execution_count": null,
   "id": "2dfbcd0d",
   "metadata": {},
   "outputs": [],
   "source": [
    "mlab.mesh(Nn[0], Nn[1], Nn[2], color=(0, .3, 0)) "
   ]
  },
  {
   "cell_type": "markdown",
   "id": "7f5cd5ae",
   "metadata": {},
   "source": [
    "# Klausurdurchführung"
   ]
  },
  {
   "cell_type": "markdown",
   "id": "4f2bce01",
   "metadata": {},
   "source": [
    "https://www.math.uni-duesseldorf.de/~internet/compana22/posts/klausurdurchfuhrung/"
   ]
  },
  {
   "cell_type": "code",
   "execution_count": null,
   "id": "6f74e39c",
   "metadata": {},
   "outputs": [],
   "source": []
  }
 ],
 "metadata": {
  "kernelspec": {
   "display_name": "Python 3 (ipykernel)",
   "language": "python",
   "name": "python3"
  },
  "language_info": {
   "codemirror_mode": {
    "name": "ipython",
    "version": 3
   },
   "file_extension": ".py",
   "mimetype": "text/x-python",
   "name": "python",
   "nbconvert_exporter": "python",
   "pygments_lexer": "ipython3",
   "version": "3.10.8"
  }
 },
 "nbformat": 4,
 "nbformat_minor": 5
}
