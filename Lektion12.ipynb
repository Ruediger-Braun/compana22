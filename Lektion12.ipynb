{
 "cells": [
  {
   "cell_type": "code",
   "execution_count": null,
   "id": "605c90d8",
   "metadata": {},
   "outputs": [],
   "source": [
    "from sympy import *\n",
    "init_printing()"
   ]
  },
  {
   "cell_type": "code",
   "execution_count": null,
   "id": "923e80ce",
   "metadata": {},
   "outputs": [],
   "source": [
    "import numpy as np\n",
    "from matplotlib import pyplot as plt\n",
    "from mpl_toolkits.mplot3d import Axes3D"
   ]
  },
  {
   "cell_type": "markdown",
   "id": "360c4390",
   "metadata": {},
   "source": [
    "# Farbkodierung"
   ]
  },
  {
   "cell_type": "code",
   "execution_count": null,
   "id": "65d67984",
   "metadata": {},
   "outputs": [],
   "source": [
    "x = S('x')\n",
    "y = S('y')\n",
    "f = -x**4/2 - x**2*y**2 - y**4/2 + x**3 - 3*x*y**2"
   ]
  },
  {
   "cell_type": "code",
   "execution_count": null,
   "id": "6c54ffbc",
   "metadata": {},
   "outputs": [],
   "source": [
    "fn = lambdify((x,y), f)"
   ]
  },
  {
   "cell_type": "code",
   "execution_count": null,
   "id": "acd14ead",
   "metadata": {},
   "outputs": [],
   "source": [
    "xn = np.linspace(-2, 2, 400)\n",
    "yn = np.linspace(-2, 2, 401)\n",
    "X, Y = np.meshgrid(xn, yn)\n",
    "Z = fn(X, Y)"
   ]
  },
  {
   "cell_type": "code",
   "execution_count": null,
   "id": "b23fe835",
   "metadata": {},
   "outputs": [],
   "source": [
    "ausdehnung = (xn[0], xn[-1], yn[0], yn[-1])"
   ]
  },
  {
   "cell_type": "code",
   "execution_count": null,
   "id": "c0a8fbd3",
   "metadata": {},
   "outputs": [],
   "source": [
    "plt.imshow(Z, extent=ausdehnung, origin='lower');"
   ]
  },
  {
   "cell_type": "code",
   "execution_count": null,
   "id": "979923ea",
   "metadata": {},
   "outputs": [],
   "source": [
    "plt.imshow(Z, extent=ausdehnung, origin='lower', cmap=plt.cm.hot, vmin=-1)\n",
    "plt.title(\"Der Affensattel\")\n",
    "plt.colorbar();"
   ]
  },
  {
   "cell_type": "code",
   "execution_count": null,
   "id": "2d392919",
   "metadata": {},
   "outputs": [],
   "source": [
    "noether = plt.imread('noether.png')\n",
    "noether.shape"
   ]
  },
  {
   "cell_type": "code",
   "execution_count": null,
   "id": "4d904b07",
   "metadata": {},
   "outputs": [],
   "source": [
    "plt.imshow(noether, aspect=\"equal\")\n",
    "plt.axis('off');"
   ]
  },
  {
   "cell_type": "markdown",
   "id": "0604a9c9",
   "metadata": {},
   "source": [
    "Einfache Bildverarbeitung in Python mit https://python-pillow.org/"
   ]
  },
  {
   "cell_type": "markdown",
   "id": "54460058",
   "metadata": {},
   "source": [
    "# Plotverschönerung"
   ]
  },
  {
   "cell_type": "code",
   "execution_count": null,
   "id": "af3f6948",
   "metadata": {},
   "outputs": [],
   "source": [
    "fig = plt.figure()\n",
    "ax = fig.add_subplot(111, projection='3d')\n",
    "ax.plot_surface(X, Y, Z, cmap=plt.cm.viridis, vmin=-1); "
   ]
  },
  {
   "cell_type": "code",
   "execution_count": null,
   "id": "2fd4e02d",
   "metadata": {},
   "outputs": [],
   "source": [
    "ax.set_xlabel(\"x\")\n",
    "ax.set_ylabel(\"y\")\n",
    "ax.set_zlabel(\"z\")\n",
    "fig"
   ]
  },
  {
   "cell_type": "code",
   "execution_count": null,
   "id": "9347ac08",
   "metadata": {},
   "outputs": [],
   "source": [
    "l, r = ax.get_xlim()\n",
    "ax.set_xlim(xmin=1)\n",
    "fig"
   ]
  },
  {
   "cell_type": "code",
   "execution_count": null,
   "id": "3949c27b",
   "metadata": {},
   "outputs": [],
   "source": [
    "ax.set_xlim((l,r))\n",
    "ax.set_zlim(bottom=-2)\n",
    "fig"
   ]
  },
  {
   "cell_type": "markdown",
   "id": "6e98887d",
   "metadata": {},
   "source": [
    "unbrauchbar"
   ]
  },
  {
   "cell_type": "markdown",
   "id": "2acb0934",
   "metadata": {},
   "source": [
    "# Contourplots\n",
    "\n",
    "Höhenlinien"
   ]
  },
  {
   "cell_type": "code",
   "execution_count": null,
   "id": "52bd1555",
   "metadata": {},
   "outputs": [],
   "source": [
    "fig = plt.figure()\n",
    "ax = fig.add_subplot(111, projection='3d')\n",
    "ax.contour(X, Y, Z);"
   ]
  },
  {
   "cell_type": "code",
   "execution_count": null,
   "id": "46900342",
   "metadata": {},
   "outputs": [],
   "source": [
    "fig = plt.figure()\n",
    "ax = fig.add_subplot(111, projection='3d')\n",
    "ax.contour(X, Y, Z, levels=np.linspace(-40, 1, 50));"
   ]
  },
  {
   "cell_type": "markdown",
   "id": "d0c8ca02",
   "metadata": {},
   "source": [
    "Oben sind zu wenige Höhenlinien"
   ]
  },
  {
   "cell_type": "code",
   "execution_count": null,
   "id": "81c440f9",
   "metadata": {},
   "outputs": [],
   "source": [
    "a = np.concatenate([np.linspace(0,1,3), np.linspace(0.1,10,4)])\n",
    "a"
   ]
  },
  {
   "cell_type": "code",
   "execution_count": null,
   "id": "769f049f",
   "metadata": {},
   "outputs": [],
   "source": [
    "np.sort(a)"
   ]
  },
  {
   "cell_type": "code",
   "execution_count": null,
   "id": "981cc748",
   "metadata": {},
   "outputs": [],
   "source": [
    "gr = Matrix([f]).jacobian([x,y])\n",
    "lsg = solve(gr)\n",
    "werte = []\n",
    "for l in lsg:\n",
    "    werte.append(f.subs(l).n())\n",
    "t = np.max(werte)\n",
    "t"
   ]
  },
  {
   "cell_type": "code",
   "execution_count": null,
   "id": "16b5bb0f",
   "metadata": {},
   "outputs": [],
   "source": [
    "b = -.4\n",
    "t = float(t)    # ohne dies:  TypeError\n",
    "fig = plt.figure(figsize=(6,6))\n",
    "ax = fig.add_subplot(111, projection='3d')\n",
    "l1 = np.linspace(b, t, 150)\n",
    "l2 = np.linspace(-.02, .02, 101)  \n",
    "levels = np.sort(np.concatenate([l1, l2]))\n",
    "ax.contour(X, Y, Z, levels=levels)\n",
    "ax.set_zlim(bottom=b);"
   ]
  },
  {
   "cell_type": "code",
   "execution_count": null,
   "id": "4da29600",
   "metadata": {},
   "outputs": [],
   "source": [
    "b = -.4\n",
    "t = float(t)    # ohne dies:  TypeError\n",
    "fig = plt.figure(figsize=(6,6))\n",
    "ax = fig.add_subplot(111, projection='3d')\n",
    "l1 = np.linspace(b, t, 150)\n",
    "l2 = np.linspace(-.02, .02, 101)  \n",
    "levels = np.sort(np.concatenate([l1, l2]))\n",
    "ax.contour(X, Y, Z, levels=levels, cmap=plt.cm.hsv, vmin=-.2, vmax=.2)\n",
    "ax.set_zlim(bottom=b);"
   ]
  },
  {
   "cell_type": "markdown",
   "id": "80bdb7dc",
   "metadata": {},
   "source": [
    "Alternative: https://docs.enthought.com/mayavi/mayavi/"
   ]
  },
  {
   "cell_type": "markdown",
   "id": "dfa4496f",
   "metadata": {},
   "source": [
    "# Gewöhnliche Differentialgleichungen"
   ]
  },
  {
   "cell_type": "code",
   "execution_count": null,
   "id": "f7d58ddd",
   "metadata": {},
   "outputs": [],
   "source": [
    "x = S('x')\n",
    "y = Function('y')"
   ]
  },
  {
   "cell_type": "code",
   "execution_count": null,
   "id": "79a0b872",
   "metadata": {},
   "outputs": [],
   "source": [
    "y(x).diff(x,2)"
   ]
  },
  {
   "cell_type": "code",
   "execution_count": null,
   "id": "6fb64a7e",
   "metadata": {},
   "outputs": [],
   "source": [
    "dgl = Eq(y(x), -y(x).diff(x))\n",
    "dgl"
   ]
  },
  {
   "cell_type": "code",
   "execution_count": null,
   "id": "9649ee4e",
   "metadata": {},
   "outputs": [],
   "source": [
    "lsg = dsolve(dgl)\n",
    "lsg"
   ]
  },
  {
   "cell_type": "code",
   "execution_count": null,
   "id": "adf7482b",
   "metadata": {},
   "outputs": [],
   "source": [
    "lsg.rhs.subs(S('C1'), 28)"
   ]
  },
  {
   "cell_type": "markdown",
   "id": "a69de477",
   "metadata": {},
   "source": [
    "# Anfangswertaufgabe\n",
    "\n",
    "löse $y' = y - x^3 + 3x -2$, $y(1)=4$"
   ]
  },
  {
   "cell_type": "code",
   "execution_count": null,
   "id": "334e42ab",
   "metadata": {},
   "outputs": [],
   "source": [
    "dgl = Eq(y(x).diff(x), y(x) - x**3 + 3*x - 2)\n",
    "dgl"
   ]
  },
  {
   "cell_type": "code",
   "execution_count": null,
   "id": "076f0aea",
   "metadata": {},
   "outputs": [],
   "source": [
    "lsg = dsolve(dgl, ics={y(1): 4})   #  ics ist ein Dictionary\n",
    "lsg"
   ]
  },
  {
   "cell_type": "markdown",
   "id": "5aa57e93",
   "metadata": {},
   "source": [
    "Probe:"
   ]
  },
  {
   "cell_type": "code",
   "execution_count": null,
   "id": "d27d91b4",
   "metadata": {},
   "outputs": [],
   "source": [
    "phi = lsg.rhs\n",
    "tmp = dgl.subs(y(x), phi)\n",
    "tmp"
   ]
  },
  {
   "cell_type": "code",
   "execution_count": null,
   "id": "6f8a8141",
   "metadata": {},
   "outputs": [],
   "source": [
    "tmp.doit()"
   ]
  },
  {
   "cell_type": "code",
   "execution_count": null,
   "id": "b7bf12d6",
   "metadata": {},
   "outputs": [],
   "source": [
    "plot(phi, (x, -2, 3.5));"
   ]
  },
  {
   "cell_type": "markdown",
   "id": "d9359132",
   "metadata": {},
   "source": [
    "Lösungskurven für verschiedene Anfangsbedingungen"
   ]
  },
  {
   "cell_type": "code",
   "execution_count": null,
   "id": "11ef23de",
   "metadata": {},
   "outputs": [],
   "source": [
    "xn = np.linspace(-2, 3)\n",
    "fig = plt.figure()\n",
    "ax = fig.add_subplot(111)\n",
    "for y0 in range(2,7):\n",
    "    ics = {y(1): y0}\n",
    "    lsg = dsolve(dgl, ics=ics)\n",
    "    phi_n = lambdify(x, lsg.rhs)\n",
    "    ax.plot(xn, phi_n(xn))"
   ]
  },
  {
   "cell_type": "markdown",
   "id": "a9779af9",
   "metadata": {},
   "source": [
    "# Das Richtungsfeld"
   ]
  },
  {
   "cell_type": "code",
   "execution_count": null,
   "id": "0a6ee431",
   "metadata": {},
   "outputs": [],
   "source": [
    "nx = 13\n",
    "ny = 11 \n",
    "xq = np.linspace(-2, 3, nx)\n",
    "yq = np.linspace(-5, 25, ny)\n",
    "X, Y = np.meshgrid(xq, yq)"
   ]
  },
  {
   "cell_type": "code",
   "execution_count": null,
   "id": "9bc00fd5",
   "metadata": {},
   "outputs": [],
   "source": [
    "r_n = lambdify((x,y(x)), dgl.rhs)"
   ]
  },
  {
   "cell_type": "code",
   "execution_count": null,
   "id": "3db970e5",
   "metadata": {},
   "outputs": [],
   "source": [
    "V = r_n(X, Y)"
   ]
  },
  {
   "cell_type": "markdown",
   "id": "ce489da2",
   "metadata": {},
   "source": [
    "`V`  gibt in jedem Punkt $(x,y)$ die Steigung der Lösung der Dgl in diesem Punkt an"
   ]
  },
  {
   "cell_type": "code",
   "execution_count": null,
   "id": "7d7a094e",
   "metadata": {},
   "outputs": [],
   "source": [
    "U = np.ones_like(X)\n",
    "ax.quiver(X, Y, U, V, angles='xy')\n",
    "fig\n",
    "# quiver: Köcher\n",
    "# X, Y: Fußpunkte der Pfeile\n",
    "# U, V: Koordinaten der Pfeile, gemessen vom Fußpunkt\n",
    "# angles='xy':  Koordinaten der Pfeile proportional zu den Einheiten der Achsen"
   ]
  },
  {
   "cell_type": "code",
   "execution_count": null,
   "id": "d724de70",
   "metadata": {},
   "outputs": [],
   "source": [
    "dgl = Eq(y(x).diff(x), exp(y(x))*sin(x))\n",
    "dgl"
   ]
  },
  {
   "cell_type": "code",
   "execution_count": null,
   "id": "108a421f",
   "metadata": {},
   "outputs": [],
   "source": [
    "lsg = dsolve(dgl)\n",
    "lsg"
   ]
  },
  {
   "cell_type": "code",
   "execution_count": null,
   "id": "eb38b7d2",
   "metadata": {},
   "outputs": [],
   "source": [
    "xn = np.linspace(-2.5*np.pi, 2.5*np.pi, 3000)\n",
    "phi_n = lambdify((x, S('C1')), lsg.rhs)"
   ]
  },
  {
   "cell_type": "code",
   "execution_count": null,
   "id": "9f17388d",
   "metadata": {},
   "outputs": [],
   "source": [
    "fig = plt.figure(figsize=(10,6))\n",
    "ax = fig.add_subplot(111)\n",
    "for C in np.linspace(-1.4, 1.2, 11):\n",
    "    ax.plot(xn, phi_n(xn, C), label=f\"C={C:1.2}\")\n",
    "ax.axis(ymax=5)\n",
    "plt.legend()"
   ]
  },
  {
   "cell_type": "code",
   "execution_count": null,
   "id": "803c6673",
   "metadata": {},
   "outputs": [],
   "source": [
    "xq = np.linspace(xn[0], xn[-1], nx)\n",
    "yq = np.linspace(-1, 5, ny)\n",
    "X, Y = np.meshgrid(xq, yq)\n",
    "r_n = lambdify((x,y(x)), dgl.rhs)\n",
    "V = r_n(X, Y)"
   ]
  },
  {
   "cell_type": "code",
   "execution_count": null,
   "id": "bb6587d1",
   "metadata": {},
   "outputs": [],
   "source": [
    "U = np.ones_like(X)\n",
    "ax.quiver(X, Y, U, V, angles='xy')\n",
    "fig"
   ]
  },
  {
   "cell_type": "markdown",
   "id": "4d5a40ce",
   "metadata": {},
   "source": [
    "Hier ist es besser, die Pfeile zu normieren.  "
   ]
  },
  {
   "cell_type": "code",
   "execution_count": null,
   "id": "a2e704e1",
   "metadata": {},
   "outputs": [],
   "source": [
    "nv = np.sqrt(1+V**2)\n",
    "V /= nv\n",
    "U /= nv"
   ]
  },
  {
   "cell_type": "code",
   "execution_count": null,
   "id": "595f0247",
   "metadata": {},
   "outputs": [],
   "source": [
    "fig = plt.figure(figsize=(10,6))\n",
    "ax = fig.add_subplot(111)\n",
    "for C in np.linspace(-1.4, 1.2, 11):\n",
    "    ax.plot(xn, phi_n(xn, C))\n",
    "ax.axis(ymax=5)\n",
    "ax.quiver(X, Y, U, V, angles='xy');"
   ]
  },
  {
   "cell_type": "markdown",
   "id": "33ae4d71",
   "metadata": {},
   "source": [
    "# Definitionsbereiche"
   ]
  },
  {
   "cell_type": "markdown",
   "id": "f56eedbf",
   "metadata": {},
   "source": [
    "Für welche $y_0$ is die Lösung der Anfangsbedingung $y(0)=y_0$ auf ganz $\\mathbb R$ definiert?"
   ]
  },
  {
   "cell_type": "code",
   "execution_count": null,
   "id": "747ffedc",
   "metadata": {},
   "outputs": [],
   "source": [
    "y0 = S('y0')\n",
    "ics = {y(0): y0}"
   ]
  },
  {
   "cell_type": "code",
   "execution_count": null,
   "id": "08075745",
   "metadata": {},
   "outputs": [],
   "source": [
    "lsg = dsolve(dgl, ics=ics)\n",
    "lsg"
   ]
  },
  {
   "cell_type": "code",
   "execution_count": null,
   "id": "9cdef85b",
   "metadata": {},
   "outputs": [],
   "source": [
    "lsg = lsg.expand()\n",
    "lsg"
   ]
  },
  {
   "cell_type": "markdown",
   "id": "d2f4d94c",
   "metadata": {},
   "source": [
    "Dazu muss der Nenner immer negativ sein"
   ]
  },
  {
   "cell_type": "code",
   "execution_count": null,
   "id": "ebc77ef0",
   "metadata": {},
   "outputs": [],
   "source": [
    "lsg.rhs.args"
   ]
  },
  {
   "cell_type": "code",
   "execution_count": null,
   "id": "b5d817d3",
   "metadata": {},
   "outputs": [],
   "source": [
    "b = lsg.rhs.args[0].subs(x, pi)\n",
    "b"
   ]
  },
  {
   "cell_type": "code",
   "execution_count": null,
   "id": "f81169c3",
   "metadata": {},
   "outputs": [],
   "source": [
    "I1 = solveset(b > 0, domain=Reals)\n",
    "I1"
   ]
  },
  {
   "cell_type": "code",
   "execution_count": null,
   "id": "6df004fc",
   "metadata": {},
   "outputs": [],
   "source": [
    "phi = lsg.rhs.subs(y0, I1.end)\n",
    "phi"
   ]
  },
  {
   "cell_type": "code",
   "execution_count": null,
   "id": "f1734361",
   "metadata": {},
   "outputs": [],
   "source": [
    "phi_n = lambdify(x, phi)\n",
    "plt.plot(xn, phi_n(xn))\n",
    "plt.axis(ymax=5);"
   ]
  },
  {
   "cell_type": "code",
   "execution_count": null,
   "id": "2b1fff81",
   "metadata": {},
   "outputs": [],
   "source": []
  }
 ],
 "metadata": {
  "kernelspec": {
   "display_name": "Python 3 (ipykernel)",
   "language": "python",
   "name": "python3"
  },
  "language_info": {
   "codemirror_mode": {
    "name": "ipython",
    "version": 3
   },
   "file_extension": ".py",
   "mimetype": "text/x-python",
   "name": "python",
   "nbconvert_exporter": "python",
   "pygments_lexer": "ipython3",
   "version": "3.9.13"
  }
 },
 "nbformat": 4,
 "nbformat_minor": 5
}
