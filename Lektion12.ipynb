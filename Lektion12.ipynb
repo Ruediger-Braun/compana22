{
 "cells": [
  {
   "cell_type": "code",
   "execution_count": null,
   "id": "605c90d8",
   "metadata": {},
   "outputs": [],
   "source": [
    "from sympy import *\n",
    "init_printing()"
   ]
  },
  {
   "cell_type": "code",
   "execution_count": null,
   "id": "923e80ce",
   "metadata": {},
   "outputs": [],
   "source": [
    "import numpy as np\n",
    "from matplotlib import pyplot as plt\n",
    "from mpl_toolkits.mplot3d import Axes3D"
   ]
  },
  {
   "cell_type": "markdown",
   "id": "360c4390",
   "metadata": {},
   "source": [
    "# nur Farbkodierung"
   ]
  },
  {
   "cell_type": "code",
   "execution_count": null,
   "id": "65d67984",
   "metadata": {},
   "outputs": [],
   "source": [
    "x = S('x')\n",
    "y = S('y')\n",
    "f = -x**4/2 - x**2*y**2 - y**4/2 + x**3 - 3*x*y**2"
   ]
  },
  {
   "cell_type": "code",
   "execution_count": null,
   "id": "6c54ffbc",
   "metadata": {},
   "outputs": [],
   "source": [
    "fn = lambdify((x,y), f)"
   ]
  },
  {
   "cell_type": "code",
   "execution_count": null,
   "id": "acd14ead",
   "metadata": {},
   "outputs": [],
   "source": [
    "xn = np.linspace(-2, 2, 400)\n",
    "yn = np.linspace(-2, 2, 401)\n",
    "X, Y = np.meshgrid(xn, yn)\n",
    "Z = fn(X, Y)"
   ]
  },
  {
   "cell_type": "code",
   "execution_count": null,
   "id": "b23fe835",
   "metadata": {},
   "outputs": [],
   "source": [
    "ausdehnung = (xn[0], xn[-1], yn[0], yn[-1])"
   ]
  },
  {
   "cell_type": "code",
   "execution_count": null,
   "id": "c0a8fbd3",
   "metadata": {},
   "outputs": [],
   "source": [
    "plt.imshow(Z, extent=ausdehnung, origin='lower');"
   ]
  },
  {
   "cell_type": "code",
   "execution_count": null,
   "id": "979923ea",
   "metadata": {},
   "outputs": [],
   "source": [
    "plt.imshow(Z, extent=ausdehnung, origin='lower', cmap=plt.cm.hot, vmin=-1)\n",
    "plt.title(\"Der Affensattel\")\n",
    "plt.colorbar();"
   ]
  },
  {
   "cell_type": "code",
   "execution_count": null,
   "id": "2d392919",
   "metadata": {},
   "outputs": [],
   "source": [
    "noether = plt.imread('noether.png')\n",
    "noether.shape"
   ]
  },
  {
   "cell_type": "code",
   "execution_count": null,
   "id": "4d904b07",
   "metadata": {},
   "outputs": [],
   "source": [
    "plt.imshow(noether, aspect=\"equal\")\n",
    "plt.axis('off');"
   ]
  },
  {
   "cell_type": "markdown",
   "id": "0604a9c9",
   "metadata": {},
   "source": [
    "Einfache Bildverarbeitung in Python mit https://python-pillow.org/"
   ]
  },
  {
   "cell_type": "markdown",
   "id": "54460058",
   "metadata": {},
   "source": [
    "# Plotverschönerung"
   ]
  },
  {
   "cell_type": "code",
   "execution_count": null,
   "id": "af3f6948",
   "metadata": {},
   "outputs": [],
   "source": [
    "fig = plt.figure()\n",
    "ax = fig.add_subplot(111, projection='3d')\n",
    "ax.plot_surface(X, Y, Z, cmap=plt.cm.viridis, vmin=-1); "
   ]
  },
  {
   "cell_type": "code",
   "execution_count": null,
   "id": "2fd4e02d",
   "metadata": {},
   "outputs": [],
   "source": [
    "ax.set_xlabel(\"x\")\n",
    "ax.set_ylabel(\"y\")\n",
    "ax.set_zlabel(\"z\")\n",
    "fig"
   ]
  },
  {
   "cell_type": "code",
   "execution_count": null,
   "id": "9347ac08",
   "metadata": {},
   "outputs": [],
   "source": [
    "l, r = ax.get_xlim()\n",
    "ax.set_xlim(xmin=1)\n",
    "fig"
   ]
  },
  {
   "cell_type": "code",
   "execution_count": null,
   "id": "3949c27b",
   "metadata": {},
   "outputs": [],
   "source": [
    "ax.set_xlim((l,r))\n",
    "ax.set_zlim(bottom=-2)\n",
    "fig"
   ]
  },
  {
   "cell_type": "markdown",
   "id": "6e98887d",
   "metadata": {},
   "source": [
    "unbrauchbar"
   ]
  },
  {
   "cell_type": "markdown",
   "id": "2acb0934",
   "metadata": {},
   "source": [
    "# Contourplots\n",
    "\n",
    "Höhenlinien"
   ]
  },
  {
   "cell_type": "code",
   "execution_count": null,
   "id": "52bd1555",
   "metadata": {},
   "outputs": [],
   "source": [
    "fig = plt.figure()\n",
    "ax = fig.add_subplot(111, projection='3d')\n",
    "ax.contour(X, Y, Z);"
   ]
  },
  {
   "cell_type": "code",
   "execution_count": null,
   "id": "46900342",
   "metadata": {},
   "outputs": [],
   "source": [
    "fig = plt.figure()\n",
    "ax = fig.add_subplot(111, projection='3d')\n",
    "ax.contour(X, Y, Z, levels=np.linspace(-40, 1, 50));"
   ]
  },
  {
   "cell_type": "markdown",
   "id": "d0c8ca02",
   "metadata": {},
   "source": [
    "Oben sind zu wenige Höhenlinien"
   ]
  },
  {
   "cell_type": "code",
   "execution_count": null,
   "id": "81c440f9",
   "metadata": {},
   "outputs": [],
   "source": [
    "a = np.concatenate([np.linspace(0,1,3), np.linspace(0.1,10,4)])\n",
    "a"
   ]
  },
  {
   "cell_type": "code",
   "execution_count": null,
   "id": "769f049f",
   "metadata": {},
   "outputs": [],
   "source": [
    "np.sort(a)"
   ]
  },
  {
   "cell_type": "code",
   "execution_count": null,
   "id": "981cc748",
   "metadata": {},
   "outputs": [],
   "source": [
    "gr = Matrix([f]).jacobian([x,y])\n",
    "lsg = solve(gr)\n",
    "werte = []\n",
    "for l in lsg:\n",
    "    werte.append(f.subs(l).n())\n",
    "t = np.max(werte)\n",
    "t"
   ]
  },
  {
   "cell_type": "code",
   "execution_count": null,
   "id": "16b5bb0f",
   "metadata": {},
   "outputs": [],
   "source": [
    "b = -.4\n",
    "t = float(t)    # ohne dies:  TypeError\n",
    "fig = plt.figure(figsize=(6,6))\n",
    "ax = fig.add_subplot(111, projection='3d')\n",
    "l1 = np.linspace(b, t, 150)\n",
    "l2 = np.linspace(-.02, .02, 101)  \n",
    "levels = np.sort(np.concatenate([l1, l2]))\n",
    "ax.contour(X, Y, Z, levels=levels)\n",
    "ax.set_zlim(bottom=b);"
   ]
  },
  {
   "cell_type": "code",
   "execution_count": null,
   "id": "4da29600",
   "metadata": {},
   "outputs": [],
   "source": [
    "b = -.4\n",
    "t = float(t)    # ohne dies:  TypeError\n",
    "fig = plt.figure(figsize=(6,6))\n",
    "ax = fig.add_subplot(111, projection='3d')\n",
    "l1 = np.linspace(b, t, 150)\n",
    "l2 = np.linspace(-.02, .02, 101)  \n",
    "levels = np.sort(np.concatenate([l1, l2]))\n",
    "ax.contour(X, Y, Z, levels=levels, cmap=plt.cm.hsv, vmin=-.2, vmax=.2)\n",
    "ax.set_zlim(bottom=b);"
   ]
  },
  {
   "cell_type": "markdown",
   "id": "80bdb7dc",
   "metadata": {},
   "source": [
    "Alternative: https://docs.enthought.com/mayavi/mayavi/"
   ]
  },
  {
   "cell_type": "code",
   "execution_count": null,
   "id": "b10c236d",
   "metadata": {},
   "outputs": [],
   "source": []
  }
 ],
 "metadata": {
  "kernelspec": {
   "display_name": "Python 3 (ipykernel)",
   "language": "python",
   "name": "python3"
  },
  "language_info": {
   "codemirror_mode": {
    "name": "ipython",
    "version": 3
   },
   "file_extension": ".py",
   "mimetype": "text/x-python",
   "name": "python",
   "nbconvert_exporter": "python",
   "pygments_lexer": "ipython3",
   "version": "3.10.6"
  }
 },
 "nbformat": 4,
 "nbformat_minor": 5
}
