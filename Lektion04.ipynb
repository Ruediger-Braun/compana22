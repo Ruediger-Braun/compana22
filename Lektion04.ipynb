{
 "cells": [
  {
   "cell_type": "markdown",
   "id": "1ff5de20",
   "metadata": {
    "slideshow": {
     "slide_type": "slide"
    }
   },
   "source": [
    "# Computergestützte Mathematik zur Analysis\n",
    "\n",
    "Vorlesung vom 10.11.2022\n",
    "\n",
    "&copy; 2022 Prof. Dr. Rüdiger W. Braun "
   ]
  },
  {
   "cell_type": "code",
   "execution_count": 1,
   "id": "0f496617",
   "metadata": {
    "slideshow": {
     "slide_type": "slide"
    }
   },
   "outputs": [],
   "source": [
    "from sympy import *"
   ]
  },
  {
   "cell_type": "markdown",
   "id": "e41d6d59",
   "metadata": {
    "slideshow": {
     "slide_type": "slide"
    }
   },
   "source": [
    "# Listen und Arrays"
   ]
  },
  {
   "cell_type": "code",
   "execution_count": 2,
   "id": "b72d091b",
   "metadata": {},
   "outputs": [
    {
     "data": {
      "text/plain": [
       "[1, 2, 3]"
      ]
     },
     "execution_count": 2,
     "metadata": {},
     "output_type": "execute_result"
    }
   ],
   "source": [
    "l = [1,2,3]\n",
    "m = [4,5,6]\n",
    "l"
   ]
  },
  {
   "cell_type": "code",
   "execution_count": 3,
   "id": "e6bb536c",
   "metadata": {},
   "outputs": [
    {
     "data": {
      "text/plain": [
       "[1, 2, 3, 16]"
      ]
     },
     "execution_count": 3,
     "metadata": {},
     "output_type": "execute_result"
    }
   ],
   "source": [
    "l.append(16)\n",
    "l"
   ]
  },
  {
   "cell_type": "code",
   "execution_count": 4,
   "id": "d73f2036",
   "metadata": {},
   "outputs": [
    {
     "data": {
      "text/plain": [
       "1"
      ]
     },
     "execution_count": 4,
     "metadata": {},
     "output_type": "execute_result"
    }
   ],
   "source": [
    "l[0]"
   ]
  },
  {
   "cell_type": "code",
   "execution_count": 5,
   "id": "40f7d10b",
   "metadata": {},
   "outputs": [
    {
     "data": {
      "text/plain": [
       "2"
      ]
     },
     "execution_count": 5,
     "metadata": {},
     "output_type": "execute_result"
    }
   ],
   "source": [
    "l[1]"
   ]
  },
  {
   "cell_type": "code",
   "execution_count": 6,
   "id": "9cf254db",
   "metadata": {},
   "outputs": [
    {
     "data": {
      "text/plain": [
       "16"
      ]
     },
     "execution_count": 6,
     "metadata": {},
     "output_type": "execute_result"
    }
   ],
   "source": [
    "l[-1]  # letztes Element"
   ]
  },
  {
   "cell_type": "code",
   "execution_count": 7,
   "id": "c12a8ac3",
   "metadata": {
    "slideshow": {
     "slide_type": "slide"
    }
   },
   "outputs": [
    {
     "data": {
      "text/plain": [
       "4"
      ]
     },
     "execution_count": 7,
     "metadata": {},
     "output_type": "execute_result"
    }
   ],
   "source": [
    "len(l)"
   ]
  },
  {
   "cell_type": "code",
   "execution_count": 8,
   "id": "b494e3bc",
   "metadata": {},
   "outputs": [],
   "source": [
    "del l[2]"
   ]
  },
  {
   "cell_type": "code",
   "execution_count": 9,
   "id": "466fc494",
   "metadata": {},
   "outputs": [
    {
     "data": {
      "text/plain": [
       "[1, 2, 16]"
      ]
     },
     "execution_count": 9,
     "metadata": {},
     "output_type": "execute_result"
    }
   ],
   "source": [
    "l"
   ]
  },
  {
   "cell_type": "code",
   "execution_count": 10,
   "id": "db94ab0d",
   "metadata": {
    "slideshow": {
     "slide_type": "slide"
    }
   },
   "outputs": [],
   "source": [
    "import numpy as np"
   ]
  },
  {
   "cell_type": "code",
   "execution_count": 11,
   "id": "2b3fedfc",
   "metadata": {},
   "outputs": [
    {
     "data": {
      "text/plain": [
       "array([ 1,  2, 16])"
      ]
     },
     "execution_count": 11,
     "metadata": {},
     "output_type": "execute_result"
    }
   ],
   "source": [
    "a = np.array(l)\n",
    "b = np.array(m)\n",
    "a"
   ]
  },
  {
   "cell_type": "code",
   "execution_count": 12,
   "id": "687a74da",
   "metadata": {},
   "outputs": [
    {
     "data": {
      "text/plain": [
       "[1, 2, 16, 4, 5, 6]"
      ]
     },
     "execution_count": 12,
     "metadata": {},
     "output_type": "execute_result"
    }
   ],
   "source": [
    "l + m"
   ]
  },
  {
   "cell_type": "code",
   "execution_count": 15,
   "id": "cf99a927",
   "metadata": {},
   "outputs": [
    {
     "data": {
      "text/plain": [
       "array([ 1,  2, 16])"
      ]
     },
     "execution_count": 15,
     "metadata": {},
     "output_type": "execute_result"
    }
   ],
   "source": [
    "a"
   ]
  },
  {
   "cell_type": "code",
   "execution_count": 13,
   "id": "001f231e",
   "metadata": {},
   "outputs": [
    {
     "data": {
      "text/plain": [
       "array([ 5,  7, 22])"
      ]
     },
     "execution_count": 13,
     "metadata": {},
     "output_type": "execute_result"
    }
   ],
   "source": [
    "a + b"
   ]
  },
  {
   "cell_type": "code",
   "execution_count": 16,
   "id": "aa37000d",
   "metadata": {
    "slideshow": {
     "slide_type": "slide"
    }
   },
   "outputs": [
    {
     "data": {
      "text/plain": [
       "[1, 1/3, 16]"
      ]
     },
     "execution_count": 16,
     "metadata": {},
     "output_type": "execute_result"
    }
   ],
   "source": [
    "l[1] = Rational(1,3)\n",
    "l"
   ]
  },
  {
   "cell_type": "code",
   "execution_count": 17,
   "id": "85e48886",
   "metadata": {},
   "outputs": [
    {
     "data": {
      "image/png": "[encoded data removed]",
      "text/latex": [
       "$\\displaystyle \\left[ 1, \\  \\frac{1}{3}, \\  16\\right]$"
      ],
      "text/plain": [
       "[1, 1/3, 16]"
      ]
     },
     "execution_count": 17,
     "metadata": {},
     "output_type": "execute_result"
    }
   ],
   "source": [
    "init_printing()\n",
    "l"
   ]
  },
  {
   "cell_type": "code",
   "execution_count": 18,
   "id": "96c92298",
   "metadata": {
    "slideshow": {
     "slide_type": "slide"
    }
   },
   "outputs": [],
   "source": [
    "a[1] = Rational(1,3)"
   ]
  },
  {
   "cell_type": "code",
   "execution_count": 19,
   "id": "94f5c252",
   "metadata": {},
   "outputs": [
    {
     "data": {
      "text/plain": [
       "array([ 1,  0, 16])"
      ]
     },
     "execution_count": 19,
     "metadata": {},
     "output_type": "execute_result"
    }
   ],
   "source": [
    "a"
   ]
  },
  {
   "cell_type": "markdown",
   "id": "9db7cfa5",
   "metadata": {},
   "source": [
    "Aha ????"
   ]
  },
  {
   "cell_type": "code",
   "execution_count": 20,
   "id": "d91e5996",
   "metadata": {
    "slideshow": {
     "slide_type": "fragment"
    }
   },
   "outputs": [
    {
     "data": {
      "text/plain": [
       "numpy.ndarray"
      ]
     },
     "execution_count": 20,
     "metadata": {},
     "output_type": "execute_result"
    }
   ],
   "source": [
    "type(a)"
   ]
  },
  {
   "cell_type": "code",
   "execution_count": 21,
   "id": "a1f83c65",
   "metadata": {},
   "outputs": [
    {
     "data": {
      "text/plain": [
       "dtype('int32')"
      ]
     },
     "execution_count": 21,
     "metadata": {},
     "output_type": "execute_result"
    }
   ],
   "source": [
    "a.dtype"
   ]
  },
  {
   "cell_type": "markdown",
   "id": "98df733d",
   "metadata": {},
   "source": [
    "Ein `array` erhält den `dtype`, wenn die ersten Elemente hineingeschrieben werden.  Danach ist der `dtype` unveränderlich."
   ]
  },
  {
   "cell_type": "code",
   "execution_count": 22,
   "id": "f38fec5f",
   "metadata": {
    "slideshow": {
     "slide_type": "slide"
    }
   },
   "outputs": [
    {
     "data": {
      "image/png": "[encoded data removed]",
      "text/latex": [
       "$\\displaystyle \\left[ 1, \\  \\frac{1}{3}, \\  16, \\  4, \\  5, \\  6\\right]$"
      ],
      "text/plain": [
       "[1, 1/3, 16, 4, 5, 6]"
      ]
     },
     "execution_count": 22,
     "metadata": {},
     "output_type": "execute_result"
    }
   ],
   "source": [
    "l + m"
   ]
  },
  {
   "cell_type": "code",
   "execution_count": 23,
   "id": "ffcc1117",
   "metadata": {},
   "outputs": [
    {
     "data": {
      "text/plain": [
       "array([ 5,  5, 22])"
      ]
     },
     "execution_count": 23,
     "metadata": {},
     "output_type": "execute_result"
    }
   ],
   "source": [
    "a + b"
   ]
  },
  {
   "cell_type": "markdown",
   "id": "ae9bcdbd",
   "metadata": {
    "slideshow": {
     "slide_type": "slide"
    }
   },
   "source": [
    "# Schleifen"
   ]
  },
  {
   "cell_type": "code",
   "execution_count": 24,
   "id": "979d6e6c",
   "metadata": {},
   "outputs": [
    {
     "data": {
      "image/png": "[encoded data removed]",
      "text/latex": [
       "$\\displaystyle \\left[ 0, \\  1, \\  2, \\  3, \\  4, \\  5, \\  6, \\  7, \\  8, \\  9\\right]$"
      ],
      "text/plain": [
       "[0, 1, 2, 3, 4, 5, 6, 7, 8, 9]"
      ]
     },
     "execution_count": 24,
     "metadata": {},
     "output_type": "execute_result"
    }
   ],
   "source": [
    "list(range(10))"
   ]
  },
  {
   "cell_type": "code",
   "execution_count": 26,
   "id": "dcf1894a",
   "metadata": {},
   "outputs": [
    {
     "name": "stdout",
     "output_type": "stream",
     "text": [
      "1\n",
      "1/2\n",
      "1/2\n",
      "3/4\n",
      "3/2\n",
      "15/4\n",
      "45/4\n",
      "315/8\n",
      "315/2\n",
      "2835/4\n",
      "huhu\n"
     ]
    }
   ],
   "source": [
    "for j in range(10):\n",
    "    print(factorial(j)/2**j)\n",
    "print(\"huhu\")"
   ]
  },
  {
   "cell_type": "code",
   "execution_count": 27,
   "id": "0fe5675b",
   "metadata": {
    "slideshow": {
     "slide_type": "slide"
    }
   },
   "outputs": [
    {
     "data": {
      "image/png": "[encoded data removed]",
      "text/latex": [
       "$\\displaystyle 1$"
      ],
      "text/plain": [
       "1"
      ]
     },
     "metadata": {},
     "output_type": "display_data"
    },
    {
     "data": {
      "image/png": "[encoded data removed]",
      "text/latex": [
       "$\\displaystyle 2$"
      ],
      "text/plain": [
       "2"
      ]
     },
     "metadata": {},
     "output_type": "display_data"
    },
    {
     "data": {
      "image/png": "[encoded data removed]",
      "text/latex": [
       "$\\displaystyle 3$"
      ],
      "text/plain": [
       "3"
      ]
     },
     "metadata": {},
     "output_type": "display_data"
    },
    {
     "data": {
      "image/png": "[encoded data removed]",
      "text/latex": [
       "$\\displaystyle \\frac{10}{3}$"
      ],
      "text/plain": [
       "10/3"
      ]
     },
     "metadata": {},
     "output_type": "display_data"
    },
    {
     "data": {
      "image/png": "[encoded data removed]",
      "text/latex": [
       "$\\displaystyle \\frac{35}{12}$"
      ],
      "text/plain": [
       "35\n",
       "──\n",
       "12"
      ]
     },
     "metadata": {},
     "output_type": "display_data"
    },
    {
     "data": {
      "image/png": "[encoded data removed]",
      "text/latex": [
       "$\\displaystyle \\frac{21}{10}$"
      ],
      "text/plain": [
       "21\n",
       "──\n",
       "10"
      ]
     },
     "metadata": {},
     "output_type": "display_data"
    },
    {
     "data": {
      "image/png": "[encoded data removed]",
      "text/latex": [
       "$\\displaystyle \\frac{77}{60}$"
      ],
      "text/plain": [
       "77\n",
       "──\n",
       "60"
      ]
     },
     "metadata": {},
     "output_type": "display_data"
    },
    {
     "data": {
      "image/png": "[encoded data removed]",
      "text/latex": [
       "$\\displaystyle \\frac{143}{210}$"
      ],
      "text/plain": [
       "143\n",
       "───\n",
       "210"
      ]
     },
     "metadata": {},
     "output_type": "display_data"
    },
    {
     "data": {
      "image/png": "[encoded data removed]",
      "text/latex": [
       "$\\displaystyle \\frac{143}{448}$"
      ],
      "text/plain": [
       "143\n",
       "───\n",
       "448"
      ]
     },
     "metadata": {},
     "output_type": "display_data"
    },
    {
     "data": {
      "image/png": "[encoded data removed]",
      "text/latex": [
       "$\\displaystyle \\frac{2431}{18144}$"
      ],
      "text/plain": [
       " 2431\n",
       "─────\n",
       "18144"
      ]
     },
     "metadata": {},
     "output_type": "display_data"
    }
   ],
   "source": [
    "for j in range(10):\n",
    "    display(factorial(2*j)/factorial(j)**3)"
   ]
  },
  {
   "cell_type": "code",
   "execution_count": 28,
   "id": "8fbbe2ea",
   "metadata": {
    "scrolled": true,
    "slideshow": {
     "slide_type": "slide"
    }
   },
   "outputs": [
    {
     "name": "stdout",
     "output_type": "stream",
     "text": [
      "p=-3, q=1\n"
     ]
    },
    {
     "data": {
      "image/png": "[encoded data removed]",
      "text/latex": [
       "$\\displaystyle -3$"
      ],
      "text/plain": [
       "-3"
      ]
     },
     "metadata": {},
     "output_type": "display_data"
    },
    {
     "name": "stdout",
     "output_type": "stream",
     "text": [
      "p=-3, q=2\n"
     ]
    },
    {
     "data": {
      "image/png": "[encoded data removed]",
      "text/latex": [
       "$\\displaystyle - \\frac{3}{2}$"
      ],
      "text/plain": [
       "-3/2"
      ]
     },
     "metadata": {},
     "output_type": "display_data"
    },
    {
     "name": "stdout",
     "output_type": "stream",
     "text": [
      "p=-3, q=3\n"
     ]
    },
    {
     "data": {
      "image/png": "[encoded data removed]",
      "text/latex": [
       "$\\displaystyle -1$"
      ],
      "text/plain": [
       "-1"
      ]
     },
     "metadata": {},
     "output_type": "display_data"
    },
    {
     "name": "stdout",
     "output_type": "stream",
     "text": [
      "p=-2, q=1\n"
     ]
    },
    {
     "data": {
      "image/png": "[encoded data removed]",
      "text/latex": [
       "$\\displaystyle -2$"
      ],
      "text/plain": [
       "-2"
      ]
     },
     "metadata": {},
     "output_type": "display_data"
    },
    {
     "name": "stdout",
     "output_type": "stream",
     "text": [
      "p=-2, q=2\n"
     ]
    },
    {
     "data": {
      "image/png": "[encoded data removed]",
      "text/latex": [
       "$\\displaystyle -1$"
      ],
      "text/plain": [
       "-1"
      ]
     },
     "metadata": {},
     "output_type": "display_data"
    },
    {
     "name": "stdout",
     "output_type": "stream",
     "text": [
      "p=-2, q=3\n"
     ]
    },
    {
     "data": {
      "image/png": "[encoded data removed]",
      "text/latex": [
       "$\\displaystyle - \\frac{2}{3}$"
      ],
      "text/plain": [
       "-2/3"
      ]
     },
     "metadata": {},
     "output_type": "display_data"
    },
    {
     "name": "stdout",
     "output_type": "stream",
     "text": [
      "p=-1, q=1\n"
     ]
    },
    {
     "data": {
      "image/png": "[encoded data removed]",
      "text/latex": [
       "$\\displaystyle -1$"
      ],
      "text/plain": [
       "-1"
      ]
     },
     "metadata": {},
     "output_type": "display_data"
    },
    {
     "name": "stdout",
     "output_type": "stream",
     "text": [
      "p=-1, q=2\n"
     ]
    },
    {
     "data": {
      "image/png": "[encoded data removed]",
      "text/latex": [
       "$\\displaystyle - \\frac{1}{2}$"
      ],
      "text/plain": [
       "-1/2"
      ]
     },
     "metadata": {},
     "output_type": "display_data"
    },
    {
     "name": "stdout",
     "output_type": "stream",
     "text": [
      "p=-1, q=3\n"
     ]
    },
    {
     "data": {
      "image/png": "[encoded data removed]",
      "text/latex": [
       "$\\displaystyle - \\frac{1}{3}$"
      ],
      "text/plain": [
       "-1/3"
      ]
     },
     "metadata": {},
     "output_type": "display_data"
    },
    {
     "name": "stdout",
     "output_type": "stream",
     "text": [
      "p=0, q=1\n"
     ]
    },
    {
     "data": {
      "image/png": "[encoded data removed]",
      "text/latex": [
       "$\\displaystyle 0$"
      ],
      "text/plain": [
       "0"
      ]
     },
     "metadata": {},
     "output_type": "display_data"
    },
    {
     "name": "stdout",
     "output_type": "stream",
     "text": [
      "p=0, q=2\n"
     ]
    },
    {
     "data": {
      "image/png": "[encoded data removed]",
      "text/latex": [
       "$\\displaystyle 0$"
      ],
      "text/plain": [
       "0"
      ]
     },
     "metadata": {},
     "output_type": "display_data"
    },
    {
     "name": "stdout",
     "output_type": "stream",
     "text": [
      "p=0, q=3\n"
     ]
    },
    {
     "data": {
      "image/png": "[encoded data removed]",
      "text/latex": [
       "$\\displaystyle 0$"
      ],
      "text/plain": [
       "0"
      ]
     },
     "metadata": {},
     "output_type": "display_data"
    },
    {
     "name": "stdout",
     "output_type": "stream",
     "text": [
      "p=1, q=1\n"
     ]
    },
    {
     "data": {
      "image/png": "[encoded data removed]",
      "text/latex": [
       "$\\displaystyle 1$"
      ],
      "text/plain": [
       "1"
      ]
     },
     "metadata": {},
     "output_type": "display_data"
    },
    {
     "name": "stdout",
     "output_type": "stream",
     "text": [
      "p=1, q=2\n"
     ]
    },
    {
     "data": {
      "image/png": "[encoded data removed]",
      "text/latex": [
       "$\\displaystyle \\frac{1}{2}$"
      ],
      "text/plain": [
       "1/2"
      ]
     },
     "metadata": {},
     "output_type": "display_data"
    },
    {
     "name": "stdout",
     "output_type": "stream",
     "text": [
      "p=1, q=3\n"
     ]
    },
    {
     "data": {
      "image/png": "[encoded data removed]",
      "text/latex": [
       "$\\displaystyle \\frac{1}{3}$"
      ],
      "text/plain": [
       "1/3"
      ]
     },
     "metadata": {},
     "output_type": "display_data"
    },
    {
     "name": "stdout",
     "output_type": "stream",
     "text": [
      "p=2, q=1\n"
     ]
    },
    {
     "data": {
      "image/png": "[encoded data removed]",
      "text/latex": [
       "$\\displaystyle 2$"
      ],
      "text/plain": [
       "2"
      ]
     },
     "metadata": {},
     "output_type": "display_data"
    },
    {
     "name": "stdout",
     "output_type": "stream",
     "text": [
      "p=2, q=2\n"
     ]
    },
    {
     "data": {
      "image/png": "[encoded data removed]",
      "text/latex": [
       "$\\displaystyle 1$"
      ],
      "text/plain": [
       "1"
      ]
     },
     "metadata": {},
     "output_type": "display_data"
    },
    {
     "name": "stdout",
     "output_type": "stream",
     "text": [
      "p=2, q=3\n"
     ]
    },
    {
     "data": {
      "image/png": "[encoded data removed]",
      "text/latex": [
       "$\\displaystyle \\frac{2}{3}$"
      ],
      "text/plain": [
       "2/3"
      ]
     },
     "metadata": {},
     "output_type": "display_data"
    }
   ],
   "source": [
    "for p in range(-3,3):\n",
    "    for q in range(1, 4):\n",
    "        print(f\"p={p}, q={q}\")   # f-String\n",
    "        display(Rational(p,q))"
   ]
  },
  {
   "cell_type": "code",
   "execution_count": 29,
   "id": "c27382b0",
   "metadata": {
    "slideshow": {
     "slide_type": "slide"
    }
   },
   "outputs": [
    {
     "data": {
      "image/png": "[encoded data removed]",
      "text/latex": [
       "$\\displaystyle \\frac{275295799}{77597520}$"
      ],
      "text/plain": [
       "275295799\n",
       "─────────\n",
       " 77597520"
      ]
     },
     "execution_count": 29,
     "metadata": {},
     "output_type": "execute_result"
    }
   ],
   "source": [
    "m = 20\n",
    "summe = 0\n",
    "for n in range(1, m):\n",
    "    summe += Rational(1,n)\n",
    "summe"
   ]
  },
  {
   "cell_type": "markdown",
   "id": "9a16941d",
   "metadata": {
    "slideshow": {
     "slide_type": "slide"
    }
   },
   "source": [
    "# Nochmal zurück zu `N`"
   ]
  },
  {
   "cell_type": "code",
   "execution_count": 30,
   "id": "706e6b82",
   "metadata": {},
   "outputs": [
    {
     "data": {
      "image/png": "[encoded data removed]",
      "text/latex": [
       "$\\displaystyle 0.333333333333333$"
      ],
      "text/plain": [
       "0.333333333333333"
      ]
     },
     "execution_count": 30,
     "metadata": {},
     "output_type": "execute_result"
    }
   ],
   "source": [
    "N(1/3)"
   ]
  },
  {
   "cell_type": "code",
   "execution_count": 31,
   "id": "d9018f89",
   "metadata": {},
   "outputs": [
    {
     "data": {
      "image/png": "[encoded data removed]",
      "text/latex": [
       "$\\displaystyle 0.333333333333333314829616256247390992939472198486328125$"
      ],
      "text/plain": [
       "0.3333333333333333148296162562473909929394721984863281250000000000000000000000\n",
       "000000000000000000000000"
      ]
     },
     "execution_count": 31,
     "metadata": {},
     "output_type": "execute_result"
    }
   ],
   "source": [
    "N(1/3, 100)"
   ]
  },
  {
   "cell_type": "code",
   "execution_count": 32,
   "id": "6885cf2c",
   "metadata": {},
   "outputs": [
    {
     "data": {
      "image/png": "[encoded data removed]",
      "text/latex": [
       "$\\displaystyle 0.33333333333333333333333333333333333333333333333333$"
      ],
      "text/plain": [
       "0.33333333333333333333333333333333333333333333333333"
      ]
     },
     "execution_count": 32,
     "metadata": {},
     "output_type": "execute_result"
    }
   ],
   "source": [
    "n50 = N(Rational(1,3), 50)\n",
    "n50"
   ]
  },
  {
   "cell_type": "code",
   "execution_count": 33,
   "id": "c7844795",
   "metadata": {},
   "outputs": [
    {
     "data": {
      "image/png": "[encoded data removed]",
      "text/latex": [
       "$\\displaystyle 0.33333333333333333333333333333333333333333333333333311060294082565036282162196107070984343206692665791260850317187565330011325107247011079181220338796265423297882080078125$"
      ],
      "text/plain": [
       "0.3333333333333333333333333333333333333333333333333331106029408256503628216219\n",
       "610707098434320669266579126085031718756533001132510724701107918122033879626542\n",
       "3297882080078125000000000000000000000000000000"
      ]
     },
     "execution_count": 33,
     "metadata": {},
     "output_type": "execute_result"
    }
   ],
   "source": [
    "N(n50, 200)"
   ]
  },
  {
   "cell_type": "markdown",
   "id": "eb00748e",
   "metadata": {
    "slideshow": {
     "slide_type": "slide"
    }
   },
   "source": [
    "# Verzweigungen"
   ]
  },
  {
   "cell_type": "code",
   "execution_count": 34,
   "id": "51275c03",
   "metadata": {},
   "outputs": [
    {
     "data": {
      "image/png": "[encoded data removed]",
      "text/latex": [
       "$\\displaystyle 3$"
      ],
      "text/plain": [
       "3"
      ]
     },
     "metadata": {},
     "output_type": "display_data"
    },
    {
     "data": {
      "image/png": "[encoded data removed]",
      "text/latex": [
       "$\\displaystyle 4$"
      ],
      "text/plain": [
       "4"
      ]
     },
     "metadata": {},
     "output_type": "display_data"
    }
   ],
   "source": [
    "for n in range(1, 10):\n",
    "    if n > 2 and n < 5:\n",
    "        display(n)"
   ]
  },
  {
   "cell_type": "code",
   "execution_count": 35,
   "id": "7429d599",
   "metadata": {
    "slideshow": {
     "slide_type": "slide"
    }
   },
   "outputs": [
    {
     "data": {
      "image/png": "[encoded data removed]",
      "text/latex": [
       "$\\displaystyle - \\frac{3}{2}$"
      ],
      "text/plain": [
       "-3/2"
      ]
     },
     "metadata": {},
     "output_type": "display_data"
    },
    {
     "data": {
      "image/png": "[encoded data removed]",
      "text/latex": [
       "$\\displaystyle - \\frac{2}{3}$"
      ],
      "text/plain": [
       "-2/3"
      ]
     },
     "metadata": {},
     "output_type": "display_data"
    },
    {
     "data": {
      "image/png": "[encoded data removed]",
      "text/latex": [
       "$\\displaystyle - \\frac{1}{2}$"
      ],
      "text/plain": [
       "-1/2"
      ]
     },
     "metadata": {},
     "output_type": "display_data"
    },
    {
     "data": {
      "image/png": "[encoded data removed]",
      "text/latex": [
       "$\\displaystyle - \\frac{1}{3}$"
      ],
      "text/plain": [
       "-1/3"
      ]
     },
     "metadata": {},
     "output_type": "display_data"
    },
    {
     "data": {
      "image/png": "[encoded data removed]",
      "text/latex": [
       "$\\displaystyle \\frac{1}{2}$"
      ],
      "text/plain": [
       "1/2"
      ]
     },
     "metadata": {},
     "output_type": "display_data"
    },
    {
     "data": {
      "image/png": "[encoded data removed]",
      "text/latex": [
       "$\\displaystyle \\frac{1}{3}$"
      ],
      "text/plain": [
       "1/3"
      ]
     },
     "metadata": {},
     "output_type": "display_data"
    },
    {
     "data": {
      "image/png": "[encoded data removed]",
      "text/latex": [
       "$\\displaystyle \\frac{2}{3}$"
      ],
      "text/plain": [
       "2/3"
      ]
     },
     "metadata": {},
     "output_type": "display_data"
    }
   ],
   "source": [
    "for p in range(-3,3):\n",
    "    for q in range(1, 4):\n",
    "        r = Rational(p, q)\n",
    "        if denom(r) != 1:\n",
    "            display(r)"
   ]
  },
  {
   "cell_type": "code",
   "execution_count": 36,
   "id": "5f12992d",
   "metadata": {
    "slideshow": {
     "slide_type": "slide"
    }
   },
   "outputs": [
    {
     "name": "stdout",
     "output_type": "stream",
     "text": [
      "0 ist durch 3 teilbar\n",
      "1 lässt bei Division durch 3 den Rest 1\n",
      "3 ist durch 3 teilbar\n",
      "7 lässt bei Division durch 3 den Rest 1\n",
      "15 ist durch 3 teilbar\n",
      "31 lässt bei Division durch 3 den Rest 1\n",
      "63 ist durch 3 teilbar\n",
      "127 lässt bei Division durch 3 den Rest 1\n",
      "255 ist durch 3 teilbar\n",
      "511 lässt bei Division durch 3 den Rest 1\n",
      "1023 ist durch 3 teilbar\n",
      "2047 lässt bei Division durch 3 den Rest 1\n",
      "4095 ist durch 3 teilbar\n",
      "8191 lässt bei Division durch 3 den Rest 1\n",
      "16383 ist durch 3 teilbar\n",
      "32767 lässt bei Division durch 3 den Rest 1\n",
      "65535 ist durch 3 teilbar\n",
      "131071 lässt bei Division durch 3 den Rest 1\n",
      "262143 ist durch 3 teilbar\n",
      "524287 lässt bei Division durch 3 den Rest 1\n"
     ]
    }
   ],
   "source": [
    "for j in range(20):\n",
    "    n = 2**j - 1\n",
    "    rest = n % 3\n",
    "    if rest == 0:\n",
    "        print(f\"{n} ist durch 3 teilbar\")\n",
    "    elif rest == 1:\n",
    "        print(f\"{n} lässt bei Division durch 3 den Rest 1\")\n",
    "    else:\n",
    "        print(f\"{n} lässt bei Division durch 3 den Rest 2\")"
   ]
  },
  {
   "cell_type": "code",
   "execution_count": 41,
   "id": "fd8afa2b",
   "metadata": {
    "slideshow": {
     "slide_type": "slide"
    }
   },
   "outputs": [
    {
     "data": {
      "image/png": "[encoded data removed]",
      "text/latex": [
       "$\\displaystyle 70$"
      ],
      "text/plain": [
       "70"
      ]
     },
     "execution_count": 41,
     "metadata": {},
     "output_type": "execute_result"
    }
   ],
   "source": [
    "summe = 0\n",
    "for m in range(1, 1000000):\n",
    "    if factorial(m) > 1.e100:\n",
    "        break\n",
    "\n",
    "m"
   ]
  },
  {
   "cell_type": "markdown",
   "id": "332d22a8",
   "metadata": {
    "slideshow": {
     "slide_type": "slide"
    }
   },
   "source": [
    "# Dictionary (assoziativer Speicher), key-value pairs"
   ]
  },
  {
   "cell_type": "code",
   "execution_count": 42,
   "id": "be5606ba",
   "metadata": {
    "slideshow": {
     "slide_type": "slide"
    }
   },
   "outputs": [
    {
     "data": {
      "text/plain": [
       "{1: 2, 2: 'vier', 'vier': 16.0}"
      ]
     },
     "execution_count": 42,
     "metadata": {},
     "output_type": "execute_result"
    }
   ],
   "source": [
    "a = {1: 2, 2: \"vier\", \"vier\": 16.}\n",
    "a"
   ]
  },
  {
   "cell_type": "code",
   "execution_count": 43,
   "id": "70dbb1f8",
   "metadata": {},
   "outputs": [
    {
     "data": {
      "text/plain": [
       "'vier'"
      ]
     },
     "execution_count": 43,
     "metadata": {},
     "output_type": "execute_result"
    }
   ],
   "source": [
    "a[2]"
   ]
  },
  {
   "cell_type": "code",
   "execution_count": 44,
   "id": "c455c190",
   "metadata": {},
   "outputs": [
    {
     "ename": "KeyError",
     "evalue": "3",
     "output_type": "error",
     "traceback": [
      "\u001b[1;31m---------------------------------------------------------------------------\u001b[0m",
      "\u001b[1;31mKeyError\u001b[0m                                  Traceback (most recent call last)",
      "Input \u001b[1;32mIn [44]\u001b[0m, in \u001b[0;36m<cell line: 1>\u001b[1;34m()\u001b[0m\n\u001b[1;32m----> 1\u001b[0m \u001b[43ma\u001b[49m\u001b[43m[\u001b[49m\u001b[38;5;241;43m3\u001b[39;49m\u001b[43m]\u001b[49m\n",
      "\u001b[1;31mKeyError\u001b[0m: 3"
     ]
    }
   ],
   "source": [
    "a[3]  # KeyError"
   ]
  },
  {
   "cell_type": "code",
   "execution_count": 45,
   "id": "2887d25d",
   "metadata": {
    "slideshow": {
     "slide_type": "slide"
    }
   },
   "outputs": [],
   "source": [
    "a[3] = 'ix'"
   ]
  },
  {
   "cell_type": "code",
   "execution_count": 46,
   "id": "32fae04e",
   "metadata": {},
   "outputs": [
    {
     "data": {
      "text/plain": [
       "{1: 2, 2: 'vier', 'vier': 16.0, 3: 'ix'}"
      ]
     },
     "execution_count": 46,
     "metadata": {},
     "output_type": "execute_result"
    }
   ],
   "source": [
    "a"
   ]
  },
  {
   "cell_type": "code",
   "execution_count": 47,
   "id": "55a2f8ef",
   "metadata": {
    "slideshow": {
     "slide_type": "slide"
    }
   },
   "outputs": [
    {
     "data": {
      "image/png": "[encoded data removed]",
      "text/latex": [
       "$\\displaystyle \\left\\{ 0 : 0, \\  1 : 1, \\  2 : 4, \\  3 : 9, \\  4 : 16, \\  5 : 25, \\  6 : 36, \\  7 : 49, \\  8 : 64, \\  9 : 81\\right\\}$"
      ],
      "text/plain": [
       "{0: 0, 1: 1, 2: 4, 3: 9, 4: 16, 5: 25, 6: 36, 7: 49, 8: 64, 9: 81}"
      ]
     },
     "execution_count": 47,
     "metadata": {},
     "output_type": "execute_result"
    }
   ],
   "source": [
    "quadratzahlen =  {}\n",
    "for j in range(10):\n",
    "    quadratzahlen[j] = j**2\n",
    "    \n",
    "quadratzahlen"
   ]
  },
  {
   "cell_type": "code",
   "execution_count": 48,
   "id": "7f7e72a7",
   "metadata": {},
   "outputs": [
    {
     "name": "stdout",
     "output_type": "stream",
     "text": [
      "Das Quadrat von 0 ist 0\n",
      "Das Quadrat von 1 ist 1\n",
      "Das Quadrat von 2 ist 4\n",
      "Das Quadrat von 3 ist 9\n",
      "Das Quadrat von 4 ist 16\n",
      "Das Quadrat von 5 ist 25\n",
      "Das Quadrat von 6 ist 36\n",
      "Das Quadrat von 7 ist 49\n",
      "Das Quadrat von 8 ist 64\n",
      "Das Quadrat von 9 ist 81\n"
     ]
    }
   ],
   "source": [
    "for schluessel in quadratzahlen:\n",
    "    print(f\"Das Quadrat von {schluessel} ist {quadratzahlen[schluessel]}\")"
   ]
  },
  {
   "cell_type": "code",
   "execution_count": 49,
   "id": "f3416309",
   "metadata": {
    "slideshow": {
     "slide_type": "slide"
    }
   },
   "outputs": [
    {
     "data": {
      "text/plain": [
       "{1: 2, 2: 'vier', 'vier': 16.0, 3: 'ix'}"
      ]
     },
     "execution_count": 49,
     "metadata": {},
     "output_type": "execute_result"
    }
   ],
   "source": [
    "a # Dictionary"
   ]
  },
  {
   "cell_type": "code",
   "execution_count": 50,
   "id": "ba71dd6f",
   "metadata": {},
   "outputs": [
    {
     "data": {
      "image/png": "[encoded data removed]",
      "text/latex": [
       "$\\displaystyle \\left\\{1, 2, 3, 4\\right\\}$"
      ],
      "text/plain": [
       "{1, 2, 3, 4}"
      ]
     },
     "execution_count": 50,
     "metadata": {},
     "output_type": "execute_result"
    }
   ],
   "source": [
    "M = {1,2,3,4}  # Menge (engl. set)\n",
    "M"
   ]
  },
  {
   "cell_type": "code",
   "execution_count": 51,
   "id": "dec23fb9",
   "metadata": {},
   "outputs": [
    {
     "data": {
      "text/plain": [
       "True"
      ]
     },
     "execution_count": 51,
     "metadata": {},
     "output_type": "execute_result"
    }
   ],
   "source": [
    "3 in M"
   ]
  },
  {
   "cell_type": "code",
   "execution_count": 52,
   "id": "1ddcc22f",
   "metadata": {},
   "outputs": [
    {
     "data": {
      "text/plain": [
       "False"
      ]
     },
     "execution_count": 52,
     "metadata": {},
     "output_type": "execute_result"
    }
   ],
   "source": [
    "5 in M"
   ]
  },
  {
   "cell_type": "code",
   "execution_count": 53,
   "id": "fc9bcdc4",
   "metadata": {
    "slideshow": {
     "slide_type": "slide"
    }
   },
   "outputs": [
    {
     "data": {
      "image/png": "[encoded data removed]",
      "text/latex": [
       "$\\displaystyle \\left\\{ \\right\\}$"
      ],
      "text/plain": [
       "{}"
      ]
     },
     "execution_count": 53,
     "metadata": {},
     "output_type": "execute_result"
    }
   ],
   "source": [
    "[] # leere Liste\n",
    "{} # leerer Dictionary"
   ]
  },
  {
   "cell_type": "code",
   "execution_count": 54,
   "id": "b6d994d5",
   "metadata": {},
   "outputs": [
    {
     "data": {
      "image/png": "[encoded data removed]",
      "text/latex": [
       "$\\displaystyle \\left\\{\\right\\}$"
      ],
      "text/plain": [
       "set()"
      ]
     },
     "execution_count": 54,
     "metadata": {},
     "output_type": "execute_result"
    }
   ],
   "source": [
    "set()   # leere Menge"
   ]
  },
  {
   "cell_type": "code",
   "execution_count": 55,
   "id": "bcbb6a42",
   "metadata": {
    "slideshow": {
     "slide_type": "-"
    }
   },
   "outputs": [
    {
     "data": {
      "image/png": "[encoded data removed]",
      "text/latex": [
       "$\\displaystyle \\left\\{1, 4, 9, 16\\right\\}$"
      ],
      "text/plain": [
       "{1, 4, 9, 16}"
      ]
     },
     "execution_count": 55,
     "metadata": {},
     "output_type": "execute_result"
    }
   ],
   "source": [
    "L = set()\n",
    "for m in M:\n",
    "    L.add(m**2)\n",
    "L"
   ]
  },
  {
   "cell_type": "code",
   "execution_count": 56,
   "id": "530b4abb",
   "metadata": {
    "slideshow": {
     "slide_type": "slide"
    }
   },
   "outputs": [
    {
     "data": {
      "image/png": "[encoded data removed]",
      "text/latex": [
       "$\\displaystyle \\left\\{1, 2, 3, 4, 9, 16\\right\\}$"
      ],
      "text/plain": [
       "{1, 2, 3, 4, 9, 16}"
      ]
     },
     "execution_count": 56,
     "metadata": {},
     "output_type": "execute_result"
    }
   ],
   "source": [
    "M | L  # Vereinigung"
   ]
  },
  {
   "cell_type": "code",
   "execution_count": 57,
   "id": "772f0538",
   "metadata": {},
   "outputs": [
    {
     "data": {
      "image/png": "[encoded data removed]",
      "text/latex": [
       "$\\displaystyle \\left\\{1, 4\\right\\}$"
      ],
      "text/plain": [
       "{1, 4}"
      ]
     },
     "execution_count": 57,
     "metadata": {},
     "output_type": "execute_result"
    }
   ],
   "source": [
    "M & L  # Durchschnitt"
   ]
  },
  {
   "cell_type": "code",
   "execution_count": 58,
   "id": "037b4daa",
   "metadata": {},
   "outputs": [
    {
     "data": {
      "image/png": "[encoded data removed]",
      "text/latex": [
       "$\\displaystyle \\left\\{2, 3\\right\\}$"
      ],
      "text/plain": [
       "{2, 3}"
      ]
     },
     "execution_count": 58,
     "metadata": {},
     "output_type": "execute_result"
    }
   ],
   "source": [
    "M - L  # Mengendifferenz"
   ]
  },
  {
   "cell_type": "code",
   "execution_count": 59,
   "id": "4c278718",
   "metadata": {},
   "outputs": [
    {
     "data": {
      "image/png": "[encoded data removed]",
      "text/latex": [
       "$\\displaystyle 6$"
      ],
      "text/plain": [
       "6"
      ]
     },
     "execution_count": 59,
     "metadata": {},
     "output_type": "execute_result"
    }
   ],
   "source": [
    "len(M | L)  "
   ]
  },
  {
   "cell_type": "markdown",
   "id": "8d268b22",
   "metadata": {
    "slideshow": {
     "slide_type": "slide"
    }
   },
   "source": [
    "# Dictionaries und Substitution"
   ]
  },
  {
   "cell_type": "code",
   "execution_count": 60,
   "id": "9c20194e",
   "metadata": {
    "slideshow": {
     "slide_type": "slide"
    }
   },
   "outputs": [],
   "source": [
    "x, y = symbols('x y')"
   ]
  },
  {
   "cell_type": "code",
   "execution_count": 61,
   "id": "4c608fb9",
   "metadata": {},
   "outputs": [
    {
     "data": {
      "image/png": "[encoded data removed]",
      "text/latex": [
       "$\\displaystyle e^{- x^{2} - 3 y^{3}}$"
      ],
      "text/plain": [
       "    2      3\n",
       " - x  - 3⋅y \n",
       "ℯ           "
      ]
     },
     "execution_count": 61,
     "metadata": {},
     "output_type": "execute_result"
    }
   ],
   "source": [
    "f = exp(-x**2-3*y**3)\n",
    "f"
   ]
  },
  {
   "cell_type": "code",
   "execution_count": 62,
   "id": "7ebc5e46",
   "metadata": {},
   "outputs": [
    {
     "data": {
      "image/png": "[encoded data removed]",
      "text/latex": [
       "$\\displaystyle e^{-1}$"
      ],
      "text/plain": [
       " -1\n",
       "ℯ  "
      ]
     },
     "execution_count": 62,
     "metadata": {},
     "output_type": "execute_result"
    }
   ],
   "source": [
    "ersetzung = {x: 2, y: -1}\n",
    "f.subs(ersetzung)"
   ]
  },
  {
   "cell_type": "code",
   "execution_count": 63,
   "id": "3e8a4408",
   "metadata": {
    "slideshow": {
     "slide_type": "slide"
    }
   },
   "outputs": [],
   "source": [
    "z = S('z')\n",
    "g = cos(z)"
   ]
  },
  {
   "cell_type": "code",
   "execution_count": 64,
   "id": "23f13d29",
   "metadata": {},
   "outputs": [
    {
     "data": {
      "image/png": "[encoded data removed]",
      "text/latex": [
       "$\\displaystyle \\cos{\\left(x \\right)}$"
      ],
      "text/plain": [
       "cos(x)"
      ]
     },
     "execution_count": 64,
     "metadata": {},
     "output_type": "execute_result"
    }
   ],
   "source": [
    "g.subs({z:x, x:y})"
   ]
  },
  {
   "cell_type": "code",
   "execution_count": 65,
   "id": "94151c9b",
   "metadata": {},
   "outputs": [
    {
     "data": {
      "image/png": "[encoded data removed]",
      "text/latex": [
       "$\\displaystyle \\cos{\\left(y \\right)}$"
      ],
      "text/plain": [
       "cos(y)"
      ]
     },
     "execution_count": 65,
     "metadata": {},
     "output_type": "execute_result"
    }
   ],
   "source": [
    "g.subs(z, x).subs(x, y)"
   ]
  },
  {
   "cell_type": "markdown",
   "id": "4abbc715",
   "metadata": {
    "slideshow": {
     "slide_type": "slide"
    }
   },
   "source": [
    "# Polynome"
   ]
  },
  {
   "cell_type": "code",
   "execution_count": 66,
   "id": "c7a63365",
   "metadata": {},
   "outputs": [
    {
     "data": {
      "image/png": "[encoded data removed]",
      "text/latex": [
       "$\\displaystyle x^{4} + 4 x^{3} + 6 x^{2} + 4 x + 1$"
      ],
      "text/plain": [
       " 4      3      2          \n",
       "x  + 4⋅x  + 6⋅x  + 4⋅x + 1"
      ]
     },
     "execution_count": 66,
     "metadata": {},
     "output_type": "execute_result"
    }
   ],
   "source": [
    "p = ((x+1)**4).expand()\n",
    "p"
   ]
  },
  {
   "cell_type": "code",
   "execution_count": 67,
   "id": "e9b03283",
   "metadata": {},
   "outputs": [
    {
     "data": {
      "image/png": "[encoded data removed]",
      "text/latex": [
       "$\\displaystyle 4$"
      ],
      "text/plain": [
       "4"
      ]
     },
     "execution_count": 67,
     "metadata": {},
     "output_type": "execute_result"
    }
   ],
   "source": [
    "degree(p, x)"
   ]
  },
  {
   "cell_type": "code",
   "execution_count": 68,
   "id": "1287eefe",
   "metadata": {},
   "outputs": [
    {
     "data": {
      "image/png": "[encoded data removed]",
      "text/latex": [
       "$\\displaystyle 6$"
      ],
      "text/plain": [
       "6"
      ]
     },
     "execution_count": 68,
     "metadata": {},
     "output_type": "execute_result"
    }
   ],
   "source": [
    "p.coeff(x**2)"
   ]
  },
  {
   "cell_type": "code",
   "execution_count": 69,
   "id": "40209cfd",
   "metadata": {},
   "outputs": [
    {
     "data": {
      "image/png": "[encoded data removed]",
      "text/latex": [
       "$\\displaystyle x^{4} + 1$"
      ],
      "text/plain": [
       " 4    \n",
       "x  + 1"
      ]
     },
     "execution_count": 69,
     "metadata": {},
     "output_type": "execute_result"
    }
   ],
   "source": [
    "p.coeff(x**0)"
   ]
  },
  {
   "cell_type": "markdown",
   "id": "d4ac1d28",
   "metadata": {},
   "source": [
    "Das ist der Koeffizient der 1"
   ]
  },
  {
   "cell_type": "code",
   "execution_count": 70,
   "id": "a6013534",
   "metadata": {},
   "outputs": [
    {
     "data": {
      "image/png": "[encoded data removed]",
      "text/latex": [
       "$\\displaystyle 1$"
      ],
      "text/plain": [
       "1"
      ]
     },
     "execution_count": 70,
     "metadata": {},
     "output_type": "execute_result"
    }
   ],
   "source": [
    "p.coeff(x, 0)"
   ]
  },
  {
   "cell_type": "markdown",
   "id": "41d31d30",
   "metadata": {
    "slideshow": {
     "slide_type": "slide"
    }
   },
   "source": [
    "Den Begriff \"Polynom\" darf man nicht so wörtlich nehmen"
   ]
  },
  {
   "cell_type": "code",
   "execution_count": 71,
   "id": "fba2a1f9",
   "metadata": {},
   "outputs": [
    {
     "data": {
      "image/png": "[encoded data removed]",
      "text/latex": [
       "$\\displaystyle x + y + \\left(x + y\\right) e^{x} + \\left(x + 2 y + \\left(x + y\\right) e^{x}\\right)^{2} + \\left(x + 3 y + \\left(x + y\\right) e^{x}\\right)^{3} + \\left(x + 4 y + \\left(x + y\\right) e^{x}\\right)^{4} + \\left(x + 5 y + \\left(x + y\\right) e^{x}\\right)^{5} + 1$"
      ],
      "text/plain": [
       "                                           2                         3        \n",
       "                 x   ⎛                   x⎞    ⎛                   x⎞    ⎛    \n",
       "x + y + (x + y)⋅ℯ  + ⎝x + 2⋅y + (x + y)⋅ℯ ⎠  + ⎝x + 3⋅y + (x + y)⋅ℯ ⎠  + ⎝x + \n",
       "\n",
       "                 4                         5    \n",
       "               x⎞    ⎛                   x⎞     \n",
       "4⋅y + (x + y)⋅ℯ ⎠  + ⎝x + 5⋅y + (x + y)⋅ℯ ⎠  + 1"
      ]
     },
     "execution_count": 71,
     "metadata": {},
     "output_type": "execute_result"
    }
   ],
   "source": [
    "y = S('y')\n",
    "p = 0\n",
    "for j in range(6):\n",
    "    p += (x+j*y + (x+y)*exp(x))**j\n",
    "\n",
    "p"
   ]
  },
  {
   "cell_type": "code",
   "execution_count": 72,
   "id": "ea71472b",
   "metadata": {},
   "outputs": [
    {
     "data": {
      "image/png": "[encoded data removed]",
      "text/latex": [
       "$\\displaystyle 91$"
      ],
      "text/plain": [
       "91"
      ]
     },
     "execution_count": 72,
     "metadata": {},
     "output_type": "execute_result"
    }
   ],
   "source": [
    "pe = p.expand()\n",
    "len(list(pe.args))"
   ]
  },
  {
   "cell_type": "code",
   "execution_count": 73,
   "id": "4d2517c5",
   "metadata": {
    "collapsed": true,
    "slideshow": {
     "slide_type": "slide"
    }
   },
   "outputs": [
    {
     "data": {
      "image/png": "[encoded data removed]",
      "text/latex": [
       "$\\displaystyle x^{5} + 25 x^{4} y + x^{4} + 250 x^{3} y^{2} + 16 x^{3} y + x^{3} + 1250 x^{2} y^{3} + 96 x^{2} y^{2} + 9 x^{2} y + x^{2} + 3125 x y^{4} + 256 x y^{3} + 27 x y^{2} + 4 x y + x + 3125 y^{5} + 256 y^{4} + 27 y^{3} + 4 y^{2} + y + \\left(x^{5} + 5 x^{4} y + 10 x^{3} y^{2} + 10 x^{2} y^{3} + 5 x y^{4} + y^{5}\\right) e^{5 x} + \\left(5 x^{5} + 45 x^{4} y + x^{4} + 130 x^{3} y^{2} + 4 x^{3} y + 170 x^{2} y^{3} + 6 x^{2} y^{2} + 105 x y^{4} + 4 x y^{3} + 25 y^{5} + y^{4}\\right) e^{4 x} + \\left(10 x^{5} + 130 x^{4} y + 4 x^{4} + 580 x^{3} y^{2} + 28 x^{3} y + x^{3} + 1060 x^{2} y^{3} + 60 x^{2} y^{2} + 3 x^{2} y + 850 x y^{4} + 52 x y^{3} + 3 x y^{2} + 250 y^{5} + 16 y^{4} + y^{3}\\right) e^{3 x} + \\left(10 x^{5} + 170 x^{4} y + 6 x^{4} + 1060 x^{3} y^{2} + 60 x^{3} y + 3 x^{3} + 2900 x^{2} y^{3} + 198 x^{2} y^{2} + 15 x^{2} y + x^{2} + 3250 x y^{4} + 240 x y^{3} + 21 x y^{2} + 2 x y + 1250 y^{5} + 96 y^{4} + 9 y^{3} + y^{2}\\right) e^{2 x} + \\left(5 x^{5} + 105 x^{4} y + 4 x^{4} + 850 x^{3} y^{2} + 52 x^{3} y + 3 x^{3} + 3250 x^{2} y^{3} + 240 x^{2} y^{2} + 21 x^{2} y + 2 x^{2} + 5625 x y^{4} + 448 x y^{3} + 45 x y^{2} + 6 x y + x + 3125 y^{5} + 256 y^{4} + 27 y^{3} + 4 y^{2} + y\\right) e^{x} + 1$"
      ],
      "text/plain": [
       " 5       4      4        3  2       3      3         2  3       2  2      2   \n",
       "x  + 25⋅x ⋅y + x  + 250⋅x ⋅y  + 16⋅x ⋅y + x  + 1250⋅x ⋅y  + 96⋅x ⋅y  + 9⋅x ⋅y \n",
       "\n",
       "   2           4          3         2                     5        4       3  \n",
       "+ x  + 3125⋅x⋅y  + 256⋅x⋅y  + 27⋅x⋅y  + 4⋅x⋅y + x + 3125⋅y  + 256⋅y  + 27⋅y  +\n",
       "\n",
       "    2       ⎛ 5      4         3  2       2  3        4    5⎞  5⋅x   ⎛   5    \n",
       " 4⋅y  + y + ⎝x  + 5⋅x ⋅y + 10⋅x ⋅y  + 10⋅x ⋅y  + 5⋅x⋅y  + y ⎠⋅ℯ    + ⎝5⋅x  + 4\n",
       "\n",
       "   4      4        3  2      3          2  3      2  2          4        3    \n",
       "5⋅x ⋅y + x  + 130⋅x ⋅y  + 4⋅x ⋅y + 170⋅x ⋅y  + 6⋅x ⋅y  + 105⋅x⋅y  + 4⋅x⋅y  + 2\n",
       "\n",
       "   5    4⎞  4⋅x   ⎛    5        4        4        3  2       3      3         \n",
       "5⋅y  + y ⎠⋅ℯ    + ⎝10⋅x  + 130⋅x ⋅y + 4⋅x  + 580⋅x ⋅y  + 28⋅x ⋅y + x  + 1060⋅x\n",
       "\n",
       "2  3       2  2      2            4         3        2        5       4    3⎞ \n",
       " ⋅y  + 60⋅x ⋅y  + 3⋅x ⋅y + 850⋅x⋅y  + 52⋅x⋅y  + 3⋅x⋅y  + 250⋅y  + 16⋅y  + y ⎠⋅\n",
       "\n",
       " 3⋅x   ⎛    5        4        4         3  2       3        3         2  3    \n",
       "ℯ    + ⎝10⋅x  + 170⋅x ⋅y + 6⋅x  + 1060⋅x ⋅y  + 60⋅x ⋅y + 3⋅x  + 2900⋅x ⋅y  + 1\n",
       "\n",
       "    2  2       2      2           4          3         2                 5    \n",
       "98⋅x ⋅y  + 15⋅x ⋅y + x  + 3250⋅x⋅y  + 240⋅x⋅y  + 21⋅x⋅y  + 2⋅x⋅y + 1250⋅y  + 9\n",
       "\n",
       "   4      3    2⎞  2⋅x   ⎛   5        4        4        3  2       3        3 \n",
       "6⋅y  + 9⋅y  + y ⎠⋅ℯ    + ⎝5⋅x  + 105⋅x ⋅y + 4⋅x  + 850⋅x ⋅y  + 52⋅x ⋅y + 3⋅x  \n",
       "\n",
       "        2  3        2  2       2        2           4          3         2    \n",
       "+ 3250⋅x ⋅y  + 240⋅x ⋅y  + 21⋅x ⋅y + 2⋅x  + 5625⋅x⋅y  + 448⋅x⋅y  + 45⋅x⋅y  + 6\n",
       "\n",
       "                 5        4       3      2    ⎞  x    \n",
       "⋅x⋅y + x + 3125⋅y  + 256⋅y  + 27⋅y  + 4⋅y  + y⎠⋅ℯ  + 1"
      ]
     },
     "execution_count": 73,
     "metadata": {},
     "output_type": "execute_result"
    }
   ],
   "source": [
    "pe.collect(exp(x))"
   ]
  },
  {
   "cell_type": "code",
   "execution_count": 75,
   "id": "e3272d56",
   "metadata": {},
   "outputs": [
    {
     "data": {
      "image/png": "[encoded data removed]",
      "text/latex": [
       "$\\displaystyle x^{5} + x^{4} + x^{3} + x^{2} + x + 3125 y^{5} + y^{4} \\cdot \\left(3125 x + 256\\right) + y^{3} \\cdot \\left(1250 x^{2} + 256 x + 27\\right) + y^{2} \\cdot \\left(250 x^{3} + 96 x^{2} + 27 x + 4\\right) + y \\left(25 x^{4} + 16 x^{3} + 9 x^{2} + 4 x + 1\\right) + \\left(x^{5} + 5 x^{4} y + 10 x^{3} y^{2} + 10 x^{2} y^{3} + 5 x y^{4} + y^{5}\\right) e^{5 x} + \\left(5 x^{5} + 45 x^{4} y + x^{4} + 130 x^{3} y^{2} + 4 x^{3} y + 170 x^{2} y^{3} + 6 x^{2} y^{2} + 105 x y^{4} + 4 x y^{3} + 25 y^{5} + y^{4}\\right) e^{4 x} + \\left(10 x^{5} + 130 x^{4} y + 4 x^{4} + 580 x^{3} y^{2} + 28 x^{3} y + x^{3} + 1060 x^{2} y^{3} + 60 x^{2} y^{2} + 3 x^{2} y + 850 x y^{4} + 52 x y^{3} + 3 x y^{2} + 250 y^{5} + 16 y^{4} + y^{3}\\right) e^{3 x} + \\left(10 x^{5} + 170 x^{4} y + 6 x^{4} + 1060 x^{3} y^{2} + 60 x^{3} y + 3 x^{3} + 2900 x^{2} y^{3} + 198 x^{2} y^{2} + 15 x^{2} y + x^{2} + 3250 x y^{4} + 240 x y^{3} + 21 x y^{2} + 2 x y + 1250 y^{5} + 96 y^{4} + 9 y^{3} + y^{2}\\right) e^{2 x} + \\left(5 x^{5} + 105 x^{4} y + 4 x^{4} + 850 x^{3} y^{2} + 52 x^{3} y + 3 x^{3} + 3250 x^{2} y^{3} + 240 x^{2} y^{2} + 21 x^{2} y + 2 x^{2} + 5625 x y^{4} + 448 x y^{3} + 45 x y^{2} + 6 x y + x + 3125 y^{5} + 256 y^{4} + 27 y^{3} + 4 y^{2} + y\\right) e^{x} + 1$"
      ],
      "text/plain": [
       " 5    4    3    2             5    4                   3 ⎛      2             \n",
       "x  + x  + x  + x  + x + 3125⋅y  + y ⋅(3125⋅x + 256) + y ⋅⎝1250⋅x  + 256⋅x + 27\n",
       "\n",
       "⎞    2 ⎛     3       2           ⎞     ⎛    4       3      2          ⎞   ⎛ 5 \n",
       "⎠ + y ⋅⎝250⋅x  + 96⋅x  + 27⋅x + 4⎠ + y⋅⎝25⋅x  + 16⋅x  + 9⋅x  + 4⋅x + 1⎠ + ⎝x  \n",
       "\n",
       "     4         3  2       2  3        4    5⎞  5⋅x   ⎛   5       4      4     \n",
       "+ 5⋅x ⋅y + 10⋅x ⋅y  + 10⋅x ⋅y  + 5⋅x⋅y  + y ⎠⋅ℯ    + ⎝5⋅x  + 45⋅x ⋅y + x  + 13\n",
       "\n",
       "   3  2      3          2  3      2  2          4        3       5    4⎞  4⋅x \n",
       "0⋅x ⋅y  + 4⋅x ⋅y + 170⋅x ⋅y  + 6⋅x ⋅y  + 105⋅x⋅y  + 4⋅x⋅y  + 25⋅y  + y ⎠⋅ℯ    \n",
       "\n",
       "  ⎛    5        4        4        3  2       3      3         2  3       2  2 \n",
       "+ ⎝10⋅x  + 130⋅x ⋅y + 4⋅x  + 580⋅x ⋅y  + 28⋅x ⋅y + x  + 1060⋅x ⋅y  + 60⋅x ⋅y  \n",
       "\n",
       "     2            4         3        2        5       4    3⎞  3⋅x   ⎛    5   \n",
       "+ 3⋅x ⋅y + 850⋅x⋅y  + 52⋅x⋅y  + 3⋅x⋅y  + 250⋅y  + 16⋅y  + y ⎠⋅ℯ    + ⎝10⋅x  + \n",
       "\n",
       "     4        4         3  2       3        3         2  3        2  2       2\n",
       "170⋅x ⋅y + 6⋅x  + 1060⋅x ⋅y  + 60⋅x ⋅y + 3⋅x  + 2900⋅x ⋅y  + 198⋅x ⋅y  + 15⋅x \n",
       "\n",
       "      2           4          3         2                 5       4      3    2\n",
       "⋅y + x  + 3250⋅x⋅y  + 240⋅x⋅y  + 21⋅x⋅y  + 2⋅x⋅y + 1250⋅y  + 96⋅y  + 9⋅y  + y \n",
       "\n",
       "⎞  2⋅x   ⎛   5        4        4        3  2       3        3         2  3    \n",
       "⎠⋅ℯ    + ⎝5⋅x  + 105⋅x ⋅y + 4⋅x  + 850⋅x ⋅y  + 52⋅x ⋅y + 3⋅x  + 3250⋅x ⋅y  + 2\n",
       "\n",
       "    2  2       2        2           4          3         2                    \n",
       "40⋅x ⋅y  + 21⋅x ⋅y + 2⋅x  + 5625⋅x⋅y  + 448⋅x⋅y  + 45⋅x⋅y  + 6⋅x⋅y + x + 3125⋅\n",
       "\n",
       " 5        4       3      2    ⎞  x    \n",
       "y  + 256⋅y  + 27⋅y  + 4⋅y  + y⎠⋅ℯ  + 1"
      ]
     },
     "execution_count": 75,
     "metadata": {},
     "output_type": "execute_result"
    }
   ],
   "source": [
    "pe.collect([exp(x), y])"
   ]
  },
  {
   "cell_type": "code",
   "execution_count": 76,
   "id": "18cba9e9",
   "metadata": {},
   "outputs": [
    {
     "data": {
      "image/png": "[encoded data removed]",
      "text/latex": [
       "$\\displaystyle 3250$"
      ],
      "text/plain": [
       "3250"
      ]
     },
     "execution_count": 76,
     "metadata": {},
     "output_type": "execute_result"
    }
   ],
   "source": [
    "pe.coeff(x**2*y**3*exp(x))"
   ]
  }
 ],
 "metadata": {
  "celltoolbar": "Slideshow",
  "kernelspec": {
   "display_name": "Python 3 (ipykernel)",
   "language": "python",
   "name": "python3"
  },
  "language_info": {
   "codemirror_mode": {
    "name": "ipython",
    "version": 3
   },
   "file_extension": ".py",
   "mimetype": "text/x-python",
   "name": "python",
   "nbconvert_exporter": "python",
   "pygments_lexer": "ipython3",
   "version": "3.9.12"
  }
 },
 "nbformat": 4,
 "nbformat_minor": 5
}
