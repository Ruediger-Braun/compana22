{
 "cells": [
  {
   "cell_type": "code",
   "execution_count": null,
   "id": "0f496617",
   "metadata": {},
   "outputs": [],
   "source": [
    "from sympy import *"
   ]
  },
  {
   "cell_type": "markdown",
   "id": "e41d6d59",
   "metadata": {},
   "source": [
    "# Listen und Arrays"
   ]
  },
  {
   "cell_type": "code",
   "execution_count": null,
   "id": "b72d091b",
   "metadata": {},
   "outputs": [],
   "source": [
    "l = [1,2,3]\n",
    "m = [4,5,6]\n",
    "l"
   ]
  },
  {
   "cell_type": "code",
   "execution_count": null,
   "id": "e6bb536c",
   "metadata": {},
   "outputs": [],
   "source": [
    "l.append(16)\n",
    "l"
   ]
  },
  {
   "cell_type": "code",
   "execution_count": null,
   "id": "d73f2036",
   "metadata": {},
   "outputs": [],
   "source": [
    "l[0]"
   ]
  },
  {
   "cell_type": "code",
   "execution_count": null,
   "id": "40f7d10b",
   "metadata": {},
   "outputs": [],
   "source": [
    "l[1]"
   ]
  },
  {
   "cell_type": "code",
   "execution_count": null,
   "id": "9cf254db",
   "metadata": {},
   "outputs": [],
   "source": [
    "l[-1]  # letztes Element"
   ]
  },
  {
   "cell_type": "code",
   "execution_count": null,
   "id": "c12a8ac3",
   "metadata": {},
   "outputs": [],
   "source": [
    "len(l)"
   ]
  },
  {
   "cell_type": "code",
   "execution_count": null,
   "id": "b494e3bc",
   "metadata": {},
   "outputs": [],
   "source": [
    "del l[2]"
   ]
  },
  {
   "cell_type": "code",
   "execution_count": null,
   "id": "466fc494",
   "metadata": {},
   "outputs": [],
   "source": [
    "l"
   ]
  },
  {
   "cell_type": "code",
   "execution_count": null,
   "id": "db94ab0d",
   "metadata": {},
   "outputs": [],
   "source": [
    "import numpy as np"
   ]
  },
  {
   "cell_type": "code",
   "execution_count": null,
   "id": "2b3fedfc",
   "metadata": {},
   "outputs": [],
   "source": [
    "a = np.array(l)\n",
    "b = np.array(m)\n",
    "a"
   ]
  },
  {
   "cell_type": "code",
   "execution_count": null,
   "id": "687a74da",
   "metadata": {},
   "outputs": [],
   "source": [
    "l + m"
   ]
  },
  {
   "cell_type": "code",
   "execution_count": null,
   "id": "001f231e",
   "metadata": {},
   "outputs": [],
   "source": [
    "a + b"
   ]
  },
  {
   "cell_type": "code",
   "execution_count": null,
   "id": "aa37000d",
   "metadata": {},
   "outputs": [],
   "source": [
    "l[1] = Rational(1,3)\n",
    "l"
   ]
  },
  {
   "cell_type": "code",
   "execution_count": null,
   "id": "85e48886",
   "metadata": {},
   "outputs": [],
   "source": [
    "init_printing()\n",
    "l"
   ]
  },
  {
   "cell_type": "code",
   "execution_count": null,
   "id": "96c92298",
   "metadata": {},
   "outputs": [],
   "source": [
    "a[1] = Rational(1,3)"
   ]
  },
  {
   "cell_type": "code",
   "execution_count": null,
   "id": "94f5c252",
   "metadata": {},
   "outputs": [],
   "source": [
    "a"
   ]
  },
  {
   "cell_type": "markdown",
   "id": "9db7cfa5",
   "metadata": {},
   "source": [
    "Aha ????"
   ]
  },
  {
   "cell_type": "code",
   "execution_count": null,
   "id": "d91e5996",
   "metadata": {},
   "outputs": [],
   "source": [
    "type(a)"
   ]
  },
  {
   "cell_type": "code",
   "execution_count": null,
   "id": "a1f83c65",
   "metadata": {},
   "outputs": [],
   "source": [
    "a.dtype"
   ]
  },
  {
   "cell_type": "markdown",
   "id": "98df733d",
   "metadata": {},
   "source": [
    "Ein `array` erhält den `dtype`, wenn die ersten Elemente hineingeschrieben werden.  Danach ist der `dtype` unveränderlich."
   ]
  },
  {
   "cell_type": "code",
   "execution_count": null,
   "id": "79750432",
   "metadata": {},
   "outputs": [],
   "source": [
    "a"
   ]
  },
  {
   "cell_type": "code",
   "execution_count": null,
   "id": "f38fec5f",
   "metadata": {},
   "outputs": [],
   "source": [
    "l + m"
   ]
  },
  {
   "cell_type": "code",
   "execution_count": null,
   "id": "ffcc1117",
   "metadata": {},
   "outputs": [],
   "source": [
    "a + b"
   ]
  },
  {
   "cell_type": "markdown",
   "id": "ae9bcdbd",
   "metadata": {},
   "source": [
    "# Schleifen"
   ]
  },
  {
   "cell_type": "code",
   "execution_count": null,
   "id": "979d6e6c",
   "metadata": {},
   "outputs": [],
   "source": [
    "list(range(10))"
   ]
  },
  {
   "cell_type": "code",
   "execution_count": null,
   "id": "dcf1894a",
   "metadata": {},
   "outputs": [],
   "source": [
    "for j in range(10):\n",
    "    print(factorial(j)/2**j)"
   ]
  },
  {
   "cell_type": "code",
   "execution_count": null,
   "id": "0fe5675b",
   "metadata": {},
   "outputs": [],
   "source": [
    "for j in range(10):\n",
    "    display(factorial(2*j)/factorial(j)**3)"
   ]
  },
  {
   "cell_type": "code",
   "execution_count": null,
   "id": "8fbbe2ea",
   "metadata": {},
   "outputs": [],
   "source": [
    "for p in range(-3,3):\n",
    "    for q in range(1, 4):\n",
    "        print(f\"p={p}, q={q}\")   # f-String\n",
    "        display(Rational(p,q))"
   ]
  },
  {
   "cell_type": "code",
   "execution_count": null,
   "id": "c27382b0",
   "metadata": {},
   "outputs": [],
   "source": [
    "m = 20\n",
    "summe = 0\n",
    "for n in range(1, m):\n",
    "    summe += Rational(1,n)\n",
    "summe"
   ]
  },
  {
   "cell_type": "markdown",
   "id": "9a16941d",
   "metadata": {},
   "source": [
    "# Nochmal zurück zu `N`"
   ]
  },
  {
   "cell_type": "code",
   "execution_count": null,
   "id": "706e6b82",
   "metadata": {},
   "outputs": [],
   "source": [
    "N(1/3)"
   ]
  },
  {
   "cell_type": "code",
   "execution_count": null,
   "id": "d9018f89",
   "metadata": {},
   "outputs": [],
   "source": [
    "N(1/3, 100)"
   ]
  },
  {
   "cell_type": "code",
   "execution_count": null,
   "id": "6885cf2c",
   "metadata": {},
   "outputs": [],
   "source": [
    "n50 = N(Rational(1,3), 50)\n",
    "n50"
   ]
  },
  {
   "cell_type": "code",
   "execution_count": null,
   "id": "c7844795",
   "metadata": {},
   "outputs": [],
   "source": [
    "N(n50, 200)"
   ]
  },
  {
   "cell_type": "markdown",
   "id": "eb00748e",
   "metadata": {},
   "source": [
    "# Verzweigungen"
   ]
  },
  {
   "cell_type": "code",
   "execution_count": null,
   "id": "51275c03",
   "metadata": {},
   "outputs": [],
   "source": [
    "for n in range(1, 10):\n",
    "    if n > 2 and n < 5:\n",
    "        display(n)"
   ]
  },
  {
   "cell_type": "code",
   "execution_count": null,
   "id": "7429d599",
   "metadata": {},
   "outputs": [],
   "source": [
    "for p in range(-3,3):\n",
    "    for q in range(1, 4):\n",
    "        r = Rational(p, q)\n",
    "        if denom(r) != 1:\n",
    "            display(r)"
   ]
  },
  {
   "cell_type": "code",
   "execution_count": null,
   "id": "5f12992d",
   "metadata": {},
   "outputs": [],
   "source": [
    "for j in range(20):\n",
    "    n = 2**j - 1\n",
    "    rest = n % 3\n",
    "    if rest == 0:\n",
    "        print(f\"{n} ist durch 3 teilbar\")\n",
    "    elif rest == 1:\n",
    "        print(f\"{n} lässt bei Division durch 3 den Rest 1\")\n",
    "    else:\n",
    "        print(f\"{n} lässt bei Division durch 3 den Rest 2\")"
   ]
  },
  {
   "cell_type": "code",
   "execution_count": null,
   "id": "fd8afa2b",
   "metadata": {},
   "outputs": [],
   "source": [
    "summe = 0\n",
    "for m in range(1, 1000000):\n",
    "    if factorial(m) > 1.e100:\n",
    "        break\n",
    "\n",
    "m"
   ]
  },
  {
   "cell_type": "markdown",
   "id": "332d22a8",
   "metadata": {},
   "source": [
    "# Dictionary (assoziativer Speicher), key-value pairs"
   ]
  },
  {
   "cell_type": "code",
   "execution_count": null,
   "id": "be5606ba",
   "metadata": {},
   "outputs": [],
   "source": [
    "a = {1: 2, 2: \"vier\", \"vier\": 16.}\n",
    "a"
   ]
  },
  {
   "cell_type": "code",
   "execution_count": null,
   "id": "70dbb1f8",
   "metadata": {},
   "outputs": [],
   "source": [
    "a[2]"
   ]
  },
  {
   "cell_type": "code",
   "execution_count": null,
   "id": "c455c190",
   "metadata": {},
   "outputs": [],
   "source": [
    "# a[3]  # KeyError"
   ]
  },
  {
   "cell_type": "code",
   "execution_count": null,
   "id": "2887d25d",
   "metadata": {},
   "outputs": [],
   "source": [
    "a[3] = 'ix'"
   ]
  },
  {
   "cell_type": "code",
   "execution_count": null,
   "id": "32fae04e",
   "metadata": {},
   "outputs": [],
   "source": [
    "a"
   ]
  },
  {
   "cell_type": "code",
   "execution_count": null,
   "id": "55a2f8ef",
   "metadata": {},
   "outputs": [],
   "source": [
    "quadratzahlen =  {}\n",
    "for j in range(10):\n",
    "    quadratzahlen[j] = j**2\n",
    "    \n",
    "quadratzahlen"
   ]
  },
  {
   "cell_type": "code",
   "execution_count": null,
   "id": "7f7e72a7",
   "metadata": {},
   "outputs": [],
   "source": [
    "for schluessel in quadratzahlen:\n",
    "    print(f\"Das Quadrat von {schluessel} ist {quadratzahlen[schluessel]}\")"
   ]
  },
  {
   "cell_type": "code",
   "execution_count": null,
   "id": "f3416309",
   "metadata": {},
   "outputs": [],
   "source": [
    "a # Dictionary"
   ]
  },
  {
   "cell_type": "code",
   "execution_count": null,
   "id": "ba71dd6f",
   "metadata": {},
   "outputs": [],
   "source": [
    "M = {1,2,3,4}  # Menge (engl. set)\n",
    "M"
   ]
  },
  {
   "cell_type": "code",
   "execution_count": null,
   "id": "dec23fb9",
   "metadata": {},
   "outputs": [],
   "source": [
    "3 in M"
   ]
  },
  {
   "cell_type": "code",
   "execution_count": null,
   "id": "1ddcc22f",
   "metadata": {},
   "outputs": [],
   "source": [
    "5 in M"
   ]
  },
  {
   "cell_type": "code",
   "execution_count": null,
   "id": "bcbb6a42",
   "metadata": {},
   "outputs": [],
   "source": [
    "L = set()\n",
    "for m in M:\n",
    "    L.add(m**2)\n",
    "L"
   ]
  },
  {
   "cell_type": "code",
   "execution_count": null,
   "id": "530b4abb",
   "metadata": {},
   "outputs": [],
   "source": [
    "M | L  # Vereinigung"
   ]
  },
  {
   "cell_type": "code",
   "execution_count": null,
   "id": "772f0538",
   "metadata": {},
   "outputs": [],
   "source": [
    "M & L  # Durchschnitt"
   ]
  },
  {
   "cell_type": "code",
   "execution_count": null,
   "id": "037b4daa",
   "metadata": {},
   "outputs": [],
   "source": [
    "M - L  # Mengendifferenz"
   ]
  },
  {
   "cell_type": "code",
   "execution_count": null,
   "id": "4c278718",
   "metadata": {},
   "outputs": [],
   "source": [
    "len(M | L)  "
   ]
  },
  {
   "cell_type": "markdown",
   "id": "8d268b22",
   "metadata": {},
   "source": [
    "# Dictionaries und Substitution"
   ]
  },
  {
   "cell_type": "code",
   "execution_count": null,
   "id": "9c20194e",
   "metadata": {},
   "outputs": [],
   "source": [
    "x, y = symbols('x y')"
   ]
  },
  {
   "cell_type": "code",
   "execution_count": null,
   "id": "4c608fb9",
   "metadata": {},
   "outputs": [],
   "source": [
    "f = exp(-x**2-3*y**3)\n",
    "f"
   ]
  },
  {
   "cell_type": "code",
   "execution_count": null,
   "id": "7ebc5e46",
   "metadata": {},
   "outputs": [],
   "source": [
    "ersetzung = {x: 2, y: -1}\n",
    "f.subs(ersetzung)"
   ]
  },
  {
   "cell_type": "code",
   "execution_count": null,
   "id": "3e8a4408",
   "metadata": {},
   "outputs": [],
   "source": [
    "z = S('z')\n",
    "g = cos(z)"
   ]
  },
  {
   "cell_type": "code",
   "execution_count": null,
   "id": "23f13d29",
   "metadata": {},
   "outputs": [],
   "source": [
    "g.subs({z:x, x:y})"
   ]
  },
  {
   "cell_type": "code",
   "execution_count": null,
   "id": "94151c9b",
   "metadata": {},
   "outputs": [],
   "source": [
    "g.subs(z, x).subs(x, y)"
   ]
  },
  {
   "cell_type": "markdown",
   "id": "4abbc715",
   "metadata": {},
   "source": [
    "# Polynome"
   ]
  },
  {
   "cell_type": "code",
   "execution_count": null,
   "id": "c7a63365",
   "metadata": {},
   "outputs": [],
   "source": [
    "p = ((x+1)**4).expand()\n",
    "p"
   ]
  },
  {
   "cell_type": "code",
   "execution_count": null,
   "id": "1287eefe",
   "metadata": {},
   "outputs": [],
   "source": [
    "p.coeff(x**2)"
   ]
  },
  {
   "cell_type": "code",
   "execution_count": null,
   "id": "40209cfd",
   "metadata": {},
   "outputs": [],
   "source": [
    "p.coeff(x**0)"
   ]
  },
  {
   "cell_type": "markdown",
   "id": "d4ac1d28",
   "metadata": {},
   "source": [
    "Das ist der Koeffizient der 1"
   ]
  },
  {
   "cell_type": "code",
   "execution_count": null,
   "id": "a6013534",
   "metadata": {},
   "outputs": [],
   "source": [
    "p.coeff(x, 0)"
   ]
  },
  {
   "cell_type": "markdown",
   "id": "41d31d30",
   "metadata": {},
   "source": [
    "Den Begriff \"Polynom\" darf man nicht so wörtlich nehmen"
   ]
  },
  {
   "cell_type": "code",
   "execution_count": null,
   "id": "fba2a1f9",
   "metadata": {},
   "outputs": [],
   "source": [
    "y = S('y')\n",
    "p = 0\n",
    "for j in range(6):\n",
    "    p += (x+j*y + (x+y)*exp(x))**j\n",
    "\n",
    "p"
   ]
  },
  {
   "cell_type": "code",
   "execution_count": null,
   "id": "ea71472b",
   "metadata": {},
   "outputs": [],
   "source": [
    "pe = p.expand()\n",
    "len(list(pe.args))"
   ]
  },
  {
   "cell_type": "code",
   "execution_count": null,
   "id": "4d2517c5",
   "metadata": {},
   "outputs": [],
   "source": [
    "pe.collect(exp(x))"
   ]
  },
  {
   "cell_type": "code",
   "execution_count": null,
   "id": "e3272d56",
   "metadata": {},
   "outputs": [],
   "source": [
    "pe.collect([exp(x), y])"
   ]
  },
  {
   "cell_type": "code",
   "execution_count": null,
   "id": "18cba9e9",
   "metadata": {},
   "outputs": [],
   "source": [
    "pe.coeff(x**2*y**3*exp(x))"
   ]
  }
 ],
 "metadata": {
  "kernelspec": {
   "display_name": "Python 3 (ipykernel)",
   "language": "python",
   "name": "python3"
  },
  "language_info": {
   "codemirror_mode": {
    "name": "ipython",
    "version": 3
   },
   "file_extension": ".py",
   "mimetype": "text/x-python",
   "name": "python",
   "nbconvert_exporter": "python",
   "pygments_lexer": "ipython3",
   "version": "3.10.6"
  }
 },
 "nbformat": 4,
 "nbformat_minor": 5
}
