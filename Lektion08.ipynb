{
 "cells": [
  {
   "cell_type": "markdown",
   "id": "8e025879",
   "metadata": {
    "slideshow": {
     "slide_type": "slide"
    }
   },
   "source": [
    "# Computergestützte Mathematik zur Analysis\n",
    "\n",
    "Vorlesung vom 08.12.2022\n",
    "\n",
    "&copy; 2022 Prof. Dr. Rüdiger W. Braun "
   ]
  },
  {
   "cell_type": "code",
   "execution_count": 1,
   "id": "e2b2c2a5",
   "metadata": {
    "slideshow": {
     "slide_type": "slide"
    }
   },
   "outputs": [],
   "source": [
    "from sympy import *\n",
    "init_printing()"
   ]
  },
  {
   "cell_type": "markdown",
   "id": "004b13bf",
   "metadata": {
    "slideshow": {
     "slide_type": "slide"
    }
   },
   "source": [
    "# nutzergesteuerte trigonometrische Vereinfachungen"
   ]
  },
  {
   "cell_type": "code",
   "execution_count": 2,
   "id": "46aa968a",
   "metadata": {
    "slideshow": {
     "slide_type": "slide"
    }
   },
   "outputs": [
    {
     "data": {
      "image/png": "[encoded data removed]",
      "text/latex": [
       "$\\displaystyle \\sin{\\left(x \\right)} + \\sin{\\left(y \\right)}$"
      ],
      "text/plain": [
       "sin(x) + sin(y)"
      ]
     },
     "execution_count": 2,
     "metadata": {},
     "output_type": "execute_result"
    }
   ],
   "source": [
    "x = S('x')\n",
    "y = S('y')\n",
    "b = sin(x) + sin(y)\n",
    "b"
   ]
  },
  {
   "cell_type": "code",
   "execution_count": 3,
   "id": "fea71c5f",
   "metadata": {},
   "outputs": [
    {
     "data": {
      "image/png": "[encoded data removed]",
      "text/latex": [
       "$\\displaystyle \\sin{\\left(x \\right)} + \\sin{\\left(y \\right)}$"
      ],
      "text/plain": [
       "sin(x) + sin(y)"
      ]
     },
     "execution_count": 3,
     "metadata": {},
     "output_type": "execute_result"
    }
   ],
   "source": [
    "b.trigsimp()"
   ]
  },
  {
   "cell_type": "markdown",
   "id": "0fecb22b",
   "metadata": {
    "slideshow": {
     "slide_type": "fragment"
    }
   },
   "source": [
    "Wir hätten gerne eine Darstellung als Produkt"
   ]
  },
  {
   "cell_type": "code",
   "execution_count": 4,
   "id": "55acc69c",
   "metadata": {},
   "outputs": [
    {
     "data": {
      "image/png": "[encoded data removed]",
      "text/latex": [
       "$\\displaystyle \\sin{\\left(x \\right)} + \\sin{\\left(y \\right)}$"
      ],
      "text/plain": [
       "sin(x) + sin(y)"
      ]
     },
     "execution_count": 4,
     "metadata": {},
     "output_type": "execute_result"
    }
   ],
   "source": [
    "b.trigsimp(method='fu')"
   ]
  },
  {
   "cell_type": "markdown",
   "id": "f9e08ed1",
   "metadata": {
    "slideshow": {
     "slide_type": "slide"
    }
   },
   "source": [
    "Wie kompliziert ist dieser Ausdruck?"
   ]
  },
  {
   "cell_type": "code",
   "execution_count": 6,
   "id": "206e1fe3",
   "metadata": {},
   "outputs": [
    {
     "data": {
      "image/png": "[encoded data removed]",
      "text/latex": [
       "$\\displaystyle 3$"
      ],
      "text/plain": [
       "3"
      ]
     },
     "execution_count": 6,
     "metadata": {},
     "output_type": "execute_result"
    }
   ],
   "source": [
    "b.count_ops()"
   ]
  },
  {
   "cell_type": "code",
   "execution_count": 7,
   "id": "4f6408f3",
   "metadata": {},
   "outputs": [
    {
     "data": {
      "image/png": "[encoded data removed]",
      "text/latex": [
       "$\\displaystyle ADD + 2 SIN$"
      ],
      "text/plain": [
       "ADD + 2⋅SIN"
      ]
     },
     "execution_count": 7,
     "metadata": {},
     "output_type": "execute_result"
    }
   ],
   "source": [
    "b.count_ops(visual=True)"
   ]
  },
  {
   "cell_type": "code",
   "execution_count": 8,
   "id": "d4af4564",
   "metadata": {
    "slideshow": {
     "slide_type": "slide"
    }
   },
   "outputs": [],
   "source": [
    "def my_measure(expr):\n",
    "    opc = expr.count_ops(visual=True)\n",
    "    print(opc)  # zur Fehlersuche\n",
    "    strafe = {}\n",
    "    strafe['ADD'] = 1\n",
    "    strafe['SIN'] = 1\n",
    "    strafe['MUL'] = -100 # negative Strafe = Belohnung\n",
    "    return opc.subs(strafe) "
   ]
  },
  {
   "cell_type": "code",
   "execution_count": 9,
   "id": "c0031a44",
   "metadata": {},
   "outputs": [
    {
     "name": "stdout",
     "output_type": "stream",
     "text": [
      "ADD + 2*SIN\n"
     ]
    },
    {
     "data": {
      "image/png": "[encoded data removed]",
      "text/latex": [
       "$\\displaystyle 3$"
      ],
      "text/plain": [
       "3"
      ]
     },
     "execution_count": 9,
     "metadata": {},
     "output_type": "execute_result"
    }
   ],
   "source": [
    "my_measure(b)"
   ]
  },
  {
   "cell_type": "code",
   "execution_count": 11,
   "id": "6c4071a3",
   "metadata": {},
   "outputs": [],
   "source": [
    "# b.trigsimp(method='fu', measure=my_measure)  # TypeError"
   ]
  },
  {
   "cell_type": "code",
   "execution_count": 12,
   "id": "5a9220c2",
   "metadata": {
    "slideshow": {
     "slide_type": "slide"
    }
   },
   "outputs": [],
   "source": [
    "def my_measure(expr):\n",
    "    opc = expr.count_ops(visual=True)\n",
    "    # print(opc)  # zur Fehlersuche\n",
    "    strafe = {}\n",
    "    strafe['ADD'] = 1\n",
    "    strafe['SIN'] = 1\n",
    "    strafe['MUL'] = -100\n",
    "    strafe['COS'] = 1\n",
    "    strafe['DIV'] = 1\n",
    "    strafe['SUB'] = 1\n",
    "    return opc.subs(strafe)"
   ]
  },
  {
   "cell_type": "code",
   "execution_count": 13,
   "id": "a9c92e09",
   "metadata": {},
   "outputs": [
    {
     "data": {
      "image/png": "[encoded data removed]",
      "text/latex": [
       "$\\displaystyle 2 \\sin{\\left(\\frac{x}{2} + \\frac{y}{2} \\right)} \\cos{\\left(\\frac{x}{2} - \\frac{y}{2} \\right)}$"
      ],
      "text/plain": [
       "     ⎛x   y⎞    ⎛x   y⎞\n",
       "2⋅sin⎜─ + ─⎟⋅cos⎜─ - ─⎟\n",
       "     ⎝2   2⎠    ⎝2   2⎠"
      ]
     },
     "execution_count": 13,
     "metadata": {},
     "output_type": "execute_result"
    }
   ],
   "source": [
    "c = b.trigsimp(method='fu', measure=my_measure)\n",
    "c"
   ]
  },
  {
   "cell_type": "code",
   "execution_count": 15,
   "id": "3a2488d1",
   "metadata": {},
   "outputs": [
    {
     "data": {
      "image/png": "[encoded data removed]",
      "text/latex": [
       "$\\displaystyle -192$"
      ],
      "text/plain": [
       "-192"
      ]
     },
     "execution_count": 15,
     "metadata": {},
     "output_type": "execute_result"
    }
   ],
   "source": [
    "my_measure(c)"
   ]
  },
  {
   "cell_type": "code",
   "execution_count": 16,
   "id": "b3cb6723",
   "metadata": {},
   "outputs": [
    {
     "data": {
      "image/png": "[encoded data removed]",
      "text/latex": [
       "$\\displaystyle \\sin{\\left(x \\right)} + \\sin{\\left(y \\right)}$"
      ],
      "text/plain": [
       "sin(x) + sin(y)"
      ]
     },
     "execution_count": 16,
     "metadata": {},
     "output_type": "execute_result"
    }
   ],
   "source": [
    "c.trigsimp()"
   ]
  },
  {
   "cell_type": "code",
   "execution_count": 17,
   "id": "d7be2f8e",
   "metadata": {
    "slideshow": {
     "slide_type": "slide"
    }
   },
   "outputs": [],
   "source": [
    "d = sin(x)**8"
   ]
  },
  {
   "cell_type": "code",
   "execution_count": 18,
   "id": "0e39f35b",
   "metadata": {},
   "outputs": [
    {
     "data": {
      "image/png": "[encoded data removed]",
      "text/latex": [
       "$\\displaystyle \\sin^{8}{\\left(x \\right)}$"
      ],
      "text/plain": [
       "   8   \n",
       "sin (x)"
      ]
     },
     "execution_count": 18,
     "metadata": {},
     "output_type": "execute_result"
    }
   ],
   "source": [
    "d.trigsimp()"
   ]
  },
  {
   "cell_type": "code",
   "execution_count": 19,
   "id": "72b249b1",
   "metadata": {},
   "outputs": [],
   "source": [
    "def my_measure(expr):\n",
    "    opc = expr.count_ops(visual=True)\n",
    "    # print(opc)  # zur Fehlersuche\n",
    "    strafe = {}\n",
    "    strafe['ADD'] = 1\n",
    "    strafe['SIN'] = 100\n",
    "    strafe['MUL'] = 1\n",
    "    strafe['COS'] = 1\n",
    "    strafe['DIV'] = 1\n",
    "    strafe['SUB'] = 1\n",
    "    strafe['POW'] = 1\n",
    "    return opc.subs(strafe)"
   ]
  },
  {
   "cell_type": "code",
   "execution_count": 20,
   "id": "e69a3638",
   "metadata": {},
   "outputs": [
    {
     "data": {
      "image/png": "[encoded data removed]",
      "text/latex": [
       "$\\displaystyle \\cos^{8}{\\left(x \\right)} - 4 \\cos^{6}{\\left(x \\right)} + 6 \\cos^{4}{\\left(x \\right)} - 4 \\cos^{2}{\\left(x \\right)} + 1$"
      ],
      "text/plain": [
       "   8           6           4           2       \n",
       "cos (x) - 4⋅cos (x) + 6⋅cos (x) - 4⋅cos (x) + 1"
      ]
     },
     "execution_count": 20,
     "metadata": {},
     "output_type": "execute_result"
    }
   ],
   "source": [
    "d.trigsimp(method='fu', measure=my_measure)"
   ]
  },
  {
   "cell_type": "markdown",
   "id": "6b1732f3",
   "metadata": {
    "slideshow": {
     "slide_type": "slide"
    }
   },
   "source": [
    "# Reihenentwicklungen"
   ]
  },
  {
   "cell_type": "code",
   "execution_count": 21,
   "id": "4c208047",
   "metadata": {
    "slideshow": {
     "slide_type": "slide"
    }
   },
   "outputs": [
    {
     "data": {
      "image/png": "[encoded data removed]",
      "text/latex": [
       "$\\displaystyle 1 - 2 x^{2} + \\frac{2 x^{4}}{3} - \\frac{4 x^{6}}{45} + \\frac{2 x^{8}}{315} - \\frac{4 x^{10}}{14175} + O\\left(x^{12}\\right)$"
      ],
      "text/plain": [
       "              4      6      8      10         \n",
       "       2   2⋅x    4⋅x    2⋅x    4⋅x      ⎛ 12⎞\n",
       "1 - 2⋅x  + ──── - ──── + ──── - ───── + O⎝x  ⎠\n",
       "            3      45    315    14175         "
      ]
     },
     "execution_count": 21,
     "metadata": {},
     "output_type": "execute_result"
    }
   ],
   "source": [
    "x = S('x')\n",
    "f = cos(2*x)\n",
    "f.series(x, n=12)"
   ]
  },
  {
   "cell_type": "code",
   "execution_count": 22,
   "id": "242e99a3",
   "metadata": {},
   "outputs": [
    {
     "data": {
      "image/png": "[encoded data removed]",
      "text/latex": [
       "$\\displaystyle \\frac{\\pi}{2} + \\frac{4 \\left(x - \\frac{\\pi}{4}\\right)^{3}}{3} - \\frac{4 \\left(x - \\frac{\\pi}{4}\\right)^{5}}{15} - 2 x + O\\left(\\left(x - \\frac{\\pi}{4}\\right)^{6}; x\\rightarrow \\frac{\\pi}{4}\\right)$"
      ],
      "text/plain": [
       "             3            5                           \n",
       "      ⎛    π⎞      ⎛    π⎞                            \n",
       "    4⋅⎜x - ─⎟    4⋅⎜x - ─⎟           ⎛       6       ⎞\n",
       "π     ⎝    4⎠      ⎝    4⎠           ⎜⎛    π⎞       π⎟\n",
       "─ + ────────── - ────────── - 2⋅x + O⎜⎜x - ─⎟ ; x → ─⎟\n",
       "2       3            15              ⎝⎝    4⎠       4⎠"
      ]
     },
     "execution_count": 22,
     "metadata": {},
     "output_type": "execute_result"
    }
   ],
   "source": [
    "f.series(x, pi/4)"
   ]
  },
  {
   "cell_type": "code",
   "execution_count": 23,
   "id": "f18ac02b",
   "metadata": {},
   "outputs": [
    {
     "data": {
      "image/png": "[encoded data removed]",
      "text/latex": [
       "$\\displaystyle 0$"
      ],
      "text/plain": [
       "0"
      ]
     },
     "execution_count": 23,
     "metadata": {},
     "output_type": "execute_result"
    }
   ],
   "source": [
    "f.subs(x, pi/4)"
   ]
  },
  {
   "cell_type": "markdown",
   "id": "eb38b588",
   "metadata": {},
   "source": [
    "Die Reihe ist richtig, sie ist nur dämlich hingeschrieben"
   ]
  },
  {
   "cell_type": "code",
   "execution_count": 24,
   "id": "658c26b2",
   "metadata": {
    "slideshow": {
     "slide_type": "slide"
    }
   },
   "outputs": [
    {
     "data": {
      "image/png": "[encoded data removed]",
      "text/latex": [
       "$\\displaystyle \\frac{1}{x^{2} + x + 1}$"
      ],
      "text/plain": [
       "    1     \n",
       "──────────\n",
       " 2        \n",
       "x  + x + 1"
      ]
     },
     "execution_count": 24,
     "metadata": {},
     "output_type": "execute_result"
    }
   ],
   "source": [
    "g = 1/(x**2+x+1)\n",
    "g"
   ]
  },
  {
   "cell_type": "code",
   "execution_count": 25,
   "id": "ae138ee0",
   "metadata": {},
   "outputs": [
    {
     "data": {
      "image/png": "[encoded data removed]",
      "text/latex": [
       "$\\displaystyle \\frac{1}{x^{5}} - \\frac{1}{x^{3}} + \\frac{1}{x^{2}} + O\\left(\\frac{1}{x^{6}}; x\\rightarrow \\infty\\right)$"
      ],
      "text/plain": [
       "1    1    1     ⎛1        ⎞\n",
       "── - ── + ── + O⎜──; x → ∞⎟\n",
       " 5    3    2    ⎜ 6       ⎟\n",
       "x    x    x     ⎝x        ⎠"
      ]
     },
     "execution_count": 25,
     "metadata": {},
     "output_type": "execute_result"
    }
   ],
   "source": [
    "gs = g.series(x, oo)\n",
    "gs"
   ]
  },
  {
   "cell_type": "code",
   "execution_count": 28,
   "id": "8b94678d",
   "metadata": {
    "slideshow": {
     "slide_type": "fragment"
    }
   },
   "outputs": [
    {
     "data": {
      "image/png": "[encoded data removed]",
      "text/latex": [
       "$\\displaystyle O\\left(- \\frac{1}{x^{25}}; x\\rightarrow -\\infty\\right)$"
      ],
      "text/plain": [
       " ⎛-1         ⎞\n",
       "O⎜───; x → -∞⎟\n",
       " ⎜ 25        ⎟\n",
       " ⎝x          ⎠"
      ]
     },
     "execution_count": 28,
     "metadata": {},
     "output_type": "execute_result"
    }
   ],
   "source": [
    "h = exp(x)\n",
    "h.series(x, -oo, n=25)"
   ]
  },
  {
   "cell_type": "code",
   "execution_count": 29,
   "id": "e38f8b40",
   "metadata": {},
   "outputs": [
    {
     "data": {
      "image/png": "[encoded data removed]",
      "text/latex": [
       "$\\displaystyle e^{x}$"
      ],
      "text/plain": [
       " x\n",
       "ℯ "
      ]
     },
     "execution_count": 29,
     "metadata": {},
     "output_type": "execute_result"
    }
   ],
   "source": [
    "h.series(x, oo)"
   ]
  },
  {
   "cell_type": "code",
   "execution_count": 30,
   "id": "62e02254",
   "metadata": {
    "slideshow": {
     "slide_type": "slide"
    }
   },
   "outputs": [
    {
     "data": {
      "image/png": "[encoded data removed]",
      "text/latex": [
       "$\\displaystyle e^{\\sqrt{x + 1}}$"
      ],
      "text/plain": [
       "   _______\n",
       " ╲╱ x + 1 \n",
       "ℯ         "
      ]
     },
     "execution_count": 30,
     "metadata": {},
     "output_type": "execute_result"
    }
   ],
   "source": [
    "exp(sqrt(x+1)).series(x, oo)"
   ]
  },
  {
   "cell_type": "code",
   "execution_count": 33,
   "id": "7a4084d9",
   "metadata": {},
   "outputs": [
    {
     "data": {
      "image/png": "[encoded data removed]",
      "text/latex": [
       "$\\displaystyle e^{- \\sqrt{x} + \\sqrt{x + 1}}$"
      ],
      "text/plain": [
       "         _______\n",
       " -√x + ╲╱ x + 1 \n",
       "ℯ               "
      ]
     },
     "execution_count": 33,
     "metadata": {},
     "output_type": "execute_result"
    }
   ],
   "source": [
    "r = exp(sqrt(x+1)-sqrt(x))\n",
    "r"
   ]
  },
  {
   "cell_type": "code",
   "execution_count": 34,
   "id": "9c65601b",
   "metadata": {},
   "outputs": [
    {
     "data": {
      "image/png": "[encoded data removed]",
      "text/latex": [
       "$\\displaystyle - \\frac{23}{384 x^{2}} + \\frac{1}{8 x} + 1 + \\frac{\\sqrt{\\frac{1}{x}}}{2} - \\frac{5 \\left(\\frac{1}{x}\\right)^{\\frac{3}{2}}}{48} + \\frac{181 \\left(\\frac{1}{x}\\right)^{\\frac{5}{2}}}{3840} + O\\left(\\frac{1}{x^{3}}; x\\rightarrow \\infty\\right)$"
      ],
      "text/plain": [
       "                         ___        3/2          5/2               \n",
       "                        ╱ 1      ⎛1⎞          ⎛1⎞                  \n",
       "                       ╱  ─    5⋅⎜─⎟      181⋅⎜─⎟                  \n",
       "    23      1        ╲╱   x      ⎝x⎠          ⎝x⎠       ⎛1        ⎞\n",
       "- ────── + ─── + 1 + ─────── - ──────── + ────────── + O⎜──; x → ∞⎟\n",
       "       2   8⋅x          2         48         3840       ⎜ 3       ⎟\n",
       "  384⋅x                                                 ⎝x        ⎠"
      ]
     },
     "execution_count": 34,
     "metadata": {},
     "output_type": "execute_result"
    }
   ],
   "source": [
    "r_ser = r.series(x, oo, n=3)\n",
    "r_ser"
   ]
  },
  {
   "cell_type": "code",
   "execution_count": 35,
   "id": "d4b9acb9",
   "metadata": {},
   "outputs": [
    {
     "data": {
      "image/png": "[encoded data removed]",
      "text/latex": [
       "$\\displaystyle \\frac{1}{2}$"
      ],
      "text/plain": [
       "1/2"
      ]
     },
     "execution_count": 35,
     "metadata": {},
     "output_type": "execute_result"
    }
   ],
   "source": [
    "(sqrt(x)*(r-1)).limit(x, oo)"
   ]
  },
  {
   "cell_type": "code",
   "execution_count": 36,
   "id": "b783f43c",
   "metadata": {
    "slideshow": {
     "slide_type": "slide"
    }
   },
   "outputs": [
    {
     "data": {
      "image/png": "[encoded data removed]",
      "text/latex": [
       "$\\displaystyle - \\frac{\\log{\\left(\\frac{1}{x} \\right)}}{2} + \\frac{a}{2 x} - \\frac{a^{2}}{4 x^{2}} + \\frac{a^{3}}{6 x^{3}} - \\frac{a^{4}}{8 x^{4}} + \\frac{a^{5}}{10 x^{5}} + O\\left(\\frac{1}{x^{6}}; x\\rightarrow \\infty\\right)$"
      ],
      "text/plain": [
       "     ⎛1⎞                                                  \n",
       "  log⎜─⎟           2      3      4       5                \n",
       "     ⎝x⎠    a     a      a      a       a      ⎛1        ⎞\n",
       "- ────── + ─── - ──── + ──── - ──── + ───── + O⎜──; x → ∞⎟\n",
       "    2      2⋅x      2      3      4       5    ⎜ 6       ⎟\n",
       "                 4⋅x    6⋅x    8⋅x    10⋅x     ⎝x        ⎠"
      ]
     },
     "execution_count": 36,
     "metadata": {},
     "output_type": "execute_result"
    }
   ],
   "source": [
    "a = S('a')\n",
    "b_ser = log(sqrt(x+a)).series(x, oo)\n",
    "b_ser"
   ]
  },
  {
   "cell_type": "code",
   "execution_count": 38,
   "id": "532c8d85",
   "metadata": {},
   "outputs": [
    {
     "data": {
      "image/png": "[encoded data removed]",
      "text/latex": [
       "$\\displaystyle \\frac{a^{5}}{10 x^{5}} - \\frac{a^{4}}{8 x^{4}} + \\frac{a^{3}}{6 x^{3}} - \\frac{a^{2}}{4 x^{2}} + \\frac{a}{2 x} - \\frac{\\log{\\left(\\frac{1}{x} \\right)}}{2}$"
      ],
      "text/plain": [
       "                                      ⎛1⎞\n",
       "   5      4      3      2          log⎜─⎟\n",
       "  a      a      a      a      a       ⎝x⎠\n",
       "───── - ──── + ──── - ──── + ─── - ──────\n",
       "    5      4      3      2   2⋅x     2   \n",
       "10⋅x    8⋅x    6⋅x    4⋅x                "
      ]
     },
     "execution_count": 38,
     "metadata": {},
     "output_type": "execute_result"
    }
   ],
   "source": [
    "b_ser.removeO()"
   ]
  },
  {
   "cell_type": "code",
   "execution_count": 39,
   "id": "615f17e6",
   "metadata": {
    "slideshow": {
     "slide_type": "slide"
    }
   },
   "outputs": [
    {
     "data": {
      "image/png": "[encoded data removed]",
      "text/latex": [
       "$\\displaystyle \\frac{100}{x} + 9 + x + O\\left(\\frac{1}{x^{2}}; x\\rightarrow \\infty\\right)$"
      ],
      "text/plain": [
       "100            ⎛1        ⎞\n",
       "─── + 9 + x + O⎜──; x → ∞⎟\n",
       " x             ⎜ 2       ⎟\n",
       "               ⎝x        ⎠"
      ]
     },
     "execution_count": 39,
     "metadata": {},
     "output_type": "execute_result"
    }
   ],
   "source": [
    "reihe = x + 9 + 100/x + O(1/x**2, (x,oo))\n",
    "reihe"
   ]
  },
  {
   "cell_type": "code",
   "execution_count": 40,
   "id": "12a2b1c3",
   "metadata": {},
   "outputs": [
    {
     "data": {
      "image/png": "[encoded data removed]",
      "text/latex": [
       "$\\displaystyle 281 + 18 x + x^{2} + O\\left(\\frac{1}{x}; x\\rightarrow \\infty\\right)$"
      ],
      "text/plain": [
       "              2    ⎛1       ⎞\n",
       "281 + 18⋅x + x  + O⎜─; x → ∞⎟\n",
       "                   ⎝x       ⎠"
      ]
     },
     "execution_count": 40,
     "metadata": {},
     "output_type": "execute_result"
    }
   ],
   "source": [
    "(reihe**2).expand()"
   ]
  },
  {
   "cell_type": "markdown",
   "id": "73900f41",
   "metadata": {
    "slideshow": {
     "slide_type": "slide"
    }
   },
   "source": [
    "# Beispiel mit der Lambert-Funktion"
   ]
  },
  {
   "cell_type": "code",
   "execution_count": 41,
   "id": "0f35519c",
   "metadata": {
    "slideshow": {
     "slide_type": "slide"
    }
   },
   "outputs": [
    {
     "data": {
      "image/png": "[encoded data removed]",
      "text/latex": [
       "$\\displaystyle \\log{\\left(x \\right)} = x + \\log{\\left(y \\right)}$"
      ],
      "text/plain": [
       "log(x) = x + log(y)"
      ]
     },
     "execution_count": 41,
     "metadata": {},
     "output_type": "execute_result"
    }
   ],
   "source": [
    "glg = Eq(log(x), x + log(y))\n",
    "glg"
   ]
  },
  {
   "cell_type": "code",
   "execution_count": 42,
   "id": "b766d851",
   "metadata": {},
   "outputs": [
    {
     "data": {
      "image/png": "[encoded data removed]",
      "text/latex": [
       "$\\displaystyle \\left[ - W\\left(- y\\right)\\right]$"
      ],
      "text/plain": [
       "[-W(-y)]"
      ]
     },
     "execution_count": 42,
     "metadata": {},
     "output_type": "execute_result"
    }
   ],
   "source": [
    "lsg = solve(glg, x)\n",
    "lsg"
   ]
  },
  {
   "cell_type": "code",
   "execution_count": 43,
   "id": "4b62048e",
   "metadata": {},
   "outputs": [
    {
     "data": {
      "image/png": "[encoded data removed]",
      "text/latex": [
       "$\\displaystyle y + y^{2} + \\frac{3 y^{3}}{2} + \\frac{8 y^{4}}{3} + \\frac{125 y^{5}}{24} + O\\left(y^{6}\\right)$"
      ],
      "text/plain": [
       "            3      4        5        \n",
       "     2   3⋅y    8⋅y    125⋅y     ⎛ 6⎞\n",
       "y + y  + ──── + ──── + ────── + O⎝y ⎠\n",
       "          2      3       24          "
      ]
     },
     "execution_count": 43,
     "metadata": {},
     "output_type": "execute_result"
    }
   ],
   "source": [
    "f = lsg[0]\n",
    "f_ser = f.series(y, 0)\n",
    "f_ser"
   ]
  },
  {
   "cell_type": "code",
   "execution_count": 44,
   "id": "9cb3fd55",
   "metadata": {
    "slideshow": {
     "slide_type": "slide"
    }
   },
   "outputs": [
    {
     "data": {
      "image/png": "[encoded data removed]",
      "text/latex": [
       "$\\displaystyle \\log{\\left(y + y^{2} + \\frac{3 y^{3}}{2} + \\frac{8 y^{4}}{3} + \\frac{125 y^{5}}{24} + O\\left(y^{6}\\right) \\right)} = \\log{\\left(y \\right)} + y + y^{2} + \\frac{3 y^{3}}{2} + \\frac{8 y^{4}}{3} + \\frac{125 y^{5}}{24} + O\\left(y^{6}\\right)$"
      ],
      "text/plain": [
       "   ⎛            3      4        5        ⎞                        3      4    \n",
       "   ⎜     2   3⋅y    8⋅y    125⋅y     ⎛ 6⎞⎟                 2   3⋅y    8⋅y    1\n",
       "log⎜y + y  + ──── + ──── + ────── + O⎝y ⎠⎟ = log(y) + y + y  + ──── + ──── + ─\n",
       "   ⎝          2      3       24          ⎠                      2      3      \n",
       "\n",
       "    5        \n",
       "25⋅y     ⎛ 6⎞\n",
       "───── + O⎝y ⎠\n",
       " 24          "
      ]
     },
     "execution_count": 44,
     "metadata": {},
     "output_type": "execute_result"
    }
   ],
   "source": [
    "g1 = glg.subs(x, f_ser)\n",
    "g1"
   ]
  },
  {
   "cell_type": "code",
   "execution_count": 45,
   "id": "bf2c58d1",
   "metadata": {},
   "outputs": [
    {
     "data": {
      "image/png": "[encoded data removed]",
      "text/latex": [
       "$\\displaystyle \\log{\\left(y \\right)} + y + y^{2} + \\frac{3 y^{3}}{2} + \\frac{8 y^{4}}{3} - \\frac{671 y^{5}}{120} + O\\left(y^{6}\\right)$"
      ],
      "text/plain": [
       "                     3      4        5        \n",
       "              2   3⋅y    8⋅y    671⋅y     ⎛ 6⎞\n",
       "log(y) + y + y  + ──── + ──── - ────── + O⎝y ⎠\n",
       "                   2      3      120          "
      ]
     },
     "execution_count": 45,
     "metadata": {},
     "output_type": "execute_result"
    }
   ],
   "source": [
    "l_ser = g1.lhs.series(y, 0)\n",
    "l_ser"
   ]
  },
  {
   "cell_type": "code",
   "execution_count": 46,
   "id": "32be7cfa",
   "metadata": {},
   "outputs": [
    {
     "data": {
      "image/png": "[encoded data removed]",
      "text/latex": [
       "$\\displaystyle \\log{\\left(y \\right)} + y + y^{2} + \\frac{3 y^{3}}{2} + \\frac{8 y^{4}}{3} + \\frac{125 y^{5}}{24} + O\\left(y^{6}\\right)$"
      ],
      "text/plain": [
       "                     3      4        5        \n",
       "              2   3⋅y    8⋅y    125⋅y     ⎛ 6⎞\n",
       "log(y) + y + y  + ──── + ──── + ────── + O⎝y ⎠\n",
       "                   2      3       24          "
      ]
     },
     "execution_count": 46,
     "metadata": {},
     "output_type": "execute_result"
    }
   ],
   "source": [
    "r_ser = g1.rhs.series(y, 0)\n",
    "r_ser"
   ]
  },
  {
   "cell_type": "code",
   "execution_count": 47,
   "id": "317b24b4",
   "metadata": {},
   "outputs": [
    {
     "data": {
      "image/png": "[encoded data removed]",
      "text/latex": [
       "$\\displaystyle y - \\frac{y^{2}}{2} + \\frac{y^{3}}{3} - \\frac{y^{4}}{4} + \\frac{y^{5}}{5} + O\\left(y^{6}\\right)$"
      ],
      "text/plain": [
       "     2    3    4    5        \n",
       "    y    y    y    y     ⎛ 6⎞\n",
       "y - ── + ── - ── + ── + O⎝y ⎠\n",
       "    2    3    4    5         "
      ]
     },
     "execution_count": 47,
     "metadata": {},
     "output_type": "execute_result"
    }
   ],
   "source": [
    "series(log(1+y))"
   ]
  },
  {
   "cell_type": "code",
   "execution_count": 48,
   "id": "0bb295ad",
   "metadata": {},
   "outputs": [
    {
     "data": {
      "image/png": "[encoded data removed]",
      "text/latex": [
       "$\\displaystyle - \\frac{54 y^{5}}{5} + O\\left(y^{6}\\right)$"
      ],
      "text/plain": [
       "      5        \n",
       "  54⋅y     ⎛ 6⎞\n",
       "- ───── + O⎝y ⎠\n",
       "    5          "
      ]
     },
     "execution_count": 48,
     "metadata": {},
     "output_type": "execute_result"
    }
   ],
   "source": [
    "l_ser - r_ser"
   ]
  },
  {
   "cell_type": "markdown",
   "id": "3553d07a",
   "metadata": {
    "slideshow": {
     "slide_type": "slide"
    }
   },
   "source": [
    "# Vektoren und Matrizen"
   ]
  },
  {
   "cell_type": "code",
   "execution_count": 49,
   "id": "ee47bcc5",
   "metadata": {
    "slideshow": {
     "slide_type": "slide"
    }
   },
   "outputs": [
    {
     "data": {
      "text/latex": [
       "$\\displaystyle \\left[\\begin{matrix}1\\\\2\\\\3\\end{matrix}\\right]$"
      ],
      "text/plain": [
       "⎡1⎤\n",
       "⎢ ⎥\n",
       "⎢2⎥\n",
       "⎢ ⎥\n",
       "⎣3⎦"
      ]
     },
     "execution_count": 49,
     "metadata": {},
     "output_type": "execute_result"
    }
   ],
   "source": [
    "v = Matrix([1,2,3])\n",
    "v"
   ]
  },
  {
   "cell_type": "code",
   "execution_count": 50,
   "id": "5baa7e38",
   "metadata": {},
   "outputs": [
    {
     "data": {
      "text/latex": [
       "$\\displaystyle \\left[\\begin{matrix}4 & 5 & 6\\end{matrix}\\right]$"
      ],
      "text/plain": [
       "[4  5  6]"
      ]
     },
     "execution_count": 50,
     "metadata": {},
     "output_type": "execute_result"
    }
   ],
   "source": [
    "w = Matrix(1,3,[4,5,6])  # 1x3-Matrix\n",
    "w"
   ]
  },
  {
   "cell_type": "code",
   "execution_count": 51,
   "id": "7619bedd",
   "metadata": {},
   "outputs": [
    {
     "data": {
      "image/png": "[encoded data removed]",
      "text/latex": [
       "$\\displaystyle 2$"
      ],
      "text/plain": [
       "2"
      ]
     },
     "execution_count": 51,
     "metadata": {},
     "output_type": "execute_result"
    }
   ],
   "source": [
    "v[1]"
   ]
  },
  {
   "cell_type": "code",
   "execution_count": 52,
   "id": "0ebd4f42",
   "metadata": {},
   "outputs": [
    {
     "data": {
      "image/png": "[encoded data removed]",
      "text/latex": [
       "$\\displaystyle 5$"
      ],
      "text/plain": [
       "5"
      ]
     },
     "execution_count": 52,
     "metadata": {},
     "output_type": "execute_result"
    }
   ],
   "source": [
    "w[1] "
   ]
  },
  {
   "cell_type": "code",
   "execution_count": 54,
   "id": "dfc0a836",
   "metadata": {
    "slideshow": {
     "slide_type": "slide"
    }
   },
   "outputs": [
    {
     "data": {
      "text/latex": [
       "$\\displaystyle \\left[\\begin{matrix}4 & 5 & 6\\\\8 & 10 & 12\\\\12 & 15 & 18\\end{matrix}\\right]$"
      ],
      "text/plain": [
       "⎡4   5   6 ⎤\n",
       "⎢          ⎥\n",
       "⎢8   10  12⎥\n",
       "⎢          ⎥\n",
       "⎣12  15  18⎦"
      ]
     },
     "execution_count": 54,
     "metadata": {},
     "output_type": "execute_result"
    }
   ],
   "source": [
    "v*w"
   ]
  },
  {
   "cell_type": "code",
   "execution_count": 55,
   "id": "aeea92c4",
   "metadata": {},
   "outputs": [
    {
     "data": {
      "text/latex": [
       "$\\displaystyle \\left[\\begin{matrix}32\\end{matrix}\\right]$"
      ],
      "text/plain": [
       "[32]"
      ]
     },
     "execution_count": 55,
     "metadata": {},
     "output_type": "execute_result"
    }
   ],
   "source": [
    "w * v"
   ]
  },
  {
   "cell_type": "code",
   "execution_count": 57,
   "id": "7cfaf0ce",
   "metadata": {
    "slideshow": {
     "slide_type": "slide"
    }
   },
   "outputs": [
    {
     "data": {
      "text/latex": [
       "$\\displaystyle \\left[\\begin{matrix}1 & 2 & 3\\\\4 & 5 & 6\\\\7 & 8 & 9\\end{matrix}\\right]$"
      ],
      "text/plain": [
       "⎡1  2  3⎤\n",
       "⎢       ⎥\n",
       "⎢4  5  6⎥\n",
       "⎢       ⎥\n",
       "⎣7  8  9⎦"
      ]
     },
     "execution_count": 57,
     "metadata": {},
     "output_type": "execute_result"
    }
   ],
   "source": [
    "A = Matrix(3,3,range(1,10))\n",
    "A"
   ]
  },
  {
   "cell_type": "code",
   "execution_count": 58,
   "id": "623f1bbe",
   "metadata": {},
   "outputs": [
    {
     "data": {
      "image/png": "[encoded data removed]",
      "text/latex": [
       "$\\displaystyle 4$"
      ],
      "text/plain": [
       "4"
      ]
     },
     "execution_count": 58,
     "metadata": {},
     "output_type": "execute_result"
    }
   ],
   "source": [
    "A[1,0]"
   ]
  },
  {
   "cell_type": "code",
   "execution_count": 59,
   "id": "65247ce3",
   "metadata": {},
   "outputs": [
    {
     "data": {
      "image/png": "[encoded data removed]",
      "text/latex": [
       "$\\displaystyle 9$"
      ],
      "text/plain": [
       "9"
      ]
     },
     "execution_count": 59,
     "metadata": {},
     "output_type": "execute_result"
    }
   ],
   "source": [
    "A[8]"
   ]
  },
  {
   "cell_type": "markdown",
   "id": "0aecafc6",
   "metadata": {},
   "source": [
    "???"
   ]
  },
  {
   "cell_type": "code",
   "execution_count": 60,
   "id": "8fff4de4",
   "metadata": {
    "slideshow": {
     "slide_type": "slide"
    }
   },
   "outputs": [
    {
     "data": {
      "text/latex": [
       "$\\displaystyle \\left[\\begin{matrix}4 & 5 & 6\\end{matrix}\\right]$"
      ],
      "text/plain": [
       "[4  5  6]"
      ]
     },
     "execution_count": 60,
     "metadata": {},
     "output_type": "execute_result"
    }
   ],
   "source": [
    "A.row(1)"
   ]
  },
  {
   "cell_type": "code",
   "execution_count": 61,
   "id": "b0ac980e",
   "metadata": {},
   "outputs": [
    {
     "data": {
      "text/latex": [
       "$\\displaystyle \\left[\\begin{matrix}3\\\\6\\\\9\\end{matrix}\\right]$"
      ],
      "text/plain": [
       "⎡3⎤\n",
       "⎢ ⎥\n",
       "⎢6⎥\n",
       "⎢ ⎥\n",
       "⎣9⎦"
      ]
     },
     "execution_count": 61,
     "metadata": {},
     "output_type": "execute_result"
    }
   ],
   "source": [
    "A.col(2)"
   ]
  },
  {
   "cell_type": "code",
   "execution_count": 62,
   "id": "fac68448",
   "metadata": {},
   "outputs": [
    {
     "data": {
      "text/latex": [
       "$\\displaystyle \\left[\\begin{matrix}14\\\\32\\\\50\\end{matrix}\\right]$"
      ],
      "text/plain": [
       "⎡14⎤\n",
       "⎢  ⎥\n",
       "⎢32⎥\n",
       "⎢  ⎥\n",
       "⎣50⎦"
      ]
     },
     "execution_count": 62,
     "metadata": {},
     "output_type": "execute_result"
    }
   ],
   "source": [
    "A * v"
   ]
  },
  {
   "cell_type": "code",
   "execution_count": 65,
   "id": "c4195bbe",
   "metadata": {
    "slideshow": {
     "slide_type": "slide"
    }
   },
   "outputs": [],
   "source": [
    "# v * A # ShapeError"
   ]
  },
  {
   "cell_type": "code",
   "execution_count": 68,
   "id": "df47d8aa",
   "metadata": {},
   "outputs": [
    {
     "data": {
      "text/latex": [
       "$\\displaystyle \\left[\\begin{matrix}x & 1\\\\1 & y\\end{matrix}\\right]$"
      ],
      "text/plain": [
       "⎡x  1⎤\n",
       "⎢    ⎥\n",
       "⎣1  y⎦"
      ]
     },
     "execution_count": 68,
     "metadata": {},
     "output_type": "execute_result"
    }
   ],
   "source": [
    "x = S('x')\n",
    "y = S('y')\n",
    "B = Matrix([[x,1], [1,y]])\n",
    "B"
   ]
  },
  {
   "cell_type": "markdown",
   "id": "f54d66e9",
   "metadata": {
    "slideshow": {
     "slide_type": "slide"
    }
   },
   "source": [
    "# variable Vektoren"
   ]
  },
  {
   "cell_type": "code",
   "execution_count": 69,
   "id": "fcad2d51",
   "metadata": {
    "slideshow": {
     "slide_type": "slide"
    }
   },
   "outputs": [
    {
     "data": {
      "image/png": "[encoded data removed]",
      "text/latex": [
       "$\\displaystyle \\left( x_{0}, \\  x_{1}, \\  x_{2}, \\  x_{3}, \\  x_{4}, \\  x_{5}, \\  x_{6}, \\  x_{7}, \\  x_{8}, \\  x_{9}\\right)$"
      ],
      "text/plain": [
       "(x₀, x₁, x₂, x₃, x₄, x₅, x₆, x₇, x₈, x₉)"
      ]
     },
     "execution_count": 69,
     "metadata": {},
     "output_type": "execute_result"
    }
   ],
   "source": [
    "x = symbols('x0:10')\n",
    "x"
   ]
  },
  {
   "cell_type": "code",
   "execution_count": 70,
   "id": "8015aba4",
   "metadata": {},
   "outputs": [
    {
     "data": {
      "image/png": "[encoded data removed]",
      "text/latex": [
       "$\\displaystyle x_{7}$"
      ],
      "text/plain": [
       "x₇"
      ]
     },
     "execution_count": 70,
     "metadata": {},
     "output_type": "execute_result"
    }
   ],
   "source": [
    "x[7]"
   ]
  },
  {
   "cell_type": "code",
   "execution_count": 71,
   "id": "2fea8d49",
   "metadata": {},
   "outputs": [
    {
     "data": {
      "text/latex": [
       "$\\displaystyle \\left[\\begin{matrix}x_{0} & x_{1} & x_{2} & x_{3} & x_{4}\\\\x_{5} & x_{6} & x_{7} & x_{8} & x_{9}\\end{matrix}\\right]$"
      ],
      "text/plain": [
       "⎡x₀  x₁  x₂  x₃  x₄⎤\n",
       "⎢                  ⎥\n",
       "⎣x₅  x₆  x₇  x₈  x₉⎦"
      ]
     },
     "execution_count": 71,
     "metadata": {},
     "output_type": "execute_result"
    }
   ],
   "source": [
    "M = Matrix(2, 5, x)\n",
    "M"
   ]
  },
  {
   "cell_type": "code",
   "execution_count": 72,
   "id": "a6d6dba3",
   "metadata": {},
   "outputs": [],
   "source": [
    "a = symbols('a0:2_0:5')\n",
    "A = Matrix(2, 5, a)"
   ]
  },
  {
   "cell_type": "code",
   "execution_count": 73,
   "id": "31da36a6",
   "metadata": {},
   "outputs": [
    {
     "data": {
      "text/latex": [
       "$\\displaystyle \\left[\\begin{matrix}a_{0 0} & a_{0 1} & a_{0 2} & a_{0 3} & a_{0 4}\\\\a_{1 0} & a_{1 1} & a_{1 2} & a_{1 3} & a_{1 4}\\end{matrix}\\right]$"
      ],
      "text/plain": [
       "⎡a₀ ₀  a₀ ₁  a₀ ₂  a₀ ₃  a₀ ₄⎤\n",
       "⎢                            ⎥\n",
       "⎣a₁ ₀  a₁ ₁  a₁ ₂  a₁ ₃  a₁ ₄⎦"
      ]
     },
     "execution_count": 73,
     "metadata": {},
     "output_type": "execute_result"
    }
   ],
   "source": [
    "A"
   ]
  }
 ],
 "metadata": {
  "celltoolbar": "Slideshow",
  "kernelspec": {
   "display_name": "Python 3 (ipykernel)",
   "language": "python",
   "name": "python3"
  },
  "language_info": {
   "codemirror_mode": {
    "name": "ipython",
    "version": 3
   },
   "file_extension": ".py",
   "mimetype": "text/x-python",
   "name": "python",
   "nbconvert_exporter": "python",
   "pygments_lexer": "ipython3",
   "version": "3.9.12"
  }
 },
 "nbformat": 4,
 "nbformat_minor": 5
}
