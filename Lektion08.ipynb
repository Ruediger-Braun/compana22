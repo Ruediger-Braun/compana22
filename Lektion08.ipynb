{
 "cells": [
  {
   "cell_type": "code",
   "execution_count": null,
   "id": "e2b2c2a5",
   "metadata": {},
   "outputs": [],
   "source": [
    "from sympy import *\n",
    "init_printing()"
   ]
  },
  {
   "cell_type": "markdown",
   "id": "004b13bf",
   "metadata": {},
   "source": [
    "# nutzergesteuerte trigonometrische Vereinfachungen"
   ]
  },
  {
   "cell_type": "code",
   "execution_count": null,
   "id": "46aa968a",
   "metadata": {},
   "outputs": [],
   "source": [
    "x = S('x')\n",
    "y = S('y')\n",
    "b = sin(x) + sin(y)\n",
    "b"
   ]
  },
  {
   "cell_type": "code",
   "execution_count": null,
   "id": "fea71c5f",
   "metadata": {},
   "outputs": [],
   "source": [
    "b.trigsimp()"
   ]
  },
  {
   "cell_type": "markdown",
   "id": "0fecb22b",
   "metadata": {},
   "source": [
    "Wir hätten gerne eine Darstellung als Produkt"
   ]
  },
  {
   "cell_type": "code",
   "execution_count": null,
   "id": "55acc69c",
   "metadata": {},
   "outputs": [],
   "source": [
    "b.trigsimp(method='fu')"
   ]
  },
  {
   "cell_type": "markdown",
   "id": "f9e08ed1",
   "metadata": {},
   "source": [
    "Wie kompliziert ist dieser Ausdruck?"
   ]
  },
  {
   "cell_type": "code",
   "execution_count": null,
   "id": "206e1fe3",
   "metadata": {},
   "outputs": [],
   "source": [
    "b.count_ops()"
   ]
  },
  {
   "cell_type": "code",
   "execution_count": null,
   "id": "4f6408f3",
   "metadata": {},
   "outputs": [],
   "source": [
    "b.count_ops(visual=True)"
   ]
  },
  {
   "cell_type": "code",
   "execution_count": null,
   "id": "d4af4564",
   "metadata": {},
   "outputs": [],
   "source": [
    "def my_measure(expr):\n",
    "    opc = expr.count_ops(visual=True)\n",
    "    print(opc)  # zur Fehlersuche\n",
    "    strafe = {}\n",
    "    strafe['ADD'] = 1\n",
    "    strafe['SIN'] = 1\n",
    "    strafe['MUL'] = -100 # negative Strafe = Belohnung\n",
    "    return opc.subs(strafe) "
   ]
  },
  {
   "cell_type": "code",
   "execution_count": null,
   "id": "c0031a44",
   "metadata": {},
   "outputs": [],
   "source": [
    "my_measure(b)"
   ]
  },
  {
   "cell_type": "code",
   "execution_count": null,
   "id": "6c4071a3",
   "metadata": {},
   "outputs": [],
   "source": [
    "# b.trigsimp(method='fu', measure=my_measure)  # TypeError"
   ]
  },
  {
   "cell_type": "code",
   "execution_count": null,
   "id": "5a9220c2",
   "metadata": {},
   "outputs": [],
   "source": [
    "def my_measure(expr):\n",
    "    opc = expr.count_ops(visual=True)\n",
    "    # print(opc)  # zur Fehlersuche\n",
    "    strafe = {}\n",
    "    strafe['ADD'] = 1\n",
    "    strafe['SIN'] = 1\n",
    "    strafe['MUL'] = -100\n",
    "    strafe['COS'] = 1\n",
    "    strafe['DIV'] = 1\n",
    "    strafe['SUB'] = 1\n",
    "    return opc.subs(strafe)"
   ]
  },
  {
   "cell_type": "code",
   "execution_count": null,
   "id": "a9c92e09",
   "metadata": {},
   "outputs": [],
   "source": [
    "c = b.trigsimp(method='fu', measure=my_measure)\n",
    "c"
   ]
  },
  {
   "cell_type": "code",
   "execution_count": null,
   "id": "3a2488d1",
   "metadata": {},
   "outputs": [],
   "source": [
    "c.count_ops()"
   ]
  },
  {
   "cell_type": "code",
   "execution_count": null,
   "id": "b3cb6723",
   "metadata": {},
   "outputs": [],
   "source": [
    "c.trigsimp()"
   ]
  },
  {
   "cell_type": "code",
   "execution_count": null,
   "id": "d7be2f8e",
   "metadata": {},
   "outputs": [],
   "source": [
    "d = sin(x)**8"
   ]
  },
  {
   "cell_type": "code",
   "execution_count": null,
   "id": "0e39f35b",
   "metadata": {},
   "outputs": [],
   "source": [
    "d.trigsimp()"
   ]
  },
  {
   "cell_type": "code",
   "execution_count": null,
   "id": "72b249b1",
   "metadata": {},
   "outputs": [],
   "source": [
    "def my_measure(expr):\n",
    "    opc = expr.count_ops(visual=True)\n",
    "    # print(opc)  # zur Fehlersuche\n",
    "    strafe = {}\n",
    "    strafe['ADD'] = 1\n",
    "    strafe['SIN'] = 100\n",
    "    strafe['MUL'] = 1\n",
    "    strafe['COS'] = 1\n",
    "    strafe['DIV'] = 1\n",
    "    strafe['SUB'] = 1\n",
    "    strafe['POW'] = 1\n",
    "    return opc.subs(strafe)"
   ]
  },
  {
   "cell_type": "code",
   "execution_count": null,
   "id": "e69a3638",
   "metadata": {},
   "outputs": [],
   "source": [
    "d.trigsimp(method='fu', measure=my_measure)"
   ]
  },
  {
   "cell_type": "markdown",
   "id": "5f3a299d",
   "metadata": {},
   "source": [
    "# nutzergesteuertes `simplify`"
   ]
  },
  {
   "cell_type": "code",
   "execution_count": null,
   "id": "3ea8040a",
   "metadata": {},
   "outputs": [],
   "source": [
    "x, y = symbols('x y', positive=True)"
   ]
  },
  {
   "cell_type": "code",
   "execution_count": null,
   "id": "43cf57b0",
   "metadata": {},
   "outputs": [],
   "source": [
    "a = log(x/y) + 2*log(x)\n",
    "a"
   ]
  },
  {
   "cell_type": "code",
   "execution_count": null,
   "id": "152070ad",
   "metadata": {},
   "outputs": [],
   "source": [
    "a.simplify()"
   ]
  },
  {
   "cell_type": "markdown",
   "id": "fb496187",
   "metadata": {},
   "source": [
    "Ich will aber 𝑥- und die 𝑦-Terme getrennt lassen"
   ]
  },
  {
   "cell_type": "code",
   "execution_count": null,
   "id": "cd019a5f",
   "metadata": {},
   "outputs": [],
   "source": [
    "def my_measure(expr):\n",
    "    opc = expr.count_ops(visual=True)\n",
    "    # print(opc)  # zur Fehlersuche\n",
    "    strafe = {}\n",
    "    strafe['ADD'] = 1\n",
    "    strafe['MUL'] = 1\n",
    "    strafe['DIV'] = 100\n",
    "    strafe['SUB'] = 1\n",
    "    strafe['POW'] = 1\n",
    "    strafe['LOG'] = 1\n",
    "\n",
    "    return opc.subs(strafe)"
   ]
  },
  {
   "cell_type": "code",
   "execution_count": null,
   "id": "6dbbb44a",
   "metadata": {},
   "outputs": [],
   "source": [
    "a.simplify(measure=my_measure)"
   ]
  },
  {
   "cell_type": "markdown",
   "id": "6b1732f3",
   "metadata": {},
   "source": [
    "# Reihenentwicklungen"
   ]
  },
  {
   "cell_type": "code",
   "execution_count": null,
   "id": "4c208047",
   "metadata": {},
   "outputs": [],
   "source": [
    "x = S('x')\n",
    "f = cos(2*x)\n",
    "f.series(x, n=12)"
   ]
  },
  {
   "cell_type": "code",
   "execution_count": null,
   "id": "242e99a3",
   "metadata": {},
   "outputs": [],
   "source": [
    "f.series(x, pi/4)"
   ]
  },
  {
   "cell_type": "code",
   "execution_count": null,
   "id": "f18ac02b",
   "metadata": {},
   "outputs": [],
   "source": [
    "f.subs(x, pi/4)"
   ]
  },
  {
   "cell_type": "markdown",
   "id": "eb38b588",
   "metadata": {},
   "source": [
    "Die Reihe ist richtig, sie ist nur dämlich hingeschrieben"
   ]
  },
  {
   "cell_type": "code",
   "execution_count": null,
   "id": "658c26b2",
   "metadata": {},
   "outputs": [],
   "source": [
    "g = 1/(x**2+x+1)\n",
    "g"
   ]
  },
  {
   "cell_type": "code",
   "execution_count": null,
   "id": "ae138ee0",
   "metadata": {},
   "outputs": [],
   "source": [
    "gs = g.series(x, oo)\n",
    "gs"
   ]
  },
  {
   "cell_type": "code",
   "execution_count": null,
   "id": "8b94678d",
   "metadata": {},
   "outputs": [],
   "source": [
    "h = exp(x)\n",
    "h.series(x, -oo, n=25)"
   ]
  },
  {
   "cell_type": "code",
   "execution_count": null,
   "id": "e38f8b40",
   "metadata": {},
   "outputs": [],
   "source": [
    "h.series(x, oo)"
   ]
  },
  {
   "cell_type": "code",
   "execution_count": null,
   "id": "62e02254",
   "metadata": {},
   "outputs": [],
   "source": [
    "exp(sqrt(x+1)).series(x, oo)"
   ]
  },
  {
   "cell_type": "code",
   "execution_count": null,
   "id": "9c65601b",
   "metadata": {},
   "outputs": [],
   "source": [
    "r = exp(sqrt(x+1)-sqrt(x))\n",
    "r_ser = r.series(x, oo, n=3)\n",
    "r_ser"
   ]
  },
  {
   "cell_type": "code",
   "execution_count": null,
   "id": "d4b9acb9",
   "metadata": {},
   "outputs": [],
   "source": [
    "(sqrt(x)*(r-1)).limit(x, oo)"
   ]
  },
  {
   "cell_type": "code",
   "execution_count": null,
   "id": "b783f43c",
   "metadata": {},
   "outputs": [],
   "source": [
    "b_ser = log(sqrt(x+a)).series(x, oo)\n",
    "b_ser"
   ]
  },
  {
   "cell_type": "code",
   "execution_count": null,
   "id": "532c8d85",
   "metadata": {},
   "outputs": [],
   "source": [
    "b_ser.removeO()"
   ]
  },
  {
   "cell_type": "code",
   "execution_count": null,
   "id": "615f17e6",
   "metadata": {},
   "outputs": [],
   "source": [
    "reihe = x + 9 + 100/x + O(1/x**2, (x,oo))\n",
    "reihe"
   ]
  },
  {
   "cell_type": "code",
   "execution_count": null,
   "id": "12a2b1c3",
   "metadata": {},
   "outputs": [],
   "source": [
    "(reihe**2).expand()"
   ]
  },
  {
   "cell_type": "markdown",
   "id": "73900f41",
   "metadata": {},
   "source": [
    "# Beispiel mit der Lambert-Funktion"
   ]
  },
  {
   "cell_type": "code",
   "execution_count": null,
   "id": "0f35519c",
   "metadata": {},
   "outputs": [],
   "source": [
    "glg = Eq(log(x), x + log(y))\n",
    "glg"
   ]
  },
  {
   "cell_type": "code",
   "execution_count": null,
   "id": "b766d851",
   "metadata": {},
   "outputs": [],
   "source": [
    "lsg = solve(glg, x)\n",
    "lsg"
   ]
  },
  {
   "cell_type": "code",
   "execution_count": null,
   "id": "4b62048e",
   "metadata": {},
   "outputs": [],
   "source": [
    "f = lsg[0]\n",
    "f_ser = f.series(y, 0)\n",
    "f_ser"
   ]
  },
  {
   "cell_type": "code",
   "execution_count": null,
   "id": "9cb3fd55",
   "metadata": {},
   "outputs": [],
   "source": [
    "g1 = glg.subs(x, f_ser)\n",
    "g1"
   ]
  },
  {
   "cell_type": "code",
   "execution_count": null,
   "id": "bf2c58d1",
   "metadata": {},
   "outputs": [],
   "source": [
    "l_ser = g1.lhs.series(y, 0)\n",
    "l_ser"
   ]
  },
  {
   "cell_type": "code",
   "execution_count": null,
   "id": "32be7cfa",
   "metadata": {},
   "outputs": [],
   "source": [
    "r_ser = g1.rhs.series(y, 0)\n",
    "r_ser"
   ]
  },
  {
   "cell_type": "code",
   "execution_count": null,
   "id": "0bb295ad",
   "metadata": {},
   "outputs": [],
   "source": [
    "l_ser - r_ser"
   ]
  },
  {
   "cell_type": "markdown",
   "id": "3553d07a",
   "metadata": {},
   "source": [
    "# Vektoren und Matrizen"
   ]
  },
  {
   "cell_type": "code",
   "execution_count": null,
   "id": "ee47bcc5",
   "metadata": {},
   "outputs": [],
   "source": [
    "v = Matrix([1,2,3])\n",
    "v"
   ]
  },
  {
   "cell_type": "code",
   "execution_count": null,
   "id": "5baa7e38",
   "metadata": {},
   "outputs": [],
   "source": [
    "w = Matrix(1,3,[4,5,6])  # 1x3-Matrix\n",
    "w"
   ]
  },
  {
   "cell_type": "code",
   "execution_count": null,
   "id": "7619bedd",
   "metadata": {},
   "outputs": [],
   "source": [
    "v[1]"
   ]
  },
  {
   "cell_type": "code",
   "execution_count": null,
   "id": "0ebd4f42",
   "metadata": {},
   "outputs": [],
   "source": [
    "w[1] "
   ]
  },
  {
   "cell_type": "code",
   "execution_count": null,
   "id": "dfc0a836",
   "metadata": {},
   "outputs": [],
   "source": [
    "v*w"
   ]
  },
  {
   "cell_type": "code",
   "execution_count": null,
   "id": "aeea92c4",
   "metadata": {},
   "outputs": [],
   "source": [
    "w * v"
   ]
  },
  {
   "cell_type": "code",
   "execution_count": null,
   "id": "7cfaf0ce",
   "metadata": {},
   "outputs": [],
   "source": [
    "A = Matrix(3,3,range(1,10))\n",
    "A"
   ]
  },
  {
   "cell_type": "code",
   "execution_count": null,
   "id": "623f1bbe",
   "metadata": {},
   "outputs": [],
   "source": [
    "A[1,0]"
   ]
  },
  {
   "cell_type": "code",
   "execution_count": null,
   "id": "65247ce3",
   "metadata": {},
   "outputs": [],
   "source": [
    "A[8]"
   ]
  },
  {
   "cell_type": "markdown",
   "id": "0aecafc6",
   "metadata": {},
   "source": [
    "???"
   ]
  },
  {
   "cell_type": "code",
   "execution_count": null,
   "id": "8fff4de4",
   "metadata": {},
   "outputs": [],
   "source": [
    "A.row(1)"
   ]
  },
  {
   "cell_type": "code",
   "execution_count": null,
   "id": "b0ac980e",
   "metadata": {},
   "outputs": [],
   "source": [
    "A.col(2)"
   ]
  },
  {
   "cell_type": "code",
   "execution_count": null,
   "id": "fac68448",
   "metadata": {},
   "outputs": [],
   "source": [
    "A * v"
   ]
  },
  {
   "cell_type": "code",
   "execution_count": null,
   "id": "c4195bbe",
   "metadata": {},
   "outputs": [],
   "source": [
    "# v * A # ShapeError"
   ]
  },
  {
   "cell_type": "code",
   "execution_count": null,
   "id": "df47d8aa",
   "metadata": {},
   "outputs": [],
   "source": [
    "x = S('x')\n",
    "y = S('y')\n",
    "B = Matrix([[x,1], [1,y]])\n",
    "B"
   ]
  },
  {
   "cell_type": "markdown",
   "id": "f54d66e9",
   "metadata": {},
   "source": [
    "# variable Vektoren"
   ]
  },
  {
   "cell_type": "code",
   "execution_count": null,
   "id": "fcad2d51",
   "metadata": {},
   "outputs": [],
   "source": [
    "x = symbols('x0:10')\n",
    "x"
   ]
  },
  {
   "cell_type": "code",
   "execution_count": null,
   "id": "2fea8d49",
   "metadata": {},
   "outputs": [],
   "source": [
    "M = Matrix(2, 5, x)\n",
    "M"
   ]
  },
  {
   "cell_type": "code",
   "execution_count": null,
   "id": "a6d6dba3",
   "metadata": {},
   "outputs": [],
   "source": [
    "a = symbols('a0:2_0:5')\n",
    "A = Matrix(2, 5, a)"
   ]
  },
  {
   "cell_type": "code",
   "execution_count": null,
   "id": "31da36a6",
   "metadata": {},
   "outputs": [],
   "source": [
    "A"
   ]
  }
 ],
 "metadata": {
  "kernelspec": {
   "display_name": "Python 3 (ipykernel)",
   "language": "python",
   "name": "python3"
  },
  "language_info": {
   "codemirror_mode": {
    "name": "ipython",
    "version": 3
   },
   "file_extension": ".py",
   "mimetype": "text/x-python",
   "name": "python",
   "nbconvert_exporter": "python",
   "pygments_lexer": "ipython3",
   "version": "3.9.13"
  }
 },
 "nbformat": 4,
 "nbformat_minor": 5
}
