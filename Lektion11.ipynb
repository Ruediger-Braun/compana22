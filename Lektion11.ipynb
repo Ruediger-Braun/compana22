{
 "cells": [
  {
   "cell_type": "code",
   "execution_count": null,
   "id": "e1f7f725",
   "metadata": {},
   "outputs": [],
   "source": [
    "from sympy import *\n",
    "init_printing()"
   ]
  },
  {
   "cell_type": "markdown",
   "id": "d5b3e80f",
   "metadata": {},
   "source": [
    "3D-Plots mit `sympy`"
   ]
  },
  {
   "cell_type": "code",
   "execution_count": null,
   "id": "48d7db26",
   "metadata": {},
   "outputs": [],
   "source": [
    "x = S('x')\n",
    "y = S('y')\n",
    "f = -x**4/2 - x**2*y**2 - y**4/2 + x**3 - 3*x*y**2"
   ]
  },
  {
   "cell_type": "code",
   "execution_count": null,
   "id": "fcf5c64b",
   "metadata": {},
   "outputs": [],
   "source": [
    "plotting.plot3d(f);"
   ]
  },
  {
   "cell_type": "markdown",
   "id": "08c07eb4",
   "metadata": {},
   "source": [
    "Hübsch, aber in dieser Form nutzlos"
   ]
  },
  {
   "cell_type": "code",
   "execution_count": null,
   "id": "9768ac39",
   "metadata": {},
   "outputs": [],
   "source": [
    "gr = Matrix([f]).jacobian([x,y])\n",
    "gr"
   ]
  },
  {
   "cell_type": "code",
   "execution_count": null,
   "id": "4d1215ac",
   "metadata": {},
   "outputs": [],
   "source": [
    "solve(gr)"
   ]
  },
  {
   "cell_type": "markdown",
   "id": "c18966ff",
   "metadata": {},
   "source": [
    "Was passiert dort?"
   ]
  },
  {
   "cell_type": "markdown",
   "id": "9a4e7d90",
   "metadata": {},
   "source": [
    "# `numpy` und universal fucntions"
   ]
  },
  {
   "cell_type": "code",
   "execution_count": null,
   "id": "a1571b7a",
   "metadata": {},
   "outputs": [],
   "source": [
    "import numpy as np"
   ]
  },
  {
   "cell_type": "code",
   "execution_count": null,
   "id": "fd33e3ed",
   "metadata": {},
   "outputs": [],
   "source": [
    "np.pi  # numpy"
   ]
  },
  {
   "cell_type": "code",
   "execution_count": null,
   "id": "6f93f5c1",
   "metadata": {},
   "outputs": [],
   "source": [
    "pi.n()  # sympy mit Numerik via mpmath"
   ]
  },
  {
   "cell_type": "code",
   "execution_count": null,
   "id": "0e9202e0",
   "metadata": {},
   "outputs": [],
   "source": [
    "pi.n(n=42)"
   ]
  },
  {
   "cell_type": "code",
   "execution_count": null,
   "id": "8a07959e",
   "metadata": {},
   "outputs": [],
   "source": [
    "A1 = np.array([1.2,2,48])\n",
    "A1"
   ]
  },
  {
   "cell_type": "code",
   "execution_count": null,
   "id": "2c85fcf5",
   "metadata": {},
   "outputs": [],
   "source": [
    "3*A1"
   ]
  },
  {
   "cell_type": "code",
   "execution_count": null,
   "id": "1910b9a7",
   "metadata": {},
   "outputs": [],
   "source": [
    "A1 + np.ones_like(A1)"
   ]
  },
  {
   "cell_type": "markdown",
   "id": "3c21cf42",
   "metadata": {},
   "source": [
    "sieht aus wie ein Vektor, hat aber andere Multiplikationsregeln"
   ]
  },
  {
   "cell_type": "code",
   "execution_count": null,
   "id": "65cd5c3d",
   "metadata": {},
   "outputs": [],
   "source": [
    "A1**2"
   ]
  },
  {
   "cell_type": "code",
   "execution_count": null,
   "id": "80b9a629",
   "metadata": {},
   "outputs": [],
   "source": [
    "S1 = Matrix([1.2, 2, 48])\n",
    "S1"
   ]
  },
  {
   "cell_type": "code",
   "execution_count": null,
   "id": "eaa34eec",
   "metadata": {},
   "outputs": [],
   "source": [
    "#S1**2  # NonSquareMatrixError"
   ]
  },
  {
   "cell_type": "code",
   "execution_count": null,
   "id": "456c201f",
   "metadata": {},
   "outputs": [],
   "source": [
    "M1 = np.array([A1, 2*A1, 3*A1])\n",
    "M1"
   ]
  },
  {
   "cell_type": "code",
   "execution_count": null,
   "id": "d0a14cf7",
   "metadata": {},
   "outputs": [],
   "source": [
    "M1**2"
   ]
  },
  {
   "cell_type": "code",
   "execution_count": null,
   "id": "af7ab387",
   "metadata": {},
   "outputs": [],
   "source": [
    "M1 @ M1"
   ]
  },
  {
   "cell_type": "code",
   "execution_count": null,
   "id": "f0ad1bdb",
   "metadata": {},
   "outputs": [],
   "source": [
    "M1[0,0]**2 + M1[0,1]*M1[1,0] + M1[0,2]*M1[2,0]"
   ]
  },
  {
   "cell_type": "markdown",
   "id": "c15fb083",
   "metadata": {},
   "source": [
    "# Broadcasting"
   ]
  },
  {
   "cell_type": "code",
   "execution_count": null,
   "id": "9ff1f64f",
   "metadata": {},
   "outputs": [],
   "source": [
    "N3 = np.zeros(shape=(3,3))\n",
    "N3"
   ]
  },
  {
   "cell_type": "code",
   "execution_count": null,
   "id": "846eb3fe",
   "metadata": {},
   "outputs": [],
   "source": [
    "N3 + 2"
   ]
  },
  {
   "cell_type": "code",
   "execution_count": null,
   "id": "a4ab8fea",
   "metadata": {},
   "outputs": [],
   "source": [
    "N3 +  2*np.eye(3)"
   ]
  },
  {
   "cell_type": "code",
   "execution_count": null,
   "id": "5484e59b",
   "metadata": {},
   "outputs": [],
   "source": [
    "N3 + A1"
   ]
  },
  {
   "cell_type": "code",
   "execution_count": null,
   "id": "6b75f539",
   "metadata": {},
   "outputs": [],
   "source": [
    "M1 = A1.reshape(3,1)\n",
    "M1"
   ]
  },
  {
   "cell_type": "code",
   "execution_count": null,
   "id": "f3b59d19",
   "metadata": {},
   "outputs": [],
   "source": [
    "N3 + M1"
   ]
  },
  {
   "cell_type": "markdown",
   "id": "3fce85f7",
   "metadata": {},
   "source": [
    "Broadcasting:  Wenn möglich, wird der kleinere Array durch Stapeln auf die Form des größeren gebracht, bevor eine punktweise Operation ausgeführt wird."
   ]
  },
  {
   "cell_type": "markdown",
   "id": "9bcf89ef",
   "metadata": {},
   "source": [
    "# Vordefinierte Arrays"
   ]
  },
  {
   "cell_type": "code",
   "execution_count": null,
   "id": "1d2095ac",
   "metadata": {},
   "outputs": [],
   "source": [
    "np.arange(10)"
   ]
  },
  {
   "cell_type": "code",
   "execution_count": null,
   "id": "f47f0d51",
   "metadata": {},
   "outputs": [],
   "source": [
    "xn = np.linspace(0, 10, 10)\n",
    "xn"
   ]
  },
  {
   "cell_type": "code",
   "execution_count": null,
   "id": "a4aee6da",
   "metadata": {},
   "outputs": [],
   "source": [
    "len(xn)"
   ]
  },
  {
   "cell_type": "markdown",
   "id": "0467ecee",
   "metadata": {},
   "source": [
    "# universal functions"
   ]
  },
  {
   "cell_type": "code",
   "execution_count": null,
   "id": "186332f8",
   "metadata": {},
   "outputs": [],
   "source": [
    "np.sin(xn)"
   ]
  },
  {
   "cell_type": "code",
   "execution_count": null,
   "id": "2a766e17",
   "metadata": {},
   "outputs": [],
   "source": [
    "tn = np.linspace(0, 10, 1000)"
   ]
  },
  {
   "cell_type": "code",
   "execution_count": null,
   "id": "63214917",
   "metadata": {},
   "outputs": [],
   "source": [
    "%%timeit\n",
    "np.sin(tn)/(1+tn**2)"
   ]
  },
  {
   "cell_type": "code",
   "execution_count": null,
   "id": "31c11470",
   "metadata": {},
   "outputs": [],
   "source": [
    "%%timeit\n",
    "[sin(tt)/(1+tt**2) for tt in tn]"
   ]
  },
  {
   "cell_type": "markdown",
   "id": "1a366f72",
   "metadata": {},
   "source": [
    "# `pyplot`"
   ]
  },
  {
   "cell_type": "code",
   "execution_count": null,
   "id": "1e88ceea",
   "metadata": {},
   "outputs": [],
   "source": [
    "from matplotlib import pyplot as plt"
   ]
  },
  {
   "cell_type": "code",
   "execution_count": null,
   "id": "d1cb1807",
   "metadata": {},
   "outputs": [],
   "source": [
    "yn = np.sin(tn)/(1+tn**2)"
   ]
  },
  {
   "cell_type": "code",
   "execution_count": null,
   "id": "42f872d3",
   "metadata": {},
   "outputs": [],
   "source": [
    "plt.plot(tn, yn);"
   ]
  },
  {
   "cell_type": "code",
   "execution_count": null,
   "id": "a1c02a09",
   "metadata": {},
   "outputs": [],
   "source": [
    "plt.plot(xn, np.sin(xn)/(1+xn**2));"
   ]
  },
  {
   "cell_type": "markdown",
   "id": "729e9402",
   "metadata": {},
   "source": [
    "`sympy` schätzt die Anzahl der notwendigen Stützstellen selber ab\n",
    "\n",
    "`pyplot` tut das nicht"
   ]
  },
  {
   "cell_type": "code",
   "execution_count": null,
   "id": "c5a43b87",
   "metadata": {},
   "outputs": [],
   "source": [
    "zn = np.cos(.1*tn**2)\n",
    "plt.plot(tn, yn, 'b', label=\"$\\\\frac{\\\\sin(x)}{1+x^2}$\")\n",
    "plt.plot(tn, zn, 'r--', label=\"$\\\\cos(\\\\frac{x^2}{10})$\")\n",
    "plt.legend();"
   ]
  },
  {
   "cell_type": "markdown",
   "id": "1806ad1f",
   "metadata": {},
   "source": [
    "Farben als Kürzel  (Alternativen später)\n",
    "\n",
    "|b   |g    |r  |c   |m      |y     |k    |w    |\n",
    "|----|-----|---|----|-------|------|-----|-----|\n",
    "|blue|green|red|cyan|magenta|yellow|black|white|"
   ]
  },
  {
   "cell_type": "code",
   "execution_count": null,
   "id": "e2653b6e",
   "metadata": {},
   "outputs": [],
   "source": []
  }
 ],
 "metadata": {
  "kernelspec": {
   "display_name": "Python 3 (ipykernel)",
   "language": "python",
   "name": "python3"
  },
  "language_info": {
   "codemirror_mode": {
    "name": "ipython",
    "version": 3
   },
   "file_extension": ".py",
   "mimetype": "text/x-python",
   "name": "python",
   "nbconvert_exporter": "python",
   "pygments_lexer": "ipython3",
   "version": "3.9.13"
  }
 },
 "nbformat": 4,
 "nbformat_minor": 5
}
