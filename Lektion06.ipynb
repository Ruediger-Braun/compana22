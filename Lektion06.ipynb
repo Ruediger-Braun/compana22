{
 "cells": [
  {
   "cell_type": "code",
   "execution_count": null,
   "id": "07919049",
   "metadata": {
    "slideshow": {
     "slide_type": "slide"
    }
   },
   "outputs": [],
   "source": [
    "# Computergestützte Mathematik zur Analysis\n",
    "\n",
    "Vorlesung vom 24.11.2022\n",
    "\n",
    "&copy; 2022 Prof. Dr. Rüdiger W. Braun "
   ]
  },
  {
   "cell_type": "code",
   "execution_count": null,
   "id": "b6a35af4",
   "metadata": {
    "slideshow": {
     "slide_type": "slide"
    }
   },
   "outputs": [],
   "source": [
    "from sympy import *\n",
    "init_printing()"
   ]
  },
  {
   "cell_type": "markdown",
   "id": "bbeee941",
   "metadata": {
    "slideshow": {
     "slide_type": "slide"
    }
   },
   "source": [
    "# Nullstellen von Polynomen"
   ]
  },
  {
   "cell_type": "code",
   "execution_count": null,
   "id": "53373e47",
   "metadata": {},
   "outputs": [],
   "source": [
    "x = S('x')"
   ]
  },
  {
   "cell_type": "code",
   "execution_count": null,
   "id": "87a1252e",
   "metadata": {
    "slideshow": {
     "slide_type": "slide"
    }
   },
   "outputs": [],
   "source": [
    "p = x**2 + 4*x - 6\n",
    "glg = Eq(p, 0)\n",
    "solveset(glg)"
   ]
  },
  {
   "cell_type": "code",
   "execution_count": null,
   "id": "12075580",
   "metadata": {},
   "outputs": [],
   "source": [
    "p = x**3 - x**2 + 5\n",
    "glg = Eq(p, 0)\n",
    "lsg = solveset(glg)\n",
    "lsg"
   ]
  },
  {
   "cell_type": "code",
   "execution_count": null,
   "id": "b7d63ab5",
   "metadata": {},
   "outputs": [],
   "source": [
    "w = list(lsg)[1]\n",
    "w"
   ]
  },
  {
   "cell_type": "code",
   "execution_count": null,
   "id": "a3062e33",
   "metadata": {
    "slideshow": {
     "slide_type": "slide"
    }
   },
   "outputs": [],
   "source": [
    "w.radsimp()"
   ]
  },
  {
   "cell_type": "markdown",
   "id": "9635d341",
   "metadata": {},
   "source": [
    "Schöner wird's nicht"
   ]
  },
  {
   "cell_type": "code",
   "execution_count": null,
   "id": "9d085d4a",
   "metadata": {},
   "outputs": [],
   "source": [
    "for w in lsg:\n",
    "    display(w.n())\n",
    "    print(w.is_real)"
   ]
  },
  {
   "cell_type": "code",
   "execution_count": null,
   "id": "b929b331",
   "metadata": {},
   "outputs": [],
   "source": [
    "p2 = x**4 - x**3 - 5\n",
    "glg2 = Eq(p2, 0)\n",
    "lsg2 = solveset(glg2)\n",
    "w = list(lsg2)[0]\n",
    "w"
   ]
  },
  {
   "cell_type": "code",
   "execution_count": null,
   "id": "cc974af8",
   "metadata": {},
   "outputs": [],
   "source": [
    "w.radsimp()"
   ]
  },
  {
   "cell_type": "code",
   "execution_count": null,
   "id": "591df638",
   "metadata": {},
   "outputs": [],
   "source": [
    "for w in lsg2:\n",
    "    display(w.n())\n",
    "    print(w.is_real)"
   ]
  },
  {
   "cell_type": "code",
   "execution_count": null,
   "id": "9902cbd3",
   "metadata": {},
   "outputs": [],
   "source": [
    "p3 = x**5 - x**4 - 5\n",
    "glg3 = Eq(p3, 0)\n",
    "lsg3 = solveset(glg3)\n",
    "lsg3"
   ]
  },
  {
   "cell_type": "markdown",
   "id": "67d2427c",
   "metadata": {},
   "source": [
    "Galois sagt:  Geht nicht besser"
   ]
  },
  {
   "cell_type": "code",
   "execution_count": null,
   "id": "a96aa910",
   "metadata": {},
   "outputs": [],
   "source": [
    "summe = 0\n",
    "for w in lsg3:\n",
    "    display(w.n())\n",
    "    print(w.is_real)\n",
    "    summe += w\n",
    "summe"
   ]
  },
  {
   "cell_type": "code",
   "execution_count": null,
   "id": "75a10cba",
   "metadata": {},
   "outputs": [],
   "source": [
    "summe.radsimp()"
   ]
  },
  {
   "cell_type": "code",
   "execution_count": null,
   "id": "d5085e46",
   "metadata": {},
   "outputs": [],
   "source": [
    "summe.n()"
   ]
  },
  {
   "cell_type": "code",
   "execution_count": null,
   "id": "2bd5cd70",
   "metadata": {},
   "outputs": [],
   "source": [
    "minimal_polynomial(summe)  "
   ]
  },
  {
   "cell_type": "markdown",
   "id": "82c9fc01",
   "metadata": {},
   "source": [
    "Das Minimalpolynom von $a$ ist das \"kleinste\" Polynom $p$ mit $p(a)=0$"
   ]
  },
  {
   "cell_type": "markdown",
   "id": "6d89df3b",
   "metadata": {},
   "source": [
    "# Ungleichungen"
   ]
  },
  {
   "cell_type": "code",
   "execution_count": null,
   "id": "7add7bcd",
   "metadata": {},
   "outputs": [],
   "source": [
    "x = S('x')\n",
    "ugl = x**2 < 5\n",
    "ugl"
   ]
  },
  {
   "cell_type": "code",
   "execution_count": null,
   "id": "14c8479b",
   "metadata": {},
   "outputs": [],
   "source": [
    "solve(ugl)"
   ]
  },
  {
   "cell_type": "code",
   "execution_count": null,
   "id": "100bd760",
   "metadata": {},
   "outputs": [],
   "source": [
    "solveset(ugl)"
   ]
  },
  {
   "cell_type": "code",
   "execution_count": null,
   "id": "c8dc48b7",
   "metadata": {},
   "outputs": [],
   "source": [
    "m1 = solveset(ugl, domain=Reals)\n",
    "m1"
   ]
  },
  {
   "cell_type": "code",
   "execution_count": null,
   "id": "7adf6959",
   "metadata": {},
   "outputs": [],
   "source": [
    "print(m1)"
   ]
  },
  {
   "cell_type": "code",
   "execution_count": null,
   "id": "3a24002d",
   "metadata": {},
   "outputs": [],
   "source": [
    "m2 = solveset(exp(x) >= E**(-1), domain=Reals)\n",
    "m2"
   ]
  },
  {
   "cell_type": "code",
   "execution_count": null,
   "id": "209b8fc4",
   "metadata": {},
   "outputs": [],
   "source": [
    "print(m2)"
   ]
  },
  {
   "cell_type": "code",
   "execution_count": null,
   "id": "b4d9d31b",
   "metadata": {},
   "outputs": [],
   "source": [
    "m1 & m2"
   ]
  },
  {
   "cell_type": "code",
   "execution_count": null,
   "id": "d9284b61",
   "metadata": {},
   "outputs": [],
   "source": [
    "print(m1 & m2)"
   ]
  },
  {
   "cell_type": "code",
   "execution_count": null,
   "id": "6eed54ed",
   "metadata": {},
   "outputs": [],
   "source": [
    "Interval.open(1, oo) == Interval.Lopen(1, oo)"
   ]
  },
  {
   "cell_type": "code",
   "execution_count": null,
   "id": "51e7fd76",
   "metadata": {},
   "outputs": [],
   "source": [
    "solveset(exp(x) > 0, domain=Reals)"
   ]
  },
  {
   "cell_type": "code",
   "execution_count": null,
   "id": "84455073",
   "metadata": {},
   "outputs": [],
   "source": [
    "solveset(exp(x) == 0)"
   ]
  },
  {
   "cell_type": "code",
   "execution_count": null,
   "id": "927cb310",
   "metadata": {},
   "outputs": [],
   "source": [
    "print(_)  #  symbolische Menge, nicht zu verwechslen mit set()"
   ]
  },
  {
   "cell_type": "code",
   "execution_count": null,
   "id": "933ed104",
   "metadata": {},
   "outputs": [],
   "source": [
    "solveset(3*log(x) < x, domain=Reals)"
   ]
  },
  {
   "cell_type": "code",
   "execution_count": null,
   "id": "eba05815",
   "metadata": {},
   "outputs": [],
   "source": [
    "plot(E*log(x), x);"
   ]
  },
  {
   "cell_type": "code",
   "execution_count": null,
   "id": "0bd7320b",
   "metadata": {},
   "outputs": [],
   "source": [
    "glg = Eq(3*log(x), x)\n",
    "lsg = solve(glg)\n",
    "lsg"
   ]
  },
  {
   "cell_type": "markdown",
   "id": "ee8ffde9",
   "metadata": {},
   "source": [
    "`solveset` findet diese Lösungen nicht\n",
    "\n",
    "Die Entwickler empfehlen `solveset` in den Fällen, in denen es funktioniert"
   ]
  },
  {
   "cell_type": "markdown",
   "id": "2f74abac",
   "metadata": {},
   "source": [
    "# Die Lambertsche W-Funktion"
   ]
  },
  {
   "cell_type": "code",
   "execution_count": null,
   "id": "f7dcfa8a",
   "metadata": {},
   "outputs": [],
   "source": [
    "print(lsg[0])"
   ]
  },
  {
   "cell_type": "code",
   "execution_count": null,
   "id": "653b84c7",
   "metadata": {},
   "outputs": [],
   "source": [
    "w = S('w')\n",
    "glgW = Eq(x, w*exp(w))\n",
    "glgW"
   ]
  },
  {
   "cell_type": "code",
   "execution_count": null,
   "id": "40ee047d",
   "metadata": {},
   "outputs": [],
   "source": [
    "lsg = solve(glgW, w, dict=True)\n",
    "lsg"
   ]
  },
  {
   "cell_type": "code",
   "execution_count": null,
   "id": "45da65e5",
   "metadata": {},
   "outputs": [],
   "source": [
    "glgW.subs(lsg[0]).simplify()"
   ]
  },
  {
   "cell_type": "code",
   "execution_count": null,
   "id": "c5739a50",
   "metadata": {},
   "outputs": [],
   "source": [
    "glg = Eq(exp(x), 5*x**2)\n",
    "solve(glg)"
   ]
  },
  {
   "cell_type": "code",
   "execution_count": null,
   "id": "f095f028",
   "metadata": {},
   "outputs": [],
   "source": [
    "plot(exp(x), 5*x**2);"
   ]
  },
  {
   "cell_type": "markdown",
   "id": "f89ac2f5",
   "metadata": {},
   "source": [
    "# Annahmen bei Integralen"
   ]
  },
  {
   "cell_type": "code",
   "execution_count": null,
   "id": "e2d5811a",
   "metadata": {},
   "outputs": [],
   "source": [
    "a = S('a')\n",
    "f = exp(-a*x**2)\n",
    "I1 = Integral(f, (x, -oo, oo))\n",
    "I1"
   ]
  },
  {
   "cell_type": "code",
   "execution_count": null,
   "id": "4585f250",
   "metadata": {},
   "outputs": [],
   "source": [
    "I1.doit()"
   ]
  },
  {
   "cell_type": "code",
   "execution_count": null,
   "id": "141605b3",
   "metadata": {},
   "outputs": [],
   "source": [
    "a = Symbol('a', positive=True)\n",
    "I2 = I1.subs(S('a'), a)\n",
    "I2"
   ]
  },
  {
   "cell_type": "code",
   "execution_count": null,
   "id": "779d5978",
   "metadata": {},
   "outputs": [],
   "source": [
    "I2.doit()"
   ]
  },
  {
   "cell_type": "markdown",
   "id": "39f99db9",
   "metadata": {},
   "source": [
    "# Die Argumentfunktion"
   ]
  },
  {
   "cell_type": "code",
   "execution_count": null,
   "id": "a8d0c32e",
   "metadata": {},
   "outputs": [],
   "source": [
    "z = exp(I*pi/2)\n",
    "z"
   ]
  },
  {
   "cell_type": "code",
   "execution_count": null,
   "id": "c1a7d1a6",
   "metadata": {},
   "outputs": [],
   "source": [
    "arg(z)"
   ]
  },
  {
   "cell_type": "code",
   "execution_count": null,
   "id": "b80c5954",
   "metadata": {},
   "outputs": [],
   "source": [
    "arg(-1), arg(1), arg(-1-I/100)"
   ]
  },
  {
   "cell_type": "code",
   "execution_count": null,
   "id": "2cf91a0c",
   "metadata": {},
   "outputs": [],
   "source": [
    "phi = Symbol('phi', real=True)\n",
    "plot(arg(exp(I*phi)));"
   ]
  },
  {
   "cell_type": "markdown",
   "id": "a21794e9",
   "metadata": {},
   "source": [
    "# Beispiel für ein Integral einer periodischen Funktion"
   ]
  },
  {
   "cell_type": "code",
   "execution_count": null,
   "id": "50f56dbd",
   "metadata": {},
   "outputs": [],
   "source": [
    "f = sin(x)**2\n",
    "F = Integral(f, x).doit()\n",
    "F"
   ]
  },
  {
   "cell_type": "code",
   "execution_count": null,
   "id": "dd584093",
   "metadata": {},
   "outputs": [],
   "source": [
    "plot(f, F);"
   ]
  },
  {
   "cell_type": "code",
   "execution_count": null,
   "id": "b7be2052",
   "metadata": {},
   "outputs": [],
   "source": [
    "f = 1/(2-cos(x))\n",
    "I2 = Integral(f, x)\n",
    "I2"
   ]
  },
  {
   "cell_type": "code",
   "execution_count": null,
   "id": "18fad78a",
   "metadata": {},
   "outputs": [],
   "source": [
    "F = I2.doit()\n",
    "F"
   ]
  },
  {
   "cell_type": "code",
   "execution_count": null,
   "id": "1206c590",
   "metadata": {},
   "outputs": [],
   "source": [
    "print(F)"
   ]
  },
  {
   "cell_type": "code",
   "execution_count": null,
   "id": "6ae4ccb1",
   "metadata": {},
   "outputs": [],
   "source": [
    "floor(3.5)"
   ]
  },
  {
   "cell_type": "code",
   "execution_count": null,
   "id": "06325dd9",
   "metadata": {},
   "outputs": [],
   "source": [
    "floor(-3.5)"
   ]
  },
  {
   "cell_type": "code",
   "execution_count": null,
   "id": "67830819",
   "metadata": {},
   "outputs": [],
   "source": [
    "plot(f, F);"
   ]
  },
  {
   "cell_type": "markdown",
   "id": "d4a1967d",
   "metadata": {},
   "source": [
    "Wofür ist `floor` nötig?"
   ]
  },
  {
   "cell_type": "code",
   "execution_count": null,
   "id": "3f78df3a",
   "metadata": {},
   "outputs": [],
   "source": [
    "g = atan(sqrt(3)*tan(x/2))\n",
    "g"
   ]
  },
  {
   "cell_type": "code",
   "execution_count": null,
   "id": "f20afee8",
   "metadata": {},
   "outputs": [],
   "source": [
    "plot(g);"
   ]
  },
  {
   "cell_type": "code",
   "execution_count": null,
   "id": "267110f6",
   "metadata": {},
   "outputs": [],
   "source": [
    "F.diff(x)"
   ]
  },
  {
   "cell_type": "code",
   "execution_count": null,
   "id": "63bc9b94",
   "metadata": {},
   "outputs": [],
   "source": [
    "F.diff(x).simplify()"
   ]
  },
  {
   "cell_type": "markdown",
   "id": "6be0a87b",
   "metadata": {},
   "source": [
    "Die Sprungstellen können nicht behandelt werden"
   ]
  },
  {
   "cell_type": "code",
   "execution_count": null,
   "id": "3b7742b4",
   "metadata": {},
   "outputs": [],
   "source": [
    "def null(x):\n",
    "    return 0\n",
    "\n",
    "F2 = F.replace(floor, null)\n",
    "F2.diff().simplify()"
   ]
  },
  {
   "cell_type": "markdown",
   "id": "55d1468e",
   "metadata": {},
   "source": [
    "`F2` ist unstetig, aber differenzierbar, wenn man die Sprünge entfernt"
   ]
  },
  {
   "cell_type": "code",
   "execution_count": null,
   "id": "63f56713",
   "metadata": {},
   "outputs": [],
   "source": [
    "a = S('a')\n",
    "f = 1 / (a - sin(2*pi*x))\n",
    "I1 = Integral(f, (x, 0, 1))\n",
    "I1"
   ]
  },
  {
   "cell_type": "code",
   "execution_count": null,
   "id": "b197318e",
   "metadata": {},
   "outputs": [],
   "source": [
    "I1.doit()"
   ]
  },
  {
   "cell_type": "code",
   "execution_count": null,
   "id": "1a2dbf17",
   "metadata": {},
   "outputs": [],
   "source": [
    "plot(f.subs(a, 2), 0);"
   ]
  },
  {
   "cell_type": "code",
   "execution_count": null,
   "id": "beefcf5b",
   "metadata": {},
   "outputs": [],
   "source": []
  }
 ],
 "metadata": {
  "celltoolbar": "Slideshow",
  "kernelspec": {
   "display_name": "Python 3 (ipykernel)",
   "language": "python",
   "name": "python3"
  },
  "language_info": {
   "codemirror_mode": {
    "name": "ipython",
    "version": 3
   },
   "file_extension": ".py",
   "mimetype": "text/x-python",
   "name": "python",
   "nbconvert_exporter": "python",
   "pygments_lexer": "ipython3",
   "version": "3.9.12"
  }
 },
 "nbformat": 4,
 "nbformat_minor": 5
}
