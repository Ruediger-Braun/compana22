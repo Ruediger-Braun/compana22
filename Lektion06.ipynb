{
 "cells": [
  {
   "cell_type": "markdown",
   "id": "77815cbb",
   "metadata": {
    "slideshow": {
     "slide_type": "slide"
    }
   },
   "source": [
    "# Computergestützte Mathematik zur Analysis\n",
    "\n",
    "Vorlesung vom 24.11.2022\n",
    "\n",
    "&copy; 2022 Prof. Dr. Rüdiger W. Braun "
   ]
  },
  {
   "cell_type": "code",
   "execution_count": 1,
   "id": "b6a35af4",
   "metadata": {
    "slideshow": {
     "slide_type": "slide"
    }
   },
   "outputs": [],
   "source": [
    "from sympy import *\n",
    "init_printing()"
   ]
  },
  {
   "cell_type": "markdown",
   "id": "bbeee941",
   "metadata": {
    "slideshow": {
     "slide_type": "slide"
    }
   },
   "source": [
    "# Nullstellen von Polynomen"
   ]
  },
  {
   "cell_type": "code",
   "execution_count": 2,
   "id": "53373e47",
   "metadata": {
    "slideshow": {
     "slide_type": "slide"
    }
   },
   "outputs": [],
   "source": [
    "x = S('x')"
   ]
  },
  {
   "cell_type": "code",
   "execution_count": 5,
   "id": "87a1252e",
   "metadata": {
    "slideshow": {
     "slide_type": "-"
    }
   },
   "outputs": [
    {
     "data": {
      "image/png": "[encoded data removed]",
      "text/latex": [
       "$\\displaystyle \\left\\{-2 + \\sqrt{10}, - \\sqrt{10} - 2\\right\\}$"
      ],
      "text/plain": [
       "{-2 + √10, -√10 - 2}"
      ]
     },
     "execution_count": 5,
     "metadata": {},
     "output_type": "execute_result"
    }
   ],
   "source": [
    "p = x**2 + 4*x - 6\n",
    "glg = Eq(p, 0)\n",
    "solveset(glg)"
   ]
  },
  {
   "cell_type": "code",
   "execution_count": 6,
   "id": "12075580",
   "metadata": {
    "slideshow": {
     "slide_type": "slide"
    }
   },
   "outputs": [
    {
     "data": {
      "image/png": "[encoded data removed]",
      "text/latex": [
       "$\\displaystyle \\left\\{- \\frac{\\sqrt[3]{\\frac{3 \\sqrt{1965}}{2} + \\frac{133}{2}}}{3} - \\frac{1}{3 \\sqrt[3]{\\frac{3 \\sqrt{1965}}{2} + \\frac{133}{2}}} + \\frac{1}{3}, \\frac{1}{6 \\sqrt[3]{\\frac{3 \\sqrt{1965}}{2} + \\frac{133}{2}}} + \\frac{1}{3} + \\frac{\\sqrt[3]{\\frac{3 \\sqrt{1965}}{2} + \\frac{133}{2}}}{6} + i \\left(- \\frac{\\sqrt{3}}{6 \\sqrt[3]{\\frac{3 \\sqrt{1965}}{2} + \\frac{133}{2}}} + \\frac{\\sqrt{3} \\sqrt[3]{\\frac{3 \\sqrt{1965}}{2} + \\frac{133}{2}}}{6}\\right), \\frac{1}{6 \\sqrt[3]{\\frac{3 \\sqrt{1965}}{2} + \\frac{133}{2}}} + \\frac{1}{3} + \\frac{\\sqrt[3]{\\frac{3 \\sqrt{1965}}{2} + \\frac{133}{2}}}{6} + i \\left(- \\frac{\\sqrt{3} \\sqrt[3]{\\frac{3 \\sqrt{1965}}{2} + \\frac{133}{2}}}{6} + \\frac{\\sqrt{3}}{6 \\sqrt[3]{\\frac{3 \\sqrt{1965}}{2} + \\frac{133}{2}}}\\right)\\right\\}$"
      ],
      "text/plain": [
       "⎧      _______________                                                        \n",
       "⎪     ╱ 3⋅√1965   133                                                         \n",
       "⎪  3 ╱  ─────── + ───                                                         \n",
       "⎪  ╲╱      2       2               1             1            1             1 \n",
       "⎨- ─────────────────── - ───────────────────── + ─, ───────────────────── + ─ \n",
       "⎪           3                  _______________   3        _______________   3 \n",
       "⎪                             ╱ 3⋅√1965   133            ╱ 3⋅√1965   133      \n",
       "⎪                        3⋅3 ╱  ─────── + ───       6⋅3 ╱  ─────── + ───      \n",
       "⎩                          ╲╱      2       2          ╲╱      2       2       \n",
       "\n",
       "      _______________     ⎛                                 _______________⎞  \n",
       "     ╱ 3⋅√1965   133      ⎜                                ╱ 3⋅√1965   133 ⎟  \n",
       "  3 ╱  ─────── + ───      ⎜                          √3⋅3 ╱  ─────── + ─── ⎟  \n",
       "  ╲╱      2       2       ⎜            √3               ╲╱      2       2  ⎟  \n",
       "+ ─────────────────── + ⅈ⋅⎜- ───────────────────── + ──────────────────────⎟, \n",
       "           6              ⎜        _______________             6           ⎟  \n",
       "                          ⎜       ╱ 3⋅√1965   133                          ⎟  \n",
       "                          ⎜  6⋅3 ╱  ─────── + ───                          ⎟  \n",
       "                          ⎝    ╲╱      2       2                           ⎠  \n",
       "\n",
       "                                _______________     ⎛         _______________ \n",
       "                               ╱ 3⋅√1965   133      ⎜        ╱ 3⋅√1965   133  \n",
       "                            3 ╱  ─────── + ───      ⎜  √3⋅3 ╱  ─────── + ───  \n",
       "          1             1   ╲╱      2       2       ⎜     ╲╱      2       2   \n",
       "───────────────────── + ─ + ─────────────────── + ⅈ⋅⎜- ────────────────────── \n",
       "      _______________   3            6              ⎜            6            \n",
       "     ╱ 3⋅√1965   133                                ⎜                         \n",
       "6⋅3 ╱  ─────── + ───                                ⎜                         \n",
       "  ╲╱      2       2                                 ⎝                         \n",
       "\n",
       "                       ⎞⎫\n",
       "                       ⎟⎪\n",
       "                       ⎟⎪\n",
       "            √3         ⎟⎪\n",
       "+ ─────────────────────⎟⎬\n",
       "        _______________⎟⎪\n",
       "       ╱ 3⋅√1965   133 ⎟⎪\n",
       "  6⋅3 ╱  ─────── + ─── ⎟⎪\n",
       "    ╲╱      2       2  ⎠⎭"
      ]
     },
     "execution_count": 6,
     "metadata": {},
     "output_type": "execute_result"
    }
   ],
   "source": [
    "p = x**3 - x**2 + 5\n",
    "glg = Eq(p, 0)\n",
    "lsg = solveset(glg)\n",
    "lsg"
   ]
  },
  {
   "cell_type": "code",
   "execution_count": 7,
   "id": "b7d63ab5",
   "metadata": {},
   "outputs": [
    {
     "data": {
      "image/png": "[encoded data removed]",
      "text/latex": [
       "$\\displaystyle \\frac{1}{6 \\sqrt[3]{\\frac{3 \\sqrt{1965}}{2} + \\frac{133}{2}}} + \\frac{1}{3} + \\frac{\\sqrt[3]{\\frac{3 \\sqrt{1965}}{2} + \\frac{133}{2}}}{6} + i \\left(- \\frac{\\sqrt{3}}{6 \\sqrt[3]{\\frac{3 \\sqrt{1965}}{2} + \\frac{133}{2}}} + \\frac{\\sqrt{3} \\sqrt[3]{\\frac{3 \\sqrt{1965}}{2} + \\frac{133}{2}}}{6}\\right)$"
      ],
      "text/plain": [
       "                                _______________     ⎛                         \n",
       "                               ╱ 3⋅√1965   133      ⎜                         \n",
       "                            3 ╱  ─────── + ───      ⎜                         \n",
       "          1             1   ╲╱      2       2       ⎜            √3           \n",
       "───────────────────── + ─ + ─────────────────── + ⅈ⋅⎜- ───────────────────── +\n",
       "      _______________   3            6              ⎜        _______________  \n",
       "     ╱ 3⋅√1965   133                                ⎜       ╱ 3⋅√1965   133   \n",
       "6⋅3 ╱  ─────── + ───                                ⎜  6⋅3 ╱  ─────── + ───   \n",
       "  ╲╱      2       2                                 ⎝    ╲╱      2       2    \n",
       "\n",
       "        _______________⎞\n",
       "       ╱ 3⋅√1965   133 ⎟\n",
       " √3⋅3 ╱  ─────── + ─── ⎟\n",
       "    ╲╱      2       2  ⎟\n",
       " ──────────────────────⎟\n",
       "           6           ⎟\n",
       "                       ⎟\n",
       "                       ⎟\n",
       "                       ⎠"
      ]
     },
     "execution_count": 7,
     "metadata": {},
     "output_type": "execute_result"
    }
   ],
   "source": [
    "w = list(lsg)[1]\n",
    "w"
   ]
  },
  {
   "cell_type": "code",
   "execution_count": 8,
   "id": "a3062e33",
   "metadata": {
    "slideshow": {
     "slide_type": "slide"
    }
   },
   "outputs": [
    {
     "data": {
      "image/png": "[encoded data removed]",
      "text/latex": [
       "$\\displaystyle \\frac{2 \\cdot \\sqrt[3]{2} + \\left(4 + 2^{\\frac{2}{3}} \\sqrt[3]{3 \\sqrt{1965} + 133}\\right) \\sqrt[3]{3 \\sqrt{1965} + 133} + \\sqrt[3]{2} \\sqrt{3} i \\left(-2 + \\sqrt[3]{2} \\left(3 \\sqrt{1965} + 133\\right)^{\\frac{2}{3}}\\right)}{12 \\sqrt[3]{3 \\sqrt{1965} + 133}}$"
      ],
      "text/plain": [
       "  3 ___   ⎛     2/3 3 _______________⎞ 3 _______________   3 ___      ⎛     3 \n",
       "2⋅╲╱ 2  + ⎝4 + 2   ⋅╲╱ 3⋅√1965 + 133 ⎠⋅╲╱ 3⋅√1965 + 133  + ╲╱ 2 ⋅√3⋅ⅈ⋅⎝-2 + ╲╱\n",
       "──────────────────────────────────────────────────────────────────────────────\n",
       "                                            3 _______________                 \n",
       "                                         12⋅╲╱ 3⋅√1965 + 133                  \n",
       "\n",
       "___                2/3⎞\n",
       " 2 ⋅(3⋅√1965 + 133)   ⎠\n",
       "───────────────────────\n",
       "                       \n",
       "                       "
      ]
     },
     "execution_count": 8,
     "metadata": {},
     "output_type": "execute_result"
    }
   ],
   "source": [
    "w.simplify()"
   ]
  },
  {
   "cell_type": "markdown",
   "id": "9635d341",
   "metadata": {},
   "source": [
    "Schöner wird's nicht"
   ]
  },
  {
   "cell_type": "code",
   "execution_count": 9,
   "id": "9d085d4a",
   "metadata": {},
   "outputs": [
    {
     "data": {
      "image/png": "[encoded data removed]",
      "text/latex": [
       "$\\displaystyle -1.43342766386382$"
      ],
      "text/plain": [
       "-1.43342766386382"
      ]
     },
     "metadata": {},
     "output_type": "display_data"
    },
    {
     "name": "stdout",
     "output_type": "stream",
     "text": [
      "True\n"
     ]
    },
    {
     "data": {
      "image/png": "[encoded data removed]",
      "text/latex": [
       "$\\displaystyle 1.21671383193191 + 1.41695094572094 i$"
      ],
      "text/plain": [
       "1.21671383193191 + 1.41695094572094⋅ⅈ"
      ]
     },
     "metadata": {},
     "output_type": "display_data"
    },
    {
     "name": "stdout",
     "output_type": "stream",
     "text": [
      "False\n"
     ]
    },
    {
     "data": {
      "image/png": "[encoded data removed]",
      "text/latex": [
       "$\\displaystyle 1.21671383193191 - 1.41695094572094 i$"
      ],
      "text/plain": [
       "1.21671383193191 - 1.41695094572094⋅ⅈ"
      ]
     },
     "metadata": {},
     "output_type": "display_data"
    },
    {
     "name": "stdout",
     "output_type": "stream",
     "text": [
      "False\n"
     ]
    }
   ],
   "source": [
    "for w in lsg:\n",
    "    display(w.n())\n",
    "    print(w.is_real)"
   ]
  },
  {
   "cell_type": "code",
   "execution_count": 10,
   "id": "b929b331",
   "metadata": {
    "slideshow": {
     "slide_type": "slide"
    }
   },
   "outputs": [
    {
     "data": {
      "image/png": "[encoded data removed]",
      "text/latex": [
       "$\\displaystyle \\frac{\\sqrt{- \\frac{10}{3 \\sqrt[3]{- \\frac{5}{16} + \\frac{5 \\sqrt{3921}}{144}}} + \\frac{1}{4} + 2 \\sqrt[3]{- \\frac{5}{16} + \\frac{5 \\sqrt{3921}}{144}}}}{2} + \\frac{1}{4} + \\frac{\\sqrt{- 2 \\sqrt[3]{- \\frac{5}{16} + \\frac{5 \\sqrt{3921}}{144}} + \\frac{1}{2} + \\frac{10}{3 \\sqrt[3]{- \\frac{5}{16} + \\frac{5 \\sqrt{3921}}{144}}} + \\frac{1}{4 \\sqrt{- \\frac{10}{3 \\sqrt[3]{- \\frac{5}{16} + \\frac{5 \\sqrt{3921}}{144}}} + \\frac{1}{4} + 2 \\sqrt[3]{- \\frac{5}{16} + \\frac{5 \\sqrt{3921}}{144}}}}}}{2}$"
      ],
      "text/plain": [
       "                                                                              \n",
       "                                                                              \n",
       "                                                                              \n",
       "                                                                              \n",
       "        _______________________________________________________               \n",
       "       ╱                                      ________________               ╱\n",
       "      ╱              10             1        ╱   5    5⋅√3921               ╱ \n",
       "     ╱   - ────────────────────── + ─ + 2⋅3 ╱  - ── + ───────              ╱  \n",
       "    ╱            ________________   4     ╲╱     16     144               ╱   \n",
       "   ╱            ╱   5    5⋅√3921                                         ╱    \n",
       "  ╱        3⋅3 ╱  - ── + ───────                                        ╱     \n",
       "╲╱           ╲╱     16     144                                    1   ╲╱      \n",
       "─────────────────────────────────────────────────────────────── + ─ + ────────\n",
       "                               2                                  4           \n",
       "\n",
       "    __________________________________________________________________________\n",
       "   ╱         ________________                                                 \n",
       "  ╱         ╱   5    5⋅√3921    1             10                              \n",
       " ╱   - 2⋅3 ╱  - ── + ───────  + ─ + ────────────────────── + ─────────────────\n",
       "╱        ╲╱     16     144      2         ________________             _______\n",
       "                                         ╱   5    5⋅√3921             ╱       \n",
       "                                    3⋅3 ╱  - ── + ───────            ╱        \n",
       "                                      ╲╱     16     144      4⋅     ╱   - ────\n",
       "                                                                   ╱          \n",
       "                                                                  ╱           \n",
       "                                                                 ╱        3⋅3 \n",
       "                                                               ╲╱           ╲╱\n",
       "──────────────────────────────────────────────────────────────────────────────\n",
       "                                                           2                  \n",
       "\n",
       "_________________________________________________\n",
       "                                                 \n",
       "               1                                 \n",
       "──────────────────────────────────────────────── \n",
       "________________________________________________ \n",
       "                               ________________  \n",
       "      10             1        ╱   5    5⋅√3921   \n",
       "────────────────── + ─ + 2⋅3 ╱  - ── + ───────   \n",
       "  ________________   4     ╲╱     16     144     \n",
       " ╱   5    5⋅√3921                                \n",
       "╱  - ── + ───────                                \n",
       "     16     144                                  \n",
       "─────────────────────────────────────────────────\n",
       "                                                 "
      ]
     },
     "execution_count": 10,
     "metadata": {},
     "output_type": "execute_result"
    }
   ],
   "source": [
    "p2 = x**4 - x**3 - 5\n",
    "glg2 = Eq(p2, 0)\n",
    "lsg2 = solveset(glg2)\n",
    "w = list(lsg2)[0]\n",
    "w"
   ]
  },
  {
   "cell_type": "code",
   "execution_count": 11,
   "id": "cc974af8",
   "metadata": {
    "scrolled": false
   },
   "outputs": [
    {
     "data": {
      "image/png": "[encoded data removed]",
      "text/latex": [
       "$\\displaystyle \\frac{1}{4} + \\frac{2 \\cdot 2^{\\frac{2}{3}} \\cdot 3^{\\frac{5}{6}} \\sqrt[6]{-45 + 5 \\sqrt{3921}} \\sqrt[3]{45 + 5 \\sqrt{3921}} \\left(- 480 \\cdot \\sqrt[3]{12} + 6 \\cdot \\sqrt[3]{18} \\sqrt[3]{-45 + 5 \\sqrt{3921}} + 24 \\left(-45 + 5 \\sqrt{3921}\\right)^{\\frac{2}{3}}\\right)^{\\frac{3}{4}} + 2 \\cdot 2^{\\frac{2}{3}} \\cdot 3^{\\frac{5}{6}} \\sqrt[6]{-45 + 5 \\sqrt{3921}} \\sqrt[3]{45 + 5 \\sqrt{3921}} \\sqrt{- 24 \\left(-45 + 5 \\sqrt{3921}\\right)^{\\frac{2}{3}} \\sqrt{- 480 \\cdot \\sqrt[3]{12} + 6 \\cdot \\sqrt[3]{18} \\sqrt[3]{-45 + 5 \\sqrt{3921}} + 24 \\left(-45 + 5 \\sqrt{3921}\\right)^{\\frac{2}{3}}} + 12 \\cdot \\sqrt[3]{18} \\sqrt[3]{-45 + 5 \\sqrt{3921}} \\sqrt{- 480 \\cdot \\sqrt[3]{12} + 6 \\cdot \\sqrt[3]{18} \\sqrt[3]{-45 + 5 \\sqrt{3921}} + 24 \\left(-45 + 5 \\sqrt{3921}\\right)^{\\frac{2}{3}}} + 480 \\cdot \\sqrt[3]{12} \\sqrt{- 480 \\cdot \\sqrt[3]{12} + 6 \\cdot \\sqrt[3]{18} \\sqrt[3]{-45 + 5 \\sqrt{3921}} + 24 \\left(-45 + 5 \\sqrt{3921}\\right)^{\\frac{2}{3}}} + 72 \\sqrt{3} \\sqrt{-45 + 5 \\sqrt{3921}}}}{5760 \\sqrt[4]{- 480 \\cdot \\sqrt[3]{12} + 6 \\cdot \\sqrt[3]{18} \\sqrt[3]{-45 + 5 \\sqrt{3921}} + 24 \\left(-45 + 5 \\sqrt{3921}\\right)^{\\frac{2}{3}}}}$"
      ],
      "text/plain": [
       "                                                                              \n",
       "                                                                              \n",
       "       2/3  5/6 6 _______________ 3 ______________ ⎛      3 ____     3 ____ 3 \n",
       "1   2⋅2   ⋅3   ⋅╲╱ -45 + 5⋅√3921 ⋅╲╱ 45 + 5⋅√3921 ⋅⎝- 480⋅╲╱ 12  + 6⋅╲╱ 18 ⋅╲╱\n",
       "─ + ──────────────────────────────────────────────────────────────────────────\n",
       "4                                                                             \n",
       "                                                                              \n",
       "                                                                              \n",
       "\n",
       "                                                                              \n",
       "                                        3/4                                   \n",
       "_______________                     2/3⎞         2/3  5/6 6 _______________ 3 \n",
       " -45 + 5⋅√3921  + 24⋅(-45 + 5⋅√3921)   ⎠    + 2⋅2   ⋅3   ⋅╲╱ -45 + 5⋅√3921 ⋅╲╱\n",
       "──────────────────────────────────────────────────────────────────────────────\n",
       "                                                                              \n",
       "                                                                              \n",
       "                                                                              \n",
       "\n",
       "                   ___________________________________________________________\n",
       "                  ╱                            _______________________________\n",
       "______________   ╱                      2/3   ╱       3 ____     3 ____ 3 ____\n",
       " 45 + 5⋅√3921 ⋅╲╱   - 24⋅(-45 + 5⋅√3921)   ⋅╲╱  - 480⋅╲╱ 12  + 6⋅╲╱ 18 ⋅╲╱ -45\n",
       "──────────────────────────────────────────────────────────────────────────────\n",
       "                                                         _____________________\n",
       "                                                      4 ╱       3 ____     3 _\n",
       "                                                 5760⋅╲╱  - 480⋅╲╱ 12  + 6⋅╲╱ \n",
       "\n",
       "______________________________________________________________________________\n",
       "____________________________________                                  ________\n",
       "___________                     2/3       3 ____ 3 _______________   ╱       3\n",
       " + 5⋅√3921  + 24⋅(-45 + 5⋅√3921)     + 12⋅╲╱ 18 ⋅╲╱ -45 + 5⋅√3921 ⋅╲╱  - 480⋅╲\n",
       "──────────────────────────────────────────────────────────────────────────────\n",
       "______________________________________________                                \n",
       "___ 3 _______________                     2/3                                 \n",
       "18 ⋅╲╱ -45 + 5⋅√3921  + 24⋅(-45 + 5⋅√3921)                                    \n",
       "\n",
       "______________________________________________________________________________\n",
       "___________________________________________________________                 __\n",
       " ____     3 ____ 3 _______________                     2/3        3 ____   ╱  \n",
       "╱ 12  + 6⋅╲╱ 18 ⋅╲╱ -45 + 5⋅√3921  + 24⋅(-45 + 5⋅√3921)     + 480⋅╲╱ 12 ⋅╲╱  -\n",
       "──────────────────────────────────────────────────────────────────────────────\n",
       "                                                                              \n",
       "                                                                              \n",
       "                                                                              \n",
       "\n",
       "______________________________________________________________________________\n",
       "_________________________________________________________________             \n",
       "     3 ____     3 ____ 3 _______________                     2/3            __\n",
       " 480⋅╲╱ 12  + 6⋅╲╱ 18 ⋅╲╱ -45 + 5⋅√3921  + 24⋅(-45 + 5⋅√3921)     + 72⋅√3⋅╲╱ -\n",
       "──────────────────────────────────────────────────────────────────────────────\n",
       "                                                                              \n",
       "                                                                              \n",
       "                                                                              \n",
       "\n",
       "______________\n",
       "              \n",
       "_____________ \n",
       "45 + 5⋅√3921  \n",
       "──────────────\n",
       "              \n",
       "              \n",
       "              "
      ]
     },
     "execution_count": 11,
     "metadata": {},
     "output_type": "execute_result"
    }
   ],
   "source": [
    "w.radsimp()"
   ]
  },
  {
   "cell_type": "code",
   "execution_count": 12,
   "id": "591df638",
   "metadata": {
    "slideshow": {
     "slide_type": "slide"
    }
   },
   "outputs": [
    {
     "data": {
      "image/png": "[encoded data removed]",
      "text/latex": [
       "$\\displaystyle 1.82397445616895$"
      ],
      "text/plain": [
       "1.82397445616895"
      ]
     },
     "metadata": {},
     "output_type": "display_data"
    },
    {
     "name": "stdout",
     "output_type": "stream",
     "text": [
      "True\n"
     ]
    },
    {
     "data": {
      "image/png": "[encoded data removed]",
      "text/latex": [
       "$\\displaystyle -1.29615331236257$"
      ],
      "text/plain": [
       "-1.29615331236257"
      ]
     },
     "metadata": {},
     "output_type": "display_data"
    },
    {
     "name": "stdout",
     "output_type": "stream",
     "text": [
      "True\n"
     ]
    },
    {
     "data": {
      "image/png": "[encoded data removed]",
      "text/latex": [
       "$\\displaystyle 0.236089428096809 - 1.43498652642167 i$"
      ],
      "text/plain": [
       "0.236089428096809 - 1.43498652642167⋅ⅈ"
      ]
     },
     "metadata": {},
     "output_type": "display_data"
    },
    {
     "name": "stdout",
     "output_type": "stream",
     "text": [
      "False\n"
     ]
    },
    {
     "data": {
      "image/png": "[encoded data removed]",
      "text/latex": [
       "$\\displaystyle 0.236089428096809 + 1.43498652642167 i$"
      ],
      "text/plain": [
       "0.236089428096809 + 1.43498652642167⋅ⅈ"
      ]
     },
     "metadata": {},
     "output_type": "display_data"
    },
    {
     "name": "stdout",
     "output_type": "stream",
     "text": [
      "False\n"
     ]
    }
   ],
   "source": [
    "for w in lsg2:\n",
    "    display(w.n())\n",
    "    print(w.is_real)"
   ]
  },
  {
   "cell_type": "code",
   "execution_count": 13,
   "id": "9902cbd3",
   "metadata": {
    "slideshow": {
     "slide_type": "slide"
    }
   },
   "outputs": [
    {
     "data": {
      "image/png": "[encoded data removed]",
      "text/latex": [
       "$\\displaystyle \\left\\{\\operatorname{CRootOf} {\\left(x^{5} - x^{4} - 5, 0\\right)}, \\operatorname{CRootOf} {\\left(x^{5} - x^{4} - 5, 1\\right)}, \\operatorname{CRootOf} {\\left(x^{5} - x^{4} - 5, 2\\right)}, \\operatorname{CRootOf} {\\left(x^{5} - x^{4} - 5, 3\\right)}, \\operatorname{CRootOf} {\\left(x^{5} - x^{4} - 5, 4\\right)}\\right\\}$"
      ],
      "text/plain": [
       "⎧       ⎛ 5    4       ⎞         ⎛ 5    4       ⎞         ⎛ 5    4       ⎞    \n",
       "⎨CRootOf⎝x  - x  - 5, 0⎠, CRootOf⎝x  - x  - 5, 1⎠, CRootOf⎝x  - x  - 5, 2⎠, CR\n",
       "⎩                                                                             \n",
       "\n",
       "     ⎛ 5    4       ⎞         ⎛ 5    4       ⎞⎫\n",
       "ootOf⎝x  - x  - 5, 3⎠, CRootOf⎝x  - x  - 5, 4⎠⎬\n",
       "                                              ⎭"
      ]
     },
     "execution_count": 13,
     "metadata": {},
     "output_type": "execute_result"
    }
   ],
   "source": [
    "p3 = x**5 - x**4 - 5\n",
    "glg3 = Eq(p3, 0)\n",
    "lsg3 = solveset(glg3)\n",
    "lsg3"
   ]
  },
  {
   "cell_type": "markdown",
   "id": "67d2427c",
   "metadata": {},
   "source": [
    "Galois sagt:  Geht nicht besser"
   ]
  },
  {
   "cell_type": "code",
   "execution_count": 14,
   "id": "a96aa910",
   "metadata": {
    "scrolled": true,
    "slideshow": {
     "slide_type": "slide"
    }
   },
   "outputs": [
    {
     "data": {
      "image/png": "[encoded data removed]",
      "text/latex": [
       "$\\displaystyle 1.65940980279465$"
      ],
      "text/plain": [
       "1.65940980279465"
      ]
     },
     "metadata": {},
     "output_type": "display_data"
    },
    {
     "name": "stdout",
     "output_type": "stream",
     "text": [
      "True\n"
     ]
    },
    {
     "data": {
      "image/png": "[encoded data removed]",
      "text/latex": [
       "$\\displaystyle -0.957198876306947 - 0.789309896058994 i$"
      ],
      "text/plain": [
       "-0.957198876306947 - 0.789309896058994⋅ⅈ"
      ]
     },
     "metadata": {},
     "output_type": "display_data"
    },
    {
     "name": "stdout",
     "output_type": "stream",
     "text": [
      "False\n"
     ]
    },
    {
     "data": {
      "image/png": "[encoded data removed]",
      "text/latex": [
       "$\\displaystyle -0.957198876306947 + 0.789309896058994 i$"
      ],
      "text/plain": [
       "-0.957198876306947 + 0.789309896058994⋅ⅈ"
      ]
     },
     "metadata": {},
     "output_type": "display_data"
    },
    {
     "name": "stdout",
     "output_type": "stream",
     "text": [
      "False\n"
     ]
    },
    {
     "data": {
      "image/png": "[encoded data removed]",
      "text/latex": [
       "$\\displaystyle 0.627493974909623 - 1.25051537860995 i$"
      ],
      "text/plain": [
       "0.627493974909623 - 1.25051537860995⋅ⅈ"
      ]
     },
     "metadata": {},
     "output_type": "display_data"
    },
    {
     "name": "stdout",
     "output_type": "stream",
     "text": [
      "False\n"
     ]
    },
    {
     "data": {
      "image/png": "[encoded data removed]",
      "text/latex": [
       "$\\displaystyle 0.627493974909623 + 1.25051537860995 i$"
      ],
      "text/plain": [
       "0.627493974909623 + 1.25051537860995⋅ⅈ"
      ]
     },
     "metadata": {},
     "output_type": "display_data"
    },
    {
     "name": "stdout",
     "output_type": "stream",
     "text": [
      "False\n"
     ]
    },
    {
     "data": {
      "image/png": "[encoded data removed]",
      "text/latex": [
       "$\\displaystyle \\operatorname{CRootOf} {\\left(x^{5} - x^{4} - 5, 0\\right)} + \\operatorname{CRootOf} {\\left(x^{5} - x^{4} - 5, 3\\right)} + \\operatorname{CRootOf} {\\left(x^{5} - x^{4} - 5, 1\\right)} + \\operatorname{CRootOf} {\\left(x^{5} - x^{4} - 5, 2\\right)} + \\operatorname{CRootOf} {\\left(x^{5} - x^{4} - 5, 4\\right)}$"
      ],
      "text/plain": [
       "       ⎛ 5    4       ⎞          ⎛ 5    4       ⎞          ⎛ 5    4       ⎞   \n",
       "CRootOf⎝x  - x  - 5, 0⎠ + CRootOf⎝x  - x  - 5, 3⎠ + CRootOf⎝x  - x  - 5, 1⎠ + \n",
       "\n",
       "       ⎛ 5    4       ⎞          ⎛ 5    4       ⎞\n",
       "CRootOf⎝x  - x  - 5, 2⎠ + CRootOf⎝x  - x  - 5, 4⎠"
      ]
     },
     "execution_count": 14,
     "metadata": {},
     "output_type": "execute_result"
    }
   ],
   "source": [
    "summe = 0\n",
    "for w in lsg3:\n",
    "    display(w.n())\n",
    "    print(w.is_real)\n",
    "    summe += w\n",
    "summe"
   ]
  },
  {
   "cell_type": "code",
   "execution_count": 15,
   "id": "75a10cba",
   "metadata": {
    "slideshow": {
     "slide_type": "slide"
    }
   },
   "outputs": [
    {
     "data": {
      "image/png": "[encoded data removed]",
      "text/latex": [
       "$\\displaystyle \\operatorname{CRootOf} {\\left(x^{5} - x^{4} - 5, 0\\right)} + \\operatorname{CRootOf} {\\left(x^{5} - x^{4} - 5, 3\\right)} + \\operatorname{CRootOf} {\\left(x^{5} - x^{4} - 5, 1\\right)} + \\operatorname{CRootOf} {\\left(x^{5} - x^{4} - 5, 2\\right)} + \\operatorname{CRootOf} {\\left(x^{5} - x^{4} - 5, 4\\right)}$"
      ],
      "text/plain": [
       "       ⎛ 5    4       ⎞          ⎛ 5    4       ⎞          ⎛ 5    4       ⎞   \n",
       "CRootOf⎝x  - x  - 5, 0⎠ + CRootOf⎝x  - x  - 5, 3⎠ + CRootOf⎝x  - x  - 5, 1⎠ + \n",
       "\n",
       "       ⎛ 5    4       ⎞          ⎛ 5    4       ⎞\n",
       "CRootOf⎝x  - x  - 5, 2⎠ + CRootOf⎝x  - x  - 5, 4⎠"
      ]
     },
     "execution_count": 15,
     "metadata": {},
     "output_type": "execute_result"
    }
   ],
   "source": [
    "summe.radsimp()"
   ]
  },
  {
   "cell_type": "code",
   "execution_count": 16,
   "id": "d5085e46",
   "metadata": {},
   "outputs": [
    {
     "data": {
      "image/png": "[encoded data removed]",
      "text/latex": [
       "$\\displaystyle 1.0 + 1.0 \\cdot 10^{-20} i$"
      ],
      "text/plain": [
       "1.0 + 0.e-20⋅ⅈ"
      ]
     },
     "execution_count": 16,
     "metadata": {},
     "output_type": "execute_result"
    }
   ],
   "source": [
    "summe.n()"
   ]
  },
  {
   "cell_type": "code",
   "execution_count": 17,
   "id": "2bd5cd70",
   "metadata": {},
   "outputs": [
    {
     "data": {
      "image/png": "[encoded data removed]",
      "text/latex": [
       "$\\displaystyle x - 1$"
      ],
      "text/plain": [
       "x - 1"
      ]
     },
     "execution_count": 17,
     "metadata": {},
     "output_type": "execute_result"
    }
   ],
   "source": [
    "minimal_polynomial(summe)  "
   ]
  },
  {
   "cell_type": "markdown",
   "id": "82c9fc01",
   "metadata": {},
   "source": [
    "Das Minimalpolynom von $a$ ist das \"kleinste\" Polynom $p$ mit $p(a)=0$"
   ]
  },
  {
   "cell_type": "markdown",
   "id": "6d89df3b",
   "metadata": {
    "slideshow": {
     "slide_type": "slide"
    }
   },
   "source": [
    "# Ungleichungen"
   ]
  },
  {
   "cell_type": "code",
   "execution_count": 18,
   "id": "7add7bcd",
   "metadata": {
    "slideshow": {
     "slide_type": "slide"
    }
   },
   "outputs": [
    {
     "data": {
      "image/png": "[encoded data removed]",
      "text/latex": [
       "$\\displaystyle x^{2} < 5$"
      ],
      "text/plain": [
       " 2    \n",
       "x  < 5"
      ]
     },
     "execution_count": 18,
     "metadata": {},
     "output_type": "execute_result"
    }
   ],
   "source": [
    "x = S('x')\n",
    "ugl = x**2 < 5\n",
    "ugl"
   ]
  },
  {
   "cell_type": "code",
   "execution_count": 19,
   "id": "14c8479b",
   "metadata": {},
   "outputs": [
    {
     "data": {
      "image/png": "[encoded data removed]",
      "text/latex": [
       "$\\displaystyle - \\sqrt{5} < x \\wedge x < \\sqrt{5}$"
      ],
      "text/plain": [
       "-√5 < x ∧ x < √5"
      ]
     },
     "execution_count": 19,
     "metadata": {},
     "output_type": "execute_result"
    }
   ],
   "source": [
    "solve(ugl)"
   ]
  },
  {
   "cell_type": "code",
   "execution_count": 20,
   "id": "100bd760",
   "metadata": {},
   "outputs": [
    {
     "data": {
      "text/latex": [
       "$\\displaystyle \\left\\{x\\; \\middle|\\; x \\in \\mathbb{C} \\wedge x^{2} < 5 \\right\\}$"
      ],
      "text/plain": [
       "⎧  │         ⎛ 2    ⎞⎫\n",
       "⎨x │ x ∊ ℂ ∧ ⎝x  < 5⎠⎬\n",
       "⎩  │                 ⎭"
      ]
     },
     "execution_count": 20,
     "metadata": {},
     "output_type": "execute_result"
    }
   ],
   "source": [
    "solveset(ugl)"
   ]
  },
  {
   "cell_type": "code",
   "execution_count": 21,
   "id": "c8dc48b7",
   "metadata": {
    "slideshow": {
     "slide_type": "slide"
    }
   },
   "outputs": [
    {
     "data": {
      "image/png": "[encoded data removed]",
      "text/latex": [
       "$\\displaystyle \\left(- \\sqrt{5}, \\sqrt{5}\\right)$"
      ],
      "text/plain": [
       "(-√5, √5)"
      ]
     },
     "execution_count": 21,
     "metadata": {},
     "output_type": "execute_result"
    }
   ],
   "source": [
    "m1 = solveset(ugl, domain=Reals)\n",
    "m1"
   ]
  },
  {
   "cell_type": "code",
   "execution_count": 22,
   "id": "7adf6959",
   "metadata": {},
   "outputs": [
    {
     "name": "stdout",
     "output_type": "stream",
     "text": [
      "Interval.open(-sqrt(5), sqrt(5))\n"
     ]
    }
   ],
   "source": [
    "print(m1)"
   ]
  },
  {
   "cell_type": "code",
   "execution_count": 23,
   "id": "3a24002d",
   "metadata": {},
   "outputs": [
    {
     "data": {
      "image/png": "[encoded data removed]",
      "text/latex": [
       "$\\displaystyle \\left[-1, \\infty\\right)$"
      ],
      "text/plain": [
       "[-1, ∞)"
      ]
     },
     "execution_count": 23,
     "metadata": {},
     "output_type": "execute_result"
    }
   ],
   "source": [
    "m2 = solveset(exp(x) >= E**(-1), domain=Reals)\n",
    "m2"
   ]
  },
  {
   "cell_type": "code",
   "execution_count": 24,
   "id": "209b8fc4",
   "metadata": {},
   "outputs": [
    {
     "name": "stdout",
     "output_type": "stream",
     "text": [
      "Interval(-1, oo)\n"
     ]
    }
   ],
   "source": [
    "print(m2)"
   ]
  },
  {
   "cell_type": "code",
   "execution_count": 25,
   "id": "b4d9d31b",
   "metadata": {
    "slideshow": {
     "slide_type": "slide"
    }
   },
   "outputs": [
    {
     "data": {
      "image/png": "[encoded data removed]",
      "text/latex": [
       "$\\displaystyle \\left[-1, \\sqrt{5}\\right)$"
      ],
      "text/plain": [
       "[-1, √5)"
      ]
     },
     "execution_count": 25,
     "metadata": {},
     "output_type": "execute_result"
    }
   ],
   "source": [
    "m1 & m2"
   ]
  },
  {
   "cell_type": "code",
   "execution_count": 26,
   "id": "d9284b61",
   "metadata": {},
   "outputs": [
    {
     "name": "stdout",
     "output_type": "stream",
     "text": [
      "Interval.Ropen(-1, sqrt(5))\n"
     ]
    }
   ],
   "source": [
    "print(m1 & m2)"
   ]
  },
  {
   "cell_type": "code",
   "execution_count": 29,
   "id": "7d66f81e",
   "metadata": {
    "slideshow": {
     "slide_type": "slide"
    }
   },
   "outputs": [
    {
     "data": {
      "text/plain": [
       "True"
      ]
     },
     "execution_count": 29,
     "metadata": {},
     "output_type": "execute_result"
    }
   ],
   "source": [
    "Interval(1, oo) == Interval.Ropen(1, oo)"
   ]
  },
  {
   "cell_type": "code",
   "execution_count": 30,
   "id": "6eed54ed",
   "metadata": {},
   "outputs": [
    {
     "data": {
      "text/plain": [
       "True"
      ]
     },
     "execution_count": 30,
     "metadata": {},
     "output_type": "execute_result"
    }
   ],
   "source": [
    "Interval.open(1, oo) == Interval.Lopen(1, oo)"
   ]
  },
  {
   "cell_type": "code",
   "execution_count": 34,
   "id": "51e7fd76",
   "metadata": {
    "slideshow": {
     "slide_type": "slide"
    }
   },
   "outputs": [
    {
     "data": {
      "image/png": "[encoded data removed]",
      "text/latex": [
       "$\\displaystyle \\mathbb{R}$"
      ],
      "text/plain": [
       "ℝ"
      ]
     },
     "execution_count": 34,
     "metadata": {},
     "output_type": "execute_result"
    }
   ],
   "source": [
    "solveset(exp(x) > 0, domain=Reals)"
   ]
  },
  {
   "cell_type": "code",
   "execution_count": 32,
   "id": "84455073",
   "metadata": {},
   "outputs": [
    {
     "data": {
      "image/png": "[encoded data removed]",
      "text/latex": [
       "$\\displaystyle \\emptyset$"
      ],
      "text/plain": [
       "∅"
      ]
     },
     "execution_count": 32,
     "metadata": {},
     "output_type": "execute_result"
    }
   ],
   "source": [
    "solveset(exp(x) == 0)"
   ]
  },
  {
   "cell_type": "code",
   "execution_count": 33,
   "id": "927cb310",
   "metadata": {},
   "outputs": [
    {
     "name": "stdout",
     "output_type": "stream",
     "text": [
      "EmptySet\n"
     ]
    }
   ],
   "source": [
    "print(_)  #  symbolische leere Menge, nicht zu verwechslen mit set()"
   ]
  },
  {
   "cell_type": "code",
   "execution_count": 35,
   "id": "933ed104",
   "metadata": {
    "slideshow": {
     "slide_type": "slide"
    }
   },
   "outputs": [
    {
     "data": {
      "text/latex": [
       "$\\displaystyle \\left\\{x\\; \\middle|\\; x \\in \\mathbb{R} \\wedge 3 \\log{\\left(x \\right)} < x \\right\\}$"
      ],
      "text/plain": [
       "{x │ x ∊ ℝ ∧ (3⋅log(x) < x)}"
      ]
     },
     "execution_count": 35,
     "metadata": {},
     "output_type": "execute_result"
    }
   ],
   "source": [
    "solveset(3*log(x) < x, domain=Reals)"
   ]
  },
  {
   "cell_type": "code",
   "execution_count": 37,
   "id": "eba05815",
   "metadata": {
    "slideshow": {
     "slide_type": "slide"
    }
   },
   "outputs": [
    {
     "data": {
      "image/png": "[encoded data removed]",
      "text/plain": [
       "<Figure size 432x288 with 1 Axes>"
      ]
     },
     "metadata": {
      "needs_background": "light"
     },
     "output_type": "display_data"
    }
   ],
   "source": [
    "plot(3*log(x), x);"
   ]
  },
  {
   "cell_type": "code",
   "execution_count": 39,
   "id": "0bd7320b",
   "metadata": {
    "slideshow": {
     "slide_type": "slide"
    }
   },
   "outputs": [
    {
     "data": {
      "image/png": "[encoded data removed]",
      "text/latex": [
       "$\\displaystyle \\left[ - 3 W\\left(- \\frac{1}{3}\\right), \\  - 3 W_{-1}\\left(- \\frac{1}{3}\\right)\\right]$"
      ],
      "text/plain": [
       "[-3⋅W(-1/3), -3⋅W(-1/3, -1)]"
      ]
     },
     "execution_count": 39,
     "metadata": {},
     "output_type": "execute_result"
    }
   ],
   "source": [
    "glg = Eq(3*log(x), x)\n",
    "lsg = solve(glg)\n",
    "lsg"
   ]
  },
  {
   "cell_type": "markdown",
   "id": "ee8ffde9",
   "metadata": {},
   "source": [
    "`solveset` findet diese Lösungen nicht\n",
    "\n",
    "Die Entwickler empfehlen `solveset` in den Fällen, in denen es funktioniert"
   ]
  },
  {
   "cell_type": "markdown",
   "id": "2f74abac",
   "metadata": {
    "slideshow": {
     "slide_type": "slide"
    }
   },
   "source": [
    "# Die Lambertsche W-Funktion"
   ]
  },
  {
   "cell_type": "code",
   "execution_count": 40,
   "id": "f7dcfa8a",
   "metadata": {},
   "outputs": [
    {
     "name": "stdout",
     "output_type": "stream",
     "text": [
      "-3*LambertW(-1/3)\n"
     ]
    }
   ],
   "source": [
    "print(lsg[0])"
   ]
  },
  {
   "cell_type": "code",
   "execution_count": 45,
   "id": "653b84c7",
   "metadata": {
    "slideshow": {
     "slide_type": "slide"
    }
   },
   "outputs": [
    {
     "data": {
      "image/png": "[encoded data removed]",
      "text/latex": [
       "$\\displaystyle x = w e^{w}$"
      ],
      "text/plain": [
       "       w\n",
       "x = w⋅ℯ "
      ]
     },
     "execution_count": 45,
     "metadata": {},
     "output_type": "execute_result"
    }
   ],
   "source": [
    "w = S('w')\n",
    "glgW = Eq(x, w*exp(w))\n",
    "glgW"
   ]
  },
  {
   "cell_type": "code",
   "execution_count": 42,
   "id": "40ee047d",
   "metadata": {},
   "outputs": [
    {
     "data": {
      "image/png": "[encoded data removed]",
      "text/latex": [
       "$\\displaystyle \\left[ \\left\\{ w : W\\left(x\\right)\\right\\}\\right]$"
      ],
      "text/plain": [
       "[{w: W(x)}]"
      ]
     },
     "execution_count": 42,
     "metadata": {},
     "output_type": "execute_result"
    }
   ],
   "source": [
    "lsg = solve(glgW, w, dict=True)\n",
    "lsg"
   ]
  },
  {
   "cell_type": "code",
   "execution_count": 43,
   "id": "45da65e5",
   "metadata": {},
   "outputs": [
    {
     "data": {
      "image/png": "[encoded data removed]",
      "text/latex": [
       "$\\displaystyle x = e^{W\\left(x\\right)} W\\left(x\\right)$"
      ],
      "text/plain": [
       "     W(x)     \n",
       "x = ℯ    ⋅W(x)"
      ]
     },
     "execution_count": 43,
     "metadata": {},
     "output_type": "execute_result"
    }
   ],
   "source": [
    "glgW.subs(lsg[0]).simplify()"
   ]
  },
  {
   "cell_type": "code",
   "execution_count": 44,
   "id": "c5739a50",
   "metadata": {},
   "outputs": [
    {
     "data": {
      "image/png": "[encoded data removed]",
      "text/latex": [
       "$\\displaystyle \\left[ - 2 W\\left(- \\frac{\\sqrt{5}}{10}\\right), \\  - 2 W\\left(\\frac{\\sqrt{5}}{10}\\right), \\  - 2 W_{-1}\\left(- \\frac{\\sqrt{5}}{10}\\right)\\right]$"
      ],
      "text/plain": [
       "⎡    ⎛-√5 ⎞      ⎛√5⎞      ⎛-√5     ⎞⎤\n",
       "⎢-2⋅W⎜────⎟, -2⋅W⎜──⎟, -2⋅W⎜────, -1⎟⎥\n",
       "⎣    ⎝ 10 ⎠      ⎝10⎠      ⎝ 10     ⎠⎦"
      ]
     },
     "execution_count": 44,
     "metadata": {},
     "output_type": "execute_result"
    }
   ],
   "source": [
    "glg = Eq(exp(x), 5*x**2)\n",
    "lsg = solve(glg)\n",
    "lsg"
   ]
  },
  {
   "cell_type": "code",
   "execution_count": 48,
   "id": "f095f028",
   "metadata": {
    "slideshow": {
     "slide_type": "slide"
    }
   },
   "outputs": [
    {
     "data": {
      "image/png": "[encoded data removed]",
      "text/plain": [
       "<Figure size 432x288 with 1 Axes>"
      ]
     },
     "metadata": {
      "needs_background": "light"
     },
     "output_type": "display_data"
    }
   ],
   "source": [
    "plot(exp(x), 5*x**2, (x, -1, 1));"
   ]
  },
  {
   "cell_type": "markdown",
   "id": "f89ac2f5",
   "metadata": {
    "slideshow": {
     "slide_type": "slide"
    }
   },
   "source": [
    "# Annahmen bei Integralen"
   ]
  },
  {
   "cell_type": "code",
   "execution_count": 51,
   "id": "e2d5811a",
   "metadata": {
    "slideshow": {
     "slide_type": "slide"
    }
   },
   "outputs": [
    {
     "data": {
      "image/png": "[encoded data removed]",
      "text/latex": [
       "$\\displaystyle \\int\\limits_{-\\infty}^{\\infty} e^{- a x^{2}}\\, dx$"
      ],
      "text/plain": [
       "∞           \n",
       "⌠           \n",
       "⎮       2   \n",
       "⎮   -a⋅x    \n",
       "⎮  ℯ      dx\n",
       "⌡           \n",
       "-∞          "
      ]
     },
     "execution_count": 51,
     "metadata": {},
     "output_type": "execute_result"
    }
   ],
   "source": [
    "a = S('a')\n",
    "f = exp(-a*x**2)\n",
    "I1 = Integral(f, (x, -oo, oo))\n",
    "I1"
   ]
  },
  {
   "cell_type": "code",
   "execution_count": 50,
   "id": "4585f250",
   "metadata": {},
   "outputs": [
    {
     "data": {
      "text/latex": [
       "$\\displaystyle \\begin{cases} \\frac{\\sqrt{\\pi}}{\\sqrt{a}} & \\text{for}\\: \\left|{\\arg{\\left(a \\right)}}\\right| \\leq \\frac{\\pi}{2} \\\\\\int\\limits_{-\\infty}^{\\infty} e^{- a x^{2}}\\, dx & \\text{otherwise} \\end{cases}$"
      ],
      "text/plain": [
       "⎧     √π                      π\n",
       "⎪     ──       for │arg(a)│ ≤ ─\n",
       "⎪     √a                      2\n",
       "⎪                              \n",
       "⎪∞                             \n",
       "⎨⌠                             \n",
       "⎪⎮       2                     \n",
       "⎪⎮   -a⋅x                      \n",
       "⎪⎮  ℯ      dx     otherwise    \n",
       "⎪⌡                             \n",
       "⎩-∞                            "
      ]
     },
     "execution_count": 50,
     "metadata": {},
     "output_type": "execute_result"
    }
   ],
   "source": [
    "I1.doit()"
   ]
  },
  {
   "cell_type": "code",
   "execution_count": 52,
   "id": "141605b3",
   "metadata": {
    "slideshow": {
     "slide_type": "slide"
    }
   },
   "outputs": [
    {
     "data": {
      "image/png": "[encoded data removed]",
      "text/latex": [
       "$\\displaystyle \\int\\limits_{-\\infty}^{\\infty} e^{- a x^{2}}\\, dx$"
      ],
      "text/plain": [
       "∞           \n",
       "⌠           \n",
       "⎮       2   \n",
       "⎮   -a⋅x    \n",
       "⎮  ℯ      dx\n",
       "⌡           \n",
       "-∞          "
      ]
     },
     "execution_count": 52,
     "metadata": {},
     "output_type": "execute_result"
    }
   ],
   "source": [
    "a = Symbol('a', positive=True)\n",
    "I2 = I1.subs(S('a'), a)\n",
    "I2"
   ]
  },
  {
   "cell_type": "code",
   "execution_count": 53,
   "id": "779d5978",
   "metadata": {},
   "outputs": [
    {
     "data": {
      "image/png": "[encoded data removed]",
      "text/latex": [
       "$\\displaystyle \\frac{\\sqrt{\\pi}}{\\sqrt{a}}$"
      ],
      "text/plain": [
       "√π\n",
       "──\n",
       "√a"
      ]
     },
     "execution_count": 53,
     "metadata": {},
     "output_type": "execute_result"
    }
   ],
   "source": [
    "I2.doit()"
   ]
  },
  {
   "cell_type": "markdown",
   "id": "39f99db9",
   "metadata": {
    "slideshow": {
     "slide_type": "slide"
    }
   },
   "source": [
    "# Die Argumentfunktion"
   ]
  },
  {
   "cell_type": "code",
   "execution_count": 57,
   "id": "a8d0c32e",
   "metadata": {
    "slideshow": {
     "slide_type": "slide"
    }
   },
   "outputs": [
    {
     "data": {
      "image/png": "[encoded data removed]",
      "text/latex": [
       "$\\displaystyle i$"
      ],
      "text/plain": [
       "ⅈ"
      ]
     },
     "execution_count": 57,
     "metadata": {},
     "output_type": "execute_result"
    }
   ],
   "source": [
    "z = exp(I*pi/2)\n",
    "z"
   ]
  },
  {
   "cell_type": "code",
   "execution_count": 55,
   "id": "c1a7d1a6",
   "metadata": {},
   "outputs": [
    {
     "data": {
      "image/png": "[encoded data removed]",
      "text/latex": [
       "$\\displaystyle \\frac{\\pi}{2}$"
      ],
      "text/plain": [
       "π\n",
       "─\n",
       "2"
      ]
     },
     "execution_count": 55,
     "metadata": {},
     "output_type": "execute_result"
    }
   ],
   "source": [
    "arg(z)"
   ]
  },
  {
   "cell_type": "code",
   "execution_count": 56,
   "id": "b80c5954",
   "metadata": {},
   "outputs": [
    {
     "data": {
      "image/png": "[encoded data removed]",
      "text/latex": [
       "$\\displaystyle \\left( \\pi, \\  0, \\  - \\pi + \\operatorname{atan}{\\left(\\frac{1}{100} \\right)}\\right)$"
      ],
      "text/plain": [
       "(π, 0, -π + atan(1/100))"
      ]
     },
     "execution_count": 56,
     "metadata": {},
     "output_type": "execute_result"
    }
   ],
   "source": [
    "arg(-1), arg(1), arg(-1-I/100)"
   ]
  },
  {
   "cell_type": "code",
   "execution_count": 58,
   "id": "2cf91a0c",
   "metadata": {
    "slideshow": {
     "slide_type": "slide"
    }
   },
   "outputs": [
    {
     "data": {
      "image/png": "[encoded data removed]",
      "text/plain": [
       "<Figure size 432x288 with 1 Axes>"
      ]
     },
     "metadata": {
      "needs_background": "light"
     },
     "output_type": "display_data"
    }
   ],
   "source": [
    "phi = Symbol('phi', real=True)\n",
    "plot(arg(exp(I*phi)));"
   ]
  },
  {
   "cell_type": "markdown",
   "id": "a21794e9",
   "metadata": {
    "slideshow": {
     "slide_type": "slide"
    }
   },
   "source": [
    "# Beispiel für ein Integral einer periodischen Funktion"
   ]
  },
  {
   "cell_type": "code",
   "execution_count": 61,
   "id": "50f56dbd",
   "metadata": {
    "slideshow": {
     "slide_type": "slide"
    }
   },
   "outputs": [
    {
     "data": {
      "image/png": "[encoded data removed]",
      "text/latex": [
       "$\\displaystyle \\frac{x}{2} - \\frac{\\sin{\\left(x \\right)} \\cos{\\left(x \\right)}}{2}$"
      ],
      "text/plain": [
       "x   sin(x)⋅cos(x)\n",
       "─ - ─────────────\n",
       "2         2      "
      ]
     },
     "execution_count": 61,
     "metadata": {},
     "output_type": "execute_result"
    }
   ],
   "source": [
    "f = sin(x)**2\n",
    "F = Integral(f, x).doit()\n",
    "F"
   ]
  },
  {
   "cell_type": "code",
   "execution_count": 60,
   "id": "dd584093",
   "metadata": {},
   "outputs": [
    {
     "data": {
      "image/png": "[encoded data removed]",
      "text/plain": [
       "<Figure size 432x288 with 1 Axes>"
      ]
     },
     "metadata": {
      "needs_background": "light"
     },
     "output_type": "display_data"
    }
   ],
   "source": [
    "plot(f, F);"
   ]
  },
  {
   "cell_type": "code",
   "execution_count": 67,
   "id": "b7be2052",
   "metadata": {
    "slideshow": {
     "slide_type": "slide"
    }
   },
   "outputs": [
    {
     "data": {
      "image/png": "[encoded data removed]",
      "text/latex": [
       "$\\displaystyle \\int \\frac{1}{2 - \\cos{\\left(x \\right)}}\\, dx$"
      ],
      "text/plain": [
       "⌠              \n",
       "⎮     1        \n",
       "⎮ ────────── dx\n",
       "⎮ 2 - cos(x)   \n",
       "⌡              "
      ]
     },
     "execution_count": 67,
     "metadata": {},
     "output_type": "execute_result"
    }
   ],
   "source": [
    "f = 1/(2-cos(x))\n",
    "I2 = Integral(f, x)\n",
    "I2"
   ]
  },
  {
   "cell_type": "code",
   "execution_count": 63,
   "id": "18fad78a",
   "metadata": {},
   "outputs": [
    {
     "data": {
      "image/png": "[encoded data removed]",
      "text/latex": [
       "$\\displaystyle \\frac{2 \\sqrt{3} \\left(\\operatorname{atan}{\\left(\\sqrt{3} \\tan{\\left(\\frac{x}{2} \\right)} \\right)} + \\pi \\left\\lfloor{\\frac{\\frac{x}{2} - \\frac{\\pi}{2}}{\\pi}}\\right\\rfloor\\right)}{3}$"
      ],
      "text/plain": [
       "     ⎛                    ⎢x   π⎥⎞\n",
       "     ⎜                    ⎢─ - ─⎥⎟\n",
       "     ⎜    ⎛      ⎛x⎞⎞     ⎢2   2⎥⎟\n",
       "2⋅√3⋅⎜atan⎜√3⋅tan⎜─⎟⎟ + π⋅⎢─────⎥⎟\n",
       "     ⎝    ⎝      ⎝2⎠⎠     ⎣  π  ⎦⎠\n",
       "──────────────────────────────────\n",
       "                3                 "
      ]
     },
     "execution_count": 63,
     "metadata": {},
     "output_type": "execute_result"
    }
   ],
   "source": [
    "F = I2.doit()\n",
    "F"
   ]
  },
  {
   "cell_type": "code",
   "execution_count": 64,
   "id": "1206c590",
   "metadata": {},
   "outputs": [
    {
     "name": "stdout",
     "output_type": "stream",
     "text": [
      "2*sqrt(3)*(atan(sqrt(3)*tan(x/2)) + pi*floor((x/2 - pi/2)/pi))/3\n"
     ]
    }
   ],
   "source": [
    "print(F)"
   ]
  },
  {
   "cell_type": "code",
   "execution_count": 65,
   "id": "6ae4ccb1",
   "metadata": {},
   "outputs": [
    {
     "data": {
      "image/png": "[encoded data removed]",
      "text/latex": [
       "$\\displaystyle 3$"
      ],
      "text/plain": [
       "3"
      ]
     },
     "execution_count": 65,
     "metadata": {},
     "output_type": "execute_result"
    }
   ],
   "source": [
    "floor(3.5)"
   ]
  },
  {
   "cell_type": "code",
   "execution_count": 66,
   "id": "06325dd9",
   "metadata": {},
   "outputs": [
    {
     "data": {
      "image/png": "[encoded data removed]",
      "text/latex": [
       "$\\displaystyle -4$"
      ],
      "text/plain": [
       "-4"
      ]
     },
     "execution_count": 66,
     "metadata": {},
     "output_type": "execute_result"
    }
   ],
   "source": [
    "floor(-3.5)"
   ]
  },
  {
   "cell_type": "code",
   "execution_count": 68,
   "id": "67830819",
   "metadata": {
    "slideshow": {
     "slide_type": "slide"
    }
   },
   "outputs": [
    {
     "data": {
      "image/png": "[encoded data removed]",
      "text/plain": [
       "<Figure size 432x288 with 1 Axes>"
      ]
     },
     "metadata": {
      "needs_background": "light"
     },
     "output_type": "display_data"
    }
   ],
   "source": [
    "plot(f, F);"
   ]
  },
  {
   "cell_type": "markdown",
   "id": "d4a1967d",
   "metadata": {
    "slideshow": {
     "slide_type": "slide"
    }
   },
   "source": [
    "Wofür ist `floor` nötig?"
   ]
  },
  {
   "cell_type": "code",
   "execution_count": 69,
   "id": "3f78df3a",
   "metadata": {},
   "outputs": [
    {
     "data": {
      "image/png": "[encoded data removed]",
      "text/latex": [
       "$\\displaystyle \\operatorname{atan}{\\left(\\sqrt{3} \\tan{\\left(\\frac{x}{2} \\right)} \\right)}$"
      ],
      "text/plain": [
       "    ⎛      ⎛x⎞⎞\n",
       "atan⎜√3⋅tan⎜─⎟⎟\n",
       "    ⎝      ⎝2⎠⎠"
      ]
     },
     "execution_count": 69,
     "metadata": {},
     "output_type": "execute_result"
    }
   ],
   "source": [
    "g = atan(sqrt(3)*tan(x/2))\n",
    "g"
   ]
  },
  {
   "cell_type": "code",
   "execution_count": 70,
   "id": "f20afee8",
   "metadata": {
    "slideshow": {
     "slide_type": "-"
    }
   },
   "outputs": [
    {
     "data": {
      "image/png": "[encoded data removed]",
      "text/plain": [
       "<Figure size 432x288 with 1 Axes>"
      ]
     },
     "metadata": {
      "needs_background": "light"
     },
     "output_type": "display_data"
    }
   ],
   "source": [
    "plot(g);"
   ]
  },
  {
   "cell_type": "code",
   "execution_count": 71,
   "id": "267110f6",
   "metadata": {
    "slideshow": {
     "slide_type": "slide"
    }
   },
   "outputs": [
    {
     "data": {
      "text/latex": [
       "$\\displaystyle \\frac{2 \\sqrt{3} \\left(\\frac{\\sqrt{3} \\left(\\frac{\\tan^{2}{\\left(\\frac{x}{2} \\right)}}{2} + \\frac{1}{2}\\right)}{3 \\tan^{2}{\\left(\\frac{x}{2} \\right)} + 1} + \\frac{\\left. \\frac{d}{d \\xi_{1}} \\left\\lfloor{\\xi_{1}}\\right\\rfloor \\right|_{\\substack{ \\xi_{1}=\\frac{\\frac{x}{2} - \\frac{\\pi}{2}}{\\pi} }}}{2}\\right)}{3}$"
      ],
      "text/plain": [
       "     ⎛   ⎛   2⎛x⎞    ⎞                  x   π⎞\n",
       "     ⎜   ⎜tan ⎜─⎟    ⎟   ⎛ d       ⎞│   ─ - ─⎟\n",
       "     ⎜   ⎜    ⎝2⎠   1⎟   ⎜───(⌊ξ₁⌋)⎟│   2   2⎟\n",
       "     ⎜√3⋅⎜─────── + ─⎟   ⎝dξ₁      ⎠│ξ₁=─────⎟\n",
       "     ⎜   ⎝   2      2⎠                    π  ⎟\n",
       "2⋅√3⋅⎜──────────────── + ────────────────────⎟\n",
       "     ⎜      2⎛x⎞                  2          ⎟\n",
       "     ⎜ 3⋅tan ⎜─⎟ + 1                         ⎟\n",
       "     ⎝       ⎝2⎠                             ⎠\n",
       "──────────────────────────────────────────────\n",
       "                      3                       "
      ]
     },
     "execution_count": 71,
     "metadata": {},
     "output_type": "execute_result"
    }
   ],
   "source": [
    "F.diff(x)"
   ]
  },
  {
   "cell_type": "code",
   "execution_count": 72,
   "id": "63bc9b94",
   "metadata": {},
   "outputs": [
    {
     "data": {
      "text/latex": [
       "$\\displaystyle \\frac{\\sqrt{3} \\left(\\left(3 \\tan^{2}{\\left(\\frac{x}{2} \\right)} + 1\\right) \\left. \\frac{d}{d \\xi_{1}} \\left\\lfloor{\\xi_{1}}\\right\\rfloor \\right|_{\\substack{ \\xi_{1}=\\frac{x - \\pi}{2 \\pi} }} + \\frac{2 \\sqrt{3}}{\\cos{\\left(x \\right)} + 1}\\right)}{3 \\cdot \\left(3 \\tan^{2}{\\left(\\frac{x}{2} \\right)} + 1\\right)}$"
      ],
      "text/plain": [
       "   ⎛⎛     2⎛x⎞    ⎞ ⎛ d       ⎞│              2⋅√3   ⎞\n",
       "√3⋅⎜⎜3⋅tan ⎜─⎟ + 1⎟⋅⎜───(⌊ξ₁⌋)⎟│   x - π + ──────────⎟\n",
       "   ⎜⎝      ⎝2⎠    ⎠ ⎝dξ₁      ⎠│ξ₁=─────   cos(x) + 1⎟\n",
       "   ⎝                                2⋅π              ⎠\n",
       "──────────────────────────────────────────────────────\n",
       "                    ⎛     2⎛x⎞    ⎞                   \n",
       "                  3⋅⎜3⋅tan ⎜─⎟ + 1⎟                   \n",
       "                    ⎝      ⎝2⎠    ⎠                   "
      ]
     },
     "execution_count": 72,
     "metadata": {},
     "output_type": "execute_result"
    }
   ],
   "source": [
    "F.diff(x).simplify()"
   ]
  },
  {
   "cell_type": "markdown",
   "id": "6be0a87b",
   "metadata": {},
   "source": [
    "Die Sprungstellen können nicht behandelt werden"
   ]
  },
  {
   "cell_type": "code",
   "execution_count": 73,
   "id": "3b7742b4",
   "metadata": {
    "slideshow": {
     "slide_type": "slide"
    }
   },
   "outputs": [
    {
     "data": {
      "image/png": "[encoded data removed]",
      "text/latex": [
       "$\\displaystyle \\frac{1}{2 - \\cos{\\left(x \\right)}}$"
      ],
      "text/plain": [
       "    1     \n",
       "──────────\n",
       "2 - cos(x)"
      ]
     },
     "execution_count": 73,
     "metadata": {},
     "output_type": "execute_result"
    }
   ],
   "source": [
    "def null(x):\n",
    "    return 0\n",
    "\n",
    "F2 = F.replace(floor, null)\n",
    "F2.diff().simplify()"
   ]
  },
  {
   "cell_type": "markdown",
   "id": "55d1468e",
   "metadata": {},
   "source": [
    "`F2` ist unstetig, aber differenzierbar, wenn man die Sprünge entfernt"
   ]
  },
  {
   "cell_type": "code",
   "execution_count": 76,
   "id": "63f56713",
   "metadata": {
    "slideshow": {
     "slide_type": "slide"
    }
   },
   "outputs": [
    {
     "data": {
      "image/png": "[encoded data removed]",
      "text/latex": [
       "$\\displaystyle \\int\\limits_{0}^{1} \\frac{1}{a - \\sin{\\left(2 \\pi x \\right)}}\\, dx$"
      ],
      "text/plain": [
       "1                  \n",
       "⌠                  \n",
       "⎮       1          \n",
       "⎮ ────────────── dx\n",
       "⎮ a - sin(2⋅π⋅x)   \n",
       "⌡                  \n",
       "0                  "
      ]
     },
     "execution_count": 76,
     "metadata": {},
     "output_type": "execute_result"
    }
   ],
   "source": [
    "a = S('a')\n",
    "f = 1 / (a - sin(2*pi*x))\n",
    "I1 = Integral(f, (x, 0, 1))\n",
    "I1"
   ]
  },
  {
   "cell_type": "code",
   "execution_count": 75,
   "id": "b197318e",
   "metadata": {},
   "outputs": [
    {
     "data": {
      "text/latex": [
       "$\\displaystyle \\begin{cases} -\\infty & \\text{for}\\: a = -1 \\\\\\text{NaN} & \\text{for}\\: a = 0 \\\\\\infty & \\text{for}\\: a = 1 \\\\0 & \\text{otherwise} \\end{cases}$"
      ],
      "text/plain": [
       "⎧-∞   for a = -1\n",
       "⎪               \n",
       "⎪nan  for a = 0 \n",
       "⎨               \n",
       "⎪ ∞   for a = 1 \n",
       "⎪               \n",
       "⎩ 0   otherwise "
      ]
     },
     "execution_count": 75,
     "metadata": {},
     "output_type": "execute_result"
    }
   ],
   "source": [
    "I1.doit()"
   ]
  },
  {
   "cell_type": "code",
   "execution_count": 77,
   "id": "1a2dbf17",
   "metadata": {
    "slideshow": {
     "slide_type": "slide"
    }
   },
   "outputs": [
    {
     "data": {
      "image/png": "[encoded data removed]",
      "text/plain": [
       "<Figure size 432x288 with 1 Axes>"
      ]
     },
     "metadata": {
      "needs_background": "light"
     },
     "output_type": "display_data"
    }
   ],
   "source": [
    "plot(f.subs(a, 2), 0);"
   ]
  }
 ],
 "metadata": {
  "celltoolbar": "Slideshow",
  "kernelspec": {
   "display_name": "Python 3 (ipykernel)",
   "language": "python",
   "name": "python3"
  },
  "language_info": {
   "codemirror_mode": {
    "name": "ipython",
    "version": 3
   },
   "file_extension": ".py",
   "mimetype": "text/x-python",
   "name": "python",
   "nbconvert_exporter": "python",
   "pygments_lexer": "ipython3",
   "version": "3.9.12"
  }
 },
 "nbformat": 4,
 "nbformat_minor": 5
}
